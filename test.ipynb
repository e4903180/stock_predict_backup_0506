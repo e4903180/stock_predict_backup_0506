{
 "cells": [
  {
   "cell_type": "code",
   "execution_count": 2,
   "metadata": {},
   "outputs": [],
   "source": [
    "import numpy as np\n",
    "import pylab as pl\n",
    "from numpy import fft\n",
    "import pandas as pd\n",
    "import matplotlib.pyplot as plt\n",
    "import yfinance as yf\n",
    "import datetime\n",
    "from dateutil.relativedelta import relativedelta"
   ]
  },
  {
   "cell_type": "code",
   "execution_count": null,
   "metadata": {},
   "outputs": [],
   "source": [
    "def main_function_slide_fit_score_slide_range(stock_name,date_start,data_range,slide_range,n_slide,pv_range,n_harm_0,n_harm_1,type):\n",
    "    predict_range = data_range\n",
    "    date_start = datetime.datetime.strptime(date_start, '%Y-%m-%d')\n",
    "    date_start = date_start + relativedelta(months=-data_range)\n",
    "    df = pd.DataFrame()\n",
    "    data = pd.DataFrame()\n",
    "    fit_score = []\n",
    "    best_fit = []\n",
    "    df_delay = pd.DataFrame(columns=['Date','delay','pv'])\n",
    "    fig, axes = plt.subplots(2, 1, figsize=(15, 8))\n",
    "    for i in range(n_slide) :\n",
    "        date_predict_start = date_start + relativedelta(months=+data_range)\n",
    "        date_predict_end = date_predict_start + relativedelta(months=+predict_range)\n",
    "        data_drop,temp,score_temp,best_fit_temp = main_function_1_fit_score(stock_name,date_start,date_predict_start,date_predict_end,n_harm_0,n_harm_1,pv_range,type)\n",
    "        fit_score.append(round(score_temp,2))\n",
    "        best_fit.append(best_fit_temp)\n",
    "        temp = temp.drop(temp[temp.index < date_predict_start].index)\n",
    "        # axes[1].plot(temp.index, temp['Close'], label='Predict',linewidth=3)\n",
    "        temp['peaks'] = peak_valleys(pv_range,temp)[0]\n",
    "        temp['valleys'] = peak_valleys(pv_range,temp)[1]\n",
    "        data_temp = yf.Ticker(stock_name).history(start=date_predict_start, end=date_predict_end)\n",
    "        data_temp['peaks'] = peak_valleys(pv_range,data_temp)[0]\n",
    "        data_temp['valleys'] = peak_valleys(pv_range,data_temp)[1]\n",
    "        temp['peaks_delay'] = peak_valleys_delay(data_temp,temp)[0]\n",
    "        temp['valleys_delay'] = peak_valleys_delay(data_temp,temp)[1]\n",
    "        # axes[1].plot(temp.index , temp['peaks'],'^',c='royalblue',label='peaks')\n",
    "        # axes[1].plot(temp.index , temp['valleys'],'v',c='orangered',label='valleys')\n",
    "        temp = temp.drop(columns='Close')\n",
    "        # print(temp.dropna(how='all'))\n",
    "        df_delay.loc[i,'Date'],df_delay.loc[i,'delay'],df_delay.loc[i,'pv'] = get_first_delay(temp)\n",
    "        df = pd.concat([df[df.index < temp.index[0]],temp])\n",
    "        date_start = date_start + relativedelta(weeks=+slide_range)\n",
    "    data = yf.Ticker(stock_name).history(start=date_start, end=date_predict_end)\n",
    "    axes[0].plot(data.index, data['Close'], 'gray', linewidth=3, label='Test_data')\n",
    "    data['peaks'] = peak_valleys(pv_range,data)[0]\n",
    "    data['valleys'] = peak_valleys(pv_range,data)[1]\n",
    "    axes[0].plot(data.index,data['peaks'],'^',c='royalblue',label='peaks')\n",
    "    axes[0].plot(data.index,data['valleys'],'v',c='orangered',label='valleys')\n",
    "    # for i, label in enumerate(df['peaks_delay']):\n",
    "    #     axes[1].annotate(label, (df['peaks'].index[i],  df['peaks'][i]),fontsize=14)\n",
    "    # for i, label in enumerate(df['valleys_delay']):\n",
    "    #     axes[1].annotate(label, (df['valleys'].index[i],  df['valleys'][i]),fontsize=14)\n",
    "    df_delay = df_delay.set_index(df_delay['Date'])\n",
    "    df_delay = df_delay.drop(columns='Date')\n",
    "    axes[0].set_ylabel(\"price\", fontsize=14)\n",
    "    axes[0].grid(True)\n",
    "    axes[1].grid(True)\n",
    "    axes[1].set_ylabel(\"delay\", fontsize=14)\n",
    "\n",
    "    final_score =  round(sum([abs(ele) for ele in df_delay['delay']]) / len(df_delay['delay']) ,2)\n",
    "    a = pd.DataFrame(index=df.index,columns=['delay','pv'])\n",
    "    a.loc[df_delay.index] = df_delay\n",
    "    axes[0].set_xlim(data.index[0],data.index[-1])\n",
    "    axes[1].set_xlim(data.index[0],data.index[-1])\n",
    "    for i, label in enumerate(a['delay']):\n",
    "        if a['pv'][i] == 'peaks' :\n",
    "            axes[1].plot(a['delay'].index[i] , a['delay'][i],'*',c='royalblue',label='peaks')\n",
    "        else :\n",
    "            axes[1].plot(a['delay'].index[i] , a['delay'][i],'*',c='orangered',label='valleys')\n",
    "        axes[1].annotate(label, (a['delay'].index[i],  a['delay'][i]),fontsize=14)\n",
    "    # axes[1].plot(a.index,a['delay'],'*',c='royalblue',label='peaks')\n",
    "    # axes[0].plot(data.index,data['valleys'],'v',c='orangered',label='valleys')\n",
    "    plt.show()\n",
    "    return data,df,fit_score,best_fit,final_score,df_delay"
   ]
  }
 ],
 "metadata": {
  "kernelspec": {
   "display_name": "Python 3.8.5 ('venv_stock': venv)",
   "language": "python",
   "name": "python3"
  },
  "language_info": {
   "codemirror_mode": {
    "name": "ipython",
    "version": 3
   },
   "file_extension": ".py",
   "mimetype": "text/x-python",
   "name": "python",
   "nbconvert_exporter": "python",
   "pygments_lexer": "ipython3",
   "version": "3.8.5"
  },
  "orig_nbformat": 4,
  "vscode": {
   "interpreter": {
    "hash": "ba787645ba8ce3b43ca5d5c1bc5ea17dd580ada22e1bd31731a2a86b718f16cf"
   }
  }
 },
 "nbformat": 4,
 "nbformat_minor": 2
}
