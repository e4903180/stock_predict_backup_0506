{
 "cells": [
  {
   "cell_type": "markdown",
   "metadata": {
    "papermill": {
     "duration": 0.019893,
     "end_time": "2022-10-06T14:46:35.910063",
     "exception": false,
     "start_time": "2022-10-06T14:46:35.890170",
     "status": "completed"
    },
    "tags": []
   },
   "source": [
    "<div align='center'><font size=\"5\" color='#353B47'>Predicting Stock Prices</font></div>\n",
    "<div align='center'><font size=\"4\" color=\"#353B47\">How to use LSTMs</font></div>\n",
    "<br>\n",
    "<hr>"
   ]
  },
  {
   "cell_type": "markdown",
   "metadata": {
    "papermill": {
     "duration": 0.018024,
     "end_time": "2022-10-06T14:46:35.947301",
     "exception": false,
     "start_time": "2022-10-06T14:46:35.929277",
     "status": "completed"
    },
    "tags": []
   },
   "source": [
    "**<font color=\"blue\" size=\"4\">Context</font>**\n",
    "\n",
    "> This notebook aims at showing a short script on how to predict stock prices using a LSTM model. An introduction has been made about <a href=\"https://www.kaggle.com/bryanb/introduction-to-time-series-analysis/edit/run/53321733\">Time Series Analysis</a>, if you haven't read it yet, do not hesitate to give a look"
   ]
  },
  {
   "cell_type": "markdown",
   "metadata": {
    "papermill": {
     "duration": 0.017916,
     "end_time": "2022-10-06T14:46:35.983602",
     "exception": false,
     "start_time": "2022-10-06T14:46:35.965686",
     "status": "completed"
    },
    "tags": []
   },
   "source": [
    "**<font color=\"blue\" size=\"4\">Reminder</font>**\n",
    "\n",
    "> A Time Series is a **time-indexed** series of data. In Finance, a time series tracks the movement of the chosen data points, such as a *security’s price*, over a specified period of time with data points recorded at **regular intervals**."
   ]
  },
  {
   "cell_type": "markdown",
   "metadata": {
    "papermill": {
     "duration": 0.018022,
     "end_time": "2022-10-06T14:46:36.019875",
     "exception": false,
     "start_time": "2022-10-06T14:46:36.001853",
     "status": "completed"
    },
    "tags": []
   },
   "source": [
    "<img src=\"https://miro.medium.com/max/1400/1*NpT5pyemQQsGEHXbfS51Zw.png\" width=\"500\">"
   ]
  },
  {
   "cell_type": "markdown",
   "metadata": {
    "papermill": {
     "duration": 0.018754,
     "end_time": "2022-10-06T14:46:36.057651",
     "exception": false,
     "start_time": "2022-10-06T14:46:36.038897",
     "status": "completed"
    },
    "tags": []
   },
   "source": [
    "**<font color=\"blue\" size=\"4\">Why is it used for ?</font>**\n",
    "\n",
    "> Time series analysis can be useful to see how a given asset, security, or economic variable changes over time. It can also be used to examine how the changes associated with the chosen data point compare to shifts in other variables over the same time period.\n",
    ">\n",
    "> For example, suppose you wanted to analyze a time series of daily closing stock prices for a given stock over a period of one year. You would obtain a list of all the closing prices for the stock from each day for the past year and list them in chronological order. "
   ]
  },
  {
   "cell_type": "markdown",
   "metadata": {
    "papermill": {
     "duration": 0.018468,
     "end_time": "2022-10-06T14:46:36.096233",
     "exception": false,
     "start_time": "2022-10-06T14:46:36.077765",
     "status": "completed"
    },
    "tags": []
   },
   "source": [
    "## <div id=\"summary\">Summary</div>\n",
    "\n",
    "**<font size=\"2\"><a href=\"#chap1\">1. Import libraries</a></font>**\n",
    "**<br><font size=\"2\"><a href=\"#chap2\">2. Preprocessing</a></font>**\n",
    "**<br><font size=\"2\"><a href=\"#chap3\">3. Build LSTM model</a></font>**\n",
    "**<br><font size=\"2\"><a href=\"#chap4\">4. Training</a></font>**\n",
    "**<br><font size=\"2\"><a href=\"#chap5\">5. Predictions</a></font>**"
   ]
  },
  {
   "cell_type": "markdown",
   "metadata": {
    "papermill": {
     "duration": 0.018086,
     "end_time": "2022-10-06T14:46:36.133876",
     "exception": false,
     "start_time": "2022-10-06T14:46:36.115790",
     "status": "completed"
    },
    "tags": []
   },
   "source": [
    "# <div id=\"chap1\">1. Import libraries"
   ]
  },
  {
   "cell_type": "code",
   "execution_count": 13,
   "metadata": {
    "_cell_guid": "b1076dfc-b9ad-4769-8c92-a6c4dae69d19",
    "_uuid": "8f2839f25d086af736a60e9eeb907d3b93b6e0e5",
    "execution": {
     "iopub.execute_input": "2022-10-06T14:46:36.177539Z",
     "iopub.status.busy": "2022-10-06T14:46:36.176708Z",
     "iopub.status.idle": "2022-10-06T14:46:42.911401Z",
     "shell.execute_reply": "2022-10-06T14:46:42.910662Z",
     "shell.execute_reply.started": "2022-10-06T14:25:44.013421Z"
    },
    "papermill": {
     "duration": 6.759473,
     "end_time": "2022-10-06T14:46:42.911649",
     "exception": false,
     "start_time": "2022-10-06T14:46:36.152176",
     "status": "completed"
    },
    "tags": []
   },
   "outputs": [],
   "source": [
    "import numpy as np\n",
    "import pandas as pd\n",
    "\n",
    "import os\n",
    "import matplotlib.pyplot as plt\n",
    "# import pandas_datareader as web\n",
    "import datetime as dt\n",
    "\n",
    "from sklearn.preprocessing import MinMaxScaler\n",
    "from tensorflow.keras.models import Sequential\n",
    "from tensorflow.keras.layers import Dense, Dropout, LSTM\n",
    "from tensorflow.keras.callbacks import ModelCheckpoint, EarlyStopping"
   ]
  },
  {
   "cell_type": "code",
   "execution_count": 14,
   "metadata": {},
   "outputs": [],
   "source": [
    "import yfinance as yf"
   ]
  },
  {
   "cell_type": "markdown",
   "metadata": {
    "papermill": {
     "duration": 0.018089,
     "end_time": "2022-10-06T14:46:42.949477",
     "exception": false,
     "start_time": "2022-10-06T14:46:42.931388",
     "status": "completed"
    },
    "tags": []
   },
   "source": [
    "**<font size=\"2\"><a href=\"#summary\">Back to summary</a></font>**\n",
    "\n",
    "----"
   ]
  },
  {
   "cell_type": "markdown",
   "metadata": {
    "papermill": {
     "duration": 0.017938,
     "end_time": "2022-10-06T14:46:42.985584",
     "exception": false,
     "start_time": "2022-10-06T14:46:42.967646",
     "status": "completed"
    },
    "tags": []
   },
   "source": [
    "# <div id=\"chap2\">2. Preprocessing"
   ]
  },
  {
   "cell_type": "code",
   "execution_count": 15,
   "metadata": {},
   "outputs": [],
   "source": [
    "COMPANY = '^GSPC'\n"
   ]
  },
  {
   "cell_type": "code",
   "execution_count": 16,
   "metadata": {
    "execution": {
     "iopub.execute_input": "2022-10-06T14:46:43.400887Z",
     "iopub.status.busy": "2022-10-06T14:46:43.399943Z",
     "iopub.status.idle": "2022-10-06T14:46:43.432092Z",
     "shell.execute_reply": "2022-10-06T14:46:43.432644Z"
    },
    "papermill": {
     "duration": 0.054108,
     "end_time": "2022-10-06T14:46:43.432834",
     "exception": false,
     "start_time": "2022-10-06T14:46:43.378726",
     "status": "completed"
    },
    "tags": []
   },
   "outputs": [
    {
     "name": "stdout",
     "output_type": "stream",
     "text": [
      "[*********************100%***********************]  1 of 1 completed\n"
     ]
    }
   ],
   "source": [
    "data = yf.download(COMPANY, start='2015-01-01', end='2020-01-01')"
   ]
  },
  {
   "cell_type": "code",
   "execution_count": 17,
   "metadata": {
    "execution": {
     "iopub.execute_input": "2022-10-06T14:46:43.476264Z",
     "iopub.status.busy": "2022-10-06T14:46:43.475570Z",
     "iopub.status.idle": "2022-10-06T14:46:43.479237Z",
     "shell.execute_reply": "2022-10-06T14:46:43.478750Z",
     "shell.execute_reply.started": "2022-10-06T14:35:22.648891Z"
    },
    "papermill": {
     "duration": 0.027851,
     "end_time": "2022-10-06T14:46:43.479408",
     "exception": false,
     "start_time": "2022-10-06T14:46:43.451557",
     "status": "completed"
    },
    "tags": []
   },
   "outputs": [],
   "source": [
    "# Normalize data\n",
    "scaler = MinMaxScaler(feature_range=(0,1))\n",
    "scaled_data = scaler.fit_transform(data['Close'].values.reshape(-1,1))"
   ]
  },
  {
   "cell_type": "code",
   "execution_count": 18,
   "metadata": {
    "execution": {
     "iopub.execute_input": "2022-10-06T14:46:43.524040Z",
     "iopub.status.busy": "2022-10-06T14:46:43.523379Z",
     "iopub.status.idle": "2022-10-06T14:46:43.527152Z",
     "shell.execute_reply": "2022-10-06T14:46:43.528002Z",
     "shell.execute_reply.started": "2022-10-06T14:35:34.808760Z"
    },
    "papermill": {
     "duration": 0.030311,
     "end_time": "2022-10-06T14:46:43.528222",
     "exception": false,
     "start_time": "2022-10-06T14:46:43.497911",
     "status": "completed"
    },
    "tags": []
   },
   "outputs": [],
   "source": [
    "# how many days do i want to base my predictions on ?\n",
    "prediction_days = 250\n",
    "\n",
    "x_train = []\n",
    "y_train = []\n",
    "\n",
    "for x in range(prediction_days, len(scaled_data)):\n",
    "    x_train.append(scaled_data[x - prediction_days:x, 0])\n",
    "    y_train.append(scaled_data[x, 0])\n",
    "    \n",
    "x_train, y_train = np.array(x_train), np.array(y_train)\n",
    "x_train = np.reshape(x_train, (x_train.shape[0], x_train.shape[1], 1))"
   ]
  },
  {
   "cell_type": "markdown",
   "metadata": {
    "papermill": {
     "duration": 0.018503,
     "end_time": "2022-10-06T14:46:43.565466",
     "exception": false,
     "start_time": "2022-10-06T14:46:43.546963",
     "status": "completed"
    },
    "tags": []
   },
   "source": [
    "**<font size=\"2\"><a href=\"#summary\">Back to summary</a></font>**\n",
    "\n",
    "----"
   ]
  },
  {
   "cell_type": "markdown",
   "metadata": {
    "papermill": {
     "duration": 0.018477,
     "end_time": "2022-10-06T14:46:43.603287",
     "exception": false,
     "start_time": "2022-10-06T14:46:43.584810",
     "status": "completed"
    },
    "tags": []
   },
   "source": [
    "# <div id=\"chap3\">3. Build LSTM model"
   ]
  },
  {
   "cell_type": "markdown",
   "metadata": {
    "papermill": {
     "duration": 0.018749,
     "end_time": "2022-10-06T14:46:43.641057",
     "exception": false,
     "start_time": "2022-10-06T14:46:43.622308",
     "status": "completed"
    },
    "tags": []
   },
   "source": [
    "**<font color=\"blue\" size=\"4\">What is a LSTM ?</font>**\n",
    "\n",
    "> Long Short Term Memory networks – usually just called “LSTMs” – are a special kind of RNN, capable of learning long-term dependencies. Introduced by Hochreiter & Schmidhuber (1997), and were refined and popularized by many people in following work. They work tremendously well on a large variety of problems, and are now widely used.\n",
    ">\n",
    "> LSTMs are explicitly designed to avoid the long-term dependency problem. Remembering information for long periods of time is practically their default behavior, not something they struggle to learn!\n",
    ">\n",
    "> All recurrent neural networks have the form of a chain of repeating modules of neural network."
   ]
  },
  {
   "cell_type": "markdown",
   "metadata": {
    "papermill": {
     "duration": 0.018743,
     "end_time": "2022-10-06T14:46:43.678645",
     "exception": false,
     "start_time": "2022-10-06T14:46:43.659902",
     "status": "completed"
    },
    "tags": []
   },
   "source": [
    "You can find more details here: http://colah.github.io/posts/2015-08-Understanding-LSTMs/"
   ]
  },
  {
   "cell_type": "code",
   "execution_count": 19,
   "metadata": {},
   "outputs": [],
   "source": [
    "# from keras.models import Sequential\n",
    "# from keras.layers import Dense, Dropout, LSTM\n",
    "\n",
    "# model = Sequential()\n",
    "\n",
    "# model.add(LSTM(units=128, return_sequences=True, input_shape=(timesteps, input_dim)))\n",
    "# model.add(Dropout(0.5))\n",
    "\n",
    "# model.add(LSTM(units=64, return_sequences=True))\n",
    "# model.add(Dropout(0.5))\n",
    "\n",
    "# model.add(LSTM(units=64, return_sequences=False))\n",
    "# model.add(Dropout(0.5))\n",
    "\n",
    "# model.add(Dense(units=num_classes, activation='softmax'))\n",
    "\n",
    "# model.compile(optimizer='adam', loss='categorical_crossentropy', metrics=['accuracy'])\n"
   ]
  },
  {
   "cell_type": "code",
   "execution_count": 39,
   "metadata": {
    "execution": {
     "iopub.execute_input": "2022-10-06T14:46:43.719998Z",
     "iopub.status.busy": "2022-10-06T14:46:43.719249Z",
     "iopub.status.idle": "2022-10-06T14:46:43.725137Z",
     "shell.execute_reply": "2022-10-06T14:46:43.725686Z",
     "shell.execute_reply.started": "2022-10-06T14:35:37.720969Z"
    },
    "papermill": {
     "duration": 0.028311,
     "end_time": "2022-10-06T14:46:43.725884",
     "exception": false,
     "start_time": "2022-10-06T14:46:43.697573",
     "status": "completed"
    },
    "tags": []
   },
   "outputs": [],
   "source": [
    "def LSTM_model():\n",
    "    \n",
    "    model = Sequential()\n",
    "    \n",
    "    model.add(LSTM(units = 128, return_sequences = True, input_shape = (x_train.shape[1],1)))\n",
    "    model.add(Dropout(0.2))\n",
    "\n",
    "    model.add(LSTM(units = 64, return_sequences = True))\n",
    "    model.add(Dropout(0.2))\n",
    "\n",
    "    model.add(LSTM(units = 64))\n",
    "    model.add(Dropout(0.2))\n",
    "\n",
    "    model.add(Dense(units=1))\n",
    "    \n",
    "    return model"
   ]
  },
  {
   "cell_type": "markdown",
   "metadata": {
    "papermill": {
     "duration": 0.018927,
     "end_time": "2022-10-06T14:46:43.764698",
     "exception": false,
     "start_time": "2022-10-06T14:46:43.745771",
     "status": "completed"
    },
    "tags": []
   },
   "source": [
    "**<font size=\"2\"><a href=\"#summary\">Back to summary</a></font>**\n",
    "\n",
    "----"
   ]
  },
  {
   "cell_type": "markdown",
   "metadata": {
    "papermill": {
     "duration": 0.018419,
     "end_time": "2022-10-06T14:46:43.801591",
     "exception": false,
     "start_time": "2022-10-06T14:46:43.783172",
     "status": "completed"
    },
    "tags": []
   },
   "source": [
    "# <div id=\"chap4\">4. Training"
   ]
  },
  {
   "cell_type": "code",
   "execution_count": 36,
   "metadata": {},
   "outputs": [],
   "source": [
    "# model = LSTM_model()\n",
    "# model.summary()\n",
    "# model.compile(optimizer='adam', loss='mean_squared_error')\n",
    "\n",
    "# # Define callbacks\n",
    "# # Save weights only for best model\n",
    "# checkpointer = ModelCheckpoint(filepath = 'weights_best.hdf5', verbose = 2, save_best_only = True)\n",
    "# earlystopper = EarlyStopping(monitor = 'val_loss', patience = 5, verbose = 2)\n",
    "\n",
    "# history = model.fit(x_train, y_train, epochs=25, batch_size = 32, callbacks = [checkpointer, earlystopper], validation_split = 0.2)\n",
    "\n",
    "# # plot loss curves\n",
    "# plt.plot(history.history['loss'], label='train')\n",
    "# plt.plot(history.history['val_loss'], label='validation')\n",
    "# plt.legend()\n",
    "# plt.show()\n"
   ]
  },
  {
   "cell_type": "code",
   "execution_count": 40,
   "metadata": {
    "execution": {
     "iopub.execute_input": "2022-10-06T14:46:43.841872Z",
     "iopub.status.busy": "2022-10-06T14:46:43.841141Z",
     "iopub.status.idle": "2022-10-06T14:46:44.699704Z",
     "shell.execute_reply": "2022-10-06T14:46:44.699136Z",
     "shell.execute_reply.started": "2022-10-06T14:35:39.649764Z"
    },
    "papermill": {
     "duration": 0.879694,
     "end_time": "2022-10-06T14:46:44.699856",
     "exception": false,
     "start_time": "2022-10-06T14:46:43.820162",
     "status": "completed"
    },
    "tags": []
   },
   "outputs": [
    {
     "name": "stdout",
     "output_type": "stream",
     "text": [
      "Model: \"sequential_4\"\n",
      "_________________________________________________________________\n",
      " Layer (type)                Output Shape              Param #   \n",
      "=================================================================\n",
      " lstm_14 (LSTM)              (None, 250, 128)          66560     \n",
      "                                                                 \n",
      " dropout_12 (Dropout)        (None, 250, 128)          0         \n",
      "                                                                 \n",
      " lstm_15 (LSTM)              (None, 250, 64)           49408     \n",
      "                                                                 \n",
      " dropout_13 (Dropout)        (None, 250, 64)           0         \n",
      "                                                                 \n",
      " lstm_16 (LSTM)              (None, 64)                33024     \n",
      "                                                                 \n",
      " dropout_14 (Dropout)        (None, 64)                0         \n",
      "                                                                 \n",
      " dense_2 (Dense)             (None, 1)                 65        \n",
      "                                                                 \n",
      "=================================================================\n",
      "Total params: 149,057\n",
      "Trainable params: 149,057\n",
      "Non-trainable params: 0\n",
      "_________________________________________________________________\n"
     ]
    }
   ],
   "source": [
    "model = LSTM_model()\n",
    "model.summary()\n",
    "model.compile(optimizer='adam', \n",
    "              loss='mean_squared_error')\n",
    "# model.compile(optimizer='adam', loss='categorical_crossentropy', metrics=['accuracy'])"
   ]
  },
  {
   "cell_type": "code",
   "execution_count": null,
   "metadata": {
    "execution": {
     "iopub.execute_input": "2022-10-06T14:46:44.743844Z",
     "iopub.status.busy": "2022-10-06T14:46:44.743176Z",
     "iopub.status.idle": "2022-10-06T14:48:02.566321Z",
     "shell.execute_reply": "2022-10-06T14:48:02.566946Z",
     "shell.execute_reply.started": "2022-10-06T14:35:42.464148Z"
    },
    "papermill": {
     "duration": 77.848259,
     "end_time": "2022-10-06T14:48:02.567158",
     "exception": false,
     "start_time": "2022-10-06T14:46:44.718899",
     "status": "completed"
    },
    "tags": []
   },
   "outputs": [],
   "source": [
    "# # Define callbacks\n",
    "\n",
    "# # Save weights only for best model\n",
    "# checkpointer = ModelCheckpoint(filepath = 'weights_best.hdf5', \n",
    "#                                verbose = 2, \n",
    "#                                save_best_only = True)\n",
    "\n",
    "# model.fit(x_train, \n",
    "#           y_train, \n",
    "#           epochs=25, \n",
    "#           batch_size = 32,\n",
    "#           callbacks = [checkpointer])"
   ]
  },
  {
   "cell_type": "code",
   "execution_count": 41,
   "metadata": {},
   "outputs": [
    {
     "name": "stdout",
     "output_type": "stream",
     "text": [
      "Epoch 1/25\n",
      "26/26 [==============================] - ETA: 0s - loss: 0.0322\n",
      "Epoch 1: val_loss improved from inf to 0.02387, saving model to weights_best.hdf5\n",
      "26/26 [==============================] - 15s 410ms/step - loss: 0.0322 - val_loss: 0.0239\n",
      "Epoch 2/25\n",
      "26/26 [==============================] - ETA: 0s - loss: 0.0054\n",
      "Epoch 2: val_loss improved from 0.02387 to 0.00535, saving model to weights_best.hdf5\n",
      "26/26 [==============================] - 13s 520ms/step - loss: 0.0054 - val_loss: 0.0054\n",
      "Epoch 3/25\n",
      "26/26 [==============================] - ETA: 0s - loss: 0.0036\n",
      "Epoch 3: val_loss improved from 0.00535 to 0.00394, saving model to weights_best.hdf5\n",
      "26/26 [==============================] - 14s 522ms/step - loss: 0.0036 - val_loss: 0.0039\n",
      "Epoch 4/25\n",
      "26/26 [==============================] - ETA: 0s - loss: 0.0033\n",
      "Epoch 4: val_loss improved from 0.00394 to 0.00163, saving model to weights_best.hdf5\n",
      "26/26 [==============================] - 15s 583ms/step - loss: 0.0033 - val_loss: 0.0016\n",
      "Epoch 5/25\n",
      "26/26 [==============================] - ETA: 0s - loss: 0.0035\n",
      "Epoch 5: val_loss did not improve from 0.00163\n",
      "26/26 [==============================] - 15s 583ms/step - loss: 0.0035 - val_loss: 0.0054\n",
      "Epoch 6/25\n",
      "26/26 [==============================] - ETA: 0s - loss: 0.0033\n",
      "Epoch 6: val_loss did not improve from 0.00163\n",
      "26/26 [==============================] - 14s 559ms/step - loss: 0.0033 - val_loss: 0.0018\n",
      "Epoch 7/25\n",
      "26/26 [==============================] - ETA: 0s - loss: 0.0026\n",
      "Epoch 7: val_loss did not improve from 0.00163\n",
      "26/26 [==============================] - 14s 554ms/step - loss: 0.0026 - val_loss: 0.0019\n",
      "Epoch 8/25\n",
      "26/26 [==============================] - ETA: 0s - loss: 0.0028\n",
      "Epoch 8: val_loss did not improve from 0.00163\n",
      "26/26 [==============================] - 14s 555ms/step - loss: 0.0028 - val_loss: 0.0018\n",
      "Epoch 9/25\n",
      "26/26 [==============================] - ETA: 0s - loss: 0.0027\n",
      "Epoch 9: val_loss improved from 0.00163 to 0.00143, saving model to weights_best.hdf5\n",
      "26/26 [==============================] - 15s 578ms/step - loss: 0.0027 - val_loss: 0.0014\n",
      "Epoch 10/25\n",
      "26/26 [==============================] - ETA: 0s - loss: 0.0031\n",
      "Epoch 10: val_loss did not improve from 0.00143\n",
      "26/26 [==============================] - 15s 583ms/step - loss: 0.0031 - val_loss: 0.0039\n",
      "Epoch 11/25\n",
      "26/26 [==============================] - ETA: 0s - loss: 0.0032\n",
      "Epoch 11: val_loss did not improve from 0.00143\n",
      "26/26 [==============================] - 15s 585ms/step - loss: 0.0032 - val_loss: 0.0037\n",
      "Epoch 12/25\n",
      "26/26 [==============================] - ETA: 0s - loss: 0.0030\n",
      "Epoch 12: val_loss did not improve from 0.00143\n",
      "26/26 [==============================] - 15s 591ms/step - loss: 0.0030 - val_loss: 0.0030\n",
      "Epoch 13/25\n",
      "26/26 [==============================] - ETA: 0s - loss: 0.0028\n",
      "Epoch 13: val_loss did not improve from 0.00143\n",
      "26/26 [==============================] - 15s 578ms/step - loss: 0.0028 - val_loss: 0.0022\n",
      "Epoch 14/25\n",
      "26/26 [==============================] - ETA: 0s - loss: 0.0028\n",
      "Epoch 14: val_loss improved from 0.00143 to 0.00126, saving model to weights_best.hdf5\n",
      "26/26 [==============================] - 15s 578ms/step - loss: 0.0028 - val_loss: 0.0013\n",
      "Epoch 15/25\n",
      "26/26 [==============================] - ETA: 0s - loss: 0.0027\n",
      "Epoch 15: val_loss did not improve from 0.00126\n",
      "26/26 [==============================] - 15s 577ms/step - loss: 0.0027 - val_loss: 0.0015\n",
      "Epoch 16/25\n",
      "26/26 [==============================] - ETA: 0s - loss: 0.0023\n",
      "Epoch 16: val_loss did not improve from 0.00126\n",
      "26/26 [==============================] - 15s 577ms/step - loss: 0.0023 - val_loss: 0.0068\n",
      "Epoch 17/25\n",
      "26/26 [==============================] - ETA: 0s - loss: 0.0024\n",
      "Epoch 17: val_loss did not improve from 0.00126\n",
      "26/26 [==============================] - 15s 585ms/step - loss: 0.0024 - val_loss: 0.0026\n",
      "Epoch 18/25\n",
      "26/26 [==============================] - ETA: 0s - loss: 0.0027\n",
      "Epoch 18: val_loss did not improve from 0.00126\n",
      "26/26 [==============================] - 15s 576ms/step - loss: 0.0027 - val_loss: 0.0029\n",
      "Epoch 19/25\n",
      "26/26 [==============================] - ETA: 0s - loss: 0.0024\n",
      "Epoch 19: val_loss did not improve from 0.00126\n",
      "26/26 [==============================] - 15s 584ms/step - loss: 0.0024 - val_loss: 0.0015\n",
      "Epoch 19: early stopping\n"
     ]
    }
   ],
   "source": [
    "# Define callbacks\n",
    "# Save weights only for best model\n",
    "checkpointer = ModelCheckpoint(filepath = 'weights_best.hdf5', verbose = 2, save_best_only = True)\n",
    "earlystopper = EarlyStopping(monitor = 'val_loss', patience = 5, verbose = 2)\n",
    "\n",
    "history = model.fit(x_train, y_train, epochs=25, batch_size = 32, callbacks = [checkpointer, earlystopper], validation_split = 0.2)\n"
   ]
  },
  {
   "cell_type": "code",
   "execution_count": 42,
   "metadata": {},
   "outputs": [
    {
     "data": {
      "image/png": "[encoded data removed]",
      "text/plain": [
       "<Figure size 640x480 with 1 Axes>"
      ]
     },
     "metadata": {},
     "output_type": "display_data"
    }
   ],
   "source": [
    "# plot loss curves\n",
    "plt.plot(history.history['loss'], label='train')\n",
    "plt.plot(history.history['val_loss'], label='validation')\n",
    "plt.legend()\n",
    "plt.show()"
   ]
  },
  {
   "cell_type": "markdown",
   "metadata": {
    "papermill": {
     "duration": 0.300839,
     "end_time": "2022-10-06T14:48:03.167677",
     "exception": false,
     "start_time": "2022-10-06T14:48:02.866838",
     "status": "completed"
    },
    "tags": []
   },
   "source": [
    "**<font size=\"2\"><a href=\"#summary\">Back to summary</a></font>**\n",
    "\n",
    "----"
   ]
  },
  {
   "cell_type": "markdown",
   "metadata": {
    "papermill": {
     "duration": 0.334065,
     "end_time": "2022-10-06T14:48:03.812936",
     "exception": false,
     "start_time": "2022-10-06T14:48:03.478871",
     "status": "completed"
    },
    "tags": []
   },
   "source": [
    "# <div id=\"chap5\">5. Predictions"
   ]
  },
  {
   "cell_type": "code",
   "execution_count": 43,
   "metadata": {
    "execution": {
     "iopub.execute_input": "2022-10-06T14:48:04.428710Z",
     "iopub.status.busy": "2022-10-06T14:48:04.428029Z",
     "iopub.status.idle": "2022-10-06T14:48:04.449113Z",
     "shell.execute_reply": "2022-10-06T14:48:04.448593Z",
     "shell.execute_reply.started": "2022-10-06T14:38:25.499878Z"
    },
    "papermill": {
     "duration": 0.332331,
     "end_time": "2022-10-06T14:48:04.449265",
     "exception": false,
     "start_time": "2022-10-06T14:48:04.116934",
     "status": "completed"
    },
    "tags": []
   },
   "outputs": [
    {
     "name": "stdout",
     "output_type": "stream",
     "text": [
      "[*********************100%***********************]  1 of 1 completed\n"
     ]
    }
   ],
   "source": [
    "# test model accuracy on existing data\n",
    "test_data = yf.download(COMPANY, start='2020-01-01', end='2021-01-01')\n",
    "actual_prices = test_data['Close'].values\n",
    "total_dataset = pd.concat((data['Close'], test_data['Close']), axis=0)\n",
    "model_inputs = total_dataset[len(total_dataset) - len(test_data) - prediction_days:].values\n",
    "model_inputs = model_inputs.reshape(-1,1)\n",
    "model_inputs = scaler.transform(model_inputs)"
   ]
  },
  {
   "cell_type": "code",
   "execution_count": 44,
   "metadata": {
    "execution": {
     "iopub.execute_input": "2022-10-06T14:48:05.046219Z",
     "iopub.status.busy": "2022-10-06T14:48:05.045575Z",
     "iopub.status.idle": "2022-10-06T14:48:06.129056Z",
     "shell.execute_reply": "2022-10-06T14:48:06.128507Z",
     "shell.execute_reply.started": "2022-10-06T14:38:26.855872Z"
    },
    "papermill": {
     "duration": 1.385705,
     "end_time": "2022-10-06T14:48:06.129222",
     "exception": false,
     "start_time": "2022-10-06T14:48:04.743517",
     "status": "completed"
    },
    "tags": []
   },
   "outputs": [
    {
     "name": "stdout",
     "output_type": "stream",
     "text": [
      "8/8 [==============================] - 2s 160ms/step\n"
     ]
    }
   ],
   "source": [
    "x_test = []\n",
    "for x in range(prediction_days, len(model_inputs)):\n",
    "    x_test.append(model_inputs[x-prediction_days:x, 0])\n",
    "\n",
    "x_test = np.array(x_test)\n",
    "x_test = np.reshape(x_test, (x_test.shape[0], x_test.shape[1] ,1))\n",
    "\n",
    "predicted_prices = model.predict(x_test)\n",
    "predicted_prices = scaler.inverse_transform(predicted_prices)"
   ]
  },
  {
   "cell_type": "code",
   "execution_count": 45,
   "metadata": {
    "execution": {
     "iopub.execute_input": "2022-10-06T14:48:06.731574Z",
     "iopub.status.busy": "2022-10-06T14:48:06.730862Z",
     "iopub.status.idle": "2022-10-06T14:48:06.953393Z",
     "shell.execute_reply": "2022-10-06T14:48:06.952485Z",
     "shell.execute_reply.started": "2022-10-06T14:38:29.370251Z"
    },
    "papermill": {
     "duration": 0.522556,
     "end_time": "2022-10-06T14:48:06.953572",
     "exception": false,
     "start_time": "2022-10-06T14:48:06.431016",
     "status": "completed"
    },
    "tags": []
   },
   "outputs": [
    {
     "data": {
      "image/png": "[encoded data removed]",
      "text/plain": [
       "<Figure size 640x480 with 1 Axes>"
      ]
     },
     "metadata": {},
     "output_type": "display_data"
    }
   ],
   "source": [
    "plt.plot(actual_prices, color='black', label=f\"Actual {COMPANY} price\")\n",
    "plt.plot(predicted_prices, color= 'green', label=f\"predicted {COMPANY} price\")\n",
    "plt.title(f\"{COMPANY} share price\")\n",
    "plt.xlabel(\"time\")\n",
    "plt.ylabel(f\"{COMPANY} share price\")\n",
    "plt.legend()\n",
    "plt.show()"
   ]
  },
  {
   "cell_type": "code",
   "execution_count": 46,
   "metadata": {
    "execution": {
     "iopub.execute_input": "2022-10-06T14:48:07.594694Z",
     "iopub.status.busy": "2022-10-06T14:48:07.593763Z",
     "iopub.status.idle": "2022-10-06T14:48:07.597028Z",
     "shell.execute_reply": "2022-10-06T14:48:07.596462Z",
     "shell.execute_reply.started": "2022-10-06T14:38:42.334708Z"
    },
    "papermill": {
     "duration": 0.342381,
     "end_time": "2022-10-06T14:48:07.597191",
     "exception": false,
     "start_time": "2022-10-06T14:48:07.254810",
     "status": "completed"
    },
    "tags": []
   },
   "outputs": [],
   "source": [
    "# predicting next day\n",
    "real_data = [model_inputs[len(model_inputs)+1 - prediction_days:len(model_inputs+1),0]]\n",
    "real_data = np.array(real_data)\n",
    "real_data = np.reshape(real_data, (real_data.shape[0], real_data.shape[1], 1))"
   ]
  },
  {
   "cell_type": "code",
   "execution_count": 47,
   "metadata": {
    "execution": {
     "iopub.execute_input": "2022-10-06T14:48:08.209474Z",
     "iopub.status.busy": "2022-10-06T14:48:08.208774Z",
     "iopub.status.idle": "2022-10-06T14:48:09.234629Z",
     "shell.execute_reply": "2022-10-06T14:48:09.233945Z",
     "shell.execute_reply.started": "2022-10-06T14:38:43.775365Z"
    },
    "papermill": {
     "duration": 1.330735,
     "end_time": "2022-10-06T14:48:09.234789",
     "exception": false,
     "start_time": "2022-10-06T14:48:07.904054",
     "status": "completed"
    },
    "tags": []
   },
   "outputs": [
    {
     "name": "stdout",
     "output_type": "stream",
     "text": [
      "1/1 [==============================] - 1s 1s/step\n",
      "prediction: [[3521.8748]]\n"
     ]
    }
   ],
   "source": [
    "prediction = model.predict(real_data)\n",
    "prediction = scaler.inverse_transform(prediction)\n",
    "print(f\"prediction: {prediction}\")"
   ]
  },
  {
   "cell_type": "code",
   "execution_count": 48,
   "metadata": {},
   "outputs": [],
   "source": [
    "# predicting next 10 days\n",
    "real_data = [model_inputs[len(model_inputs) - prediction_days:len(model_inputs), 0]]\n",
    "real_data = np.array(real_data)\n",
    "real_data = np.reshape(real_data, (real_data.shape[0], real_data.shape[1], 1))\n"
   ]
  },
  {
   "cell_type": "code",
   "execution_count": 49,
   "metadata": {},
   "outputs": [
    {
     "name": "stdout",
     "output_type": "stream",
     "text": [
      "1/1 [==============================] - 0s 57ms/step\n",
      "1/1 [==============================] - 0s 58ms/step\n",
      "1/1 [==============================] - 0s 56ms/step\n",
      "1/1 [==============================] - 0s 58ms/step\n",
      "1/1 [==============================] - 0s 57ms/step\n",
      "1/1 [==============================] - 0s 57ms/step\n",
      "1/1 [==============================] - 0s 56ms/step\n",
      "1/1 [==============================] - 0s 57ms/step\n",
      "1/1 [==============================] - 0s 56ms/step\n",
      "1/1 [==============================] - 0s 57ms/step\n",
      "1/1 [==============================] - 0s 56ms/step\n",
      "1/1 [==============================] - 0s 69ms/step\n",
      "1/1 [==============================] - 0s 64ms/step\n",
      "1/1 [==============================] - 0s 59ms/step\n",
      "1/1 [==============================] - 0s 58ms/step\n",
      "1/1 [==============================] - 0s 55ms/step\n",
      "1/1 [==============================] - 0s 52ms/step\n",
      "1/1 [==============================] - 0s 57ms/step\n",
      "1/1 [==============================] - 0s 56ms/step\n",
      "1/1 [==============================] - 0s 57ms/step\n",
      "1/1 [==============================] - 0s 56ms/step\n",
      "1/1 [==============================] - 0s 57ms/step\n",
      "1/1 [==============================] - 0s 55ms/step\n",
      "1/1 [==============================] - 0s 54ms/step\n",
      "1/1 [==============================] - 0s 55ms/step\n",
      "1/1 [==============================] - 0s 56ms/step\n",
      "1/1 [==============================] - 0s 54ms/step\n",
      "1/1 [==============================] - 0s 54ms/step\n",
      "1/1 [==============================] - 0s 54ms/step\n",
      "1/1 [==============================] - 0s 57ms/step\n",
      "1/1 [==============================] - 0s 54ms/step\n",
      "1/1 [==============================] - 0s 58ms/step\n",
      "1/1 [==============================] - 0s 55ms/step\n",
      "1/1 [==============================] - 0s 55ms/step\n",
      "1/1 [==============================] - 0s 55ms/step\n",
      "1/1 [==============================] - 0s 54ms/step\n",
      "1/1 [==============================] - 0s 56ms/step\n",
      "1/1 [==============================] - 0s 55ms/step\n",
      "1/1 [==============================] - 0s 55ms/step\n",
      "1/1 [==============================] - 0s 56ms/step\n",
      "1/1 [==============================] - 0s 56ms/step\n",
      "1/1 [==============================] - 0s 57ms/step\n",
      "1/1 [==============================] - 0s 57ms/step\n",
      "1/1 [==============================] - 0s 58ms/step\n",
      "1/1 [==============================] - 0s 54ms/step\n",
      "1/1 [==============================] - 0s 55ms/step\n",
      "1/1 [==============================] - 0s 58ms/step\n",
      "1/1 [==============================] - 0s 61ms/step\n",
      "1/1 [==============================] - 0s 60ms/step\n",
      "1/1 [==============================] - 0s 58ms/step\n",
      "predictions: [array([[3521.8748]], dtype=float32), array([[3715.2563]], dtype=float32), array([[3956.6768]], dtype=float32), array([[4169.437]], dtype=float32), array([[4331.5874]], dtype=float32), array([[4445.874]], dtype=float32), array([[4522.44]], dtype=float32), array([[4571.6387]], dtype=float32), array([[4601.8726]], dtype=float32), array([[4619.3584]], dtype=float32), array([[4628.4927]], dtype=float32), array([[4632.2974]], dtype=float32), array([[4632.813]], dtype=float32), array([[4631.39]], dtype=float32), array([[4628.9087]], dtype=float32), array([[4625.9287]], dtype=float32), array([[4622.8003]], dtype=float32), array([[4619.7266]], dtype=float32), array([[4616.824]], dtype=float32), array([[4614.152]], dtype=float32), array([[4611.7275]], dtype=float32), array([[4609.5527]], dtype=float32), array([[4607.6147]], dtype=float32), array([[4605.8936]], dtype=float32), array([[4604.369]], dtype=float32), array([[4603.02]], dtype=float32), array([[4601.8257]], dtype=float32), array([[4600.7666]], dtype=float32), array([[4599.826]], dtype=float32), array([[4598.9907]], dtype=float32), array([[4598.2476]], dtype=float32), array([[4597.5835]], dtype=float32), array([[4596.99]], dtype=float32), array([[4596.459]], dtype=float32), array([[4595.983]], dtype=float32), array([[4595.5547]], dtype=float32), array([[4595.1694]], dtype=float32), array([[4594.823]], dtype=float32), array([[4594.5103]], dtype=float32), array([[4594.229]], dtype=float32), array([[4593.9736]], dtype=float32), array([[4593.744]], dtype=float32), array([[4593.536]], dtype=float32), array([[4593.3477]], dtype=float32), array([[4593.1772]], dtype=float32), array([[4593.023]], dtype=float32), array([[4592.884]], dtype=float32), array([[4592.7573]], dtype=float32), array([[4592.643]], dtype=float32), array([[4592.54]], dtype=float32)]\n"
     ]
    }
   ],
   "source": [
    "predictions = []\n",
    "for i in range(50):\n",
    "    prediction = model.predict(real_data)\n",
    "    prediction = scaler.inverse_transform(prediction)\n",
    "    predictions.append(prediction)\n",
    "    real_data = np.append(real_data[:, 1:, :], np.expand_dims(prediction, axis=1), axis=1)\n",
    "\n",
    "\n",
    "print(f\"predictions: {predictions}\")"
   ]
  },
  {
   "cell_type": "code",
   "execution_count": 50,
   "metadata": {},
   "outputs": [
    {
     "name": "stdout",
     "output_type": "stream",
     "text": [
      "[*********************100%***********************]  1 of 1 completed\n"
     ]
    },
    {
     "data": {
      "text/plain": [
       "50"
      ]
     },
     "execution_count": 50,
     "metadata": {},
     "output_type": "execute_result"
    }
   ],
   "source": [
    "true_data = yf.download(COMPANY, start='2021-01-01', end=dt.datetime.now())\n",
    "true_data = true_data[:50]\n",
    "len(true_data)"
   ]
  },
  {
   "cell_type": "code",
   "execution_count": 51,
   "metadata": {},
   "outputs": [
    {
     "data": {
      "image/png": "[encoded data removed]",
      "text/plain": [
       "<Figure size 640x480 with 1 Axes>"
      ]
     },
     "metadata": {},
     "output_type": "display_data"
    }
   ],
   "source": [
    "import matplotlib.pyplot as plt\n",
    "\n",
    "# 將預測結果轉換成numpy array並展平\n",
    "predictions = np.array(predictions).flatten()\n",
    "\n",
    "# 畫出實際價格和預測價格的曲線\n",
    "plt.plot(range(len(actual_prices), len(actual_prices)+len(predictions)), true_data['Close'])\n",
    "\n",
    "plt.plot(range(0, len(actual_prices)), actual_prices)\n",
    "plt.plot(range(len(actual_prices), len(actual_prices)+len(predictions)), predictions)\n",
    "plt.xlabel(\"Day\")\n",
    "plt.ylabel(\"Price\")\n",
    "plt.legend([\"true_data\", \"Actual Price\", \"Predicted Price\"])\n",
    "plt.show()\n"
   ]
  },
  {
   "cell_type": "markdown",
   "metadata": {
    "papermill": {
     "duration": 0.299798,
     "end_time": "2022-10-06T14:48:09.839387",
     "exception": false,
     "start_time": "2022-10-06T14:48:09.539589",
     "status": "completed"
    },
    "tags": []
   },
   "source": [
    "**<font size=\"2\"><a href=\"#summary\">Back to summary</a></font>**\n",
    "\n",
    "----"
   ]
  },
  {
   "cell_type": "markdown",
   "metadata": {
    "papermill": {
     "duration": 0.297985,
     "end_time": "2022-10-06T14:48:10.434948",
     "exception": false,
     "start_time": "2022-10-06T14:48:10.136963",
     "status": "completed"
    },
    "tags": []
   },
   "source": [
    "# References\n",
    "\n",
    "* <a href = 'https://www.kaggle.com/bryanb/introduction-to-time-series-analysis/edit/run/53321733'>My notebook on Time series analysis</a>\n",
    "* <a href = 'http://colah.github.io/posts/2015-08-Understanding-LSTMs/'>LSTM Explanations</a>\n",
    "* <a href = 'https://www.kaggle.com/datasets/bryanb/cac40-stocks-dataset'>CAC 40 dataset</a>"
   ]
  },
  {
   "cell_type": "markdown",
   "metadata": {
    "papermill": {
     "duration": 0.294019,
     "end_time": "2022-10-06T14:48:11.025658",
     "exception": false,
     "start_time": "2022-10-06T14:48:10.731639",
     "status": "completed"
    },
    "tags": []
   },
   "source": [
    "<hr>\n",
    "<br>\n",
    "<div align='justify'><font color=\"#353B47\" size=\"4\">Thank you for taking the time to read this notebook. I hope that I was able to answer your questions or your curiosity and that it was quite understandable. <u>any constructive comments are welcome</u>. They help me progress and motivate me to share better quality content. I am above all a passionate person who tries to advance my knowledge but also that of others. If you liked it, feel free to <u>upvote and share my work.</u> </font></div>\n",
    "<br>\n",
    "<div align='center'><font color=\"#353B47\" size=\"3\">Thank you and may passion guide you.</font></div>"
   ]
  }
 ],
 "metadata": {
  "kernelspec": {
   "display_name": "Python 3",
   "language": "python",
   "name": "python3"
  },
  "language_info": {
   "codemirror_mode": {
    "name": "ipython",
    "version": 3
   },
   "file_extension": ".py",
   "mimetype": "text/x-python",
   "name": "python",
   "nbconvert_exporter": "python",
   "pygments_lexer": "ipython3",
   "version": "3.10.7"
  },
  "papermill": {
   "default_parameters": {},
   "duration": 102.43335,
   "end_time": "2022-10-06T14:48:12.735987",
   "environment_variables": {},
   "exception": null,
   "input_path": "__notebook__.ipynb",
   "output_path": "__notebook__.ipynb",
   "parameters": {},
   "start_time": "2022-10-06T14:46:30.302637",
   "version": "2.2.2"
  }
 },
 "nbformat": 4,
 "nbformat_minor": 4
}
