{
 "cells": [
  {
   "cell_type": "code",
   "execution_count": null,
   "metadata": {},
   "outputs": [],
   "source": [
    "import datetime\n",
    "data5 = pd.DataFrame()\n",
    "data5['valleys_1'] = data2['valleys']\n",
    "data5 = data5.dropna(how='all') \n",
    "li_valley1 = list(data5['valleys_1'].index)\n",
    "data6 = pd.DataFrame()\n",
    "data6['valleys_2'] = data2['valleys2']\n",
    "data6 = data6.dropna(how='all') \n",
    "li_valley2 = list(data6['valleys_2'].index)\n",
    "li = []\n",
    "for i in range(0,len(li_valley2)): \n",
    "    temp = []\n",
    "    for j in range(0,len(li_valley1)): \n",
    "        temp.append(abs((li_valley2[i] - li_valley1[j]).days))\n",
    "    li.append(min(temp))\n",
    "data6['delay'] = li\n"
   ]
  },
  {
   "cell_type": "code",
   "execution_count": null,
   "metadata": {},
   "outputs": [],
   "source": [
    "fig, axes = plt.subplots(2, 1, figsize=(15, 8))\n",
    "# axes[0].plot(price2.index, x2, 'c', linewidth=3, label='Test_data')\n",
    "axes[0].plot(price.index, x, 'c', linewidth=2, label='Train_data')\n",
    "axes[0].set_ylabel(\"price\", fontsize=14)\n",
    "axes[0].grid(True)\n",
    "axes[1].plot(price2.index, signal, 'r', label='Predict',linewidth=3)\n",
    "axes[1].grid(True)\n",
    "axes[1].set_ylabel(\"amplitude\", fontsize=14)\n",
    "# axes[0].plot(price.index,price,'r',label='original values')\n",
    "axes[0].plot(valleys.index,valleys,'*',label='valleys')\n",
    "axes[0].plot(valleys.index,valleys,'*',label='valleys')\n",
    "axes[1].plot(data6.index , data6['valleys_2'],'*',label='valleys')\n",
    "axes[1].plot(valleys2.index,valleys2,'*',label='valleys')\n",
    "# plt.xlabel('x axis')\n",
    "# plt.ylabel('y axis')\n",
    "for i, label in enumerate(li):\n",
    "    axes[1].annotate(label, (data6.index[i],  data6['valleys_2'][i]),fontsize=14)\n",
    "# plt.show()\n",
    "# plt.legend(loc=4)\n",
    "axes[0].legend(loc=4)\n",
    "axes[1].legend(loc=4)\n",
    "# pl.legend()\n",
    "plt.show()\n"
   ]
  },
  {
   "cell_type": "code",
   "execution_count": null,
   "metadata": {},
   "outputs": [],
   "source": [
    "fig, axes = plt.subplots(2, 1, figsize=(15, 8))\n",
    "# axes[0].plot(price2.index, x2, 'c', linewidth=3, label='Test_data')\n",
    "axes[0].plot(price.index, x, 'c', linewidth=2, label='Train_data')\n",
    "axes[0].set_ylabel(\"price\", fontsize=14)\n",
    "axes[0].grid(True)\n",
    "axes[1].plot(price2.index, signal, 'r', label='Predict',linewidth=3)\n",
    "axes[1].grid(True)\n",
    "axes[1].set_ylabel(\"amplitude\", fontsize=14)\n",
    "# axes[0].plot(price.index,price,'r',label='original values')\n",
    "axes[0].plot(valleys.index,valleys,'*',label='valleys')\n",
    "axes[0].plot(valleys.index,valleys,'*',label='valleys')\n",
    "axes[1].plot(data6.index , data6['valleys_2'],'*',label='valleys')\n",
    "axes[1].plot(valleys2.index,valleys2,'*',label='valleys')\n",
    "# plt.xlabel('x axis')\n",
    "# plt.ylabel('y axis')\n",
    "for i, label in enumerate(li):\n",
    "    axes[1].annotate(label, (data6.index[i],  data6['valleys_2'][i]),fontsize=14)\n",
    "for i in range(0,len(signal_df)):\n",
    "    signal2 = signal_df['ampli'].at[i] * np.cos(2 * np.pi * signal_df['f'].at[i] * t + signal_df['phase'].at[i])\n",
    "    axes[1].plot(price2.index,signal2)\n",
    "# plt.show()\n",
    "# plt.legend(loc=4)\n",
    "axes[0].legend(loc=4)\n",
    "axes[1].legend(loc=4)\n",
    "# pl.legend()\n",
    "plt.show()\n"
   ]
  },
  {
   "cell_type": "code",
   "execution_count": 2,
   "metadata": {},
   "outputs": [
    {
     "data": {
      "text/html": [
       "<div>\n",
       "<style scoped>\n",
       "    .dataframe tbody tr th:only-of-type {\n",
       "        vertical-align: middle;\n",
       "    }\n",
       "\n",
       "    .dataframe tbody tr th {\n",
       "        vertical-align: top;\n",
       "    }\n",
       "\n",
       "    .dataframe thead th {\n",
       "        text-align: right;\n",
       "    }\n",
       "</style>\n",
       "<table border=\"1\" class=\"dataframe\">\n",
       "  <thead>\n",
       "    <tr style=\"text-align: right;\">\n",
       "      <th></th>\n",
       "      <th>0</th>\n",
       "    </tr>\n",
       "  </thead>\n",
       "  <tbody>\n",
       "    <tr>\n",
       "      <th>2</th>\n",
       "      <td>2</td>\n",
       "    </tr>\n",
       "    <tr>\n",
       "      <th>3</th>\n",
       "      <td>3</td>\n",
       "    </tr>\n",
       "    <tr>\n",
       "      <th>4</th>\n",
       "      <td>4</td>\n",
       "    </tr>\n",
       "    <tr>\n",
       "      <th>5</th>\n",
       "      <td>5</td>\n",
       "    </tr>\n",
       "    <tr>\n",
       "      <th>6</th>\n",
       "      <td>6</td>\n",
       "    </tr>\n",
       "    <tr>\n",
       "      <th>7</th>\n",
       "      <td>7</td>\n",
       "    </tr>\n",
       "  </tbody>\n",
       "</table>\n",
       "</div>"
      ],
      "text/plain": [
       "   0\n",
       "2  2\n",
       "3  3\n",
       "4  4\n",
       "5  5\n",
       "6  6\n",
       "7  7"
      ]
     },
     "execution_count": 2,
     "metadata": {},
     "output_type": "execute_result"
    }
   ],
   "source": [
    "import pandas as pd\n",
    "df = pd.DataFrame(range(0,10))\n",
    "df.iloc[5-3:5+3]"
   ]
  }
 ],
 "metadata": {
  "kernelspec": {
   "display_name": "Python 3.8.5 ('venv_stock': venv)",
   "language": "python",
   "name": "python3"
  },
  "language_info": {
   "codemirror_mode": {
    "name": "ipython",
    "version": 3
   },
   "file_extension": ".py",
   "mimetype": "text/x-python",
   "name": "python",
   "nbconvert_exporter": "python",
   "pygments_lexer": "ipython3",
   "version": "3.8.5"
  },
  "orig_nbformat": 4,
  "vscode": {
   "interpreter": {
    "hash": "ba787645ba8ce3b43ca5d5c1bc5ea17dd580ada22e1bd31731a2a86b718f16cf"
   }
  }
 },
 "nbformat": 4,
 "nbformat_minor": 2
}
