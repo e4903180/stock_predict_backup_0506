{
 "cells": [
  {
   "cell_type": "markdown",
   "metadata": {},
   "source": [
    "# Import packages\n"
   ]
  },
  {
   "cell_type": "code",
   "execution_count": 53,
   "metadata": {},
   "outputs": [],
   "source": [
    "import numpy as np\n",
    "import pylab as pl\n",
    "from numpy import fft\n",
    "import pandas as pd\n",
    "import matplotlib.pyplot as plt\n",
    "import yfinance as yf\n",
    "import datetime\n",
    "from dateutil.relativedelta import relativedelta\n",
    "import math\n",
    "import matplotlib.dates as mdates\n",
    "import warnings"
   ]
  },
  {
   "cell_type": "code",
   "execution_count": 54,
   "metadata": {},
   "outputs": [],
   "source": [
    "import statsmodels.api as sm\n",
    "from statsmodels.tsa.statespace.sarimax import SARIMAX\n",
    "from sklearn.metrics import mean_absolute_error\n",
    "from statsmodels.graphics.tsaplots import plot_acf\n",
    "from sklearn.preprocessing import MinMaxScaler\n"
   ]
  },
  {
   "attachments": {},
   "cell_type": "markdown",
   "metadata": {},
   "source": [
    "# Load data\n"
   ]
  },
  {
   "cell_type": "code",
   "execution_count": 55,
   "metadata": {},
   "outputs": [],
   "source": [
    "def load_data(stock_name, date_predict_start, data_range, slide_range, n_slide):\n",
    "    train_data = {}\n",
    "    test_data = {}\n",
    "    date_predict_start = datetime.datetime.strptime(\n",
    "        date_predict_start, '%Y-%m-%d').date()\n",
    "    date_data_start_list = []\n",
    "    date_predict_start_list = []\n",
    "    date_predict_end_list = []\n",
    "    test_data_start_list = []\n",
    "    all_data = yf.Ticker(stock_name).history(period='max')\n",
    "    all_data.index = all_data.index.date\n",
    "    check = date_predict_start in all_data.index\n",
    "    while (check == False):\n",
    "        date_predict_start = date_predict_start + \\\n",
    "            relativedelta(days=+1)\n",
    "        check = date_predict_start in list(all_data.index)\n",
    "    predict_start = all_data.index.get_loc(date_predict_start)\n",
    "    for i in range(n_slide):\n",
    "        predict_end = predict_start + data_range\n",
    "        date_predict_end = all_data.iloc[predict_end].name\n",
    "        data_start = predict_start - data_range\n",
    "        date_data_start = all_data.iloc[data_start].name\n",
    "        train_data['data_' + str(i)] = all_data.iloc[data_start:predict_start]\n",
    "        test_data['data_' + str(i)] = all_data.iloc[predict_start:predict_end]\n",
    "        date_data_start_list.append(date_data_start)\n",
    "        date_predict_start_list.append(date_predict_start)\n",
    "        date_predict_end_list.append(date_predict_end)\n",
    "        test_data_start_list.append(test_data['data_' + str(i)].index[0])\n",
    "        data_start = data_start + slide_range\n",
    "        predict_start = predict_start + slide_range\n",
    "        train_data['data_' + str(i)] = train_data['data_' +\n",
    "                                                  str(i)].reset_index(drop=False)\n",
    "        test_data['data_' + str(i)] = test_data['data_' +\n",
    "                                                str(i)].reset_index(drop=False)\n",
    "\n",
    "    return train_data, test_data, all_data, test_data_start_list\n"
   ]
  },
  {
   "cell_type": "code",
   "execution_count": 56,
   "metadata": {},
   "outputs": [],
   "source": [
    "# stock_name = \"^GSPC\"\n",
    "# date_predict_start = '2021-01-01'\n",
    "# data_range = 10\n",
    "# slide_range = 5\n",
    "# n_slide = 3\n",
    "# pv_range = 2\n",
    "# n_harm_lower_limit = 3\n",
    "# n_harm_upper_limit = 3\n",
    "# fit_method = 'rmse'\n",
    "# pv_method = 'HL'\n",
    "# date_data_start_list = []\n",
    "# date_predict_start_list = []\n",
    "# date_predict_end_list = []\n",
    "# train_data = {}\n",
    "# test_data = {}\n",
    "# date_predict_start = datetime.datetime.strptime(date_predict_start, '%Y-%m-%d')\n",
    "# all_data = yf.Ticker(stock_name).history(period='max')\n",
    "\n",
    "# check = date_predict_start in list(all_data.index)\n",
    "# while (check == False) :\n",
    "#     date_predict_start = date_predict_start + \\\n",
    "#         relativedelta(days=+1)\n",
    "#     check = date_predict_start in list(all_data.index)\n",
    "# predict_start = all_data.index.get_loc(date_predict_start)\n",
    "# for i in range(n_slide):\n",
    "#     predict_end = predict_start + data_range\n",
    "#     date_predict_end = all_data.iloc[predict_end].name\n",
    "#     data_start = predict_start - data_range\n",
    "#     date_data_start = all_data.iloc[data_start].name\n",
    "#     train_data['data_' + str(i)] = all_data.iloc[data_start:predict_start]\n",
    "#     test_data['data_' + str(i)] = all_data.iloc[predict_start:predict_end]\n",
    "#     date_data_start_list.append(date_data_start)\n",
    "#     date_predict_start_list.append(date_predict_start)\n",
    "#     date_predict_end_list.append(date_predict_end)\n",
    "#     data_start = data_start + slide_range\n",
    "#     predict_start = predict_start + slide_range\n"
   ]
  },
  {
   "attachments": {},
   "cell_type": "markdown",
   "metadata": {},
   "source": [
    "# Data preprocessing\n"
   ]
  },
  {
   "cell_type": "code",
   "execution_count": 57,
   "metadata": {},
   "outputs": [],
   "source": [
    "def find_data_pv_CL_function(data, pv_range):\n",
    "    pd.options.mode.chained_assignment = None\n",
    "    for i in data:\n",
    "        price = data[i]['Close']\n",
    "        data[i]['peaks'] = pd.Series(dtype='float64')\n",
    "        data[i]['valleys'] = pd.Series(dtype='float64')\n",
    "        data[i]['pv'] = pd.Series(dtype='str')\n",
    "        for idx in range(0, len(price)):\n",
    "            if idx < pv_range:\n",
    "                if price[idx] == price.iloc[0:pv_range*2+1].max():\n",
    "                    data[i]['peaks'].iloc[idx] = price[idx]\n",
    "                    data[i]['pv'].iloc[idx] = 'peak'\n",
    "                if price[idx] == price.iloc[0:pv_range*2+1].min():\n",
    "                    data[i]['valleys'].iloc[idx] = price[idx]\n",
    "                    data[i]['pv'].iloc[idx] = 'valley'\n",
    "            if price[idx] == price.iloc[idx-pv_range:idx+pv_range].max():\n",
    "                data[i]['peaks'].iloc[idx] = price[idx]\n",
    "                data[i]['pv'].iloc[idx] = 'peak'\n",
    "            if price[idx] == price.iloc[idx-pv_range:idx+pv_range].min():\n",
    "                data[i]['valleys'].iloc[idx] = price[idx]\n",
    "                data[i]['pv'].iloc[idx] = 'valley'\n"
   ]
  },
  {
   "cell_type": "code",
   "execution_count": 58,
   "metadata": {},
   "outputs": [],
   "source": [
    "def find_data_pv_HL_function(data, pv_range):\n",
    "    pd.options.mode.chained_assignment = None\n",
    "    for i in data:\n",
    "        high = data[i]['High']\n",
    "        low = data[i]['Low']\n",
    "        data[i]['peaks'] = pd.Series(dtype='float64')\n",
    "        data[i]['valleys'] = pd.Series(dtype='float64')\n",
    "        data[i]['pv'] = pd.Series(dtype='str')\n",
    "        for idx in range(0, len(high)):\n",
    "            if idx < pv_range:\n",
    "                if high[idx] == high.iloc[0:pv_range*2+1].max():\n",
    "                    data[i]['peaks'].iloc[idx] = high[idx]\n",
    "                    data[i]['pv'].iloc[idx] = 'peak'\n",
    "                if low[idx] == low.iloc[0:pv_range*2+1].min():\n",
    "                    data[i]['valleys'].iloc[idx] = low[idx]\n",
    "                    data[i]['pv'].iloc[idx] = 'valley'\n",
    "            if high[idx] == high.iloc[idx-pv_range:idx+pv_range].max():\n",
    "                data[i]['peaks'].iloc[idx] = high[idx]\n",
    "                data[i]['pv'].iloc[idx] = 'peak'\n",
    "            if low[idx] == low.iloc[idx-pv_range:idx+pv_range].min():\n",
    "                data[i]['valleys'].iloc[idx] = low[idx]\n",
    "                data[i]['pv'].iloc[idx] = 'valley'\n"
   ]
  },
  {
   "cell_type": "code",
   "execution_count": 59,
   "metadata": {},
   "outputs": [],
   "source": [
    "def preprocessing(train_data, test_data, pv_range, pv_method):\n",
    "    if pv_method == 'CL':\n",
    "        find_data_pv_CL_function(train_data, pv_range)\n",
    "        find_data_pv_CL_function(test_data, pv_range)\n",
    "    elif pv_method == 'HL':\n",
    "        find_data_pv_HL_function(train_data, pv_range)\n",
    "        find_data_pv_HL_function(test_data, pv_range)\n",
    "    else :\n",
    "        print('worng pv_method')\n"
   ]
  },
  {
   "attachments": {},
   "cell_type": "markdown",
   "metadata": {},
   "source": [
    "# Built Model\n"
   ]
  },
  {
   "attachments": {},
   "cell_type": "markdown",
   "metadata": {},
   "source": [
    "Get signal\n"
   ]
  },
  {
   "cell_type": "code",
   "execution_count": 60,
   "metadata": {},
   "outputs": [],
   "source": [
    "def data_to_harmonics_function(data_stock, data_range):\n",
    "    harmonics = {}\n",
    "    for i in data_stock:\n",
    "        harmonics[i] = {}\n",
    "        # get data_stock's infomation\n",
    "        data = data_stock[i]['Close']\n",
    "        array_data = np.array(data)\n",
    "        n_data = array_data.size\n",
    "        time_data = np.arange(0, n_data)\n",
    "\n",
    "        # detrend data\n",
    "        # find linear trend in data\n",
    "        Polynomial = np.polyfit(time_data, array_data, 1)\n",
    "        data_notrend = array_data - Polynomial[0] * time_data    # detrended x\n",
    "\n",
    "        # fft process\n",
    "        data_freqdom = fft.fft(data_notrend, n=n_data)\n",
    "        frequence = fft.fftfreq(n=n_data, d=1)\n",
    "        f_positive = frequence[np.where(frequence > 0)]\n",
    "        data_freqdom_positive = data_freqdom[np.where(frequence > 0)]\n",
    "\n",
    "        # sort indexes\n",
    "        indexes = list(range(f_positive.size))      # frequencies\n",
    "        # sort method 1\n",
    "        # indexes.sort(key = lambda i: np.absolute(frequence[i]))     # sort indexes by frequency, lower -> higher\n",
    "        # sort method 2 :\n",
    "        # sort indexes by amplitudes, lower -> higher\n",
    "        indexes.sort(key=lambda i: np.absolute(data_freqdom[i]))\n",
    "        indexes.reverse()       # sort indexes by amplitudes, higher -> lower\n",
    "\n",
    "        # get data_all_time'size\n",
    "        time_transfer = np.arange(0, data_range*2)\n",
    "\n",
    "        # mix harmonics\n",
    "        for j in indexes:\n",
    "            ampli = np.absolute(\n",
    "                data_freqdom_positive[j]) / n_data     # amplitude\n",
    "            phase = np.angle(data_freqdom_positive[j])      # phase\n",
    "            harmonics[i][j] = ampli * \\\n",
    "                np.cos(2 * np.pi * f_positive[j] * time_transfer + phase)\n",
    "    return harmonics\n"
   ]
  },
  {
   "cell_type": "code",
   "execution_count": 61,
   "metadata": {},
   "outputs": [],
   "source": [
    "def mix_harmonics_function(harmonics, n_harm_lower_limit, n_harm_upper_limit):\n",
    "    processed_signal = {}\n",
    "    for i in harmonics:\n",
    "        processed_signal[i] = {}\n",
    "        for n_harm in range(n_harm_lower_limit, n_harm_upper_limit+1):\n",
    "            mixed_harmonic = np.zeros(len(harmonics[i][0]))\n",
    "            for j in range(n_harm):\n",
    "                mixed_harmonic += harmonics[i][j]\n",
    "            processed_signal[i][n_harm] = pd.DataFrame(\n",
    "                {'Close': mixed_harmonic})\n",
    "    return processed_signal\n"
   ]
  },
  {
   "attachments": {},
   "cell_type": "markdown",
   "metadata": {},
   "source": [
    "Signal processing\n"
   ]
  },
  {
   "cell_type": "code",
   "execution_count": 62,
   "metadata": {},
   "outputs": [],
   "source": [
    "def find_signal_pv_function(signal, pv_range):\n",
    "    pd.options.mode.chained_assignment = None\n",
    "    for i in signal:\n",
    "        for j in signal[i]:\n",
    "            data = signal[i][j]['Close']\n",
    "            signal[i][j]['peaks'] = pd.Series(dtype='float64')\n",
    "            signal[i][j]['valleys'] = pd.Series(dtype='float64')\n",
    "            signal[i][j]['pv'] = pd.Series(dtype='str')\n",
    "            for idx in range(0, len(data)):\n",
    "                if idx < pv_range:\n",
    "                    if data[idx] == data.iloc[0:pv_range*2+1].max():\n",
    "                        signal[i][j]['peaks'].iloc[idx] = data[idx]\n",
    "                        signal[i][j]['pv'].iloc[idx] = 'peak'\n",
    "                    if data[idx] == data.iloc[0:pv_range*2+1].min():\n",
    "                        signal[i][j]['valleys'].iloc[idx] = data[idx]\n",
    "                        signal[i][j]['pv'].iloc[idx] = 'valley'\n",
    "                if data[idx] == data.iloc[idx-pv_range:idx+pv_range].max():\n",
    "                    signal[i][j]['peaks'].iloc[idx] = data[idx]\n",
    "                    signal[i][j]['pv'].iloc[idx] = 'peak'\n",
    "                if data[idx] == data.iloc[idx-pv_range:idx+pv_range].min():\n",
    "                    signal[i][j]['valleys'].iloc[idx] = data[idx]\n",
    "                    signal[i][j]['pv'].iloc[idx] = 'valley'\n"
   ]
  },
  {
   "cell_type": "code",
   "execution_count": 63,
   "metadata": {},
   "outputs": [],
   "source": [
    "def find_signal_lead_train_function(data, processed_signal):\n",
    "    for d in data:\n",
    "        for p in processed_signal[d]:\n",
    "            # processed_signal[d][p]['pv'] = pd.Series(dtype='str')\n",
    "            processing_signal = processed_signal[d][p].head(len(data[d]))\n",
    "            p_data = pd.DataFrame(\n",
    "                {'peaks': data[d]['peaks'], 'count': range(len(data[d]))})\n",
    "            p_data = p_data.drop(p_data[p_data['peaks'].isna()].index)\n",
    "            p_data_count = list(p_data['count'])\n",
    "            p_signal = pd.DataFrame(\n",
    "                {'peaks': processing_signal['peaks'], 'count': range(len(processing_signal))})\n",
    "            p_signal = p_signal.drop(p_signal[p_signal['peaks'].isna()].index)\n",
    "            p_signal_list = list(p_signal['count'])\n",
    "            p_lead = []\n",
    "            for i in range(0, len(p_signal_list)):\n",
    "                temp = []\n",
    "                temp_abs = []\n",
    "                temp_2 = []\n",
    "                for j in range(0, len(p_data_count)):\n",
    "                    temp.append((p_data_count[j] - p_signal_list[i]))\n",
    "                    temp_abs.append(abs(p_data_count[j] - p_signal_list[i]))\n",
    "                for k in range(0, len(temp_abs)):\n",
    "                    if temp_abs[k] == min(temp_abs):\n",
    "                        temp_2 = temp[k]\n",
    "                p_lead.append(temp_2)\n",
    "            p_signal['lead'] = p_lead\n",
    "\n",
    "            v_data = pd.DataFrame(\n",
    "                {'valleys': data[d]['valleys'], 'count': range(len(data[d]))})\n",
    "            v_data = v_data.drop(v_data[v_data['valleys'].isna()].index)\n",
    "            v_data_count = list(v_data['count'])\n",
    "            v_signal = pd.DataFrame(\n",
    "                {'valleys': processing_signal['valleys'], 'count': range(len(processing_signal))})\n",
    "            v_signal = v_signal.drop(\n",
    "                v_signal[v_signal['valleys'].isna()].index)\n",
    "            v_signal_list = list(v_signal['count'])\n",
    "            v_lead = []\n",
    "            for i in range(0, len(v_signal_list)):\n",
    "                temp = []\n",
    "                temp_abs = []\n",
    "                temp_2 = []\n",
    "                for j in range(0, len(v_data_count)):\n",
    "                    temp.append((v_data_count[j] - v_signal_list[i]))\n",
    "                    temp_abs.append(abs(v_data_count[j] - v_signal_list[i]))\n",
    "                for k in range(0, len(temp_abs)):\n",
    "                    if temp_abs[k] == min(temp_abs):\n",
    "                        temp_2 = temp[k]\n",
    "                v_lead.append(temp_2)\n",
    "            v_signal['lead'] = v_lead\n",
    "\n",
    "            processed_signal[d][p]['lead'] = pd.Series(dtype='float64')\n",
    "            processed_signal[d][p]['lead'].loc[p_signal['lead'].index] = p_signal['lead']\n",
    "            processed_signal[d][p]['lead'].loc[v_signal['lead'].index] = v_signal['lead']\n"
   ]
  },
  {
   "cell_type": "code",
   "execution_count": 64,
   "metadata": {},
   "outputs": [],
   "source": [
    "def build_model(train_data, n_harm_lower_limit, n_harm_upper_limit, pv_range, data_range):\n",
    "    harmonics = data_to_harmonics_function(train_data, data_range)\n",
    "    processed_signal = mix_harmonics_function(\n",
    "        harmonics, n_harm_lower_limit, n_harm_upper_limit)\n",
    "    find_signal_pv_function(processed_signal, pv_range)\n",
    "    find_signal_lead_train_function(train_data, processed_signal)\n",
    "    return harmonics, processed_signal\n"
   ]
  },
  {
   "attachments": {},
   "cell_type": "markdown",
   "metadata": {},
   "source": [
    "# Select model\n"
   ]
  },
  {
   "cell_type": "code",
   "execution_count": 65,
   "metadata": {},
   "outputs": [],
   "source": [
    "def get_fit_error_function(processed_signal, fit_method):\n",
    "    errors = {}\n",
    "    error = []\n",
    "    for i in processed_signal:\n",
    "        errors[i] = {}\n",
    "        for j in processed_signal[i]:\n",
    "            signal_dropna = processed_signal[i][j].drop(\n",
    "                processed_signal[i][j][processed_signal[i][j]['lead'].isna()].index)\n",
    "            if fit_method == 'mean':\n",
    "                error = signal_dropna['lead'].mean()\n",
    "            elif fit_method == 'abs':\n",
    "                error = abs(signal_dropna['lead']).mean()\n",
    "            elif fit_method == 'rmse':\n",
    "                mse = np.square(np.subtract(np.zeros_like(\n",
    "                    signal_dropna['lead']), signal_dropna['lead'])).mean()\n",
    "                rmse = math.sqrt(mse)\n",
    "                error = rmse\n",
    "            else :\n",
    "                print('worng fit_method')\n",
    "            errors[i][j] = error\n",
    "    return errors\n"
   ]
  },
  {
   "cell_type": "code",
   "execution_count": 66,
   "metadata": {},
   "outputs": [],
   "source": [
    "def get_best_fit_harm_function(processed_signal, errors):\n",
    "    best_error = {}\n",
    "    best_fit_harm = {}\n",
    "    for i in processed_signal:\n",
    "        best_error[i] = pd.Series(errors[i]).abs().min()\n",
    "        best_fit_harm[i] = pd.Series(errors[i]).abs().idxmin()\n",
    "    return best_fit_harm, best_error\n"
   ]
  },
  {
   "cell_type": "code",
   "execution_count": 67,
   "metadata": {},
   "outputs": [],
   "source": [
    "def find_signal_lead_test_function(data, processed_signal):\n",
    "    for d in data:\n",
    "        for p in processed_signal[d]:\n",
    "            processed_signal[d][p]['pv'] = pd.Series(dtype='str')\n",
    "            processing_signal = processed_signal[d][p].tail(len(data[d]))\n",
    "            p_data = pd.DataFrame(\n",
    "                {'peaks': data[d]['peaks'], 'count': range(len(data[d]))})\n",
    "            p_data = p_data.drop(p_data[p_data['peaks'].isna()].index)\n",
    "            p_data_count = list(p_data['count'])\n",
    "            p_signal = pd.DataFrame(\n",
    "                {'peaks': processing_signal['peaks'], 'count': range(len(processing_signal))})\n",
    "            p_signal = p_signal.drop(p_signal[p_signal['peaks'].isna()].index)\n",
    "            p_signal_list = list(p_signal['count'])\n",
    "            p_lead = []\n",
    "            for i in range(0, len(p_signal_list)):\n",
    "                temp = []\n",
    "                temp_abs = []\n",
    "                temp_2 = []\n",
    "                for j in range(0, len(p_data_count)):\n",
    "                    temp.append((p_data_count[j] - p_signal_list[i]))\n",
    "                    temp_abs.append(abs(p_data_count[j] - p_signal_list[i]))\n",
    "                for k in range(0, len(temp_abs)):\n",
    "                    if temp_abs[k] == min(temp_abs):\n",
    "                        temp_2 = temp[k]\n",
    "                p_lead.append(temp_2)\n",
    "            p_signal['lead'] = p_lead\n",
    "\n",
    "            v_data = pd.DataFrame(\n",
    "                {'valleys': data[d]['valleys'], 'count': range(len(data[d]))})\n",
    "            v_data = v_data.drop(v_data[v_data['valleys'].isna()].index)\n",
    "            v_data_count = list(v_data['count'])\n",
    "            v_signal = pd.DataFrame(\n",
    "                {'valleys': processing_signal['valleys'], 'count': range(len(processing_signal))})\n",
    "            v_signal = v_signal.drop(\n",
    "                v_signal[v_signal['valleys'].isna()].index)\n",
    "            v_signal_list = list(v_signal['count'])\n",
    "            v_lead = []\n",
    "            for i in range(0, len(v_signal_list)):\n",
    "                temp = []\n",
    "                temp_abs = []\n",
    "                temp_2 = []\n",
    "                for j in range(0, len(v_data_count)):\n",
    "                    temp.append((v_data_count[j] - v_signal_list[i]))\n",
    "                    temp_abs.append(abs(v_data_count[j] - v_signal_list[i]))\n",
    "                for k in range(0, len(temp_abs)):\n",
    "                    if temp_abs[k] == min(temp_abs):\n",
    "                        temp_2 = temp[k]\n",
    "                v_lead.append(temp_2)\n",
    "            v_signal['lead'] = v_lead\n",
    "\n",
    "            processed_signal[d][p]['lead'] = pd.Series(dtype='float64')\n",
    "            processed_signal[d][p]['lead'].loc[p_signal['lead'].index] = p_signal['lead']\n",
    "            processed_signal[d][p]['pv'].loc[p_signal['lead'].index] = 'peak'\n",
    "            processed_signal[d][p]['lead'].loc[v_signal['lead'].index] = v_signal['lead']\n",
    "            processed_signal[d][p]['pv'].loc[v_signal['lead'].index] = 'valley'\n"
   ]
  },
  {
   "cell_type": "code",
   "execution_count": 68,
   "metadata": {},
   "outputs": [],
   "source": [
    "def get_first_lead_function(processed_signal, best_fit_harm):\n",
    "    first_date = {}\n",
    "    lead = {}\n",
    "    pv = {}\n",
    "    for i in processed_signal:\n",
    "        harm = best_fit_harm[i]\n",
    "        temp = processed_signal[i][harm].loc[list(\n",
    "            processed_signal[i][harm]['lead'].dropna().index)[0]]\n",
    "        first_date[i] = list(processed_signal[i][harm]\n",
    "                             ['lead'].dropna().index)[0]\n",
    "        lead[i] = temp['lead']\n",
    "        pv[i] = temp['pv']\n",
    "    return first_date, lead, pv\n"
   ]
  },
  {
   "cell_type": "code",
   "execution_count": 69,
   "metadata": {},
   "outputs": [],
   "source": [
    "def select_model(test_data, processed_signal, fit_method):\n",
    "    errors = get_fit_error_function(processed_signal, fit_method)\n",
    "    best_fit_harm, best_error = get_best_fit_harm_function(\n",
    "        processed_signal, errors)\n",
    "    find_signal_lead_test_function(test_data, processed_signal)\n",
    "    first_date, lead, pv = get_first_lead_function(\n",
    "        processed_signal, best_fit_harm)\n",
    "    return errors, best_fit_harm, best_error, first_date, lead, pv\n"
   ]
  },
  {
   "attachments": {},
   "cell_type": "markdown",
   "metadata": {},
   "source": [
    "# Evaluate model\n"
   ]
  },
  {
   "cell_type": "code",
   "execution_count": 70,
   "metadata": {},
   "outputs": [],
   "source": [
    "def built_result_table_function(processed_signal, test_data_start_list, lead, pv, best_error, best_fit_harm):\n",
    "    result_table = pd.DataFrame(columns=[\n",
    "        's_date', 't_date', 'lead', 'ans_date', 'pv', 'error', 'best_fit'])\n",
    "    for i in processed_signal:\n",
    "        result_table.loc[i, 'error'] = round(best_error[i], 2)\n",
    "        result_table.loc[i, 'best_fit'] = best_fit_harm[i]\n",
    "        result_table.loc[i, 'lead'] = lead[i]\n",
    "        result_table.loc[i, 'pv'] = pv[i]\n",
    "    result_table['s_date'] = test_data_start_list\n",
    "    return result_table\n"
   ]
  },
  {
   "cell_type": "code",
   "execution_count": 71,
   "metadata": {},
   "outputs": [],
   "source": [
    "def result_table_process_function(result_table, all_data, first_date, data_range):\n",
    "    for i in result_table.index:\n",
    "        t_date = all_data.iloc[all_data.index.get_loc(result_table.loc[i, 's_date']) + first_date[i] - data_range].name\n",
    "        result_table.loc[i, 't_date'] = t_date\n",
    "        ans = all_data.iloc[int(all_data.index.get_loc(t_date) + result_table.loc[i, 'lead'])].name\n",
    "        result_table.loc[i, 'ans_date'] = ans"
   ]
  },
  {
   "cell_type": "code",
   "execution_count": 72,
   "metadata": {},
   "outputs": [],
   "source": [
    "def compute_final_error_function(result_table):\n",
    "    final_error = round(\n",
    "        sum([abs(ele) for ele in result_table['lead']]) / len(result_table['lead']), 2)\n",
    "    return final_error\n"
   ]
  },
  {
   "cell_type": "code",
   "execution_count": 73,
   "metadata": {},
   "outputs": [],
   "source": [
    "def evaluate_model(processed_signal, test_data_start_list, all_data, best_fit_harm, best_error, first_date, lead, pv, data_range):\n",
    "    result_table = built_result_table_function(\n",
    "        processed_signal, test_data_start_list, lead, pv, best_error, best_fit_harm)\n",
    "    result_table_process_function(\n",
    "        result_table, all_data, first_date, data_range)\n",
    "    final_error = compute_final_error_function(result_table)\n",
    "    return result_table, final_error\n"
   ]
  },
  {
   "attachments": {},
   "cell_type": "markdown",
   "metadata": {},
   "source": [
    "# Draw plot\n"
   ]
  },
  {
   "cell_type": "code",
   "execution_count": 74,
   "metadata": {},
   "outputs": [],
   "source": [
    "def find_data_pv_function(data, pv_range):\n",
    "    pd.options.mode.chained_assignment = None\n",
    "    price = data['Close']\n",
    "    data['peaks'] = pd.Series(dtype='float64')\n",
    "    data['valleys'] = pd.Series(dtype='float64')\n",
    "    data['pv'] = pd.Series(dtype='str')\n",
    "    for idx in range(0, len(price)):\n",
    "        if idx < pv_range:\n",
    "            if price[idx] == price.iloc[0:pv_range*2+1].max():\n",
    "                data['peaks'].iloc[idx] = price[idx]\n",
    "                data['pv'].iloc[idx] = 'peak'\n",
    "            if price[idx] == price.iloc[0:pv_range*2+1].min():\n",
    "                data['valleys'].iloc[idx] = price[idx]\n",
    "                data['pv'].iloc[idx] = 'valley'\n",
    "        if price[idx] == price.iloc[idx-pv_range:idx+pv_range].max():\n",
    "            data['peaks'].iloc[idx] = price[idx]\n",
    "            data['pv'].iloc[idx] = 'peak'\n",
    "        if price[idx] == price.iloc[idx-pv_range:idx+pv_range].min():\n",
    "            data['valleys'].iloc[idx] = price[idx]\n",
    "            data['pv'].iloc[idx] = 'valley'\n"
   ]
  },
  {
   "cell_type": "code",
   "execution_count": 75,
   "metadata": {},
   "outputs": [],
   "source": [
    "def draw_plot_result_table(test_data, all_data, result_table, pv_range):\n",
    "    date_list = sorted(\n",
    "        list(result_table['s_date']) + list(result_table['t_date']) + list(result_table['ans_date']))\n",
    "    all_index = all_data.loc[date_list[0]:date_list[-1]].index\n",
    "    fig, axes = plt.subplots(2, 1, figsize=(30, 8), sharex=True)\n",
    "    for d in test_data :\n",
    "        test_data[d].index = test_data[d]['index']\n",
    "        test_data[d]= test_data[d].drop(test_data[d][test_data[d].index > date_list[-1]].index)\n",
    "        axes[0].plot(test_data[d].index, test_data[d]['Close'], 'gray', label='data', linewidth=3)\n",
    "    for d in test_data :\n",
    "        axes[0].plot(test_data[d].index, test_data[d]['peaks'],\n",
    "                    '^', c='royalblue', label='peaks')\n",
    "        axes[0].plot(test_data[d].index, test_data[d]['valleys'], 'v',\n",
    "                    c='orangered', label='valleys')\n",
    "    plot_model = pd.DataFrame(index=all_index, columns=[\n",
    "                                's_date', 't_date', 'ans_date', 'lead', 'pv'])\n",
    "    plot_model['s_date'].loc[result_table['s_date']] = True\n",
    "    plot_model['t_date'].loc[result_table['t_date']] = True\n",
    "    plot_model['lead'].loc[result_table['t_date']] = list(result_table['lead'])\n",
    "    plot_model['pv'].loc[result_table['t_date']] = list(result_table['pv'])\n",
    "    plot_model['ans_date'].loc[result_table['ans_date']] = True\n",
    "    for i, label in enumerate(plot_model['lead']):\n",
    "        if plot_model['pv'][i] == 'peak':\n",
    "            # axes[0].plot(plot_data.index[i], plot_data['Close'].iloc[i], '|',\n",
    "            #             c='red')\n",
    "            axes[1].plot(plot_model.index[i], plot_model['lead'][i], '^',\n",
    "                            c='royalblue')\n",
    "            text = str(label)\n",
    "            axes[1].annotate(text, (plot_model.index[i],\n",
    "                                plot_model['lead'][i]), fontsize=14)\n",
    "        elif plot_model['pv'][i] == 'valley':\n",
    "            # axes[0].plot(plot_data.index[i], plot_data['Close'].iloc[i], '|',\n",
    "            #             c='red')\n",
    "            axes[1].plot(plot_model.index[i], plot_model['lead'][i], 'v',\n",
    "                            c='orangered')\n",
    "            text = str(label)\n",
    "            axes[1].annotate(text, (plot_model.index[i],\n",
    "                                plot_model['lead'][i]), fontsize=14)\n",
    "\n",
    "    axes[0].set_ylabel(\"Stock price\", fontsize=14)\n",
    "    axes[0].grid(True)\n",
    "    axes[1].grid(True)\n",
    "    axes[1].set_ylabel(\"lead\", fontsize=14)\n",
    "    plt.show()"
   ]
  },
  {
   "attachments": {},
   "cell_type": "markdown",
   "metadata": {},
   "source": [
    "# Main function\n"
   ]
  },
  {
   "cell_type": "code",
   "execution_count": 76,
   "metadata": {},
   "outputs": [],
   "source": [
    "def main_funtion(\n",
    "    stock_name, date_predict_start, data_range, slide_range,\n",
    "        n_slide, pv_range, n_harm_lower_limit, n_harm_upper_limit, fit_method, pv_method):\n",
    "\n",
    "    # 1. Load data\n",
    "    train_data, test_data, all_data, test_data_start_list = load_data(\n",
    "        stock_name, date_predict_start, data_range, slide_range, n_slide)\n",
    "    # 2. Preprocessing\n",
    "    preprocessing(train_data, test_data, pv_range, pv_method)\n",
    "    # 3. Build model\n",
    "    harmonics, model = build_model(\n",
    "        train_data, n_harm_lower_limit, n_harm_upper_limit, pv_range, data_range)\n",
    "    # 4. Select model\n",
    "    errors, best_fit_harm, best_error, first_date, lead, pv = select_model(test_data,\n",
    "                                                                           model, fit_method)\n",
    "    # 5. Evaluate model\n",
    "    result_table, final_error = evaluate_model(\n",
    "        model, test_data_start_list, all_data, best_fit_harm, best_error, first_date, lead, pv, data_range)\n",
    "    print('final_error = ', final_error)\n",
    "    with pd.option_context('display.max_rows', None,\n",
    "                       'display.max_columns', None,\n",
    "                       'display.precision', 3,\n",
    "                       ):\n",
    "        print(result_table)\n",
    "    draw_plot_result_table(test_data, all_data, result_table, pv_range)\n",
    "    return harmonics, model, errors, best_fit_harm, best_error, first_date, lead, pv, result_table, final_error\n"
   ]
  },
  {
   "cell_type": "code",
   "execution_count": 77,
   "metadata": {},
   "outputs": [],
   "source": [
    "# stock_name = \"^GSPC\"\n",
    "# date_predict_start = '2020-01-01'\n",
    "# data_range = 250\n",
    "# slide_range = 10\n",
    "# n_slide = 2\n",
    "# pv_range = 2\n",
    "# order_lower_limit = 0\n",
    "# order_upper_limit = 50\n",
    "# fit_method = 'rmse'\n",
    "# pv_method = 'HL'\n",
    "# # 1. load_data\n",
    "# train_data, test_data, all_data, test_data_start_list = load_data(\n",
    "#     stock_name, date_predict_start, data_range, slide_range, n_slide)\n",
    "# # 2. Preprocessing\n",
    "# preprocessing(train_data, test_data, pv_range, pv_method)\n"
   ]
  },
  {
   "cell_type": "code",
   "execution_count": 78,
   "metadata": {},
   "outputs": [],
   "source": [
    "def SARIMAX_predict_function(train_data, p_range, d_range, q_range, P_range, D_range, Q_range, s): \n",
    "    model_pdq = {}\n",
    "    model_fit = {}\n",
    "    model_prediction = {}\n",
    "    for i in train_data:\n",
    "        train = train_data[i]['Close']\n",
    "        index_length = len(p_range)*len(d_range)*len(q_range)*len(P_range)*len(D_range)*len(Q_range)\n",
    "        model_pdq[i] = pd.DataFrame(columns=['p','d','q','P','D','Q','s'], index=range(0, index_length))\n",
    "        model_fit[i] = {}\n",
    "        model_prediction[i] = {}\n",
    "        index = 0\n",
    "        for p in p_range:\n",
    "            for d in d_range:\n",
    "                for q in q_range:\n",
    "                    for P in P_range:\n",
    "                        for D in D_range:\n",
    "                            for Q in Q_range:\n",
    "                                try:\n",
    "                                    # Fit the SARIMA model to the training data\n",
    "                                    model = SARIMAX(train, order=(p, d, q), seasonal_order=(P, D, Q, s))\n",
    "                                    model_fit[i][index] = model.fit()\n",
    "                                    model_prediction[i][index] = pd.DataFrame(columns=['Close'])\n",
    "                                    model_prediction[i][index]['Close'] = model_fit[i][index].predict(start=train.index[0], end=train.index[-1]*2+1)\n",
    "                                    model_pdq[i]['p'].iloc[index]=p\n",
    "                                    model_pdq[i]['d'].iloc[index]=d\n",
    "                                    model_pdq[i]['q'].iloc[index]=q\n",
    "                                    model_pdq[i]['P'].iloc[index]=P\n",
    "                                    model_pdq[i]['D'].iloc[index]=D\n",
    "                                    model_pdq[i]['Q'].iloc[index]=Q\n",
    "                                    model_pdq[i]['s'].iloc[index]=s\n",
    "                                    index+=1\n",
    "                                    print(i, index, '/', index_length)\n",
    "                                except:\n",
    "                                    pass\n",
    "\n",
    "    return model_fit, model_prediction, model_pdq"
   ]
  },
  {
   "cell_type": "code",
   "execution_count": 79,
   "metadata": {},
   "outputs": [],
   "source": [
    "def SARIMAX_select_model(model_fit, model_aic, data_range):\n",
    "    best_predictions = {}\n",
    "    min_value = int()\n",
    "    for i in model_aic:\n",
    "        min_key, min_value = min(\n",
    "            zip(model_aic[i].keys(), model_aic[i].values()))\n",
    "        best_predictions[i] = model_fit[i][0].predict(\n",
    "            start=data_range, end=data_range*2-1)\n",
    "    return best_predictions, min_value\n"
   ]
  },
  {
   "cell_type": "code",
   "execution_count": 80,
   "metadata": {},
   "outputs": [],
   "source": [
    "# best_predictions, min_value = SARIMAX_select_model(model_fit, model_aic, data_range)"
   ]
  },
  {
   "cell_type": "code",
   "execution_count": 81,
   "metadata": {},
   "outputs": [],
   "source": [
    "def draw_sarima_result(train_data, test_data, predictions):\n",
    "    plt.figure(figsize=(20,6))\n",
    "    plt.plot(train_data, label='train')\n",
    "    plt.plot(predictions.index, test_data[:len(predictions)], label='test')\n",
    "    plt.plot(predictions.index, predictions, label='predictions')\n",
    "    # plt.xlim(len(train_data-10), len(train_data+10))\n",
    "    plt.legend()\n",
    "    plt.show()"
   ]
  },
  {
   "cell_type": "code",
   "execution_count": 82,
   "metadata": {},
   "outputs": [],
   "source": [
    "def find_sarima_pv_function(sarima_predictions, pv_range):\n",
    "    pd.options.mode.chained_assignment = None\n",
    "    processed_signal = {}\n",
    "    for i in sarima_predictions:\n",
    "        processed_signal[i] = pd.DataFrame()\n",
    "        price = sarima_predictions[i].reset_index(drop=True)\n",
    "        processed_signal[i]['Close'] = sarima_predictions[i].reset_index(drop=True)\n",
    "        processed_signal[i]['peaks'] = pd.Series(dtype='float64')\n",
    "        processed_signal[i]['valleys'] = pd.Series(dtype='float64')\n",
    "        processed_signal[i]['pv'] = pd.Series(dtype='str')\n",
    "        for idx in range(0, len(price)):\n",
    "            if idx < pv_range:\n",
    "                if price[idx] == price.iloc[0:pv_range*2+1].max():\n",
    "                    processed_signal[i]['peaks'].iloc[idx] = price[idx]\n",
    "                    processed_signal[i]['pv'].iloc[idx] = 'peak'\n",
    "                if price[idx] == price.iloc[0:pv_range*2+1].min():\n",
    "                    processed_signal[i]['valleys'].iloc[idx] = price[idx]\n",
    "                    processed_signal[i]['pv'].iloc[idx] = 'valley'\n",
    "            if price[idx] == price.iloc[idx-pv_range:idx+pv_range].max():\n",
    "                processed_signal[i]['peaks'].iloc[idx] = price[idx]\n",
    "                processed_signal[i]['pv'].iloc[idx] = 'peak'\n",
    "            if price[idx] == price.iloc[idx-pv_range:idx+pv_range].min():\n",
    "                processed_signal[i]['valleys'].iloc[idx] = price[idx]\n",
    "                processed_signal[i]['pv'].iloc[idx] = 'valley'\n",
    "            # new rule for all zero\n",
    "    return processed_signal\n"
   ]
  },
  {
   "cell_type": "code",
   "execution_count": 83,
   "metadata": {},
   "outputs": [],
   "source": [
    "# processed_signal = find_sarima_pv_function(best_predictions, pv_range)"
   ]
  },
  {
   "cell_type": "code",
   "execution_count": 84,
   "metadata": {},
   "outputs": [],
   "source": [
    "def find_sarima_lead_train_function(data, processed_signal):\n",
    "    for d in data:\n",
    "        # processed_signal[d]['pv'] = pd.Series(dtype='str')\n",
    "        processing_signal = processed_signal[d].head(len(data[d]))\n",
    "        # print(processing_signal)\n",
    "        p_data = pd.DataFrame(\n",
    "            {'peaks': data[d]['peaks'], 'count': range(len(data[d]))})\n",
    "        p_data = p_data.drop(p_data[p_data['peaks'].isna()].index)\n",
    "        p_data_count = list(p_data['count'])\n",
    "        p_signal = pd.DataFrame(\n",
    "            {'peaks': processing_signal['peaks'], 'count': range(len(processing_signal))})\n",
    "        p_signal = p_signal.drop(p_signal[p_signal['peaks'].isna()].index)\n",
    "        p_signal_list = list(p_signal['count'])\n",
    "        p_lead = []\n",
    "        for i in range(0, len(p_signal_list)):\n",
    "            temp = []\n",
    "            temp_abs = []\n",
    "            temp_2 = []\n",
    "            for j in range(0, len(p_data_count)):\n",
    "                temp.append((p_data_count[j] - p_signal_list[i]))\n",
    "                temp_abs.append(abs(p_data_count[j] - p_signal_list[i]))\n",
    "            for k in range(0, len(temp_abs)):\n",
    "                if temp_abs[k] == min(temp_abs):\n",
    "                    temp_2 = temp[k]\n",
    "            p_lead.append(temp_2)\n",
    "        p_signal['lead'] = p_lead\n",
    "\n",
    "        v_data = pd.DataFrame(\n",
    "            {'valleys': data[d]['valleys'], 'count': range(len(data[d]))})\n",
    "        v_data = v_data.drop(v_data[v_data['valleys'].isna()].index)\n",
    "        v_data_count = list(v_data['count'])\n",
    "        v_signal = pd.DataFrame(\n",
    "            {'valleys': processing_signal['valleys'], 'count': range(len(processing_signal))})\n",
    "        v_signal = v_signal.drop(\n",
    "            v_signal[v_signal['valleys'].isna()].index)\n",
    "        v_signal_list = list(v_signal['count'])\n",
    "        v_lead = []\n",
    "        for i in range(0, len(v_signal_list)):\n",
    "            temp = []\n",
    "            temp_abs = []\n",
    "            temp_2 = []\n",
    "            for j in range(0, len(v_data_count)):\n",
    "                temp.append((v_data_count[j] - v_signal_list[i]))\n",
    "                temp_abs.append(abs(v_data_count[j] - v_signal_list[i]))\n",
    "            for k in range(0, len(temp_abs)):\n",
    "                if temp_abs[k] == min(temp_abs):\n",
    "                    temp_2 = temp[k]\n",
    "            v_lead.append(temp_2)\n",
    "        v_signal['lead'] = v_lead\n",
    "\n",
    "        processed_signal[d]['lead'] = pd.Series(dtype='float64')\n",
    "        processed_signal[d]['lead'].loc[p_signal['lead'].index] = p_signal['lead']\n",
    "        processed_signal[d]['lead'].loc[v_signal['lead'].index] = v_signal['lead']"
   ]
  },
  {
   "cell_type": "code",
   "execution_count": 85,
   "metadata": {},
   "outputs": [],
   "source": [
    "# find_sarima_lead_train_function(train_data, processed_signal)"
   ]
  },
  {
   "cell_type": "code",
   "execution_count": 86,
   "metadata": {},
   "outputs": [],
   "source": [
    "def build_model_sarima(train_data, pv_range, data_range):\n",
    "    p_range = range(0, 3)\n",
    "    d_range = range(0, 3)\n",
    "    q_range = range(1, 2)\n",
    "    P_range = range(0, 3)\n",
    "    D_range = range(0, 3)\n",
    "    Q_range = range(1, 2)\n",
    "    s = 12\n",
    "    model_fit, model_aic, model_pdq = SARIMAX_predict_function(train_data, p_range, d_range, q_range, P_range, D_range, Q_range, s) # type: ignore\n",
    "    best_predictions, min_value = SARIMAX_select_model(model_fit, model_aic, data_range)\n",
    "    processed_signal = find_sarima_pv_function(best_predictions, pv_range)\n",
    "    find_sarima_lead_train_function(train_data, processed_signal)\n",
    "    return processed_signal"
   ]
  },
  {
   "cell_type": "code",
   "execution_count": 87,
   "metadata": {},
   "outputs": [],
   "source": [
    "# processed_signal = build_model_sarima(train_data, pv_range, data_range)"
   ]
  },
  {
   "cell_type": "code",
   "execution_count": 88,
   "metadata": {},
   "outputs": [],
   "source": [
    "def get_fit_error_function_sarima(processed_signal, fit_method):\n",
    "    errors = {}\n",
    "    error = []\n",
    "    for i in processed_signal:\n",
    "        errors[i] = {}\n",
    "        signal_dropna = processed_signal[i].drop(\n",
    "            processed_signal[i][processed_signal[i]['lead'].isna()].index)\n",
    "        if fit_method == 'mean':\n",
    "            error = signal_dropna['lead'].mean()\n",
    "        elif fit_method == 'abs':\n",
    "            error = abs(signal_dropna['lead']).mean()\n",
    "        elif fit_method == 'rmse':\n",
    "            mse = np.square(np.subtract(np.zeros_like(\n",
    "                signal_dropna['lead']), signal_dropna['lead'])).mean()\n",
    "            rmse = math.sqrt(mse)\n",
    "            error = rmse\n",
    "        else :\n",
    "            print('worng fit_method')\n",
    "        errors[i] = error\n",
    "    return errors\n"
   ]
  },
  {
   "cell_type": "code",
   "execution_count": 89,
   "metadata": {},
   "outputs": [],
   "source": [
    "def find_sarima_lead_test_function(data, processed_signal):\n",
    "    for d in data:\n",
    "        # processed_signal[d]['pv'] = pd.Series(dtype='str')\n",
    "        processing_signal = processed_signal[d].tail(len(data[d]))\n",
    "        p_data = pd.DataFrame(\n",
    "            {'peaks': data[d]['peaks'], 'count': range(len(data[d]))})\n",
    "        p_data = p_data.drop(p_data[p_data['peaks'].isna()].index)\n",
    "        p_data_count = list(p_data['count'])\n",
    "        p_signal = pd.DataFrame(\n",
    "            {'peaks': processing_signal['peaks'], 'count': range(len(processing_signal))})\n",
    "        p_signal = p_signal.drop(p_signal[p_signal['peaks'].isna()].index)\n",
    "        p_signal_list = list(p_signal['count'])\n",
    "        p_lead = []\n",
    "        for i in range(0, len(p_signal_list)):\n",
    "            temp = []\n",
    "            temp_abs = []\n",
    "            temp_2 = []\n",
    "            for j in range(0, len(p_data_count)):\n",
    "                temp.append((p_data_count[j] - p_signal_list[i]))\n",
    "                temp_abs.append(abs(p_data_count[j] - p_signal_list[i]))\n",
    "            for k in range(0, len(temp_abs)):\n",
    "                if temp_abs[k] == min(temp_abs):\n",
    "                    temp_2 = temp[k]\n",
    "            p_lead.append(temp_2)\n",
    "        p_signal['lead'] = p_lead\n",
    "\n",
    "        v_data = pd.DataFrame(\n",
    "            {'valleys': data[d]['valleys'], 'count': range(len(data[d]))})\n",
    "        v_data = v_data.drop(v_data[v_data['valleys'].isna()].index)\n",
    "        v_data_count = list(v_data['count'])\n",
    "        v_signal = pd.DataFrame(\n",
    "            {'valleys': processing_signal['valleys'], 'count': range(len(processing_signal))})\n",
    "        v_signal = v_signal.drop(\n",
    "            v_signal[v_signal['valleys'].isna()].index)\n",
    "        v_signal_list = list(v_signal['count'])\n",
    "        v_lead = []\n",
    "        for i in range(0, len(v_signal_list)):\n",
    "            temp = []\n",
    "            temp_abs = []\n",
    "            temp_2 = []\n",
    "            for j in range(0, len(v_data_count)):\n",
    "                temp.append((v_data_count[j] - v_signal_list[i]))\n",
    "                temp_abs.append(abs(v_data_count[j] - v_signal_list[i]))\n",
    "            for k in range(0, len(temp_abs)):\n",
    "                if temp_abs[k] == min(temp_abs):\n",
    "                    temp_2 = temp[k]\n",
    "            v_lead.append(temp_2)\n",
    "        v_signal['lead'] = v_lead\n",
    "\n",
    "        processed_signal[d]['lead'] = pd.Series(dtype='float64')\n",
    "        processed_signal[d]['lead'].loc[p_signal['lead'].index] = p_signal['lead']\n",
    "        processed_signal[d]['lead'].loc[v_signal['lead'].index] = v_signal['lead']\n"
   ]
  },
  {
   "cell_type": "code",
   "execution_count": 90,
   "metadata": {},
   "outputs": [],
   "source": [
    "def get_first_lead_function_sarima(processed_signal, best_fit_harm):\n",
    "    first_date = {}\n",
    "    lead = {}\n",
    "    pv = {}\n",
    "    for i in processed_signal:\n",
    "        temp = processed_signal[i].loc[list(\n",
    "            processed_signal[i]['lead'].dropna().index)[0]]\n",
    "        first_date[i] = list(processed_signal[i]\n",
    "                             ['lead'].dropna().index)[0]\n",
    "        lead[i] = temp['lead']\n",
    "        pv[i] = temp['pv']\n",
    "    return first_date, lead, pv\n"
   ]
  },
  {
   "cell_type": "code",
   "execution_count": 91,
   "metadata": {},
   "outputs": [],
   "source": [
    "def select_model_sarima(test_data, processed_signal, fit_method):\n",
    "    errors = get_fit_error_function_sarima(processed_signal, fit_method)\n",
    "    best_fit_harm, best_error = get_best_fit_harm_function(\n",
    "        processed_signal, errors)\n",
    "    find_sarima_lead_test_function(test_data, processed_signal)\n",
    "    first_date, lead, pv = get_first_lead_function_sarima(\n",
    "        processed_signal, best_fit_harm)\n",
    "    return errors, best_fit_harm, best_error, first_date, lead, pv\n"
   ]
  },
  {
   "cell_type": "code",
   "execution_count": 92,
   "metadata": {},
   "outputs": [],
   "source": [
    "# errors, best_fit_harm, best_error, first_date, lead, pv = select_model_sarima(test_data, processed_signal, fit_method)"
   ]
  },
  {
   "cell_type": "code",
   "execution_count": 93,
   "metadata": {},
   "outputs": [],
   "source": [
    "def result_table_process_function_sarima(result_table, all_data, first_date, data_range):\n",
    "    for i in result_table.index:\n",
    "        t_date = all_data.iloc[all_data.index.get_loc(\n",
    "            datetime.datetime.strptime(result_table.loc[i].s_date, '%Y-%m-%d').date()) + first_date[i] - data_range].name\n",
    "        t_date = datetime.datetime.strftime(t_date, '%Y-%m-%d')\n",
    "        result_table.loc[i, 't_date'] = t_date\n",
    "        ans = all_data.iloc[int(all_data.index.get_loc(\n",
    "            datetime.datetime.strptime(result_table.loc[i].s_date, '%Y-%m-%d').date()) + result_table.loc[i, 'lead'])].name\n",
    "        ans = datetime.datetime.strftime(ans, '%Y-%m-%d')\n",
    "        result_table.loc[i, 'ans_date'] = ans\n"
   ]
  },
  {
   "cell_type": "code",
   "execution_count": 94,
   "metadata": {},
   "outputs": [],
   "source": [
    "def evaluate_model_sarima(best_predictions, test_data_start_list, all_data, best_fit_harm, best_error, first_date, lead, pv, data_range):\n",
    "    result_table = built_result_table_function(\n",
    "        best_predictions, test_data_start_list, lead, pv, best_error, best_fit_harm)\n",
    "    result_table_process_function_sarima(\n",
    "        result_table, all_data, first_date, data_range)\n",
    "    final_error = compute_final_error_function(result_table)\n",
    "    return result_table, final_error"
   ]
  },
  {
   "cell_type": "code",
   "execution_count": 95,
   "metadata": {},
   "outputs": [],
   "source": [
    "def built_result_table_function_sarima(processed_signal, test_data_start_list, lead, pv, best_error, best_fit_harm):\n",
    "    result_table = pd.DataFrame(columns=[\n",
    "        's_date', 't_date', 'lead', 'ans_date', 'pv', 'error', 'best_fit'])\n",
    "    for i in processed_signal:\n",
    "        result_table.loc[i, 'error'] = round(best_error[i], 2)\n",
    "        result_table.loc[i, 'best_fit'] = best_fit_harm[i]\n",
    "        result_table.loc[i, 'lead'] = lead[i]\n",
    "        result_table.loc[i, 'pv'] = pv[i]\n",
    "    result_table['s_date'] = test_data_start_list\n",
    "    return result_table\n"
   ]
  },
  {
   "cell_type": "code",
   "execution_count": 96,
   "metadata": {},
   "outputs": [],
   "source": [
    "# result_table = built_result_table_function_sarima(\n",
    "#         processed_signal, test_data_start_list, lead, pv, best_error, best_fit_harm)"
   ]
  },
  {
   "cell_type": "code",
   "execution_count": 97,
   "metadata": {},
   "outputs": [],
   "source": [
    "# result_table_process_function_sarima(\n",
    "#         result_table, all_data, first_date, data_range)"
   ]
  },
  {
   "cell_type": "code",
   "execution_count": 98,
   "metadata": {},
   "outputs": [],
   "source": [
    "# final_error = compute_final_error_function(result_table)"
   ]
  },
  {
   "cell_type": "code",
   "execution_count": 99,
   "metadata": {},
   "outputs": [],
   "source": [
    "# result_table, final_error = evaluate_model_sarima(\n",
    "#     processed_signal, test_data_start_list, all_data, best_fit_harm, best_error, first_date, lead, pv, data_range)\n",
    "# print('final_error = ', final_error)\n",
    "# with pd.option_context('display.max_rows', None,\n",
    "#                     'display.max_columns', None,\n",
    "#                     'display.precision', 3,\n",
    "#                     ):\n",
    "#     print(result_table)"
   ]
  },
  {
   "cell_type": "code",
   "execution_count": 123,
   "metadata": {},
   "outputs": [],
   "source": [
    "def draw_sarima_result(test_data, model_prediction, best_fit_harm):\n",
    "    for i in test_data:\n",
    "        fig, axes = plt.subplots(2, 1, figsize=(20, 8), sharex=True)\n",
    "        print(i)\n",
    "        pdq = best_fit_harm[i]\n",
    "        prediction = model_prediction[i][pdq].loc[len(test_data[i]['Close']): len(test_data[i]['Close'])*2]\n",
    "        prediction.index = test_data[i]['Close'].index\n",
    "        axes[0].plot(test_data[i]['Close'].index, test_data[i]['Close'], label='test')\n",
    "        axes[1].plot(prediction['Close'].index, prediction['Close'], label='predictions')\n",
    "        for j, label in enumerate(prediction['pv']):\n",
    "            if test_data[i]['pv'][j] == 'peak':\n",
    "                axes[0].plot(test_data[i]['Close'].index[j], test_data[i]['Close'][j], '^',\n",
    "                            c='royalblue')\n",
    "            elif test_data[i]['pv'][j] == 'valley':\n",
    "                axes[0].plot(test_data[i]['Close'].index[j], test_data[i]['Close'][j], 'v',\n",
    "                            c='orangered')\n",
    "            if prediction['pv'][j] == 'peak':\n",
    "                axes[1].plot(prediction['Close'].index[j], prediction['Close'][j], '^',\n",
    "                            c='royalblue')\n",
    "            elif prediction['pv'][j] == 'valley':\n",
    "                axes[1].plot(prediction['Close'].index[j], prediction['Close'][j], 'v',\n",
    "                            c='orangered')\n",
    "        plt.legend()\n",
    "        plt.show()"
   ]
  },
  {
   "cell_type": "code",
   "execution_count": 101,
   "metadata": {},
   "outputs": [],
   "source": [
    "# def draw_plot_result_table_sarima(test_data, all_data, result_table, pv_range):\n",
    "#     date_list = sorted(\n",
    "#         list(result_table['s_date']) + list(result_table['t_date']) + list(result_table['ans_date']))\n",
    "#     all_index = all_data.loc[datetime.datetime.strptime(date_list[0], '%Y-%m-%d').date():datetime.datetime.strptime(date_list[-1], '%Y-%m-%d').date()].index\n",
    "#     fig, axes = plt.subplots(2, 1, figsize=(30, 8), sharex=True)\n",
    "#     for d in test_data :\n",
    "#         test_data[d].index = test_data[d]['index']\n",
    "#         test_data[d]= test_data[d].drop(test_data[d][test_data[d].index > datetime.datetime.strptime(date_list[-1], '%Y-%m-%d').date()].index)\n",
    "#         axes[0].plot(test_data[d].index, test_data[d]['Close'], 'gray', label='data', linewidth=3)\n",
    "#     for d in test_data :\n",
    "#         axes[0].plot(test_data[d].index, test_data[d]['peaks'],\n",
    "#                     '^', c='royalblue', label='peaks')\n",
    "#         axes[0].plot(test_data[d].index, test_data[d]['valleys'], 'v',\n",
    "#                     c='orangered', label='valleys')\n",
    "#     plot_model = pd.DataFrame(index=all_index, columns=[\n",
    "#                                 's_date', 't_date', 'ans_date', 'lead', 'pv'])\n",
    "#     print(plot_model)\n",
    "#     # plot_model['s_date'].loc[result_table['s_date']] = True\n",
    "#     # plot_model['t_date'].loc[result_table['t_date']] = True\n",
    "#     # plot_model['lead'].loc[result_table['t_date']] = list(result_table['lead'])\n",
    "#     # plot_model['pv'].loc[result_table['t_date']] = list(result_table['pv'])\n",
    "#     # plot_model['ans_date'].loc[result_table['ans_date']] = True\n",
    "#     # for i, label in enumerate(plot_model['lead']):\n",
    "#     #     if plot_model['pv'][i] == 'peak':\n",
    "#     #         # axes[0].plot(plot_data.index[i], plot_data['Close'].iloc[i], '|',\n",
    "#     #         #             c='red')\n",
    "#     #         axes[1].plot(plot_model.index[i], plot_model['lead'][i], '^',\n",
    "#     #                         c='royalblue')\n",
    "#     #         text = str(label)\n",
    "#     #         axes[1].annotate(text, (plot_model.index[i],\n",
    "#     #                             plot_model['lead'][i]), fontsize=14)\n",
    "#     #     elif plot_model['pv'][i] == 'valley':\n",
    "#     #         # axes[0].plot(plot_data.index[i], plot_data['Close'].iloc[i], '|',\n",
    "#     #         #             c='red')\n",
    "#     #         axes[1].plot(plot_model.index[i], plot_model['lead'][i], 'v',\n",
    "#     #                         c='orangered')\n",
    "#     #         text = str(label)\n",
    "#     #         axes[1].annotate(text, (plot_model.index[i],\n",
    "#     #                             plot_model['lead'][i]), fontsize=14)\n",
    "\n",
    "#     # axes[0].set_ylabel(\"Stock price\", fontsize=14)\n",
    "#     # axes[0].grid(True)\n",
    "#     # axes[1].grid(True)\n",
    "#     # axes[1].set_ylabel(\"lead\", fontsize=14)\n",
    "#     # plt.show()"
   ]
  },
  {
   "cell_type": "markdown",
   "metadata": {},
   "source": []
  },
  {
   "cell_type": "code",
   "execution_count": 102,
   "metadata": {},
   "outputs": [],
   "source": [
    "def main_funtion_sarima(\n",
    "    stock_name, date_predict_start, data_range, slide_range,\n",
    "        n_slide, pv_range, fit_method, pv_method):\n",
    "    # 1. Load data\n",
    "    train_data, test_data, all_data, test_data_start_list = load_data(\n",
    "        stock_name, date_predict_start, data_range, slide_range, n_slide)\n",
    "    # 2. Preprocessing\n",
    "    preprocessing(train_data, test_data, pv_range, pv_method)\n",
    "    # 3. Build model\n",
    "    model = build_model_sarima(train_data, pv_range, data_range)\n",
    "    # 4. Select model\n",
    "    errors, best_fit_harm, best_error, first_date, lead, pv = select_model_sarima(test_data, model, fit_method)\n",
    "    # 5. Evaluate model\n",
    "    result_table, final_error = evaluate_model_sarima(\n",
    "        model, test_data_start_list, all_data, best_fit_harm, best_error, first_date, lead, pv, data_range)\n",
    "    print('final_error = ', final_error)\n",
    "    with pd.option_context('display.max_rows', None,\n",
    "                        'display.max_columns', None,\n",
    "                        'display.precision', 3,\n",
    "                        ):\n",
    "        print(result_table)\n",
    "    return model, errors, best_fit_harm, best_error, first_date, lead, pv, result_table, final_error\n"
   ]
  },
  {
   "cell_type": "code",
   "execution_count": 103,
   "metadata": {},
   "outputs": [],
   "source": [
    "stock_name = \"^GSPC\"\n",
    "date_predict_start = '2020-01-01'\n",
    "data_range = 250\n",
    "slide_range = 10\n",
    "n_slide = 5\n",
    "pv_range = 2\n",
    "fit_method = 'rmse'\n",
    "pv_method = 'CL'"
   ]
  },
  {
   "cell_type": "code",
   "execution_count": 104,
   "metadata": {},
   "outputs": [],
   "source": [
    "# 1. Load data\n",
    "train_data, test_data, all_data, test_data_start_list = load_data(\n",
    "    stock_name, date_predict_start, data_range, slide_range, n_slide)"
   ]
  },
  {
   "cell_type": "code",
   "execution_count": 105,
   "metadata": {},
   "outputs": [],
   "source": [
    "def normorlize_train_test_sarima(train_data, data_range):\n",
    "    # Assuming your time series data is stored in a NumPy array called 'ts_data'\n",
    "    normalized_train = train_data\n",
    "    for i in train_data:\n",
    "        array_data = np.array(train_data[i]['Close'])\n",
    "        n_data = array_data.size\n",
    "        time_data = np.arange(0, n_data)\n",
    "        Polynomial = np.polyfit(time_data, array_data, 1)\n",
    "        data_notrend = array_data - Polynomial[0] * time_data  # detrended x\n",
    "        scaler = MinMaxScaler(feature_range=(-1, 1))\n",
    "        normalized_data = scaler.fit_transform(data_notrend.reshape(-1, 1)).reshape(-1)\n",
    "        normalized_train[i]['Close'] = pd.Series(normalized_data, name='Close', index=train_data[i]['Close'].index)\n",
    "    return normalized_train"
   ]
  },
  {
   "cell_type": "code",
   "execution_count": 106,
   "metadata": {},
   "outputs": [],
   "source": [
    "train_data = normorlize_train_test_sarima(train_data, data_range)\n",
    "test_data = normorlize_train_test_sarima(test_data, data_range)\n"
   ]
  },
  {
   "cell_type": "code",
   "execution_count": 107,
   "metadata": {},
   "outputs": [],
   "source": [
    "# 2. Preprocessing\n",
    "preprocessing(train_data, test_data, pv_range, pv_method)"
   ]
  },
  {
   "cell_type": "code",
   "execution_count": 108,
   "metadata": {},
   "outputs": [
    {
     "name": "stdout",
     "output_type": "stream",
     "text": [
      "data_0 1 / 324\n",
      "data_0 2 / 324\n",
      "data_0 3 / 324\n",
      "data_0 4 / 324\n",
      "data_0 5 / 324\n",
      "data_0 6 / 324\n",
      "data_0 7 / 324\n",
      "data_0 8 / 324\n",
      "data_0 9 / 324\n",
      "data_0 10 / 324\n",
      "data_0 11 / 324\n",
      "data_0 12 / 324\n",
      "data_0 13 / 324\n",
      "data_0 14 / 324\n",
      "data_0 15 / 324\n",
      "data_0 16 / 324\n",
      "data_0 17 / 324\n",
      "data_0 18 / 324\n",
      "data_0 19 / 324\n",
      "data_0 20 / 324\n",
      "data_0 21 / 324\n",
      "data_0 22 / 324\n",
      "data_0 23 / 324\n",
      "data_0 24 / 324\n",
      "data_0 25 / 324\n",
      "data_0 26 / 324\n",
      "data_0 27 / 324\n",
      "data_0 28 / 324\n",
      "data_0 29 / 324\n",
      "data_0 30 / 324\n",
      "data_0 31 / 324\n"
     ]
    },
    {
     "name": "stderr",
     "output_type": "stream",
     "text": [
      "c:\\Users\\e4903\\Desktop\\code\\myenv\\lib\\site-packages\\statsmodels\\base\\model.py:604: ConvergenceWarning: Maximum Likelihood optimization failed to converge. Check mle_retvals\n",
      "  warnings.warn(\"Maximum Likelihood optimization failed to \"\n"
     ]
    },
    {
     "name": "stdout",
     "output_type": "stream",
     "text": [
      "data_0 32 / 324\n",
      "data_0 33 / 324\n",
      "data_0 34 / 324\n",
      "data_0 35 / 324\n",
      "data_0 36 / 324\n",
      "data_0 37 / 324\n",
      "data_0 38 / 324\n",
      "data_0 39 / 324\n",
      "data_0 40 / 324\n",
      "data_0 41 / 324\n"
     ]
    },
    {
     "name": "stderr",
     "output_type": "stream",
     "text": [
      "c:\\Users\\e4903\\Desktop\\code\\myenv\\lib\\site-packages\\statsmodels\\tsa\\statespace\\sarimax.py:1009: UserWarning: Non-invertible starting seasonal moving average Using zeros as starting parameters.\n",
      "  warn('Non-invertible starting seasonal moving average'\n"
     ]
    },
    {
     "name": "stdout",
     "output_type": "stream",
     "text": [
      "data_0 42 / 324\n",
      "data_0 43 / 324\n",
      "data_0 44 / 324\n",
      "data_0 45 / 324\n",
      "data_0 46 / 324\n",
      "data_0 47 / 324\n",
      "data_0 48 / 324\n",
      "data_0 49 / 324\n"
     ]
    },
    {
     "name": "stderr",
     "output_type": "stream",
     "text": [
      "c:\\Users\\e4903\\Desktop\\code\\myenv\\lib\\site-packages\\statsmodels\\base\\model.py:604: ConvergenceWarning: Maximum Likelihood optimization failed to converge. Check mle_retvals\n",
      "  warnings.warn(\"Maximum Likelihood optimization failed to \"\n"
     ]
    },
    {
     "name": "stdout",
     "output_type": "stream",
     "text": [
      "data_0 50 / 324\n",
      "data_0 51 / 324\n",
      "data_0 52 / 324\n",
      "data_0 53 / 324\n",
      "data_0 54 / 324\n",
      "data_0 55 / 324\n",
      "data_0 56 / 324\n",
      "data_0 57 / 324\n",
      "data_0 58 / 324\n",
      "data_0 59 / 324\n"
     ]
    },
    {
     "name": "stderr",
     "output_type": "stream",
     "text": [
      "c:\\Users\\e4903\\Desktop\\code\\myenv\\lib\\site-packages\\statsmodels\\tsa\\statespace\\sarimax.py:1009: UserWarning: Non-invertible starting seasonal moving average Using zeros as starting parameters.\n",
      "  warn('Non-invertible starting seasonal moving average'\n"
     ]
    },
    {
     "name": "stdout",
     "output_type": "stream",
     "text": [
      "data_0 60 / 324\n",
      "data_0 61 / 324\n",
      "data_0 62 / 324\n",
      "data_0 63 / 324\n",
      "data_0 64 / 324\n",
      "data_0 65 / 324\n",
      "data_0 66 / 324\n",
      "data_0 67 / 324\n"
     ]
    },
    {
     "name": "stderr",
     "output_type": "stream",
     "text": [
      "c:\\Users\\e4903\\Desktop\\code\\myenv\\lib\\site-packages\\statsmodels\\base\\model.py:604: ConvergenceWarning: Maximum Likelihood optimization failed to converge. Check mle_retvals\n",
      "  warnings.warn(\"Maximum Likelihood optimization failed to \"\n"
     ]
    },
    {
     "name": "stdout",
     "output_type": "stream",
     "text": [
      "data_0 68 / 324\n",
      "data_0 69 / 324\n",
      "data_0 70 / 324\n",
      "data_0 71 / 324\n",
      "data_0 72 / 324\n",
      "data_0 73 / 324\n",
      "data_0 74 / 324\n",
      "data_0 75 / 324\n",
      "data_0 76 / 324\n",
      "data_0 77 / 324\n"
     ]
    },
    {
     "name": "stderr",
     "output_type": "stream",
     "text": [
      "c:\\Users\\e4903\\Desktop\\code\\myenv\\lib\\site-packages\\statsmodels\\tsa\\statespace\\sarimax.py:1009: UserWarning: Non-invertible starting seasonal moving average Using zeros as starting parameters.\n",
      "  warn('Non-invertible starting seasonal moving average'\n"
     ]
    },
    {
     "name": "stdout",
     "output_type": "stream",
     "text": [
      "data_0 78 / 324\n",
      "data_0 79 / 324\n",
      "data_0 80 / 324\n",
      "data_0 81 / 324\n",
      "data_0 82 / 324\n",
      "data_0 83 / 324\n",
      "data_0 84 / 324\n",
      "data_0 85 / 324\n",
      "data_0 86 / 324\n",
      "data_0 87 / 324\n",
      "data_0 88 / 324\n",
      "data_0 89 / 324\n",
      "data_0 90 / 324\n",
      "data_0 91 / 324\n",
      "data_0 92 / 324\n",
      "data_0 93 / 324\n",
      "data_0 94 / 324\n",
      "data_0 95 / 324\n"
     ]
    },
    {
     "name": "stderr",
     "output_type": "stream",
     "text": [
      "c:\\Users\\e4903\\Desktop\\code\\myenv\\lib\\site-packages\\statsmodels\\tsa\\statespace\\sarimax.py:1009: UserWarning: Non-invertible starting seasonal moving average Using zeros as starting parameters.\n",
      "  warn('Non-invertible starting seasonal moving average'\n"
     ]
    },
    {
     "name": "stdout",
     "output_type": "stream",
     "text": [
      "data_0 96 / 324\n",
      "data_0 97 / 324\n",
      "data_0 98 / 324\n",
      "data_0 99 / 324\n",
      "data_0 100 / 324\n",
      "data_0 101 / 324\n",
      "data_0 102 / 324\n",
      "data_0 103 / 324\n"
     ]
    },
    {
     "name": "stderr",
     "output_type": "stream",
     "text": [
      "c:\\Users\\e4903\\Desktop\\code\\myenv\\lib\\site-packages\\statsmodels\\base\\model.py:604: ConvergenceWarning: Maximum Likelihood optimization failed to converge. Check mle_retvals\n",
      "  warnings.warn(\"Maximum Likelihood optimization failed to \"\n"
     ]
    },
    {
     "name": "stdout",
     "output_type": "stream",
     "text": [
      "data_0 104 / 324\n",
      "data_0 105 / 324\n",
      "data_0 106 / 324\n",
      "data_0 107 / 324\n",
      "data_0 108 / 324\n",
      "data_0 109 / 324\n"
     ]
    },
    {
     "name": "stderr",
     "output_type": "stream",
     "text": [
      "c:\\Users\\e4903\\Desktop\\code\\myenv\\lib\\site-packages\\statsmodels\\base\\model.py:604: ConvergenceWarning: Maximum Likelihood optimization failed to converge. Check mle_retvals\n",
      "  warnings.warn(\"Maximum Likelihood optimization failed to \"\n"
     ]
    },
    {
     "name": "stdout",
     "output_type": "stream",
     "text": [
      "data_0 110 / 324\n",
      "data_0 111 / 324\n",
      "data_0 112 / 324\n",
      "data_0 113 / 324\n",
      "data_0 114 / 324\n",
      "data_0 115 / 324\n",
      "data_0 116 / 324\n",
      "data_0 117 / 324\n",
      "data_0 118 / 324\n",
      "data_0 119 / 324\n",
      "data_0 120 / 324\n",
      "data_0 121 / 324\n"
     ]
    },
    {
     "name": "stderr",
     "output_type": "stream",
     "text": [
      "c:\\Users\\e4903\\Desktop\\code\\myenv\\lib\\site-packages\\statsmodels\\base\\model.py:604: ConvergenceWarning: Maximum Likelihood optimization failed to converge. Check mle_retvals\n",
      "  warnings.warn(\"Maximum Likelihood optimization failed to \"\n"
     ]
    },
    {
     "name": "stdout",
     "output_type": "stream",
     "text": [
      "data_0 122 / 324\n",
      "data_0 123 / 324\n"
     ]
    },
    {
     "name": "stderr",
     "output_type": "stream",
     "text": [
      "c:\\Users\\e4903\\Desktop\\code\\myenv\\lib\\site-packages\\statsmodels\\base\\model.py:604: ConvergenceWarning: Maximum Likelihood optimization failed to converge. Check mle_retvals\n",
      "  warnings.warn(\"Maximum Likelihood optimization failed to \"\n"
     ]
    },
    {
     "name": "stdout",
     "output_type": "stream",
     "text": [
      "data_0 124 / 324\n",
      "data_0 125 / 324\n",
      "data_0 126 / 324\n",
      "data_0 127 / 324\n",
      "data_0 128 / 324\n",
      "data_0 129 / 324\n",
      "data_0 130 / 324\n",
      "data_0 131 / 324\n",
      "data_0 132 / 324\n",
      "data_0 133 / 324\n",
      "data_0 134 / 324\n",
      "data_0 135 / 324\n",
      "data_0 136 / 324\n",
      "data_0 137 / 324\n",
      "data_0 138 / 324\n",
      "data_0 139 / 324\n"
     ]
    },
    {
     "name": "stderr",
     "output_type": "stream",
     "text": [
      "c:\\Users\\e4903\\Desktop\\code\\myenv\\lib\\site-packages\\statsmodels\\base\\model.py:604: ConvergenceWarning: Maximum Likelihood optimization failed to converge. Check mle_retvals\n",
      "  warnings.warn(\"Maximum Likelihood optimization failed to \"\n"
     ]
    },
    {
     "name": "stdout",
     "output_type": "stream",
     "text": [
      "data_0 140 / 324\n",
      "data_0 141 / 324\n",
      "data_0 142 / 324\n",
      "data_0 143 / 324\n"
     ]
    },
    {
     "name": "stderr",
     "output_type": "stream",
     "text": [
      "c:\\Users\\e4903\\Desktop\\code\\myenv\\lib\\site-packages\\statsmodels\\base\\model.py:604: ConvergenceWarning: Maximum Likelihood optimization failed to converge. Check mle_retvals\n",
      "  warnings.warn(\"Maximum Likelihood optimization failed to \"\n"
     ]
    },
    {
     "name": "stdout",
     "output_type": "stream",
     "text": [
      "data_0 144 / 324\n",
      "data_0 145 / 324\n",
      "data_0 146 / 324\n",
      "data_0 147 / 324\n",
      "data_0 148 / 324\n",
      "data_0 149 / 324\n"
     ]
    },
    {
     "name": "stderr",
     "output_type": "stream",
     "text": [
      "c:\\Users\\e4903\\Desktop\\code\\myenv\\lib\\site-packages\\statsmodels\\tsa\\statespace\\sarimax.py:1009: UserWarning: Non-invertible starting seasonal moving average Using zeros as starting parameters.\n",
      "  warn('Non-invertible starting seasonal moving average'\n"
     ]
    },
    {
     "name": "stdout",
     "output_type": "stream",
     "text": [
      "data_0 150 / 324\n",
      "data_0 151 / 324\n",
      "data_0 152 / 324\n",
      "data_0 153 / 324\n",
      "data_0 154 / 324\n",
      "data_0 155 / 324\n",
      "data_0 156 / 324\n",
      "data_0 157 / 324\n"
     ]
    },
    {
     "name": "stderr",
     "output_type": "stream",
     "text": [
      "c:\\Users\\e4903\\Desktop\\code\\myenv\\lib\\site-packages\\statsmodels\\base\\model.py:604: ConvergenceWarning: Maximum Likelihood optimization failed to converge. Check mle_retvals\n",
      "  warnings.warn(\"Maximum Likelihood optimization failed to \"\n"
     ]
    },
    {
     "name": "stdout",
     "output_type": "stream",
     "text": [
      "data_0 158 / 324\n",
      "data_0 159 / 324\n",
      "data_0 160 / 324\n",
      "data_0 161 / 324\n",
      "data_0 162 / 324\n",
      "data_0 163 / 324\n",
      "data_0 164 / 324\n",
      "data_0 165 / 324\n",
      "data_0 166 / 324\n",
      "data_0 167 / 324\n"
     ]
    },
    {
     "name": "stderr",
     "output_type": "stream",
     "text": [
      "c:\\Users\\e4903\\Desktop\\code\\myenv\\lib\\site-packages\\statsmodels\\tsa\\statespace\\sarimax.py:1009: UserWarning: Non-invertible starting seasonal moving average Using zeros as starting parameters.\n",
      "  warn('Non-invertible starting seasonal moving average'\n"
     ]
    },
    {
     "name": "stdout",
     "output_type": "stream",
     "text": [
      "data_0 168 / 324\n",
      "data_0 169 / 324\n",
      "data_0 170 / 324\n",
      "data_0 171 / 324\n",
      "data_0 172 / 324\n",
      "data_0 173 / 324\n"
     ]
    },
    {
     "name": "stderr",
     "output_type": "stream",
     "text": [
      "c:\\Users\\e4903\\Desktop\\code\\myenv\\lib\\site-packages\\statsmodels\\base\\model.py:604: ConvergenceWarning: Maximum Likelihood optimization failed to converge. Check mle_retvals\n",
      "  warnings.warn(\"Maximum Likelihood optimization failed to \"\n"
     ]
    },
    {
     "name": "stdout",
     "output_type": "stream",
     "text": [
      "data_0 174 / 324\n",
      "data_0 175 / 324\n"
     ]
    },
    {
     "name": "stderr",
     "output_type": "stream",
     "text": [
      "c:\\Users\\e4903\\Desktop\\code\\myenv\\lib\\site-packages\\statsmodels\\base\\model.py:604: ConvergenceWarning: Maximum Likelihood optimization failed to converge. Check mle_retvals\n",
      "  warnings.warn(\"Maximum Likelihood optimization failed to \"\n"
     ]
    },
    {
     "name": "stdout",
     "output_type": "stream",
     "text": [
      "data_0 176 / 324\n",
      "data_0 177 / 324\n",
      "data_0 178 / 324\n",
      "data_0 179 / 324\n",
      "data_0 180 / 324\n",
      "data_0 181 / 324\n",
      "data_0 182 / 324\n",
      "data_0 183 / 324\n",
      "data_0 184 / 324\n",
      "data_0 185 / 324\n"
     ]
    },
    {
     "name": "stderr",
     "output_type": "stream",
     "text": [
      "c:\\Users\\e4903\\Desktop\\code\\myenv\\lib\\site-packages\\statsmodels\\tsa\\statespace\\sarimax.py:1009: UserWarning: Non-invertible starting seasonal moving average Using zeros as starting parameters.\n",
      "  warn('Non-invertible starting seasonal moving average'\n"
     ]
    },
    {
     "name": "stdout",
     "output_type": "stream",
     "text": [
      "data_0 186 / 324\n",
      "data_0 187 / 324\n",
      "data_0 188 / 324\n",
      "data_0 189 / 324\n",
      "data_0 190 / 324\n",
      "data_0 191 / 324\n",
      "data_0 192 / 324\n",
      "data_0 193 / 324\n"
     ]
    },
    {
     "name": "stderr",
     "output_type": "stream",
     "text": [
      "c:\\Users\\e4903\\Desktop\\code\\myenv\\lib\\site-packages\\statsmodels\\base\\model.py:604: ConvergenceWarning: Maximum Likelihood optimization failed to converge. Check mle_retvals\n",
      "  warnings.warn(\"Maximum Likelihood optimization failed to \"\n"
     ]
    },
    {
     "name": "stdout",
     "output_type": "stream",
     "text": [
      "data_0 194 / 324\n",
      "data_0 195 / 324\n",
      "data_0 196 / 324\n",
      "data_0 197 / 324\n"
     ]
    },
    {
     "name": "stderr",
     "output_type": "stream",
     "text": [
      "c:\\Users\\e4903\\Desktop\\code\\myenv\\lib\\site-packages\\statsmodels\\base\\model.py:604: ConvergenceWarning: Maximum Likelihood optimization failed to converge. Check mle_retvals\n",
      "  warnings.warn(\"Maximum Likelihood optimization failed to \"\n"
     ]
    },
    {
     "name": "stdout",
     "output_type": "stream",
     "text": [
      "data_0 198 / 324\n",
      "data_0 199 / 324\n"
     ]
    },
    {
     "name": "stderr",
     "output_type": "stream",
     "text": [
      "c:\\Users\\e4903\\Desktop\\code\\myenv\\lib\\site-packages\\statsmodels\\base\\model.py:604: ConvergenceWarning: Maximum Likelihood optimization failed to converge. Check mle_retvals\n",
      "  warnings.warn(\"Maximum Likelihood optimization failed to \"\n"
     ]
    },
    {
     "name": "stdout",
     "output_type": "stream",
     "text": [
      "data_0 200 / 324\n",
      "data_0 201 / 324\n",
      "data_0 202 / 324\n",
      "data_0 203 / 324\n"
     ]
    },
    {
     "name": "stderr",
     "output_type": "stream",
     "text": [
      "c:\\Users\\e4903\\Desktop\\code\\myenv\\lib\\site-packages\\statsmodels\\tsa\\statespace\\sarimax.py:1009: UserWarning: Non-invertible starting seasonal moving average Using zeros as starting parameters.\n",
      "  warn('Non-invertible starting seasonal moving average'\n"
     ]
    },
    {
     "name": "stdout",
     "output_type": "stream",
     "text": [
      "data_0 204 / 324\n",
      "data_0 205 / 324\n",
      "data_0 206 / 324\n",
      "data_0 207 / 324\n",
      "data_0 208 / 324\n",
      "data_0 209 / 324\n",
      "data_0 210 / 324\n"
     ]
    },
    {
     "name": "stderr",
     "output_type": "stream",
     "text": [
      "c:\\Users\\e4903\\Desktop\\code\\myenv\\lib\\site-packages\\statsmodels\\base\\model.py:604: ConvergenceWarning: Maximum Likelihood optimization failed to converge. Check mle_retvals\n",
      "  warnings.warn(\"Maximum Likelihood optimization failed to \"\n"
     ]
    },
    {
     "name": "stdout",
     "output_type": "stream",
     "text": [
      "data_0 211 / 324\n"
     ]
    },
    {
     "name": "stderr",
     "output_type": "stream",
     "text": [
      "c:\\Users\\e4903\\Desktop\\code\\myenv\\lib\\site-packages\\statsmodels\\base\\model.py:604: ConvergenceWarning: Maximum Likelihood optimization failed to converge. Check mle_retvals\n",
      "  warnings.warn(\"Maximum Likelihood optimization failed to \"\n"
     ]
    },
    {
     "name": "stdout",
     "output_type": "stream",
     "text": [
      "data_0 212 / 324\n",
      "data_0 213 / 324\n",
      "data_0 214 / 324\n",
      "data_0 215 / 324\n",
      "data_0 216 / 324\n",
      "data_0 217 / 324\n",
      "data_0 218 / 324\n",
      "data_0 219 / 324\n",
      "data_0 220 / 324\n",
      "data_0 221 / 324\n",
      "data_0 222 / 324\n",
      "data_0 223 / 324\n",
      "data_0 224 / 324\n",
      "data_0 225 / 324\n",
      "data_0 226 / 324\n",
      "data_0 227 / 324\n",
      "data_0 228 / 324\n",
      "data_0 229 / 324\n"
     ]
    },
    {
     "name": "stderr",
     "output_type": "stream",
     "text": [
      "c:\\Users\\e4903\\Desktop\\code\\myenv\\lib\\site-packages\\statsmodels\\base\\model.py:604: ConvergenceWarning: Maximum Likelihood optimization failed to converge. Check mle_retvals\n",
      "  warnings.warn(\"Maximum Likelihood optimization failed to \"\n"
     ]
    },
    {
     "name": "stdout",
     "output_type": "stream",
     "text": [
      "data_0 230 / 324\n",
      "data_0 231 / 324\n"
     ]
    },
    {
     "name": "stderr",
     "output_type": "stream",
     "text": [
      "c:\\Users\\e4903\\Desktop\\code\\myenv\\lib\\site-packages\\statsmodels\\base\\model.py:604: ConvergenceWarning: Maximum Likelihood optimization failed to converge. Check mle_retvals\n",
      "  warnings.warn(\"Maximum Likelihood optimization failed to \"\n"
     ]
    },
    {
     "name": "stdout",
     "output_type": "stream",
     "text": [
      "data_0 232 / 324\n",
      "data_0 233 / 324\n"
     ]
    },
    {
     "name": "stderr",
     "output_type": "stream",
     "text": [
      "c:\\Users\\e4903\\Desktop\\code\\myenv\\lib\\site-packages\\statsmodels\\base\\model.py:604: ConvergenceWarning: Maximum Likelihood optimization failed to converge. Check mle_retvals\n",
      "  warnings.warn(\"Maximum Likelihood optimization failed to \"\n"
     ]
    },
    {
     "name": "stdout",
     "output_type": "stream",
     "text": [
      "data_0 234 / 324\n"
     ]
    },
    {
     "name": "stderr",
     "output_type": "stream",
     "text": [
      "c:\\Users\\e4903\\Desktop\\code\\myenv\\lib\\site-packages\\statsmodels\\tsa\\statespace\\sarimax.py:966: UserWarning: Non-stationary starting autoregressive parameters found. Using zeros as starting parameters.\n",
      "  warn('Non-stationary starting autoregressive parameters'\n",
      "c:\\Users\\e4903\\Desktop\\code\\myenv\\lib\\site-packages\\statsmodels\\tsa\\statespace\\sarimax.py:978: UserWarning: Non-invertible starting MA parameters found. Using zeros as starting parameters.\n",
      "  warn('Non-invertible starting MA parameters found.'\n"
     ]
    },
    {
     "name": "stdout",
     "output_type": "stream",
     "text": [
      "data_0 235 / 324\n"
     ]
    },
    {
     "name": "stderr",
     "output_type": "stream",
     "text": [
      "c:\\Users\\e4903\\Desktop\\code\\myenv\\lib\\site-packages\\statsmodels\\tsa\\statespace\\sarimax.py:966: UserWarning: Non-stationary starting autoregressive parameters found. Using zeros as starting parameters.\n",
      "  warn('Non-stationary starting autoregressive parameters'\n",
      "c:\\Users\\e4903\\Desktop\\code\\myenv\\lib\\site-packages\\statsmodels\\tsa\\statespace\\sarimax.py:978: UserWarning: Non-invertible starting MA parameters found. Using zeros as starting parameters.\n",
      "  warn('Non-invertible starting MA parameters found.'\n"
     ]
    },
    {
     "name": "stdout",
     "output_type": "stream",
     "text": [
      "data_0 236 / 324\n",
      "data_0 237 / 324\n",
      "data_0 238 / 324\n",
      "data_0 239 / 324\n",
      "data_0 240 / 324\n"
     ]
    },
    {
     "name": "stderr",
     "output_type": "stream",
     "text": [
      "c:\\Users\\e4903\\Desktop\\code\\myenv\\lib\\site-packages\\statsmodels\\tsa\\statespace\\sarimax.py:966: UserWarning: Non-stationary starting autoregressive parameters found. Using zeros as starting parameters.\n",
      "  warn('Non-stationary starting autoregressive parameters'\n",
      "c:\\Users\\e4903\\Desktop\\code\\myenv\\lib\\site-packages\\statsmodels\\tsa\\statespace\\sarimax.py:978: UserWarning: Non-invertible starting MA parameters found. Using zeros as starting parameters.\n",
      "  warn('Non-invertible starting MA parameters found.'\n",
      "c:\\Users\\e4903\\Desktop\\code\\myenv\\lib\\site-packages\\statsmodels\\base\\model.py:604: ConvergenceWarning: Maximum Likelihood optimization failed to converge. Check mle_retvals\n",
      "  warnings.warn(\"Maximum Likelihood optimization failed to \"\n",
      "c:\\Users\\e4903\\Desktop\\code\\myenv\\lib\\site-packages\\statsmodels\\tsa\\statespace\\sarimax.py:966: UserWarning: Non-stationary starting autoregressive parameters found. Using zeros as starting parameters.\n",
      "  warn('Non-stationary starting autoregressive parameters'\n",
      "c:\\Users\\e4903\\Desktop\\code\\myenv\\lib\\site-packages\\statsmodels\\tsa\\statespace\\sarimax.py:978: UserWarning: Non-invertible starting MA parameters found. Using zeros as starting parameters.\n",
      "  warn('Non-invertible starting MA parameters found.'\n"
     ]
    },
    {
     "name": "stdout",
     "output_type": "stream",
     "text": [
      "data_0 241 / 324\n"
     ]
    },
    {
     "name": "stderr",
     "output_type": "stream",
     "text": [
      "c:\\Users\\e4903\\Desktop\\code\\myenv\\lib\\site-packages\\statsmodels\\base\\model.py:604: ConvergenceWarning: Maximum Likelihood optimization failed to converge. Check mle_retvals\n",
      "  warnings.warn(\"Maximum Likelihood optimization failed to \"\n"
     ]
    },
    {
     "name": "stdout",
     "output_type": "stream",
     "text": [
      "data_0 242 / 324\n",
      "data_0 243 / 324\n",
      "data_0 244 / 324\n"
     ]
    },
    {
     "name": "stderr",
     "output_type": "stream",
     "text": [
      "c:\\Users\\e4903\\Desktop\\code\\myenv\\lib\\site-packages\\statsmodels\\base\\model.py:604: ConvergenceWarning: Maximum Likelihood optimization failed to converge. Check mle_retvals\n",
      "  warnings.warn(\"Maximum Likelihood optimization failed to \"\n"
     ]
    },
    {
     "name": "stdout",
     "output_type": "stream",
     "text": [
      "data_0 245 / 324\n"
     ]
    },
    {
     "name": "stderr",
     "output_type": "stream",
     "text": [
      "c:\\Users\\e4903\\Desktop\\code\\myenv\\lib\\site-packages\\statsmodels\\base\\model.py:604: ConvergenceWarning: Maximum Likelihood optimization failed to converge. Check mle_retvals\n",
      "  warnings.warn(\"Maximum Likelihood optimization failed to \"\n"
     ]
    },
    {
     "name": "stdout",
     "output_type": "stream",
     "text": [
      "data_0 246 / 324\n"
     ]
    },
    {
     "name": "stderr",
     "output_type": "stream",
     "text": [
      "c:\\Users\\e4903\\Desktop\\code\\myenv\\lib\\site-packages\\statsmodels\\tsa\\statespace\\sarimax.py:966: UserWarning: Non-stationary starting autoregressive parameters found. Using zeros as starting parameters.\n",
      "  warn('Non-stationary starting autoregressive parameters'\n",
      "c:\\Users\\e4903\\Desktop\\code\\myenv\\lib\\site-packages\\statsmodels\\tsa\\statespace\\sarimax.py:978: UserWarning: Non-invertible starting MA parameters found. Using zeros as starting parameters.\n",
      "  warn('Non-invertible starting MA parameters found.'\n",
      "c:\\Users\\e4903\\Desktop\\code\\myenv\\lib\\site-packages\\statsmodels\\base\\model.py:604: ConvergenceWarning: Maximum Likelihood optimization failed to converge. Check mle_retvals\n",
      "  warnings.warn(\"Maximum Likelihood optimization failed to \"\n",
      "c:\\Users\\e4903\\Desktop\\code\\myenv\\lib\\site-packages\\statsmodels\\tsa\\statespace\\sarimax.py:966: UserWarning: Non-stationary starting autoregressive parameters found. Using zeros as starting parameters.\n",
      "  warn('Non-stationary starting autoregressive parameters'\n",
      "c:\\Users\\e4903\\Desktop\\code\\myenv\\lib\\site-packages\\statsmodels\\tsa\\statespace\\sarimax.py:978: UserWarning: Non-invertible starting MA parameters found. Using zeros as starting parameters.\n",
      "  warn('Non-invertible starting MA parameters found.'\n"
     ]
    },
    {
     "name": "stdout",
     "output_type": "stream",
     "text": [
      "data_0 247 / 324\n"
     ]
    },
    {
     "name": "stderr",
     "output_type": "stream",
     "text": [
      "c:\\Users\\e4903\\Desktop\\code\\myenv\\lib\\site-packages\\statsmodels\\base\\model.py:604: ConvergenceWarning: Maximum Likelihood optimization failed to converge. Check mle_retvals\n",
      "  warnings.warn(\"Maximum Likelihood optimization failed to \"\n"
     ]
    },
    {
     "name": "stdout",
     "output_type": "stream",
     "text": [
      "data_0 248 / 324\n",
      "data_0 249 / 324\n"
     ]
    },
    {
     "name": "stderr",
     "output_type": "stream",
     "text": [
      "c:\\Users\\e4903\\Desktop\\code\\myenv\\lib\\site-packages\\statsmodels\\base\\model.py:604: ConvergenceWarning: Maximum Likelihood optimization failed to converge. Check mle_retvals\n",
      "  warnings.warn(\"Maximum Likelihood optimization failed to \"\n"
     ]
    },
    {
     "name": "stdout",
     "output_type": "stream",
     "text": [
      "data_0 250 / 324\n",
      "data_0 251 / 324\n",
      "data_0 252 / 324\n",
      "data_0 253 / 324\n",
      "data_0 254 / 324\n",
      "data_0 255 / 324\n",
      "data_0 256 / 324\n",
      "data_0 257 / 324\n"
     ]
    },
    {
     "name": "stderr",
     "output_type": "stream",
     "text": [
      "c:\\Users\\e4903\\Desktop\\code\\myenv\\lib\\site-packages\\statsmodels\\tsa\\statespace\\sarimax.py:1009: UserWarning: Non-invertible starting seasonal moving average Using zeros as starting parameters.\n",
      "  warn('Non-invertible starting seasonal moving average'\n"
     ]
    },
    {
     "name": "stdout",
     "output_type": "stream",
     "text": [
      "data_0 258 / 324\n",
      "data_0 259 / 324\n",
      "data_0 260 / 324\n",
      "data_0 261 / 324\n",
      "data_0 262 / 324\n",
      "data_0 263 / 324\n",
      "data_0 264 / 324\n",
      "data_0 265 / 324\n"
     ]
    },
    {
     "name": "stderr",
     "output_type": "stream",
     "text": [
      "c:\\Users\\e4903\\Desktop\\code\\myenv\\lib\\site-packages\\statsmodels\\base\\model.py:604: ConvergenceWarning: Maximum Likelihood optimization failed to converge. Check mle_retvals\n",
      "  warnings.warn(\"Maximum Likelihood optimization failed to \"\n"
     ]
    },
    {
     "name": "stdout",
     "output_type": "stream",
     "text": [
      "data_0 266 / 324\n",
      "data_0 267 / 324\n",
      "data_0 268 / 324\n",
      "data_0 269 / 324\n",
      "data_0 270 / 324\n",
      "data_0 271 / 324\n",
      "data_0 272 / 324\n",
      "data_0 273 / 324\n",
      "data_0 274 / 324\n",
      "data_0 275 / 324\n"
     ]
    },
    {
     "name": "stderr",
     "output_type": "stream",
     "text": [
      "c:\\Users\\e4903\\Desktop\\code\\myenv\\lib\\site-packages\\statsmodels\\tsa\\statespace\\sarimax.py:1009: UserWarning: Non-invertible starting seasonal moving average Using zeros as starting parameters.\n",
      "  warn('Non-invertible starting seasonal moving average'\n"
     ]
    },
    {
     "name": "stdout",
     "output_type": "stream",
     "text": [
      "data_0 276 / 324\n",
      "data_0 277 / 324\n",
      "data_0 278 / 324\n",
      "data_0 279 / 324\n",
      "data_0 280 / 324\n",
      "data_0 281 / 324\n",
      "data_0 282 / 324\n",
      "data_0 283 / 324\n"
     ]
    },
    {
     "name": "stderr",
     "output_type": "stream",
     "text": [
      "c:\\Users\\e4903\\Desktop\\code\\myenv\\lib\\site-packages\\statsmodels\\base\\model.py:604: ConvergenceWarning: Maximum Likelihood optimization failed to converge. Check mle_retvals\n",
      "  warnings.warn(\"Maximum Likelihood optimization failed to \"\n"
     ]
    },
    {
     "name": "stdout",
     "output_type": "stream",
     "text": [
      "data_0 284 / 324\n",
      "data_0 285 / 324\n",
      "data_0 286 / 324\n",
      "data_0 287 / 324\n",
      "data_0 288 / 324\n",
      "data_0 289 / 324\n",
      "data_0 290 / 324\n",
      "data_0 291 / 324\n",
      "data_0 292 / 324\n",
      "data_0 293 / 324\n"
     ]
    },
    {
     "name": "stderr",
     "output_type": "stream",
     "text": [
      "c:\\Users\\e4903\\Desktop\\code\\myenv\\lib\\site-packages\\statsmodels\\tsa\\statespace\\sarimax.py:1009: UserWarning: Non-invertible starting seasonal moving average Using zeros as starting parameters.\n",
      "  warn('Non-invertible starting seasonal moving average'\n"
     ]
    },
    {
     "name": "stdout",
     "output_type": "stream",
     "text": [
      "data_0 294 / 324\n",
      "data_0 295 / 324\n",
      "data_0 296 / 324\n",
      "data_0 297 / 324\n",
      "data_0 298 / 324\n",
      "data_0 299 / 324\n",
      "data_0 300 / 324\n",
      "data_0 301 / 324\n"
     ]
    },
    {
     "name": "stderr",
     "output_type": "stream",
     "text": [
      "c:\\Users\\e4903\\Desktop\\code\\myenv\\lib\\site-packages\\statsmodels\\base\\model.py:604: ConvergenceWarning: Maximum Likelihood optimization failed to converge. Check mle_retvals\n",
      "  warnings.warn(\"Maximum Likelihood optimization failed to \"\n"
     ]
    },
    {
     "name": "stdout",
     "output_type": "stream",
     "text": [
      "data_0 302 / 324\n",
      "data_0 303 / 324\n",
      "data_0 304 / 324\n",
      "data_0 305 / 324\n",
      "data_0 306 / 324\n",
      "data_0 307 / 324\n",
      "data_0 308 / 324\n",
      "data_0 309 / 324\n",
      "data_0 310 / 324\n",
      "data_0 311 / 324\n"
     ]
    },
    {
     "name": "stderr",
     "output_type": "stream",
     "text": [
      "c:\\Users\\e4903\\Desktop\\code\\myenv\\lib\\site-packages\\statsmodels\\tsa\\statespace\\sarimax.py:1009: UserWarning: Non-invertible starting seasonal moving average Using zeros as starting parameters.\n",
      "  warn('Non-invertible starting seasonal moving average'\n"
     ]
    },
    {
     "name": "stdout",
     "output_type": "stream",
     "text": [
      "data_0 312 / 324\n",
      "data_0 313 / 324\n"
     ]
    },
    {
     "name": "stderr",
     "output_type": "stream",
     "text": [
      "c:\\Users\\e4903\\Desktop\\code\\myenv\\lib\\site-packages\\statsmodels\\base\\model.py:604: ConvergenceWarning: Maximum Likelihood optimization failed to converge. Check mle_retvals\n",
      "  warnings.warn(\"Maximum Likelihood optimization failed to \"\n"
     ]
    },
    {
     "name": "stdout",
     "output_type": "stream",
     "text": [
      "data_0 314 / 324\n",
      "data_0 315 / 324\n",
      "data_0 316 / 324\n",
      "data_0 317 / 324\n",
      "data_0 318 / 324\n"
     ]
    },
    {
     "name": "stderr",
     "output_type": "stream",
     "text": [
      "c:\\Users\\e4903\\Desktop\\code\\myenv\\lib\\site-packages\\statsmodels\\base\\model.py:604: ConvergenceWarning: Maximum Likelihood optimization failed to converge. Check mle_retvals\n",
      "  warnings.warn(\"Maximum Likelihood optimization failed to \"\n"
     ]
    },
    {
     "name": "stdout",
     "output_type": "stream",
     "text": [
      "data_0 319 / 324\n"
     ]
    },
    {
     "name": "stderr",
     "output_type": "stream",
     "text": [
      "c:\\Users\\e4903\\Desktop\\code\\myenv\\lib\\site-packages\\statsmodels\\base\\model.py:604: ConvergenceWarning: Maximum Likelihood optimization failed to converge. Check mle_retvals\n",
      "  warnings.warn(\"Maximum Likelihood optimization failed to \"\n"
     ]
    },
    {
     "name": "stdout",
     "output_type": "stream",
     "text": [
      "data_0 320 / 324\n",
      "data_0 321 / 324\n",
      "data_0 322 / 324\n",
      "data_0 323 / 324\n"
     ]
    },
    {
     "name": "stderr",
     "output_type": "stream",
     "text": [
      "c:\\Users\\e4903\\Desktop\\code\\myenv\\lib\\site-packages\\statsmodels\\base\\model.py:604: ConvergenceWarning: Maximum Likelihood optimization failed to converge. Check mle_retvals\n",
      "  warnings.warn(\"Maximum Likelihood optimization failed to \"\n"
     ]
    },
    {
     "name": "stdout",
     "output_type": "stream",
     "text": [
      "data_0 324 / 324\n",
      "data_1 1 / 324\n",
      "data_1 2 / 324\n",
      "data_1 3 / 324\n",
      "data_1 4 / 324\n",
      "data_1 5 / 324\n",
      "data_1 6 / 324\n",
      "data_1 7 / 324\n",
      "data_1 8 / 324\n",
      "data_1 9 / 324\n",
      "data_1 10 / 324\n",
      "data_1 11 / 324\n",
      "data_1 12 / 324\n",
      "data_1 13 / 324\n",
      "data_1 14 / 324\n",
      "data_1 15 / 324\n",
      "data_1 16 / 324\n",
      "data_1 17 / 324\n",
      "data_1 18 / 324\n",
      "data_1 19 / 324\n",
      "data_1 20 / 324\n",
      "data_1 21 / 324\n",
      "data_1 22 / 324\n",
      "data_1 23 / 324\n",
      "data_1 24 / 324\n",
      "data_1 25 / 324\n",
      "data_1 26 / 324\n",
      "data_1 27 / 324\n",
      "data_1 28 / 324\n",
      "data_1 29 / 324\n",
      "data_1 30 / 324\n",
      "data_1 31 / 324\n",
      "data_1 32 / 324\n",
      "data_1 33 / 324\n",
      "data_1 34 / 324\n",
      "data_1 35 / 324\n",
      "data_1 36 / 324\n",
      "data_1 37 / 324\n",
      "data_1 38 / 324\n",
      "data_1 39 / 324\n",
      "data_1 40 / 324\n",
      "data_1 41 / 324\n"
     ]
    },
    {
     "name": "stderr",
     "output_type": "stream",
     "text": [
      "c:\\Users\\e4903\\Desktop\\code\\myenv\\lib\\site-packages\\statsmodels\\tsa\\statespace\\sarimax.py:1009: UserWarning: Non-invertible starting seasonal moving average Using zeros as starting parameters.\n",
      "  warn('Non-invertible starting seasonal moving average'\n"
     ]
    },
    {
     "name": "stdout",
     "output_type": "stream",
     "text": [
      "data_1 42 / 324\n",
      "data_1 43 / 324\n",
      "data_1 44 / 324\n",
      "data_1 45 / 324\n",
      "data_1 46 / 324\n",
      "data_1 47 / 324\n",
      "data_1 48 / 324\n",
      "data_1 49 / 324\n"
     ]
    },
    {
     "name": "stderr",
     "output_type": "stream",
     "text": [
      "c:\\Users\\e4903\\Desktop\\code\\myenv\\lib\\site-packages\\statsmodels\\base\\model.py:604: ConvergenceWarning: Maximum Likelihood optimization failed to converge. Check mle_retvals\n",
      "  warnings.warn(\"Maximum Likelihood optimization failed to \"\n"
     ]
    },
    {
     "name": "stdout",
     "output_type": "stream",
     "text": [
      "data_1 50 / 324\n",
      "data_1 51 / 324\n",
      "data_1 52 / 324\n",
      "data_1 53 / 324\n",
      "data_1 54 / 324\n",
      "data_1 55 / 324\n",
      "data_1 56 / 324\n",
      "data_1 57 / 324\n",
      "data_1 58 / 324\n",
      "data_1 59 / 324\n"
     ]
    },
    {
     "name": "stderr",
     "output_type": "stream",
     "text": [
      "c:\\Users\\e4903\\Desktop\\code\\myenv\\lib\\site-packages\\statsmodels\\tsa\\statespace\\sarimax.py:1009: UserWarning: Non-invertible starting seasonal moving average Using zeros as starting parameters.\n",
      "  warn('Non-invertible starting seasonal moving average'\n"
     ]
    },
    {
     "name": "stdout",
     "output_type": "stream",
     "text": [
      "data_1 60 / 324\n",
      "data_1 61 / 324\n",
      "data_1 62 / 324\n",
      "data_1 63 / 324\n",
      "data_1 64 / 324\n",
      "data_1 65 / 324\n",
      "data_1 66 / 324\n",
      "data_1 67 / 324\n",
      "data_1 68 / 324\n",
      "data_1 69 / 324\n",
      "data_1 70 / 324\n",
      "data_1 71 / 324\n",
      "data_1 72 / 324\n",
      "data_1 73 / 324\n",
      "data_1 74 / 324\n",
      "data_1 75 / 324\n",
      "data_1 76 / 324\n",
      "data_1 77 / 324\n",
      "data_1 78 / 324\n",
      "data_1 79 / 324\n",
      "data_1 80 / 324\n"
     ]
    },
    {
     "name": "stderr",
     "output_type": "stream",
     "text": [
      "c:\\Users\\e4903\\Desktop\\code\\myenv\\lib\\site-packages\\statsmodels\\base\\model.py:604: ConvergenceWarning: Maximum Likelihood optimization failed to converge. Check mle_retvals\n",
      "  warnings.warn(\"Maximum Likelihood optimization failed to \"\n"
     ]
    },
    {
     "name": "stdout",
     "output_type": "stream",
     "text": [
      "data_1 81 / 324\n",
      "data_1 82 / 324\n",
      "data_1 83 / 324\n",
      "data_1 84 / 324\n",
      "data_1 85 / 324\n",
      "data_1 86 / 324\n",
      "data_1 87 / 324\n",
      "data_1 88 / 324\n",
      "data_1 89 / 324\n",
      "data_1 90 / 324\n",
      "data_1 91 / 324\n",
      "data_1 92 / 324\n",
      "data_1 93 / 324\n",
      "data_1 94 / 324\n",
      "data_1 95 / 324\n",
      "data_1 96 / 324\n",
      "data_1 97 / 324\n",
      "data_1 98 / 324\n",
      "data_1 99 / 324\n",
      "data_1 100 / 324\n",
      "data_1 101 / 324\n",
      "data_1 102 / 324\n",
      "data_1 103 / 324\n"
     ]
    },
    {
     "name": "stderr",
     "output_type": "stream",
     "text": [
      "c:\\Users\\e4903\\Desktop\\code\\myenv\\lib\\site-packages\\statsmodels\\base\\model.py:604: ConvergenceWarning: Maximum Likelihood optimization failed to converge. Check mle_retvals\n",
      "  warnings.warn(\"Maximum Likelihood optimization failed to \"\n"
     ]
    },
    {
     "name": "stdout",
     "output_type": "stream",
     "text": [
      "data_1 104 / 324\n",
      "data_1 105 / 324\n",
      "data_1 106 / 324\n",
      "data_1 107 / 324\n",
      "data_1 108 / 324\n",
      "data_1 109 / 324\n",
      "data_1 110 / 324\n",
      "data_1 111 / 324\n",
      "data_1 112 / 324\n",
      "data_1 113 / 324\n",
      "data_1 114 / 324\n",
      "data_1 115 / 324\n",
      "data_1 116 / 324\n",
      "data_1 117 / 324\n",
      "data_1 118 / 324\n",
      "data_1 119 / 324\n",
      "data_1 120 / 324\n",
      "data_1 121 / 324\n",
      "data_1 122 / 324\n"
     ]
    },
    {
     "name": "stderr",
     "output_type": "stream",
     "text": [
      "c:\\Users\\e4903\\Desktop\\code\\myenv\\lib\\site-packages\\statsmodels\\base\\model.py:604: ConvergenceWarning: Maximum Likelihood optimization failed to converge. Check mle_retvals\n",
      "  warnings.warn(\"Maximum Likelihood optimization failed to \"\n"
     ]
    },
    {
     "name": "stdout",
     "output_type": "stream",
     "text": [
      "data_1 123 / 324\n",
      "data_1 124 / 324\n",
      "data_1 125 / 324\n",
      "data_1 126 / 324\n",
      "data_1 127 / 324\n",
      "data_1 128 / 324\n",
      "data_1 129 / 324\n",
      "data_1 130 / 324\n",
      "data_1 131 / 324\n",
      "data_1 132 / 324\n",
      "data_1 133 / 324\n",
      "data_1 134 / 324\n",
      "data_1 135 / 324\n"
     ]
    },
    {
     "name": "stderr",
     "output_type": "stream",
     "text": [
      "c:\\Users\\e4903\\Desktop\\code\\myenv\\lib\\site-packages\\statsmodels\\base\\model.py:604: ConvergenceWarning: Maximum Likelihood optimization failed to converge. Check mle_retvals\n",
      "  warnings.warn(\"Maximum Likelihood optimization failed to \"\n"
     ]
    },
    {
     "name": "stdout",
     "output_type": "stream",
     "text": [
      "data_1 136 / 324\n",
      "data_1 137 / 324\n"
     ]
    },
    {
     "name": "stderr",
     "output_type": "stream",
     "text": [
      "c:\\Users\\e4903\\Desktop\\code\\myenv\\lib\\site-packages\\statsmodels\\base\\model.py:604: ConvergenceWarning: Maximum Likelihood optimization failed to converge. Check mle_retvals\n",
      "  warnings.warn(\"Maximum Likelihood optimization failed to \"\n"
     ]
    },
    {
     "name": "stdout",
     "output_type": "stream",
     "text": [
      "data_1 138 / 324\n",
      "data_1 139 / 324\n"
     ]
    },
    {
     "name": "stderr",
     "output_type": "stream",
     "text": [
      "c:\\Users\\e4903\\Desktop\\code\\myenv\\lib\\site-packages\\statsmodels\\base\\model.py:604: ConvergenceWarning: Maximum Likelihood optimization failed to converge. Check mle_retvals\n",
      "  warnings.warn(\"Maximum Likelihood optimization failed to \"\n"
     ]
    },
    {
     "name": "stdout",
     "output_type": "stream",
     "text": [
      "data_1 140 / 324\n",
      "data_1 141 / 324\n"
     ]
    },
    {
     "name": "stderr",
     "output_type": "stream",
     "text": [
      "c:\\Users\\e4903\\Desktop\\code\\myenv\\lib\\site-packages\\statsmodels\\base\\model.py:604: ConvergenceWarning: Maximum Likelihood optimization failed to converge. Check mle_retvals\n",
      "  warnings.warn(\"Maximum Likelihood optimization failed to \"\n"
     ]
    },
    {
     "name": "stdout",
     "output_type": "stream",
     "text": [
      "data_1 142 / 324\n",
      "data_1 143 / 324\n",
      "data_1 144 / 324\n",
      "data_1 145 / 324\n",
      "data_1 146 / 324\n",
      "data_1 147 / 324\n",
      "data_1 148 / 324\n",
      "data_1 149 / 324\n"
     ]
    },
    {
     "name": "stderr",
     "output_type": "stream",
     "text": [
      "c:\\Users\\e4903\\Desktop\\code\\myenv\\lib\\site-packages\\statsmodels\\tsa\\statespace\\sarimax.py:1009: UserWarning: Non-invertible starting seasonal moving average Using zeros as starting parameters.\n",
      "  warn('Non-invertible starting seasonal moving average'\n"
     ]
    },
    {
     "name": "stdout",
     "output_type": "stream",
     "text": [
      "data_1 150 / 324\n",
      "data_1 151 / 324\n",
      "data_1 152 / 324\n",
      "data_1 153 / 324\n",
      "data_1 154 / 324\n",
      "data_1 155 / 324\n",
      "data_1 156 / 324\n",
      "data_1 157 / 324\n"
     ]
    },
    {
     "name": "stderr",
     "output_type": "stream",
     "text": [
      "c:\\Users\\e4903\\Desktop\\code\\myenv\\lib\\site-packages\\statsmodels\\base\\model.py:604: ConvergenceWarning: Maximum Likelihood optimization failed to converge. Check mle_retvals\n",
      "  warnings.warn(\"Maximum Likelihood optimization failed to \"\n"
     ]
    },
    {
     "name": "stdout",
     "output_type": "stream",
     "text": [
      "data_1 158 / 324\n",
      "data_1 159 / 324\n"
     ]
    },
    {
     "name": "stderr",
     "output_type": "stream",
     "text": [
      "c:\\Users\\e4903\\Desktop\\code\\myenv\\lib\\site-packages\\statsmodels\\base\\model.py:604: ConvergenceWarning: Maximum Likelihood optimization failed to converge. Check mle_retvals\n",
      "  warnings.warn(\"Maximum Likelihood optimization failed to \"\n"
     ]
    },
    {
     "name": "stdout",
     "output_type": "stream",
     "text": [
      "data_1 160 / 324\n",
      "data_1 161 / 324\n",
      "data_1 162 / 324\n",
      "data_1 163 / 324\n",
      "data_1 164 / 324\n",
      "data_1 165 / 324\n",
      "data_1 166 / 324\n",
      "data_1 167 / 324\n"
     ]
    },
    {
     "name": "stderr",
     "output_type": "stream",
     "text": [
      "c:\\Users\\e4903\\Desktop\\code\\myenv\\lib\\site-packages\\statsmodels\\tsa\\statespace\\sarimax.py:1009: UserWarning: Non-invertible starting seasonal moving average Using zeros as starting parameters.\n",
      "  warn('Non-invertible starting seasonal moving average'\n"
     ]
    },
    {
     "name": "stdout",
     "output_type": "stream",
     "text": [
      "data_1 168 / 324\n",
      "data_1 169 / 324\n",
      "data_1 170 / 324\n",
      "data_1 171 / 324\n"
     ]
    },
    {
     "name": "stderr",
     "output_type": "stream",
     "text": [
      "c:\\Users\\e4903\\Desktop\\code\\myenv\\lib\\site-packages\\statsmodels\\base\\model.py:604: ConvergenceWarning: Maximum Likelihood optimization failed to converge. Check mle_retvals\n",
      "  warnings.warn(\"Maximum Likelihood optimization failed to \"\n"
     ]
    },
    {
     "name": "stdout",
     "output_type": "stream",
     "text": [
      "data_1 172 / 324\n",
      "data_1 173 / 324\n"
     ]
    },
    {
     "name": "stderr",
     "output_type": "stream",
     "text": [
      "c:\\Users\\e4903\\Desktop\\code\\myenv\\lib\\site-packages\\statsmodels\\base\\model.py:604: ConvergenceWarning: Maximum Likelihood optimization failed to converge. Check mle_retvals\n",
      "  warnings.warn(\"Maximum Likelihood optimization failed to \"\n"
     ]
    },
    {
     "name": "stdout",
     "output_type": "stream",
     "text": [
      "data_1 174 / 324\n",
      "data_1 175 / 324\n",
      "data_1 176 / 324\n",
      "data_1 177 / 324\n"
     ]
    },
    {
     "name": "stderr",
     "output_type": "stream",
     "text": [
      "c:\\Users\\e4903\\Desktop\\code\\myenv\\lib\\site-packages\\statsmodels\\base\\model.py:604: ConvergenceWarning: Maximum Likelihood optimization failed to converge. Check mle_retvals\n",
      "  warnings.warn(\"Maximum Likelihood optimization failed to \"\n"
     ]
    },
    {
     "name": "stdout",
     "output_type": "stream",
     "text": [
      "data_1 178 / 324\n",
      "data_1 179 / 324\n",
      "data_1 180 / 324\n",
      "data_1 181 / 324\n",
      "data_1 182 / 324\n",
      "data_1 183 / 324\n"
     ]
    },
    {
     "name": "stderr",
     "output_type": "stream",
     "text": [
      "c:\\Users\\e4903\\Desktop\\code\\myenv\\lib\\site-packages\\statsmodels\\base\\model.py:604: ConvergenceWarning: Maximum Likelihood optimization failed to converge. Check mle_retvals\n",
      "  warnings.warn(\"Maximum Likelihood optimization failed to \"\n"
     ]
    },
    {
     "name": "stdout",
     "output_type": "stream",
     "text": [
      "data_1 184 / 324\n",
      "data_1 185 / 324\n",
      "data_1 186 / 324\n",
      "data_1 187 / 324\n",
      "data_1 188 / 324\n",
      "data_1 189 / 324\n",
      "data_1 190 / 324\n",
      "data_1 191 / 324\n",
      "data_1 192 / 324\n",
      "data_1 193 / 324\n",
      "data_1 194 / 324\n",
      "data_1 195 / 324\n",
      "data_1 196 / 324\n",
      "data_1 197 / 324\n",
      "data_1 198 / 324\n",
      "data_1 199 / 324\n",
      "data_1 200 / 324\n",
      "data_1 201 / 324\n",
      "data_1 202 / 324\n",
      "data_1 203 / 324\n",
      "data_1 204 / 324\n",
      "data_1 205 / 324\n",
      "data_1 206 / 324\n",
      "data_1 207 / 324\n",
      "data_1 208 / 324\n",
      "data_1 209 / 324\n",
      "data_1 210 / 324\n",
      "data_1 211 / 324\n"
     ]
    },
    {
     "name": "stderr",
     "output_type": "stream",
     "text": [
      "c:\\Users\\e4903\\Desktop\\code\\myenv\\lib\\site-packages\\statsmodels\\base\\model.py:604: ConvergenceWarning: Maximum Likelihood optimization failed to converge. Check mle_retvals\n",
      "  warnings.warn(\"Maximum Likelihood optimization failed to \"\n"
     ]
    },
    {
     "name": "stdout",
     "output_type": "stream",
     "text": [
      "data_1 212 / 324\n",
      "data_1 213 / 324\n",
      "data_1 214 / 324\n",
      "data_1 215 / 324\n",
      "data_1 216 / 324\n",
      "data_1 217 / 324\n",
      "data_1 218 / 324\n",
      "data_1 219 / 324\n",
      "data_1 220 / 324\n",
      "data_1 221 / 324\n",
      "data_1 222 / 324\n",
      "data_1 223 / 324\n",
      "data_1 224 / 324\n",
      "data_1 225 / 324\n",
      "data_1 226 / 324\n",
      "data_1 227 / 324\n",
      "data_1 228 / 324\n",
      "data_1 229 / 324\n"
     ]
    },
    {
     "name": "stderr",
     "output_type": "stream",
     "text": [
      "c:\\Users\\e4903\\Desktop\\code\\myenv\\lib\\site-packages\\statsmodels\\base\\model.py:604: ConvergenceWarning: Maximum Likelihood optimization failed to converge. Check mle_retvals\n",
      "  warnings.warn(\"Maximum Likelihood optimization failed to \"\n"
     ]
    },
    {
     "name": "stdout",
     "output_type": "stream",
     "text": [
      "data_1 230 / 324\n",
      "data_1 231 / 324\n",
      "data_1 232 / 324\n",
      "data_1 233 / 324\n",
      "data_1 234 / 324\n"
     ]
    },
    {
     "name": "stderr",
     "output_type": "stream",
     "text": [
      "c:\\Users\\e4903\\Desktop\\code\\myenv\\lib\\site-packages\\statsmodels\\tsa\\statespace\\sarimax.py:966: UserWarning: Non-stationary starting autoregressive parameters found. Using zeros as starting parameters.\n",
      "  warn('Non-stationary starting autoregressive parameters'\n",
      "c:\\Users\\e4903\\Desktop\\code\\myenv\\lib\\site-packages\\statsmodels\\tsa\\statespace\\sarimax.py:978: UserWarning: Non-invertible starting MA parameters found. Using zeros as starting parameters.\n",
      "  warn('Non-invertible starting MA parameters found.'\n"
     ]
    },
    {
     "name": "stdout",
     "output_type": "stream",
     "text": [
      "data_1 235 / 324\n"
     ]
    },
    {
     "name": "stderr",
     "output_type": "stream",
     "text": [
      "c:\\Users\\e4903\\Desktop\\code\\myenv\\lib\\site-packages\\statsmodels\\tsa\\statespace\\sarimax.py:966: UserWarning: Non-stationary starting autoregressive parameters found. Using zeros as starting parameters.\n",
      "  warn('Non-stationary starting autoregressive parameters'\n",
      "c:\\Users\\e4903\\Desktop\\code\\myenv\\lib\\site-packages\\statsmodels\\tsa\\statespace\\sarimax.py:978: UserWarning: Non-invertible starting MA parameters found. Using zeros as starting parameters.\n",
      "  warn('Non-invertible starting MA parameters found.'\n",
      "c:\\Users\\e4903\\Desktop\\code\\myenv\\lib\\site-packages\\statsmodels\\base\\model.py:604: ConvergenceWarning: Maximum Likelihood optimization failed to converge. Check mle_retvals\n",
      "  warnings.warn(\"Maximum Likelihood optimization failed to \"\n"
     ]
    },
    {
     "name": "stdout",
     "output_type": "stream",
     "text": [
      "data_1 236 / 324\n",
      "data_1 237 / 324\n",
      "data_1 238 / 324\n",
      "data_1 239 / 324\n",
      "data_1 240 / 324\n"
     ]
    },
    {
     "name": "stderr",
     "output_type": "stream",
     "text": [
      "c:\\Users\\e4903\\Desktop\\code\\myenv\\lib\\site-packages\\statsmodels\\tsa\\statespace\\sarimax.py:966: UserWarning: Non-stationary starting autoregressive parameters found. Using zeros as starting parameters.\n",
      "  warn('Non-stationary starting autoregressive parameters'\n",
      "c:\\Users\\e4903\\Desktop\\code\\myenv\\lib\\site-packages\\statsmodels\\tsa\\statespace\\sarimax.py:978: UserWarning: Non-invertible starting MA parameters found. Using zeros as starting parameters.\n",
      "  warn('Non-invertible starting MA parameters found.'\n",
      "c:\\Users\\e4903\\Desktop\\code\\myenv\\lib\\site-packages\\statsmodels\\base\\model.py:604: ConvergenceWarning: Maximum Likelihood optimization failed to converge. Check mle_retvals\n",
      "  warnings.warn(\"Maximum Likelihood optimization failed to \"\n",
      "c:\\Users\\e4903\\Desktop\\code\\myenv\\lib\\site-packages\\statsmodels\\tsa\\statespace\\sarimax.py:966: UserWarning: Non-stationary starting autoregressive parameters found. Using zeros as starting parameters.\n",
      "  warn('Non-stationary starting autoregressive parameters'\n",
      "c:\\Users\\e4903\\Desktop\\code\\myenv\\lib\\site-packages\\statsmodels\\tsa\\statespace\\sarimax.py:978: UserWarning: Non-invertible starting MA parameters found. Using zeros as starting parameters.\n",
      "  warn('Non-invertible starting MA parameters found.'\n"
     ]
    },
    {
     "name": "stdout",
     "output_type": "stream",
     "text": [
      "data_1 241 / 324\n"
     ]
    },
    {
     "name": "stderr",
     "output_type": "stream",
     "text": [
      "c:\\Users\\e4903\\Desktop\\code\\myenv\\lib\\site-packages\\statsmodels\\base\\model.py:604: ConvergenceWarning: Maximum Likelihood optimization failed to converge. Check mle_retvals\n",
      "  warnings.warn(\"Maximum Likelihood optimization failed to \"\n"
     ]
    },
    {
     "name": "stdout",
     "output_type": "stream",
     "text": [
      "data_1 242 / 324\n",
      "data_1 243 / 324\n",
      "data_1 244 / 324\n"
     ]
    },
    {
     "name": "stderr",
     "output_type": "stream",
     "text": [
      "c:\\Users\\e4903\\Desktop\\code\\myenv\\lib\\site-packages\\statsmodels\\base\\model.py:604: ConvergenceWarning: Maximum Likelihood optimization failed to converge. Check mle_retvals\n",
      "  warnings.warn(\"Maximum Likelihood optimization failed to \"\n"
     ]
    },
    {
     "name": "stdout",
     "output_type": "stream",
     "text": [
      "data_1 245 / 324\n",
      "data_1 246 / 324\n"
     ]
    },
    {
     "name": "stderr",
     "output_type": "stream",
     "text": [
      "c:\\Users\\e4903\\Desktop\\code\\myenv\\lib\\site-packages\\statsmodels\\tsa\\statespace\\sarimax.py:966: UserWarning: Non-stationary starting autoregressive parameters found. Using zeros as starting parameters.\n",
      "  warn('Non-stationary starting autoregressive parameters'\n",
      "c:\\Users\\e4903\\Desktop\\code\\myenv\\lib\\site-packages\\statsmodels\\tsa\\statespace\\sarimax.py:978: UserWarning: Non-invertible starting MA parameters found. Using zeros as starting parameters.\n",
      "  warn('Non-invertible starting MA parameters found.'\n",
      "c:\\Users\\e4903\\Desktop\\code\\myenv\\lib\\site-packages\\statsmodels\\base\\model.py:604: ConvergenceWarning: Maximum Likelihood optimization failed to converge. Check mle_retvals\n",
      "  warnings.warn(\"Maximum Likelihood optimization failed to \"\n",
      "c:\\Users\\e4903\\Desktop\\code\\myenv\\lib\\site-packages\\statsmodels\\tsa\\statespace\\sarimax.py:966: UserWarning: Non-stationary starting autoregressive parameters found. Using zeros as starting parameters.\n",
      "  warn('Non-stationary starting autoregressive parameters'\n",
      "c:\\Users\\e4903\\Desktop\\code\\myenv\\lib\\site-packages\\statsmodels\\tsa\\statespace\\sarimax.py:978: UserWarning: Non-invertible starting MA parameters found. Using zeros as starting parameters.\n",
      "  warn('Non-invertible starting MA parameters found.'\n"
     ]
    },
    {
     "name": "stdout",
     "output_type": "stream",
     "text": [
      "data_1 247 / 324\n"
     ]
    },
    {
     "name": "stderr",
     "output_type": "stream",
     "text": [
      "c:\\Users\\e4903\\Desktop\\code\\myenv\\lib\\site-packages\\statsmodels\\base\\model.py:604: ConvergenceWarning: Maximum Likelihood optimization failed to converge. Check mle_retvals\n",
      "  warnings.warn(\"Maximum Likelihood optimization failed to \"\n"
     ]
    },
    {
     "name": "stdout",
     "output_type": "stream",
     "text": [
      "data_1 248 / 324\n",
      "data_1 249 / 324\n"
     ]
    },
    {
     "name": "stderr",
     "output_type": "stream",
     "text": [
      "c:\\Users\\e4903\\Desktop\\code\\myenv\\lib\\site-packages\\statsmodels\\base\\model.py:604: ConvergenceWarning: Maximum Likelihood optimization failed to converge. Check mle_retvals\n",
      "  warnings.warn(\"Maximum Likelihood optimization failed to \"\n"
     ]
    },
    {
     "name": "stdout",
     "output_type": "stream",
     "text": [
      "data_1 250 / 324\n"
     ]
    },
    {
     "name": "stderr",
     "output_type": "stream",
     "text": [
      "c:\\Users\\e4903\\Desktop\\code\\myenv\\lib\\site-packages\\statsmodels\\base\\model.py:604: ConvergenceWarning: Maximum Likelihood optimization failed to converge. Check mle_retvals\n",
      "  warnings.warn(\"Maximum Likelihood optimization failed to \"\n"
     ]
    },
    {
     "name": "stdout",
     "output_type": "stream",
     "text": [
      "data_1 251 / 324\n",
      "data_1 252 / 324\n",
      "data_1 253 / 324\n",
      "data_1 254 / 324\n",
      "data_1 255 / 324\n",
      "data_1 256 / 324\n",
      "data_1 257 / 324\n"
     ]
    },
    {
     "name": "stderr",
     "output_type": "stream",
     "text": [
      "c:\\Users\\e4903\\Desktop\\code\\myenv\\lib\\site-packages\\statsmodels\\tsa\\statespace\\sarimax.py:1009: UserWarning: Non-invertible starting seasonal moving average Using zeros as starting parameters.\n",
      "  warn('Non-invertible starting seasonal moving average'\n"
     ]
    },
    {
     "name": "stdout",
     "output_type": "stream",
     "text": [
      "data_1 258 / 324\n",
      "data_1 259 / 324\n",
      "data_1 260 / 324\n",
      "data_1 261 / 324\n",
      "data_1 262 / 324\n",
      "data_1 263 / 324\n",
      "data_1 264 / 324\n",
      "data_1 265 / 324\n",
      "data_1 266 / 324\n",
      "data_1 267 / 324\n",
      "data_1 268 / 324\n",
      "data_1 269 / 324\n",
      "data_1 270 / 324\n",
      "data_1 271 / 324\n",
      "data_1 272 / 324\n",
      "data_1 273 / 324\n",
      "data_1 274 / 324\n",
      "data_1 275 / 324\n"
     ]
    },
    {
     "name": "stderr",
     "output_type": "stream",
     "text": [
      "c:\\Users\\e4903\\Desktop\\code\\myenv\\lib\\site-packages\\statsmodels\\tsa\\statespace\\sarimax.py:1009: UserWarning: Non-invertible starting seasonal moving average Using zeros as starting parameters.\n",
      "  warn('Non-invertible starting seasonal moving average'\n",
      "c:\\Users\\e4903\\Desktop\\code\\myenv\\lib\\site-packages\\statsmodels\\base\\model.py:604: ConvergenceWarning: Maximum Likelihood optimization failed to converge. Check mle_retvals\n",
      "  warnings.warn(\"Maximum Likelihood optimization failed to \"\n"
     ]
    },
    {
     "name": "stdout",
     "output_type": "stream",
     "text": [
      "data_1 276 / 324\n",
      "data_1 277 / 324\n",
      "data_1 278 / 324\n",
      "data_1 279 / 324\n",
      "data_1 280 / 324\n",
      "data_1 281 / 324\n",
      "data_1 282 / 324\n",
      "data_1 283 / 324\n"
     ]
    },
    {
     "name": "stderr",
     "output_type": "stream",
     "text": [
      "c:\\Users\\e4903\\Desktop\\code\\myenv\\lib\\site-packages\\statsmodels\\base\\model.py:604: ConvergenceWarning: Maximum Likelihood optimization failed to converge. Check mle_retvals\n",
      "  warnings.warn(\"Maximum Likelihood optimization failed to \"\n"
     ]
    },
    {
     "name": "stdout",
     "output_type": "stream",
     "text": [
      "data_1 284 / 324\n",
      "data_1 285 / 324\n"
     ]
    },
    {
     "name": "stderr",
     "output_type": "stream",
     "text": [
      "c:\\Users\\e4903\\Desktop\\code\\myenv\\lib\\site-packages\\statsmodels\\base\\model.py:604: ConvergenceWarning: Maximum Likelihood optimization failed to converge. Check mle_retvals\n",
      "  warnings.warn(\"Maximum Likelihood optimization failed to \"\n"
     ]
    },
    {
     "name": "stdout",
     "output_type": "stream",
     "text": [
      "data_1 286 / 324\n",
      "data_1 287 / 324\n"
     ]
    },
    {
     "name": "stderr",
     "output_type": "stream",
     "text": [
      "c:\\Users\\e4903\\Desktop\\code\\myenv\\lib\\site-packages\\statsmodels\\base\\model.py:604: ConvergenceWarning: Maximum Likelihood optimization failed to converge. Check mle_retvals\n",
      "  warnings.warn(\"Maximum Likelihood optimization failed to \"\n"
     ]
    },
    {
     "name": "stdout",
     "output_type": "stream",
     "text": [
      "data_1 288 / 324\n",
      "data_1 289 / 324\n",
      "data_1 290 / 324\n",
      "data_1 291 / 324\n",
      "data_1 292 / 324\n",
      "data_1 293 / 324\n",
      "data_1 294 / 324\n",
      "data_1 295 / 324\n",
      "data_1 296 / 324\n",
      "data_1 297 / 324\n",
      "data_1 298 / 324\n",
      "data_1 299 / 324\n",
      "data_1 300 / 324\n",
      "data_1 301 / 324\n"
     ]
    },
    {
     "name": "stderr",
     "output_type": "stream",
     "text": [
      "c:\\Users\\e4903\\Desktop\\code\\myenv\\lib\\site-packages\\statsmodels\\base\\model.py:604: ConvergenceWarning: Maximum Likelihood optimization failed to converge. Check mle_retvals\n",
      "  warnings.warn(\"Maximum Likelihood optimization failed to \"\n"
     ]
    },
    {
     "name": "stdout",
     "output_type": "stream",
     "text": [
      "data_1 302 / 324\n",
      "data_1 303 / 324\n",
      "data_1 304 / 324\n",
      "data_1 305 / 324\n",
      "data_1 306 / 324\n",
      "data_1 307 / 324\n",
      "data_1 308 / 324\n",
      "data_1 309 / 324\n",
      "data_1 310 / 324\n",
      "data_1 311 / 324\n",
      "data_1 312 / 324\n",
      "data_1 313 / 324\n",
      "data_1 314 / 324\n",
      "data_1 315 / 324\n",
      "data_1 316 / 324\n",
      "data_1 317 / 324\n",
      "data_1 318 / 324\n"
     ]
    },
    {
     "name": "stderr",
     "output_type": "stream",
     "text": [
      "c:\\Users\\e4903\\Desktop\\code\\myenv\\lib\\site-packages\\statsmodels\\base\\model.py:604: ConvergenceWarning: Maximum Likelihood optimization failed to converge. Check mle_retvals\n",
      "  warnings.warn(\"Maximum Likelihood optimization failed to \"\n"
     ]
    },
    {
     "name": "stdout",
     "output_type": "stream",
     "text": [
      "data_1 319 / 324\n"
     ]
    },
    {
     "name": "stderr",
     "output_type": "stream",
     "text": [
      "c:\\Users\\e4903\\Desktop\\code\\myenv\\lib\\site-packages\\statsmodels\\base\\model.py:604: ConvergenceWarning: Maximum Likelihood optimization failed to converge. Check mle_retvals\n",
      "  warnings.warn(\"Maximum Likelihood optimization failed to \"\n"
     ]
    },
    {
     "name": "stdout",
     "output_type": "stream",
     "text": [
      "data_1 320 / 324\n",
      "data_1 321 / 324\n"
     ]
    },
    {
     "name": "stderr",
     "output_type": "stream",
     "text": [
      "c:\\Users\\e4903\\Desktop\\code\\myenv\\lib\\site-packages\\statsmodels\\base\\model.py:604: ConvergenceWarning: Maximum Likelihood optimization failed to converge. Check mle_retvals\n",
      "  warnings.warn(\"Maximum Likelihood optimization failed to \"\n"
     ]
    },
    {
     "name": "stdout",
     "output_type": "stream",
     "text": [
      "data_1 322 / 324\n",
      "data_1 323 / 324\n",
      "data_1 324 / 324\n",
      "data_2 1 / 324\n",
      "data_2 2 / 324\n",
      "data_2 3 / 324\n",
      "data_2 4 / 324\n",
      "data_2 5 / 324\n",
      "data_2 6 / 324\n",
      "data_2 7 / 324\n",
      "data_2 8 / 324\n",
      "data_2 9 / 324\n",
      "data_2 10 / 324\n",
      "data_2 11 / 324\n",
      "data_2 12 / 324\n",
      "data_2 13 / 324\n",
      "data_2 14 / 324\n",
      "data_2 15 / 324\n",
      "data_2 16 / 324\n",
      "data_2 17 / 324\n",
      "data_2 18 / 324\n",
      "data_2 19 / 324\n",
      "data_2 20 / 324\n",
      "data_2 21 / 324\n",
      "data_2 22 / 324\n",
      "data_2 23 / 324\n",
      "data_2 24 / 324\n",
      "data_2 25 / 324\n",
      "data_2 26 / 324\n",
      "data_2 27 / 324\n",
      "data_2 28 / 324\n",
      "data_2 29 / 324\n",
      "data_2 30 / 324\n",
      "data_2 31 / 324\n",
      "data_2 32 / 324\n"
     ]
    },
    {
     "name": "stderr",
     "output_type": "stream",
     "text": [
      "c:\\Users\\e4903\\Desktop\\code\\myenv\\lib\\site-packages\\statsmodels\\base\\model.py:604: ConvergenceWarning: Maximum Likelihood optimization failed to converge. Check mle_retvals\n",
      "  warnings.warn(\"Maximum Likelihood optimization failed to \"\n"
     ]
    },
    {
     "name": "stdout",
     "output_type": "stream",
     "text": [
      "data_2 33 / 324\n",
      "data_2 34 / 324\n",
      "data_2 35 / 324\n",
      "data_2 36 / 324\n",
      "data_2 37 / 324\n",
      "data_2 38 / 324\n",
      "data_2 39 / 324\n",
      "data_2 40 / 324\n",
      "data_2 41 / 324\n"
     ]
    },
    {
     "name": "stderr",
     "output_type": "stream",
     "text": [
      "c:\\Users\\e4903\\Desktop\\code\\myenv\\lib\\site-packages\\statsmodels\\tsa\\statespace\\sarimax.py:1009: UserWarning: Non-invertible starting seasonal moving average Using zeros as starting parameters.\n",
      "  warn('Non-invertible starting seasonal moving average'\n"
     ]
    },
    {
     "name": "stdout",
     "output_type": "stream",
     "text": [
      "data_2 42 / 324\n"
     ]
    },
    {
     "name": "stderr",
     "output_type": "stream",
     "text": [
      "c:\\Users\\e4903\\Desktop\\code\\myenv\\lib\\site-packages\\statsmodels\\base\\model.py:604: ConvergenceWarning: Maximum Likelihood optimization failed to converge. Check mle_retvals\n",
      "  warnings.warn(\"Maximum Likelihood optimization failed to \"\n"
     ]
    },
    {
     "name": "stdout",
     "output_type": "stream",
     "text": [
      "data_2 43 / 324\n",
      "data_2 44 / 324\n",
      "data_2 45 / 324\n",
      "data_2 46 / 324\n",
      "data_2 47 / 324\n",
      "data_2 48 / 324\n",
      "data_2 49 / 324\n",
      "data_2 50 / 324\n",
      "data_2 51 / 324\n",
      "data_2 52 / 324\n",
      "data_2 53 / 324\n",
      "data_2 54 / 324\n",
      "data_2 55 / 324\n",
      "data_2 56 / 324\n",
      "data_2 57 / 324\n",
      "data_2 58 / 324\n",
      "data_2 59 / 324\n"
     ]
    },
    {
     "name": "stderr",
     "output_type": "stream",
     "text": [
      "c:\\Users\\e4903\\Desktop\\code\\myenv\\lib\\site-packages\\statsmodels\\tsa\\statespace\\sarimax.py:1009: UserWarning: Non-invertible starting seasonal moving average Using zeros as starting parameters.\n",
      "  warn('Non-invertible starting seasonal moving average'\n"
     ]
    },
    {
     "name": "stdout",
     "output_type": "stream",
     "text": [
      "data_2 60 / 324\n",
      "data_2 61 / 324\n",
      "data_2 62 / 324\n",
      "data_2 63 / 324\n",
      "data_2 64 / 324\n",
      "data_2 65 / 324\n",
      "data_2 66 / 324\n",
      "data_2 67 / 324\n"
     ]
    },
    {
     "name": "stderr",
     "output_type": "stream",
     "text": [
      "c:\\Users\\e4903\\Desktop\\code\\myenv\\lib\\site-packages\\statsmodels\\base\\model.py:604: ConvergenceWarning: Maximum Likelihood optimization failed to converge. Check mle_retvals\n",
      "  warnings.warn(\"Maximum Likelihood optimization failed to \"\n"
     ]
    },
    {
     "name": "stdout",
     "output_type": "stream",
     "text": [
      "data_2 68 / 324\n",
      "data_2 69 / 324\n",
      "data_2 70 / 324\n",
      "data_2 71 / 324\n",
      "data_2 72 / 324\n",
      "data_2 73 / 324\n",
      "data_2 74 / 324\n",
      "data_2 75 / 324\n",
      "data_2 76 / 324\n",
      "data_2 77 / 324\n"
     ]
    },
    {
     "name": "stderr",
     "output_type": "stream",
     "text": [
      "c:\\Users\\e4903\\Desktop\\code\\myenv\\lib\\site-packages\\statsmodels\\tsa\\statespace\\sarimax.py:1009: UserWarning: Non-invertible starting seasonal moving average Using zeros as starting parameters.\n",
      "  warn('Non-invertible starting seasonal moving average'\n"
     ]
    },
    {
     "name": "stdout",
     "output_type": "stream",
     "text": [
      "data_2 78 / 324\n",
      "data_2 79 / 324\n",
      "data_2 80 / 324\n",
      "data_2 81 / 324\n",
      "data_2 82 / 324\n",
      "data_2 83 / 324\n",
      "data_2 84 / 324\n",
      "data_2 85 / 324\n",
      "data_2 86 / 324\n",
      "data_2 87 / 324\n",
      "data_2 88 / 324\n",
      "data_2 89 / 324\n",
      "data_2 90 / 324\n",
      "data_2 91 / 324\n",
      "data_2 92 / 324\n",
      "data_2 93 / 324\n",
      "data_2 94 / 324\n",
      "data_2 95 / 324\n"
     ]
    },
    {
     "name": "stderr",
     "output_type": "stream",
     "text": [
      "c:\\Users\\e4903\\Desktop\\code\\myenv\\lib\\site-packages\\statsmodels\\tsa\\statespace\\sarimax.py:1009: UserWarning: Non-invertible starting seasonal moving average Using zeros as starting parameters.\n",
      "  warn('Non-invertible starting seasonal moving average'\n"
     ]
    },
    {
     "name": "stdout",
     "output_type": "stream",
     "text": [
      "data_2 96 / 324\n",
      "data_2 97 / 324\n",
      "data_2 98 / 324\n",
      "data_2 99 / 324\n",
      "data_2 100 / 324\n",
      "data_2 101 / 324\n",
      "data_2 102 / 324\n",
      "data_2 103 / 324\n"
     ]
    },
    {
     "name": "stderr",
     "output_type": "stream",
     "text": [
      "c:\\Users\\e4903\\Desktop\\code\\myenv\\lib\\site-packages\\statsmodels\\base\\model.py:604: ConvergenceWarning: Maximum Likelihood optimization failed to converge. Check mle_retvals\n",
      "  warnings.warn(\"Maximum Likelihood optimization failed to \"\n"
     ]
    },
    {
     "name": "stdout",
     "output_type": "stream",
     "text": [
      "data_2 104 / 324\n",
      "data_2 105 / 324\n",
      "data_2 106 / 324\n",
      "data_2 107 / 324\n",
      "data_2 108 / 324\n",
      "data_2 109 / 324\n",
      "data_2 110 / 324\n",
      "data_2 111 / 324\n",
      "data_2 112 / 324\n",
      "data_2 113 / 324\n",
      "data_2 114 / 324\n",
      "data_2 115 / 324\n",
      "data_2 116 / 324\n",
      "data_2 117 / 324\n"
     ]
    },
    {
     "name": "stderr",
     "output_type": "stream",
     "text": [
      "c:\\Users\\e4903\\Desktop\\code\\myenv\\lib\\site-packages\\statsmodels\\base\\model.py:604: ConvergenceWarning: Maximum Likelihood optimization failed to converge. Check mle_retvals\n",
      "  warnings.warn(\"Maximum Likelihood optimization failed to \"\n"
     ]
    },
    {
     "name": "stdout",
     "output_type": "stream",
     "text": [
      "data_2 118 / 324\n",
      "data_2 119 / 324\n",
      "data_2 120 / 324\n",
      "data_2 121 / 324\n",
      "data_2 122 / 324\n",
      "data_2 123 / 324\n"
     ]
    },
    {
     "name": "stderr",
     "output_type": "stream",
     "text": [
      "c:\\Users\\e4903\\Desktop\\code\\myenv\\lib\\site-packages\\statsmodels\\base\\model.py:604: ConvergenceWarning: Maximum Likelihood optimization failed to converge. Check mle_retvals\n",
      "  warnings.warn(\"Maximum Likelihood optimization failed to \"\n"
     ]
    },
    {
     "name": "stdout",
     "output_type": "stream",
     "text": [
      "data_2 124 / 324\n",
      "data_2 125 / 324\n",
      "data_2 126 / 324\n",
      "data_2 127 / 324\n",
      "data_2 128 / 324\n",
      "data_2 129 / 324\n",
      "data_2 130 / 324\n",
      "data_2 131 / 324\n",
      "data_2 132 / 324\n",
      "data_2 133 / 324\n",
      "data_2 134 / 324\n",
      "data_2 135 / 324\n",
      "data_2 136 / 324\n",
      "data_2 137 / 324\n",
      "data_2 138 / 324\n",
      "data_2 139 / 324\n",
      "data_2 140 / 324\n",
      "data_2 141 / 324\n",
      "data_2 142 / 324\n",
      "data_2 143 / 324\n"
     ]
    },
    {
     "name": "stderr",
     "output_type": "stream",
     "text": [
      "c:\\Users\\e4903\\Desktop\\code\\myenv\\lib\\site-packages\\statsmodels\\base\\model.py:604: ConvergenceWarning: Maximum Likelihood optimization failed to converge. Check mle_retvals\n",
      "  warnings.warn(\"Maximum Likelihood optimization failed to \"\n"
     ]
    },
    {
     "name": "stdout",
     "output_type": "stream",
     "text": [
      "data_2 144 / 324\n",
      "data_2 145 / 324\n",
      "data_2 146 / 324\n",
      "data_2 147 / 324\n",
      "data_2 148 / 324\n",
      "data_2 149 / 324\n"
     ]
    },
    {
     "name": "stderr",
     "output_type": "stream",
     "text": [
      "c:\\Users\\e4903\\Desktop\\code\\myenv\\lib\\site-packages\\statsmodels\\tsa\\statespace\\sarimax.py:1009: UserWarning: Non-invertible starting seasonal moving average Using zeros as starting parameters.\n",
      "  warn('Non-invertible starting seasonal moving average'\n"
     ]
    },
    {
     "name": "stdout",
     "output_type": "stream",
     "text": [
      "data_2 150 / 324\n",
      "data_2 151 / 324\n",
      "data_2 152 / 324\n",
      "data_2 153 / 324\n",
      "data_2 154 / 324\n",
      "data_2 155 / 324\n"
     ]
    },
    {
     "name": "stderr",
     "output_type": "stream",
     "text": [
      "c:\\Users\\e4903\\Desktop\\code\\myenv\\lib\\site-packages\\statsmodels\\base\\model.py:604: ConvergenceWarning: Maximum Likelihood optimization failed to converge. Check mle_retvals\n",
      "  warnings.warn(\"Maximum Likelihood optimization failed to \"\n"
     ]
    },
    {
     "name": "stdout",
     "output_type": "stream",
     "text": [
      "data_2 156 / 324\n",
      "data_2 157 / 324\n"
     ]
    },
    {
     "name": "stderr",
     "output_type": "stream",
     "text": [
      "c:\\Users\\e4903\\Desktop\\code\\myenv\\lib\\site-packages\\statsmodels\\base\\model.py:604: ConvergenceWarning: Maximum Likelihood optimization failed to converge. Check mle_retvals\n",
      "  warnings.warn(\"Maximum Likelihood optimization failed to \"\n"
     ]
    },
    {
     "name": "stdout",
     "output_type": "stream",
     "text": [
      "data_2 158 / 324\n",
      "data_2 159 / 324\n",
      "data_2 160 / 324\n",
      "data_2 161 / 324\n",
      "data_2 162 / 324\n",
      "data_2 163 / 324\n",
      "data_2 164 / 324\n",
      "data_2 165 / 324\n",
      "data_2 166 / 324\n",
      "data_2 167 / 324\n"
     ]
    },
    {
     "name": "stderr",
     "output_type": "stream",
     "text": [
      "c:\\Users\\e4903\\Desktop\\code\\myenv\\lib\\site-packages\\statsmodels\\tsa\\statespace\\sarimax.py:1009: UserWarning: Non-invertible starting seasonal moving average Using zeros as starting parameters.\n",
      "  warn('Non-invertible starting seasonal moving average'\n"
     ]
    },
    {
     "name": "stdout",
     "output_type": "stream",
     "text": [
      "data_2 168 / 324\n",
      "data_2 169 / 324\n",
      "data_2 170 / 324\n",
      "data_2 171 / 324\n",
      "data_2 172 / 324\n",
      "data_2 173 / 324\n",
      "data_2 174 / 324\n",
      "data_2 175 / 324\n"
     ]
    },
    {
     "name": "stderr",
     "output_type": "stream",
     "text": [
      "c:\\Users\\e4903\\Desktop\\code\\myenv\\lib\\site-packages\\statsmodels\\base\\model.py:604: ConvergenceWarning: Maximum Likelihood optimization failed to converge. Check mle_retvals\n",
      "  warnings.warn(\"Maximum Likelihood optimization failed to \"\n"
     ]
    },
    {
     "name": "stdout",
     "output_type": "stream",
     "text": [
      "data_2 176 / 324\n",
      "data_2 177 / 324\n",
      "data_2 178 / 324\n",
      "data_2 179 / 324\n",
      "data_2 180 / 324\n",
      "data_2 181 / 324\n",
      "data_2 182 / 324\n",
      "data_2 183 / 324\n",
      "data_2 184 / 324\n",
      "data_2 185 / 324\n"
     ]
    },
    {
     "name": "stderr",
     "output_type": "stream",
     "text": [
      "c:\\Users\\e4903\\Desktop\\code\\myenv\\lib\\site-packages\\statsmodels\\tsa\\statespace\\sarimax.py:1009: UserWarning: Non-invertible starting seasonal moving average Using zeros as starting parameters.\n",
      "  warn('Non-invertible starting seasonal moving average'\n"
     ]
    },
    {
     "name": "stdout",
     "output_type": "stream",
     "text": [
      "data_2 186 / 324\n",
      "data_2 187 / 324\n",
      "data_2 188 / 324\n",
      "data_2 189 / 324\n",
      "data_2 190 / 324\n",
      "data_2 191 / 324\n",
      "data_2 192 / 324\n",
      "data_2 193 / 324\n"
     ]
    },
    {
     "name": "stderr",
     "output_type": "stream",
     "text": [
      "c:\\Users\\e4903\\Desktop\\code\\myenv\\lib\\site-packages\\statsmodels\\base\\model.py:604: ConvergenceWarning: Maximum Likelihood optimization failed to converge. Check mle_retvals\n",
      "  warnings.warn(\"Maximum Likelihood optimization failed to \"\n"
     ]
    },
    {
     "name": "stdout",
     "output_type": "stream",
     "text": [
      "data_2 194 / 324\n",
      "data_2 195 / 324\n",
      "data_2 196 / 324\n",
      "data_2 197 / 324\n",
      "data_2 198 / 324\n"
     ]
    },
    {
     "name": "stderr",
     "output_type": "stream",
     "text": [
      "c:\\Users\\e4903\\Desktop\\code\\myenv\\lib\\site-packages\\statsmodels\\base\\model.py:604: ConvergenceWarning: Maximum Likelihood optimization failed to converge. Check mle_retvals\n",
      "  warnings.warn(\"Maximum Likelihood optimization failed to \"\n"
     ]
    },
    {
     "name": "stdout",
     "output_type": "stream",
     "text": [
      "data_2 199 / 324\n",
      "data_2 200 / 324\n",
      "data_2 201 / 324\n",
      "data_2 202 / 324\n",
      "data_2 203 / 324\n"
     ]
    },
    {
     "name": "stderr",
     "output_type": "stream",
     "text": [
      "c:\\Users\\e4903\\Desktop\\code\\myenv\\lib\\site-packages\\statsmodels\\tsa\\statespace\\sarimax.py:1009: UserWarning: Non-invertible starting seasonal moving average Using zeros as starting parameters.\n",
      "  warn('Non-invertible starting seasonal moving average'\n"
     ]
    },
    {
     "name": "stdout",
     "output_type": "stream",
     "text": [
      "data_2 204 / 324\n",
      "data_2 205 / 324\n"
     ]
    },
    {
     "name": "stderr",
     "output_type": "stream",
     "text": [
      "c:\\Users\\e4903\\Desktop\\code\\myenv\\lib\\site-packages\\statsmodels\\base\\model.py:604: ConvergenceWarning: Maximum Likelihood optimization failed to converge. Check mle_retvals\n",
      "  warnings.warn(\"Maximum Likelihood optimization failed to \"\n"
     ]
    },
    {
     "name": "stdout",
     "output_type": "stream",
     "text": [
      "data_2 206 / 324\n",
      "data_2 207 / 324\n",
      "data_2 208 / 324\n",
      "data_2 209 / 324\n",
      "data_2 210 / 324\n"
     ]
    },
    {
     "name": "stderr",
     "output_type": "stream",
     "text": [
      "c:\\Users\\e4903\\Desktop\\code\\myenv\\lib\\site-packages\\statsmodels\\base\\model.py:604: ConvergenceWarning: Maximum Likelihood optimization failed to converge. Check mle_retvals\n",
      "  warnings.warn(\"Maximum Likelihood optimization failed to \"\n"
     ]
    },
    {
     "name": "stdout",
     "output_type": "stream",
     "text": [
      "data_2 211 / 324\n"
     ]
    },
    {
     "name": "stderr",
     "output_type": "stream",
     "text": [
      "c:\\Users\\e4903\\Desktop\\code\\myenv\\lib\\site-packages\\statsmodels\\base\\model.py:604: ConvergenceWarning: Maximum Likelihood optimization failed to converge. Check mle_retvals\n",
      "  warnings.warn(\"Maximum Likelihood optimization failed to \"\n"
     ]
    },
    {
     "name": "stdout",
     "output_type": "stream",
     "text": [
      "data_2 212 / 324\n",
      "data_2 213 / 324\n",
      "data_2 214 / 324\n",
      "data_2 215 / 324\n",
      "data_2 216 / 324\n",
      "data_2 217 / 324\n",
      "data_2 218 / 324\n",
      "data_2 219 / 324\n",
      "data_2 220 / 324\n",
      "data_2 221 / 324\n",
      "data_2 222 / 324\n",
      "data_2 223 / 324\n"
     ]
    },
    {
     "name": "stderr",
     "output_type": "stream",
     "text": [
      "c:\\Users\\e4903\\Desktop\\code\\myenv\\lib\\site-packages\\statsmodels\\base\\model.py:604: ConvergenceWarning: Maximum Likelihood optimization failed to converge. Check mle_retvals\n",
      "  warnings.warn(\"Maximum Likelihood optimization failed to \"\n"
     ]
    },
    {
     "name": "stdout",
     "output_type": "stream",
     "text": [
      "data_2 224 / 324\n",
      "data_2 225 / 324\n",
      "data_2 226 / 324\n",
      "data_2 227 / 324\n",
      "data_2 228 / 324\n",
      "data_2 229 / 324\n",
      "data_2 230 / 324\n",
      "data_2 231 / 324\n",
      "data_2 232 / 324\n",
      "data_2 233 / 324\n"
     ]
    },
    {
     "name": "stderr",
     "output_type": "stream",
     "text": [
      "c:\\Users\\e4903\\Desktop\\code\\myenv\\lib\\site-packages\\statsmodels\\base\\model.py:604: ConvergenceWarning: Maximum Likelihood optimization failed to converge. Check mle_retvals\n",
      "  warnings.warn(\"Maximum Likelihood optimization failed to \"\n"
     ]
    },
    {
     "name": "stdout",
     "output_type": "stream",
     "text": [
      "data_2 234 / 324\n"
     ]
    },
    {
     "name": "stderr",
     "output_type": "stream",
     "text": [
      "c:\\Users\\e4903\\Desktop\\code\\myenv\\lib\\site-packages\\statsmodels\\tsa\\statespace\\sarimax.py:966: UserWarning: Non-stationary starting autoregressive parameters found. Using zeros as starting parameters.\n",
      "  warn('Non-stationary starting autoregressive parameters'\n",
      "c:\\Users\\e4903\\Desktop\\code\\myenv\\lib\\site-packages\\statsmodels\\tsa\\statespace\\sarimax.py:978: UserWarning: Non-invertible starting MA parameters found. Using zeros as starting parameters.\n",
      "  warn('Non-invertible starting MA parameters found.'\n",
      "c:\\Users\\e4903\\Desktop\\code\\myenv\\lib\\site-packages\\statsmodels\\base\\model.py:604: ConvergenceWarning: Maximum Likelihood optimization failed to converge. Check mle_retvals\n",
      "  warnings.warn(\"Maximum Likelihood optimization failed to \"\n",
      "c:\\Users\\e4903\\Desktop\\code\\myenv\\lib\\site-packages\\statsmodels\\tsa\\statespace\\sarimax.py:966: UserWarning: Non-stationary starting autoregressive parameters found. Using zeros as starting parameters.\n",
      "  warn('Non-stationary starting autoregressive parameters'\n",
      "c:\\Users\\e4903\\Desktop\\code\\myenv\\lib\\site-packages\\statsmodels\\tsa\\statespace\\sarimax.py:978: UserWarning: Non-invertible starting MA parameters found. Using zeros as starting parameters.\n",
      "  warn('Non-invertible starting MA parameters found.'\n"
     ]
    },
    {
     "name": "stdout",
     "output_type": "stream",
     "text": [
      "data_2 235 / 324\n"
     ]
    },
    {
     "name": "stderr",
     "output_type": "stream",
     "text": [
      "c:\\Users\\e4903\\Desktop\\code\\myenv\\lib\\site-packages\\statsmodels\\base\\model.py:604: ConvergenceWarning: Maximum Likelihood optimization failed to converge. Check mle_retvals\n",
      "  warnings.warn(\"Maximum Likelihood optimization failed to \"\n"
     ]
    },
    {
     "name": "stdout",
     "output_type": "stream",
     "text": [
      "data_2 236 / 324\n",
      "data_2 237 / 324\n",
      "data_2 238 / 324\n",
      "data_2 239 / 324\n",
      "data_2 240 / 324\n"
     ]
    },
    {
     "name": "stderr",
     "output_type": "stream",
     "text": [
      "c:\\Users\\e4903\\Desktop\\code\\myenv\\lib\\site-packages\\statsmodels\\tsa\\statespace\\sarimax.py:966: UserWarning: Non-stationary starting autoregressive parameters found. Using zeros as starting parameters.\n",
      "  warn('Non-stationary starting autoregressive parameters'\n",
      "c:\\Users\\e4903\\Desktop\\code\\myenv\\lib\\site-packages\\statsmodels\\tsa\\statespace\\sarimax.py:978: UserWarning: Non-invertible starting MA parameters found. Using zeros as starting parameters.\n",
      "  warn('Non-invertible starting MA parameters found.'\n",
      "c:\\Users\\e4903\\Desktop\\code\\myenv\\lib\\site-packages\\statsmodels\\base\\model.py:604: ConvergenceWarning: Maximum Likelihood optimization failed to converge. Check mle_retvals\n",
      "  warnings.warn(\"Maximum Likelihood optimization failed to \"\n",
      "c:\\Users\\e4903\\Desktop\\code\\myenv\\lib\\site-packages\\statsmodels\\tsa\\statespace\\sarimax.py:966: UserWarning: Non-stationary starting autoregressive parameters found. Using zeros as starting parameters.\n",
      "  warn('Non-stationary starting autoregressive parameters'\n",
      "c:\\Users\\e4903\\Desktop\\code\\myenv\\lib\\site-packages\\statsmodels\\tsa\\statespace\\sarimax.py:978: UserWarning: Non-invertible starting MA parameters found. Using zeros as starting parameters.\n",
      "  warn('Non-invertible starting MA parameters found.'\n"
     ]
    },
    {
     "name": "stdout",
     "output_type": "stream",
     "text": [
      "data_2 241 / 324\n"
     ]
    },
    {
     "name": "stderr",
     "output_type": "stream",
     "text": [
      "c:\\Users\\e4903\\Desktop\\code\\myenv\\lib\\site-packages\\statsmodels\\base\\model.py:604: ConvergenceWarning: Maximum Likelihood optimization failed to converge. Check mle_retvals\n",
      "  warnings.warn(\"Maximum Likelihood optimization failed to \"\n"
     ]
    },
    {
     "name": "stdout",
     "output_type": "stream",
     "text": [
      "data_2 242 / 324\n",
      "data_2 243 / 324\n"
     ]
    },
    {
     "name": "stderr",
     "output_type": "stream",
     "text": [
      "c:\\Users\\e4903\\Desktop\\code\\myenv\\lib\\site-packages\\statsmodels\\base\\model.py:604: ConvergenceWarning: Maximum Likelihood optimization failed to converge. Check mle_retvals\n",
      "  warnings.warn(\"Maximum Likelihood optimization failed to \"\n"
     ]
    },
    {
     "name": "stdout",
     "output_type": "stream",
     "text": [
      "data_2 244 / 324\n",
      "data_2 245 / 324\n",
      "data_2 246 / 324\n"
     ]
    },
    {
     "name": "stderr",
     "output_type": "stream",
     "text": [
      "c:\\Users\\e4903\\Desktop\\code\\myenv\\lib\\site-packages\\statsmodels\\tsa\\statespace\\sarimax.py:966: UserWarning: Non-stationary starting autoregressive parameters found. Using zeros as starting parameters.\n",
      "  warn('Non-stationary starting autoregressive parameters'\n",
      "c:\\Users\\e4903\\Desktop\\code\\myenv\\lib\\site-packages\\statsmodels\\tsa\\statespace\\sarimax.py:978: UserWarning: Non-invertible starting MA parameters found. Using zeros as starting parameters.\n",
      "  warn('Non-invertible starting MA parameters found.'\n",
      "c:\\Users\\e4903\\Desktop\\code\\myenv\\lib\\site-packages\\statsmodels\\base\\model.py:604: ConvergenceWarning: Maximum Likelihood optimization failed to converge. Check mle_retvals\n",
      "  warnings.warn(\"Maximum Likelihood optimization failed to \"\n",
      "c:\\Users\\e4903\\Desktop\\code\\myenv\\lib\\site-packages\\statsmodels\\tsa\\statespace\\sarimax.py:966: UserWarning: Non-stationary starting autoregressive parameters found. Using zeros as starting parameters.\n",
      "  warn('Non-stationary starting autoregressive parameters'\n",
      "c:\\Users\\e4903\\Desktop\\code\\myenv\\lib\\site-packages\\statsmodels\\tsa\\statespace\\sarimax.py:978: UserWarning: Non-invertible starting MA parameters found. Using zeros as starting parameters.\n",
      "  warn('Non-invertible starting MA parameters found.'\n"
     ]
    },
    {
     "name": "stdout",
     "output_type": "stream",
     "text": [
      "data_2 247 / 324\n"
     ]
    },
    {
     "name": "stderr",
     "output_type": "stream",
     "text": [
      "c:\\Users\\e4903\\Desktop\\code\\myenv\\lib\\site-packages\\statsmodels\\base\\model.py:604: ConvergenceWarning: Maximum Likelihood optimization failed to converge. Check mle_retvals\n",
      "  warnings.warn(\"Maximum Likelihood optimization failed to \"\n"
     ]
    },
    {
     "name": "stdout",
     "output_type": "stream",
     "text": [
      "data_2 248 / 324\n",
      "data_2 249 / 324\n"
     ]
    },
    {
     "name": "stderr",
     "output_type": "stream",
     "text": [
      "c:\\Users\\e4903\\Desktop\\code\\myenv\\lib\\site-packages\\statsmodels\\base\\model.py:604: ConvergenceWarning: Maximum Likelihood optimization failed to converge. Check mle_retvals\n",
      "  warnings.warn(\"Maximum Likelihood optimization failed to \"\n"
     ]
    },
    {
     "name": "stdout",
     "output_type": "stream",
     "text": [
      "data_2 250 / 324\n"
     ]
    },
    {
     "name": "stderr",
     "output_type": "stream",
     "text": [
      "c:\\Users\\e4903\\Desktop\\code\\myenv\\lib\\site-packages\\statsmodels\\base\\model.py:604: ConvergenceWarning: Maximum Likelihood optimization failed to converge. Check mle_retvals\n",
      "  warnings.warn(\"Maximum Likelihood optimization failed to \"\n"
     ]
    },
    {
     "name": "stdout",
     "output_type": "stream",
     "text": [
      "data_2 251 / 324\n"
     ]
    },
    {
     "name": "stderr",
     "output_type": "stream",
     "text": [
      "c:\\Users\\e4903\\Desktop\\code\\myenv\\lib\\site-packages\\statsmodels\\base\\model.py:604: ConvergenceWarning: Maximum Likelihood optimization failed to converge. Check mle_retvals\n",
      "  warnings.warn(\"Maximum Likelihood optimization failed to \"\n"
     ]
    },
    {
     "name": "stdout",
     "output_type": "stream",
     "text": [
      "data_2 252 / 324\n",
      "data_2 253 / 324\n",
      "data_2 254 / 324\n",
      "data_2 255 / 324\n",
      "data_2 256 / 324\n",
      "data_2 257 / 324\n"
     ]
    },
    {
     "name": "stderr",
     "output_type": "stream",
     "text": [
      "c:\\Users\\e4903\\Desktop\\code\\myenv\\lib\\site-packages\\statsmodels\\tsa\\statespace\\sarimax.py:1009: UserWarning: Non-invertible starting seasonal moving average Using zeros as starting parameters.\n",
      "  warn('Non-invertible starting seasonal moving average'\n"
     ]
    },
    {
     "name": "stdout",
     "output_type": "stream",
     "text": [
      "data_2 258 / 324\n",
      "data_2 259 / 324\n",
      "data_2 260 / 324\n",
      "data_2 261 / 324\n",
      "data_2 262 / 324\n",
      "data_2 263 / 324\n",
      "data_2 264 / 324\n",
      "data_2 265 / 324\n"
     ]
    },
    {
     "name": "stderr",
     "output_type": "stream",
     "text": [
      "c:\\Users\\e4903\\Desktop\\code\\myenv\\lib\\site-packages\\statsmodels\\base\\model.py:604: ConvergenceWarning: Maximum Likelihood optimization failed to converge. Check mle_retvals\n",
      "  warnings.warn(\"Maximum Likelihood optimization failed to \"\n"
     ]
    },
    {
     "name": "stdout",
     "output_type": "stream",
     "text": [
      "data_2 266 / 324\n",
      "data_2 267 / 324\n",
      "data_2 268 / 324\n",
      "data_2 269 / 324\n",
      "data_2 270 / 324\n",
      "data_2 271 / 324\n",
      "data_2 272 / 324\n"
     ]
    },
    {
     "name": "stderr",
     "output_type": "stream",
     "text": [
      "c:\\Users\\e4903\\Desktop\\code\\myenv\\lib\\site-packages\\statsmodels\\base\\model.py:604: ConvergenceWarning: Maximum Likelihood optimization failed to converge. Check mle_retvals\n",
      "  warnings.warn(\"Maximum Likelihood optimization failed to \"\n"
     ]
    },
    {
     "name": "stdout",
     "output_type": "stream",
     "text": [
      "data_2 273 / 324\n",
      "data_2 274 / 324\n",
      "data_2 275 / 324\n"
     ]
    },
    {
     "name": "stderr",
     "output_type": "stream",
     "text": [
      "c:\\Users\\e4903\\Desktop\\code\\myenv\\lib\\site-packages\\statsmodels\\tsa\\statespace\\sarimax.py:1009: UserWarning: Non-invertible starting seasonal moving average Using zeros as starting parameters.\n",
      "  warn('Non-invertible starting seasonal moving average'\n"
     ]
    },
    {
     "name": "stdout",
     "output_type": "stream",
     "text": [
      "data_2 276 / 324\n",
      "data_2 277 / 324\n",
      "data_2 278 / 324\n"
     ]
    },
    {
     "name": "stderr",
     "output_type": "stream",
     "text": [
      "c:\\Users\\e4903\\Desktop\\code\\myenv\\lib\\site-packages\\statsmodels\\base\\model.py:604: ConvergenceWarning: Maximum Likelihood optimization failed to converge. Check mle_retvals\n",
      "  warnings.warn(\"Maximum Likelihood optimization failed to \"\n"
     ]
    },
    {
     "name": "stdout",
     "output_type": "stream",
     "text": [
      "data_2 279 / 324\n",
      "data_2 280 / 324\n",
      "data_2 281 / 324\n",
      "data_2 282 / 324\n",
      "data_2 283 / 324\n"
     ]
    },
    {
     "name": "stderr",
     "output_type": "stream",
     "text": [
      "c:\\Users\\e4903\\Desktop\\code\\myenv\\lib\\site-packages\\statsmodels\\base\\model.py:604: ConvergenceWarning: Maximum Likelihood optimization failed to converge. Check mle_retvals\n",
      "  warnings.warn(\"Maximum Likelihood optimization failed to \"\n"
     ]
    },
    {
     "name": "stdout",
     "output_type": "stream",
     "text": [
      "data_2 284 / 324\n",
      "data_2 285 / 324\n",
      "data_2 286 / 324\n",
      "data_2 287 / 324\n",
      "data_2 288 / 324\n",
      "data_2 289 / 324\n",
      "data_2 290 / 324\n",
      "data_2 291 / 324\n",
      "data_2 292 / 324\n",
      "data_2 293 / 324\n"
     ]
    },
    {
     "name": "stderr",
     "output_type": "stream",
     "text": [
      "c:\\Users\\e4903\\Desktop\\code\\myenv\\lib\\site-packages\\statsmodels\\tsa\\statespace\\sarimax.py:1009: UserWarning: Non-invertible starting seasonal moving average Using zeros as starting parameters.\n",
      "  warn('Non-invertible starting seasonal moving average'\n"
     ]
    },
    {
     "name": "stdout",
     "output_type": "stream",
     "text": [
      "data_2 294 / 324\n",
      "data_2 295 / 324\n",
      "data_2 296 / 324\n",
      "data_2 297 / 324\n",
      "data_2 298 / 324\n",
      "data_2 299 / 324\n",
      "data_2 300 / 324\n",
      "data_2 301 / 324\n"
     ]
    },
    {
     "name": "stderr",
     "output_type": "stream",
     "text": [
      "c:\\Users\\e4903\\Desktop\\code\\myenv\\lib\\site-packages\\statsmodels\\base\\model.py:604: ConvergenceWarning: Maximum Likelihood optimization failed to converge. Check mle_retvals\n",
      "  warnings.warn(\"Maximum Likelihood optimization failed to \"\n"
     ]
    },
    {
     "name": "stdout",
     "output_type": "stream",
     "text": [
      "data_2 302 / 324\n",
      "data_2 303 / 324\n",
      "data_2 304 / 324\n",
      "data_2 305 / 324\n",
      "data_2 306 / 324\n"
     ]
    },
    {
     "name": "stderr",
     "output_type": "stream",
     "text": [
      "c:\\Users\\e4903\\Desktop\\code\\myenv\\lib\\site-packages\\statsmodels\\base\\model.py:604: ConvergenceWarning: Maximum Likelihood optimization failed to converge. Check mle_retvals\n",
      "  warnings.warn(\"Maximum Likelihood optimization failed to \"\n"
     ]
    },
    {
     "name": "stdout",
     "output_type": "stream",
     "text": [
      "data_2 307 / 324\n",
      "data_2 308 / 324\n",
      "data_2 309 / 324\n",
      "data_2 310 / 324\n",
      "data_2 311 / 324\n"
     ]
    },
    {
     "name": "stderr",
     "output_type": "stream",
     "text": [
      "c:\\Users\\e4903\\Desktop\\code\\myenv\\lib\\site-packages\\statsmodels\\tsa\\statespace\\sarimax.py:1009: UserWarning: Non-invertible starting seasonal moving average Using zeros as starting parameters.\n",
      "  warn('Non-invertible starting seasonal moving average'\n"
     ]
    },
    {
     "name": "stdout",
     "output_type": "stream",
     "text": [
      "data_2 312 / 324\n"
     ]
    },
    {
     "name": "stderr",
     "output_type": "stream",
     "text": [
      "c:\\Users\\e4903\\Desktop\\code\\myenv\\lib\\site-packages\\statsmodels\\base\\model.py:604: ConvergenceWarning: Maximum Likelihood optimization failed to converge. Check mle_retvals\n",
      "  warnings.warn(\"Maximum Likelihood optimization failed to \"\n"
     ]
    },
    {
     "name": "stdout",
     "output_type": "stream",
     "text": [
      "data_2 313 / 324\n",
      "data_2 314 / 324\n",
      "data_2 315 / 324\n",
      "data_2 316 / 324\n"
     ]
    },
    {
     "name": "stderr",
     "output_type": "stream",
     "text": [
      "c:\\Users\\e4903\\Desktop\\code\\myenv\\lib\\site-packages\\statsmodels\\base\\model.py:604: ConvergenceWarning: Maximum Likelihood optimization failed to converge. Check mle_retvals\n",
      "  warnings.warn(\"Maximum Likelihood optimization failed to \"\n"
     ]
    },
    {
     "name": "stdout",
     "output_type": "stream",
     "text": [
      "data_2 317 / 324\n",
      "data_2 318 / 324\n",
      "data_2 319 / 324\n"
     ]
    },
    {
     "name": "stderr",
     "output_type": "stream",
     "text": [
      "c:\\Users\\e4903\\Desktop\\code\\myenv\\lib\\site-packages\\statsmodels\\base\\model.py:604: ConvergenceWarning: Maximum Likelihood optimization failed to converge. Check mle_retvals\n",
      "  warnings.warn(\"Maximum Likelihood optimization failed to \"\n"
     ]
    },
    {
     "name": "stdout",
     "output_type": "stream",
     "text": [
      "data_2 320 / 324\n",
      "data_2 321 / 324\n"
     ]
    },
    {
     "name": "stderr",
     "output_type": "stream",
     "text": [
      "c:\\Users\\e4903\\Desktop\\code\\myenv\\lib\\site-packages\\statsmodels\\base\\model.py:604: ConvergenceWarning: Maximum Likelihood optimization failed to converge. Check mle_retvals\n",
      "  warnings.warn(\"Maximum Likelihood optimization failed to \"\n"
     ]
    },
    {
     "name": "stdout",
     "output_type": "stream",
     "text": [
      "data_2 322 / 324\n",
      "data_2 323 / 324\n",
      "data_2 324 / 324\n",
      "data_3 1 / 324\n",
      "data_3 2 / 324\n",
      "data_3 3 / 324\n",
      "data_3 4 / 324\n",
      "data_3 5 / 324\n",
      "data_3 6 / 324\n",
      "data_3 7 / 324\n",
      "data_3 8 / 324\n",
      "data_3 9 / 324\n",
      "data_3 10 / 324\n",
      "data_3 11 / 324\n",
      "data_3 12 / 324\n",
      "data_3 13 / 324\n",
      "data_3 14 / 324\n",
      "data_3 15 / 324\n",
      "data_3 16 / 324\n",
      "data_3 17 / 324\n",
      "data_3 18 / 324\n",
      "data_3 19 / 324\n",
      "data_3 20 / 324\n",
      "data_3 21 / 324\n",
      "data_3 22 / 324\n",
      "data_3 23 / 324\n",
      "data_3 24 / 324\n",
      "data_3 25 / 324\n",
      "data_3 26 / 324\n",
      "data_3 27 / 324\n",
      "data_3 28 / 324\n",
      "data_3 29 / 324\n",
      "data_3 30 / 324\n",
      "data_3 31 / 324\n",
      "data_3 32 / 324\n",
      "data_3 33 / 324\n",
      "data_3 34 / 324\n",
      "data_3 35 / 324\n",
      "data_3 36 / 324\n",
      "data_3 37 / 324\n",
      "data_3 38 / 324\n",
      "data_3 39 / 324\n",
      "data_3 40 / 324\n",
      "data_3 41 / 324\n"
     ]
    },
    {
     "name": "stderr",
     "output_type": "stream",
     "text": [
      "c:\\Users\\e4903\\Desktop\\code\\myenv\\lib\\site-packages\\statsmodels\\tsa\\statespace\\sarimax.py:1009: UserWarning: Non-invertible starting seasonal moving average Using zeros as starting parameters.\n",
      "  warn('Non-invertible starting seasonal moving average'\n"
     ]
    },
    {
     "name": "stdout",
     "output_type": "stream",
     "text": [
      "data_3 42 / 324\n",
      "data_3 43 / 324\n",
      "data_3 44 / 324\n",
      "data_3 45 / 324\n",
      "data_3 46 / 324\n",
      "data_3 47 / 324\n",
      "data_3 48 / 324\n",
      "data_3 49 / 324\n"
     ]
    },
    {
     "name": "stderr",
     "output_type": "stream",
     "text": [
      "c:\\Users\\e4903\\Desktop\\code\\myenv\\lib\\site-packages\\statsmodels\\base\\model.py:604: ConvergenceWarning: Maximum Likelihood optimization failed to converge. Check mle_retvals\n",
      "  warnings.warn(\"Maximum Likelihood optimization failed to \"\n"
     ]
    },
    {
     "name": "stdout",
     "output_type": "stream",
     "text": [
      "data_3 50 / 324\n",
      "data_3 51 / 324\n",
      "data_3 52 / 324\n",
      "data_3 53 / 324\n",
      "data_3 54 / 324\n",
      "data_3 55 / 324\n",
      "data_3 56 / 324\n",
      "data_3 57 / 324\n",
      "data_3 58 / 324\n",
      "data_3 59 / 324\n"
     ]
    },
    {
     "name": "stderr",
     "output_type": "stream",
     "text": [
      "c:\\Users\\e4903\\Desktop\\code\\myenv\\lib\\site-packages\\statsmodels\\tsa\\statespace\\sarimax.py:1009: UserWarning: Non-invertible starting seasonal moving average Using zeros as starting parameters.\n",
      "  warn('Non-invertible starting seasonal moving average'\n"
     ]
    },
    {
     "name": "stdout",
     "output_type": "stream",
     "text": [
      "data_3 60 / 324\n",
      "data_3 61 / 324\n",
      "data_3 62 / 324\n",
      "data_3 63 / 324\n",
      "data_3 64 / 324\n",
      "data_3 65 / 324\n",
      "data_3 66 / 324\n",
      "data_3 67 / 324\n"
     ]
    },
    {
     "name": "stderr",
     "output_type": "stream",
     "text": [
      "c:\\Users\\e4903\\Desktop\\code\\myenv\\lib\\site-packages\\statsmodels\\base\\model.py:604: ConvergenceWarning: Maximum Likelihood optimization failed to converge. Check mle_retvals\n",
      "  warnings.warn(\"Maximum Likelihood optimization failed to \"\n"
     ]
    },
    {
     "name": "stdout",
     "output_type": "stream",
     "text": [
      "data_3 68 / 324\n",
      "data_3 69 / 324\n",
      "data_3 70 / 324\n",
      "data_3 71 / 324\n",
      "data_3 72 / 324\n",
      "data_3 73 / 324\n",
      "data_3 74 / 324\n",
      "data_3 75 / 324\n",
      "data_3 76 / 324\n",
      "data_3 77 / 324\n"
     ]
    },
    {
     "name": "stderr",
     "output_type": "stream",
     "text": [
      "c:\\Users\\e4903\\Desktop\\code\\myenv\\lib\\site-packages\\statsmodels\\tsa\\statespace\\sarimax.py:1009: UserWarning: Non-invertible starting seasonal moving average Using zeros as starting parameters.\n",
      "  warn('Non-invertible starting seasonal moving average'\n"
     ]
    },
    {
     "name": "stdout",
     "output_type": "stream",
     "text": [
      "data_3 78 / 324\n"
     ]
    },
    {
     "name": "stderr",
     "output_type": "stream",
     "text": [
      "c:\\Users\\e4903\\Desktop\\code\\myenv\\lib\\site-packages\\statsmodels\\base\\model.py:604: ConvergenceWarning: Maximum Likelihood optimization failed to converge. Check mle_retvals\n",
      "  warnings.warn(\"Maximum Likelihood optimization failed to \"\n"
     ]
    },
    {
     "name": "stdout",
     "output_type": "stream",
     "text": [
      "data_3 79 / 324\n",
      "data_3 80 / 324\n",
      "data_3 81 / 324\n",
      "data_3 82 / 324\n",
      "data_3 83 / 324\n",
      "data_3 84 / 324\n",
      "data_3 85 / 324\n",
      "data_3 86 / 324\n",
      "data_3 87 / 324\n",
      "data_3 88 / 324\n",
      "data_3 89 / 324\n",
      "data_3 90 / 324\n",
      "data_3 91 / 324\n",
      "data_3 92 / 324\n",
      "data_3 93 / 324\n",
      "data_3 94 / 324\n",
      "data_3 95 / 324\n"
     ]
    },
    {
     "name": "stderr",
     "output_type": "stream",
     "text": [
      "c:\\Users\\e4903\\Desktop\\code\\myenv\\lib\\site-packages\\statsmodels\\tsa\\statespace\\sarimax.py:1009: UserWarning: Non-invertible starting seasonal moving average Using zeros as starting parameters.\n",
      "  warn('Non-invertible starting seasonal moving average'\n"
     ]
    },
    {
     "name": "stdout",
     "output_type": "stream",
     "text": [
      "data_3 96 / 324\n",
      "data_3 97 / 324\n",
      "data_3 98 / 324\n",
      "data_3 99 / 324\n",
      "data_3 100 / 324\n",
      "data_3 101 / 324\n",
      "data_3 102 / 324\n",
      "data_3 103 / 324\n"
     ]
    },
    {
     "name": "stderr",
     "output_type": "stream",
     "text": [
      "c:\\Users\\e4903\\Desktop\\code\\myenv\\lib\\site-packages\\statsmodels\\base\\model.py:604: ConvergenceWarning: Maximum Likelihood optimization failed to converge. Check mle_retvals\n",
      "  warnings.warn(\"Maximum Likelihood optimization failed to \"\n"
     ]
    },
    {
     "name": "stdout",
     "output_type": "stream",
     "text": [
      "data_3 104 / 324\n",
      "data_3 105 / 324\n",
      "data_3 106 / 324\n",
      "data_3 107 / 324\n",
      "data_3 108 / 324\n",
      "data_3 109 / 324\n",
      "data_3 110 / 324\n",
      "data_3 111 / 324\n",
      "data_3 112 / 324\n",
      "data_3 113 / 324\n",
      "data_3 114 / 324\n",
      "data_3 115 / 324\n",
      "data_3 116 / 324\n",
      "data_3 117 / 324\n",
      "data_3 118 / 324\n",
      "data_3 119 / 324\n",
      "data_3 120 / 324\n",
      "data_3 121 / 324\n",
      "data_3 122 / 324\n",
      "data_3 123 / 324\n",
      "data_3 124 / 324\n",
      "data_3 125 / 324\n",
      "data_3 126 / 324\n",
      "data_3 127 / 324\n",
      "data_3 128 / 324\n",
      "data_3 129 / 324\n",
      "data_3 130 / 324\n",
      "data_3 131 / 324\n",
      "data_3 132 / 324\n",
      "data_3 133 / 324\n",
      "data_3 134 / 324\n",
      "data_3 135 / 324\n",
      "data_3 136 / 324\n",
      "data_3 137 / 324\n",
      "data_3 138 / 324\n",
      "data_3 139 / 324\n",
      "data_3 140 / 324\n",
      "data_3 141 / 324\n",
      "data_3 142 / 324\n",
      "data_3 143 / 324\n"
     ]
    },
    {
     "name": "stderr",
     "output_type": "stream",
     "text": [
      "c:\\Users\\e4903\\Desktop\\code\\myenv\\lib\\site-packages\\statsmodels\\base\\model.py:604: ConvergenceWarning: Maximum Likelihood optimization failed to converge. Check mle_retvals\n",
      "  warnings.warn(\"Maximum Likelihood optimization failed to \"\n"
     ]
    },
    {
     "name": "stdout",
     "output_type": "stream",
     "text": [
      "data_3 144 / 324\n",
      "data_3 145 / 324\n",
      "data_3 146 / 324\n",
      "data_3 147 / 324\n",
      "data_3 148 / 324\n",
      "data_3 149 / 324\n"
     ]
    },
    {
     "name": "stderr",
     "output_type": "stream",
     "text": [
      "c:\\Users\\e4903\\Desktop\\code\\myenv\\lib\\site-packages\\statsmodels\\tsa\\statespace\\sarimax.py:1009: UserWarning: Non-invertible starting seasonal moving average Using zeros as starting parameters.\n",
      "  warn('Non-invertible starting seasonal moving average'\n"
     ]
    },
    {
     "name": "stdout",
     "output_type": "stream",
     "text": [
      "data_3 150 / 324\n",
      "data_3 151 / 324\n",
      "data_3 152 / 324\n",
      "data_3 153 / 324\n",
      "data_3 154 / 324\n",
      "data_3 155 / 324\n",
      "data_3 156 / 324\n",
      "data_3 157 / 324\n"
     ]
    },
    {
     "name": "stderr",
     "output_type": "stream",
     "text": [
      "c:\\Users\\e4903\\Desktop\\code\\myenv\\lib\\site-packages\\statsmodels\\base\\model.py:604: ConvergenceWarning: Maximum Likelihood optimization failed to converge. Check mle_retvals\n",
      "  warnings.warn(\"Maximum Likelihood optimization failed to \"\n"
     ]
    },
    {
     "name": "stdout",
     "output_type": "stream",
     "text": [
      "data_3 158 / 324\n",
      "data_3 159 / 324\n",
      "data_3 160 / 324\n",
      "data_3 161 / 324\n"
     ]
    },
    {
     "name": "stderr",
     "output_type": "stream",
     "text": [
      "c:\\Users\\e4903\\Desktop\\code\\myenv\\lib\\site-packages\\statsmodels\\base\\model.py:604: ConvergenceWarning: Maximum Likelihood optimization failed to converge. Check mle_retvals\n",
      "  warnings.warn(\"Maximum Likelihood optimization failed to \"\n"
     ]
    },
    {
     "name": "stdout",
     "output_type": "stream",
     "text": [
      "data_3 162 / 324\n",
      "data_3 163 / 324\n",
      "data_3 164 / 324\n",
      "data_3 165 / 324\n",
      "data_3 166 / 324\n",
      "data_3 167 / 324\n"
     ]
    },
    {
     "name": "stderr",
     "output_type": "stream",
     "text": [
      "c:\\Users\\e4903\\Desktop\\code\\myenv\\lib\\site-packages\\statsmodels\\tsa\\statespace\\sarimax.py:1009: UserWarning: Non-invertible starting seasonal moving average Using zeros as starting parameters.\n",
      "  warn('Non-invertible starting seasonal moving average'\n"
     ]
    },
    {
     "name": "stdout",
     "output_type": "stream",
     "text": [
      "data_3 168 / 324\n",
      "data_3 169 / 324\n",
      "data_3 170 / 324\n",
      "data_3 171 / 324\n",
      "data_3 172 / 324\n",
      "data_3 173 / 324\n",
      "data_3 174 / 324\n",
      "data_3 175 / 324\n"
     ]
    },
    {
     "name": "stderr",
     "output_type": "stream",
     "text": [
      "c:\\Users\\e4903\\Desktop\\code\\myenv\\lib\\site-packages\\statsmodels\\base\\model.py:604: ConvergenceWarning: Maximum Likelihood optimization failed to converge. Check mle_retvals\n",
      "  warnings.warn(\"Maximum Likelihood optimization failed to \"\n"
     ]
    },
    {
     "name": "stdout",
     "output_type": "stream",
     "text": [
      "data_3 176 / 324\n",
      "data_3 177 / 324\n",
      "data_3 178 / 324\n",
      "data_3 179 / 324\n",
      "data_3 180 / 324\n",
      "data_3 181 / 324\n",
      "data_3 182 / 324\n",
      "data_3 183 / 324\n",
      "data_3 184 / 324\n",
      "data_3 185 / 324\n"
     ]
    },
    {
     "name": "stderr",
     "output_type": "stream",
     "text": [
      "c:\\Users\\e4903\\Desktop\\code\\myenv\\lib\\site-packages\\statsmodels\\tsa\\statespace\\sarimax.py:1009: UserWarning: Non-invertible starting seasonal moving average Using zeros as starting parameters.\n",
      "  warn('Non-invertible starting seasonal moving average'\n"
     ]
    },
    {
     "name": "stdout",
     "output_type": "stream",
     "text": [
      "data_3 186 / 324\n",
      "data_3 187 / 324\n",
      "data_3 188 / 324\n",
      "data_3 189 / 324\n",
      "data_3 190 / 324\n",
      "data_3 191 / 324\n",
      "data_3 192 / 324\n",
      "data_3 193 / 324\n",
      "data_3 194 / 324\n",
      "data_3 195 / 324\n",
      "data_3 196 / 324\n",
      "data_3 197 / 324\n",
      "data_3 198 / 324\n",
      "data_3 199 / 324\n",
      "data_3 200 / 324\n",
      "data_3 201 / 324\n",
      "data_3 202 / 324\n",
      "data_3 203 / 324\n"
     ]
    },
    {
     "name": "stderr",
     "output_type": "stream",
     "text": [
      "c:\\Users\\e4903\\Desktop\\code\\myenv\\lib\\site-packages\\statsmodels\\tsa\\statespace\\sarimax.py:1009: UserWarning: Non-invertible starting seasonal moving average Using zeros as starting parameters.\n",
      "  warn('Non-invertible starting seasonal moving average'\n"
     ]
    },
    {
     "name": "stdout",
     "output_type": "stream",
     "text": [
      "data_3 204 / 324\n",
      "data_3 205 / 324\n",
      "data_3 206 / 324\n",
      "data_3 207 / 324\n",
      "data_3 208 / 324\n",
      "data_3 209 / 324\n",
      "data_3 210 / 324\n",
      "data_3 211 / 324\n"
     ]
    },
    {
     "name": "stderr",
     "output_type": "stream",
     "text": [
      "c:\\Users\\e4903\\Desktop\\code\\myenv\\lib\\site-packages\\statsmodels\\base\\model.py:604: ConvergenceWarning: Maximum Likelihood optimization failed to converge. Check mle_retvals\n",
      "  warnings.warn(\"Maximum Likelihood optimization failed to \"\n"
     ]
    },
    {
     "name": "stdout",
     "output_type": "stream",
     "text": [
      "data_3 212 / 324\n",
      "data_3 213 / 324\n",
      "data_3 214 / 324\n",
      "data_3 215 / 324\n",
      "data_3 216 / 324\n",
      "data_3 217 / 324\n",
      "data_3 218 / 324\n",
      "data_3 219 / 324\n",
      "data_3 220 / 324\n",
      "data_3 221 / 324\n",
      "data_3 222 / 324\n",
      "data_3 223 / 324\n",
      "data_3 224 / 324\n",
      "data_3 225 / 324\n",
      "data_3 226 / 324\n",
      "data_3 227 / 324\n",
      "data_3 228 / 324\n",
      "data_3 229 / 324\n",
      "data_3 230 / 324\n",
      "data_3 231 / 324\n"
     ]
    },
    {
     "name": "stderr",
     "output_type": "stream",
     "text": [
      "c:\\Users\\e4903\\Desktop\\code\\myenv\\lib\\site-packages\\statsmodels\\base\\model.py:604: ConvergenceWarning: Maximum Likelihood optimization failed to converge. Check mle_retvals\n",
      "  warnings.warn(\"Maximum Likelihood optimization failed to \"\n"
     ]
    },
    {
     "name": "stdout",
     "output_type": "stream",
     "text": [
      "data_3 232 / 324\n",
      "data_3 233 / 324\n",
      "data_3 234 / 324\n"
     ]
    },
    {
     "name": "stderr",
     "output_type": "stream",
     "text": [
      "c:\\Users\\e4903\\Desktop\\code\\myenv\\lib\\site-packages\\statsmodels\\tsa\\statespace\\sarimax.py:966: UserWarning: Non-stationary starting autoregressive parameters found. Using zeros as starting parameters.\n",
      "  warn('Non-stationary starting autoregressive parameters'\n",
      "c:\\Users\\e4903\\Desktop\\code\\myenv\\lib\\site-packages\\statsmodels\\tsa\\statespace\\sarimax.py:978: UserWarning: Non-invertible starting MA parameters found. Using zeros as starting parameters.\n",
      "  warn('Non-invertible starting MA parameters found.'\n",
      "c:\\Users\\e4903\\Desktop\\code\\myenv\\lib\\site-packages\\statsmodels\\base\\model.py:604: ConvergenceWarning: Maximum Likelihood optimization failed to converge. Check mle_retvals\n",
      "  warnings.warn(\"Maximum Likelihood optimization failed to \"\n",
      "c:\\Users\\e4903\\Desktop\\code\\myenv\\lib\\site-packages\\statsmodels\\tsa\\statespace\\sarimax.py:966: UserWarning: Non-stationary starting autoregressive parameters found. Using zeros as starting parameters.\n",
      "  warn('Non-stationary starting autoregressive parameters'\n",
      "c:\\Users\\e4903\\Desktop\\code\\myenv\\lib\\site-packages\\statsmodels\\tsa\\statespace\\sarimax.py:978: UserWarning: Non-invertible starting MA parameters found. Using zeros as starting parameters.\n",
      "  warn('Non-invertible starting MA parameters found.'\n"
     ]
    },
    {
     "name": "stdout",
     "output_type": "stream",
     "text": [
      "data_3 235 / 324\n"
     ]
    },
    {
     "name": "stderr",
     "output_type": "stream",
     "text": [
      "c:\\Users\\e4903\\Desktop\\code\\myenv\\lib\\site-packages\\statsmodels\\base\\model.py:604: ConvergenceWarning: Maximum Likelihood optimization failed to converge. Check mle_retvals\n",
      "  warnings.warn(\"Maximum Likelihood optimization failed to \"\n"
     ]
    },
    {
     "name": "stdout",
     "output_type": "stream",
     "text": [
      "data_3 236 / 324\n",
      "data_3 237 / 324\n"
     ]
    },
    {
     "name": "stderr",
     "output_type": "stream",
     "text": [
      "c:\\Users\\e4903\\Desktop\\code\\myenv\\lib\\site-packages\\statsmodels\\base\\model.py:604: ConvergenceWarning: Maximum Likelihood optimization failed to converge. Check mle_retvals\n",
      "  warnings.warn(\"Maximum Likelihood optimization failed to \"\n"
     ]
    },
    {
     "name": "stdout",
     "output_type": "stream",
     "text": [
      "data_3 238 / 324\n",
      "data_3 239 / 324\n"
     ]
    },
    {
     "name": "stderr",
     "output_type": "stream",
     "text": [
      "c:\\Users\\e4903\\Desktop\\code\\myenv\\lib\\site-packages\\statsmodels\\base\\model.py:604: ConvergenceWarning: Maximum Likelihood optimization failed to converge. Check mle_retvals\n",
      "  warnings.warn(\"Maximum Likelihood optimization failed to \"\n"
     ]
    },
    {
     "name": "stdout",
     "output_type": "stream",
     "text": [
      "data_3 240 / 324\n"
     ]
    },
    {
     "name": "stderr",
     "output_type": "stream",
     "text": [
      "c:\\Users\\e4903\\Desktop\\code\\myenv\\lib\\site-packages\\statsmodels\\tsa\\statespace\\sarimax.py:966: UserWarning: Non-stationary starting autoregressive parameters found. Using zeros as starting parameters.\n",
      "  warn('Non-stationary starting autoregressive parameters'\n",
      "c:\\Users\\e4903\\Desktop\\code\\myenv\\lib\\site-packages\\statsmodels\\tsa\\statespace\\sarimax.py:978: UserWarning: Non-invertible starting MA parameters found. Using zeros as starting parameters.\n",
      "  warn('Non-invertible starting MA parameters found.'\n",
      "c:\\Users\\e4903\\Desktop\\code\\myenv\\lib\\site-packages\\statsmodels\\base\\model.py:604: ConvergenceWarning: Maximum Likelihood optimization failed to converge. Check mle_retvals\n",
      "  warnings.warn(\"Maximum Likelihood optimization failed to \"\n",
      "c:\\Users\\e4903\\Desktop\\code\\myenv\\lib\\site-packages\\statsmodels\\tsa\\statespace\\sarimax.py:966: UserWarning: Non-stationary starting autoregressive parameters found. Using zeros as starting parameters.\n",
      "  warn('Non-stationary starting autoregressive parameters'\n",
      "c:\\Users\\e4903\\Desktop\\code\\myenv\\lib\\site-packages\\statsmodels\\tsa\\statespace\\sarimax.py:978: UserWarning: Non-invertible starting MA parameters found. Using zeros as starting parameters.\n",
      "  warn('Non-invertible starting MA parameters found.'\n"
     ]
    },
    {
     "name": "stdout",
     "output_type": "stream",
     "text": [
      "data_3 241 / 324\n"
     ]
    },
    {
     "name": "stderr",
     "output_type": "stream",
     "text": [
      "c:\\Users\\e4903\\Desktop\\code\\myenv\\lib\\site-packages\\statsmodels\\base\\model.py:604: ConvergenceWarning: Maximum Likelihood optimization failed to converge. Check mle_retvals\n",
      "  warnings.warn(\"Maximum Likelihood optimization failed to \"\n"
     ]
    },
    {
     "name": "stdout",
     "output_type": "stream",
     "text": [
      "data_3 242 / 324\n"
     ]
    },
    {
     "name": "stderr",
     "output_type": "stream",
     "text": [
      "c:\\Users\\e4903\\Desktop\\code\\myenv\\lib\\site-packages\\statsmodels\\base\\model.py:604: ConvergenceWarning: Maximum Likelihood optimization failed to converge. Check mle_retvals\n",
      "  warnings.warn(\"Maximum Likelihood optimization failed to \"\n"
     ]
    },
    {
     "name": "stdout",
     "output_type": "stream",
     "text": [
      "data_3 243 / 324\n"
     ]
    },
    {
     "name": "stderr",
     "output_type": "stream",
     "text": [
      "c:\\Users\\e4903\\Desktop\\code\\myenv\\lib\\site-packages\\statsmodels\\base\\model.py:604: ConvergenceWarning: Maximum Likelihood optimization failed to converge. Check mle_retvals\n",
      "  warnings.warn(\"Maximum Likelihood optimization failed to \"\n"
     ]
    },
    {
     "name": "stdout",
     "output_type": "stream",
     "text": [
      "data_3 244 / 324\n"
     ]
    },
    {
     "name": "stderr",
     "output_type": "stream",
     "text": [
      "c:\\Users\\e4903\\Desktop\\code\\myenv\\lib\\site-packages\\statsmodels\\base\\model.py:604: ConvergenceWarning: Maximum Likelihood optimization failed to converge. Check mle_retvals\n",
      "  warnings.warn(\"Maximum Likelihood optimization failed to \"\n"
     ]
    },
    {
     "name": "stdout",
     "output_type": "stream",
     "text": [
      "data_3 245 / 324\n"
     ]
    },
    {
     "name": "stderr",
     "output_type": "stream",
     "text": [
      "c:\\Users\\e4903\\Desktop\\code\\myenv\\lib\\site-packages\\statsmodels\\base\\model.py:604: ConvergenceWarning: Maximum Likelihood optimization failed to converge. Check mle_retvals\n",
      "  warnings.warn(\"Maximum Likelihood optimization failed to \"\n"
     ]
    },
    {
     "name": "stdout",
     "output_type": "stream",
     "text": [
      "data_3 246 / 324\n"
     ]
    },
    {
     "name": "stderr",
     "output_type": "stream",
     "text": [
      "c:\\Users\\e4903\\Desktop\\code\\myenv\\lib\\site-packages\\statsmodels\\tsa\\statespace\\sarimax.py:966: UserWarning: Non-stationary starting autoregressive parameters found. Using zeros as starting parameters.\n",
      "  warn('Non-stationary starting autoregressive parameters'\n",
      "c:\\Users\\e4903\\Desktop\\code\\myenv\\lib\\site-packages\\statsmodels\\tsa\\statespace\\sarimax.py:978: UserWarning: Non-invertible starting MA parameters found. Using zeros as starting parameters.\n",
      "  warn('Non-invertible starting MA parameters found.'\n",
      "c:\\Users\\e4903\\Desktop\\code\\myenv\\lib\\site-packages\\statsmodels\\base\\model.py:604: ConvergenceWarning: Maximum Likelihood optimization failed to converge. Check mle_retvals\n",
      "  warnings.warn(\"Maximum Likelihood optimization failed to \"\n",
      "c:\\Users\\e4903\\Desktop\\code\\myenv\\lib\\site-packages\\statsmodels\\tsa\\statespace\\sarimax.py:966: UserWarning: Non-stationary starting autoregressive parameters found. Using zeros as starting parameters.\n",
      "  warn('Non-stationary starting autoregressive parameters'\n",
      "c:\\Users\\e4903\\Desktop\\code\\myenv\\lib\\site-packages\\statsmodels\\tsa\\statespace\\sarimax.py:978: UserWarning: Non-invertible starting MA parameters found. Using zeros as starting parameters.\n",
      "  warn('Non-invertible starting MA parameters found.'\n"
     ]
    },
    {
     "name": "stdout",
     "output_type": "stream",
     "text": [
      "data_3 247 / 324\n"
     ]
    },
    {
     "name": "stderr",
     "output_type": "stream",
     "text": [
      "c:\\Users\\e4903\\Desktop\\code\\myenv\\lib\\site-packages\\statsmodels\\base\\model.py:604: ConvergenceWarning: Maximum Likelihood optimization failed to converge. Check mle_retvals\n",
      "  warnings.warn(\"Maximum Likelihood optimization failed to \"\n"
     ]
    },
    {
     "name": "stdout",
     "output_type": "stream",
     "text": [
      "data_3 248 / 324\n",
      "data_3 249 / 324\n"
     ]
    },
    {
     "name": "stderr",
     "output_type": "stream",
     "text": [
      "c:\\Users\\e4903\\Desktop\\code\\myenv\\lib\\site-packages\\statsmodels\\base\\model.py:604: ConvergenceWarning: Maximum Likelihood optimization failed to converge. Check mle_retvals\n",
      "  warnings.warn(\"Maximum Likelihood optimization failed to \"\n"
     ]
    },
    {
     "name": "stdout",
     "output_type": "stream",
     "text": [
      "data_3 250 / 324\n"
     ]
    },
    {
     "name": "stderr",
     "output_type": "stream",
     "text": [
      "c:\\Users\\e4903\\Desktop\\code\\myenv\\lib\\site-packages\\statsmodels\\base\\model.py:604: ConvergenceWarning: Maximum Likelihood optimization failed to converge. Check mle_retvals\n",
      "  warnings.warn(\"Maximum Likelihood optimization failed to \"\n"
     ]
    },
    {
     "name": "stdout",
     "output_type": "stream",
     "text": [
      "data_3 251 / 324\n"
     ]
    },
    {
     "name": "stderr",
     "output_type": "stream",
     "text": [
      "c:\\Users\\e4903\\Desktop\\code\\myenv\\lib\\site-packages\\statsmodels\\base\\model.py:604: ConvergenceWarning: Maximum Likelihood optimization failed to converge. Check mle_retvals\n",
      "  warnings.warn(\"Maximum Likelihood optimization failed to \"\n"
     ]
    },
    {
     "name": "stdout",
     "output_type": "stream",
     "text": [
      "data_3 252 / 324\n",
      "data_3 253 / 324\n",
      "data_3 254 / 324\n",
      "data_3 255 / 324\n",
      "data_3 256 / 324\n",
      "data_3 257 / 324\n"
     ]
    },
    {
     "name": "stderr",
     "output_type": "stream",
     "text": [
      "c:\\Users\\e4903\\Desktop\\code\\myenv\\lib\\site-packages\\statsmodels\\tsa\\statespace\\sarimax.py:1009: UserWarning: Non-invertible starting seasonal moving average Using zeros as starting parameters.\n",
      "  warn('Non-invertible starting seasonal moving average'\n"
     ]
    },
    {
     "name": "stdout",
     "output_type": "stream",
     "text": [
      "data_3 258 / 324\n",
      "data_3 259 / 324\n",
      "data_3 260 / 324\n",
      "data_3 261 / 324\n",
      "data_3 262 / 324\n",
      "data_3 263 / 324\n",
      "data_3 264 / 324\n",
      "data_3 265 / 324\n"
     ]
    },
    {
     "name": "stderr",
     "output_type": "stream",
     "text": [
      "c:\\Users\\e4903\\Desktop\\code\\myenv\\lib\\site-packages\\statsmodels\\base\\model.py:604: ConvergenceWarning: Maximum Likelihood optimization failed to converge. Check mle_retvals\n",
      "  warnings.warn(\"Maximum Likelihood optimization failed to \"\n"
     ]
    },
    {
     "name": "stdout",
     "output_type": "stream",
     "text": [
      "data_3 266 / 324\n",
      "data_3 267 / 324\n",
      "data_3 268 / 324\n",
      "data_3 269 / 324\n",
      "data_3 270 / 324\n",
      "data_3 271 / 324\n",
      "data_3 272 / 324\n",
      "data_3 273 / 324\n",
      "data_3 274 / 324\n",
      "data_3 275 / 324\n"
     ]
    },
    {
     "name": "stderr",
     "output_type": "stream",
     "text": [
      "c:\\Users\\e4903\\Desktop\\code\\myenv\\lib\\site-packages\\statsmodels\\tsa\\statespace\\sarimax.py:1009: UserWarning: Non-invertible starting seasonal moving average Using zeros as starting parameters.\n",
      "  warn('Non-invertible starting seasonal moving average'\n"
     ]
    },
    {
     "name": "stdout",
     "output_type": "stream",
     "text": [
      "data_3 276 / 324\n",
      "data_3 277 / 324\n",
      "data_3 278 / 324\n",
      "data_3 279 / 324\n",
      "data_3 280 / 324\n",
      "data_3 281 / 324\n",
      "data_3 282 / 324\n",
      "data_3 283 / 324\n"
     ]
    },
    {
     "name": "stderr",
     "output_type": "stream",
     "text": [
      "c:\\Users\\e4903\\Desktop\\code\\myenv\\lib\\site-packages\\statsmodels\\base\\model.py:604: ConvergenceWarning: Maximum Likelihood optimization failed to converge. Check mle_retvals\n",
      "  warnings.warn(\"Maximum Likelihood optimization failed to \"\n"
     ]
    },
    {
     "name": "stdout",
     "output_type": "stream",
     "text": [
      "data_3 284 / 324\n",
      "data_3 285 / 324\n"
     ]
    },
    {
     "name": "stderr",
     "output_type": "stream",
     "text": [
      "c:\\Users\\e4903\\Desktop\\code\\myenv\\lib\\site-packages\\statsmodels\\base\\model.py:604: ConvergenceWarning: Maximum Likelihood optimization failed to converge. Check mle_retvals\n",
      "  warnings.warn(\"Maximum Likelihood optimization failed to \"\n"
     ]
    },
    {
     "name": "stdout",
     "output_type": "stream",
     "text": [
      "data_3 286 / 324\n",
      "data_3 287 / 324\n"
     ]
    },
    {
     "name": "stderr",
     "output_type": "stream",
     "text": [
      "c:\\Users\\e4903\\Desktop\\code\\myenv\\lib\\site-packages\\statsmodels\\base\\model.py:604: ConvergenceWarning: Maximum Likelihood optimization failed to converge. Check mle_retvals\n",
      "  warnings.warn(\"Maximum Likelihood optimization failed to \"\n"
     ]
    },
    {
     "name": "stdout",
     "output_type": "stream",
     "text": [
      "data_3 288 / 324\n",
      "data_3 289 / 324\n",
      "data_3 290 / 324\n",
      "data_3 291 / 324\n",
      "data_3 292 / 324\n",
      "data_3 293 / 324\n"
     ]
    },
    {
     "name": "stderr",
     "output_type": "stream",
     "text": [
      "c:\\Users\\e4903\\Desktop\\code\\myenv\\lib\\site-packages\\statsmodels\\tsa\\statespace\\sarimax.py:1009: UserWarning: Non-invertible starting seasonal moving average Using zeros as starting parameters.\n",
      "  warn('Non-invertible starting seasonal moving average'\n"
     ]
    },
    {
     "name": "stdout",
     "output_type": "stream",
     "text": [
      "data_3 294 / 324\n",
      "data_3 295 / 324\n",
      "data_3 296 / 324\n",
      "data_3 297 / 324\n",
      "data_3 298 / 324\n",
      "data_3 299 / 324\n"
     ]
    },
    {
     "name": "stderr",
     "output_type": "stream",
     "text": [
      "c:\\Users\\e4903\\Desktop\\code\\myenv\\lib\\site-packages\\statsmodels\\base\\model.py:604: ConvergenceWarning: Maximum Likelihood optimization failed to converge. Check mle_retvals\n",
      "  warnings.warn(\"Maximum Likelihood optimization failed to \"\n"
     ]
    },
    {
     "name": "stdout",
     "output_type": "stream",
     "text": [
      "data_3 300 / 324\n",
      "data_3 301 / 324\n"
     ]
    },
    {
     "name": "stderr",
     "output_type": "stream",
     "text": [
      "c:\\Users\\e4903\\Desktop\\code\\myenv\\lib\\site-packages\\statsmodels\\base\\model.py:604: ConvergenceWarning: Maximum Likelihood optimization failed to converge. Check mle_retvals\n",
      "  warnings.warn(\"Maximum Likelihood optimization failed to \"\n"
     ]
    },
    {
     "name": "stdout",
     "output_type": "stream",
     "text": [
      "data_3 302 / 324\n",
      "data_3 303 / 324\n",
      "data_3 304 / 324\n",
      "data_3 305 / 324\n",
      "data_3 306 / 324\n",
      "data_3 307 / 324\n",
      "data_3 308 / 324\n",
      "data_3 309 / 324\n",
      "data_3 310 / 324\n",
      "data_3 311 / 324\n"
     ]
    },
    {
     "name": "stderr",
     "output_type": "stream",
     "text": [
      "c:\\Users\\e4903\\Desktop\\code\\myenv\\lib\\site-packages\\statsmodels\\tsa\\statespace\\sarimax.py:1009: UserWarning: Non-invertible starting seasonal moving average Using zeros as starting parameters.\n",
      "  warn('Non-invertible starting seasonal moving average'\n"
     ]
    },
    {
     "name": "stdout",
     "output_type": "stream",
     "text": [
      "data_3 312 / 324\n",
      "data_3 313 / 324\n",
      "data_3 314 / 324\n",
      "data_3 315 / 324\n",
      "data_3 316 / 324\n",
      "data_3 317 / 324\n",
      "data_3 318 / 324\n",
      "data_3 319 / 324\n"
     ]
    },
    {
     "name": "stderr",
     "output_type": "stream",
     "text": [
      "c:\\Users\\e4903\\Desktop\\code\\myenv\\lib\\site-packages\\statsmodels\\base\\model.py:604: ConvergenceWarning: Maximum Likelihood optimization failed to converge. Check mle_retvals\n",
      "  warnings.warn(\"Maximum Likelihood optimization failed to \"\n"
     ]
    },
    {
     "name": "stdout",
     "output_type": "stream",
     "text": [
      "data_3 320 / 324\n",
      "data_3 321 / 324\n"
     ]
    },
    {
     "name": "stderr",
     "output_type": "stream",
     "text": [
      "c:\\Users\\e4903\\Desktop\\code\\myenv\\lib\\site-packages\\statsmodels\\base\\model.py:604: ConvergenceWarning: Maximum Likelihood optimization failed to converge. Check mle_retvals\n",
      "  warnings.warn(\"Maximum Likelihood optimization failed to \"\n"
     ]
    },
    {
     "name": "stdout",
     "output_type": "stream",
     "text": [
      "data_3 322 / 324\n"
     ]
    },
    {
     "name": "stderr",
     "output_type": "stream",
     "text": [
      "c:\\Users\\e4903\\Desktop\\code\\myenv\\lib\\site-packages\\statsmodels\\base\\model.py:604: ConvergenceWarning: Maximum Likelihood optimization failed to converge. Check mle_retvals\n",
      "  warnings.warn(\"Maximum Likelihood optimization failed to \"\n"
     ]
    },
    {
     "name": "stdout",
     "output_type": "stream",
     "text": [
      "data_3 323 / 324\n",
      "data_3 324 / 324\n",
      "data_4 1 / 324\n",
      "data_4 2 / 324\n",
      "data_4 3 / 324\n",
      "data_4 4 / 324\n",
      "data_4 5 / 324\n",
      "data_4 6 / 324\n",
      "data_4 7 / 324\n",
      "data_4 8 / 324\n",
      "data_4 9 / 324\n",
      "data_4 10 / 324\n",
      "data_4 11 / 324\n",
      "data_4 12 / 324\n",
      "data_4 13 / 324\n",
      "data_4 14 / 324\n",
      "data_4 15 / 324\n",
      "data_4 16 / 324\n",
      "data_4 17 / 324\n",
      "data_4 18 / 324\n",
      "data_4 19 / 324\n"
     ]
    },
    {
     "name": "stderr",
     "output_type": "stream",
     "text": [
      "c:\\Users\\e4903\\Desktop\\code\\myenv\\lib\\site-packages\\statsmodels\\tsa\\statespace\\sarimax.py:978: UserWarning: Non-invertible starting MA parameters found. Using zeros as starting parameters.\n",
      "  warn('Non-invertible starting MA parameters found.'\n",
      "c:\\Users\\e4903\\Desktop\\code\\myenv\\lib\\site-packages\\statsmodels\\tsa\\statespace\\sarimax.py:978: UserWarning: Non-invertible starting MA parameters found. Using zeros as starting parameters.\n",
      "  warn('Non-invertible starting MA parameters found.'\n"
     ]
    },
    {
     "name": "stdout",
     "output_type": "stream",
     "text": [
      "data_4 20 / 324\n",
      "data_4 21 / 324\n"
     ]
    },
    {
     "name": "stderr",
     "output_type": "stream",
     "text": [
      "c:\\Users\\e4903\\Desktop\\code\\myenv\\lib\\site-packages\\statsmodels\\tsa\\statespace\\sarimax.py:978: UserWarning: Non-invertible starting MA parameters found. Using zeros as starting parameters.\n",
      "  warn('Non-invertible starting MA parameters found.'\n",
      "c:\\Users\\e4903\\Desktop\\code\\myenv\\lib\\site-packages\\statsmodels\\tsa\\statespace\\sarimax.py:978: UserWarning: Non-invertible starting MA parameters found. Using zeros as starting parameters.\n",
      "  warn('Non-invertible starting MA parameters found.'\n"
     ]
    },
    {
     "name": "stdout",
     "output_type": "stream",
     "text": [
      "data_4 22 / 324\n",
      "data_4 23 / 324\n",
      "data_4 24 / 324\n"
     ]
    },
    {
     "name": "stderr",
     "output_type": "stream",
     "text": [
      "c:\\Users\\e4903\\Desktop\\code\\myenv\\lib\\site-packages\\statsmodels\\tsa\\statespace\\sarimax.py:978: UserWarning: Non-invertible starting MA parameters found. Using zeros as starting parameters.\n",
      "  warn('Non-invertible starting MA parameters found.'\n"
     ]
    },
    {
     "name": "stdout",
     "output_type": "stream",
     "text": [
      "data_4 25 / 324\n"
     ]
    },
    {
     "name": "stderr",
     "output_type": "stream",
     "text": [
      "c:\\Users\\e4903\\Desktop\\code\\myenv\\lib\\site-packages\\statsmodels\\tsa\\statespace\\sarimax.py:978: UserWarning: Non-invertible starting MA parameters found. Using zeros as starting parameters.\n",
      "  warn('Non-invertible starting MA parameters found.'\n"
     ]
    },
    {
     "name": "stdout",
     "output_type": "stream",
     "text": [
      "data_4 26 / 324\n"
     ]
    },
    {
     "name": "stderr",
     "output_type": "stream",
     "text": [
      "c:\\Users\\e4903\\Desktop\\code\\myenv\\lib\\site-packages\\statsmodels\\tsa\\statespace\\sarimax.py:978: UserWarning: Non-invertible starting MA parameters found. Using zeros as starting parameters.\n",
      "  warn('Non-invertible starting MA parameters found.'\n"
     ]
    },
    {
     "name": "stdout",
     "output_type": "stream",
     "text": [
      "data_4 27 / 324\n"
     ]
    },
    {
     "name": "stderr",
     "output_type": "stream",
     "text": [
      "c:\\Users\\e4903\\Desktop\\code\\myenv\\lib\\site-packages\\statsmodels\\tsa\\statespace\\sarimax.py:978: UserWarning: Non-invertible starting MA parameters found. Using zeros as starting parameters.\n",
      "  warn('Non-invertible starting MA parameters found.'\n"
     ]
    },
    {
     "name": "stdout",
     "output_type": "stream",
     "text": [
      "data_4 28 / 324\n",
      "data_4 29 / 324\n",
      "data_4 30 / 324\n"
     ]
    },
    {
     "name": "stderr",
     "output_type": "stream",
     "text": [
      "c:\\Users\\e4903\\Desktop\\code\\myenv\\lib\\site-packages\\statsmodels\\tsa\\statespace\\sarimax.py:978: UserWarning: Non-invertible starting MA parameters found. Using zeros as starting parameters.\n",
      "  warn('Non-invertible starting MA parameters found.'\n"
     ]
    },
    {
     "name": "stdout",
     "output_type": "stream",
     "text": [
      "data_4 31 / 324\n"
     ]
    },
    {
     "name": "stderr",
     "output_type": "stream",
     "text": [
      "c:\\Users\\e4903\\Desktop\\code\\myenv\\lib\\site-packages\\statsmodels\\tsa\\statespace\\sarimax.py:978: UserWarning: Non-invertible starting MA parameters found. Using zeros as starting parameters.\n",
      "  warn('Non-invertible starting MA parameters found.'\n",
      "c:\\Users\\e4903\\Desktop\\code\\myenv\\lib\\site-packages\\statsmodels\\base\\model.py:604: ConvergenceWarning: Maximum Likelihood optimization failed to converge. Check mle_retvals\n",
      "  warnings.warn(\"Maximum Likelihood optimization failed to \"\n",
      "c:\\Users\\e4903\\Desktop\\code\\myenv\\lib\\site-packages\\statsmodels\\tsa\\statespace\\sarimax.py:978: UserWarning: Non-invertible starting MA parameters found. Using zeros as starting parameters.\n",
      "  warn('Non-invertible starting MA parameters found.'\n"
     ]
    },
    {
     "name": "stdout",
     "output_type": "stream",
     "text": [
      "data_4 32 / 324\n",
      "data_4 33 / 324\n"
     ]
    },
    {
     "name": "stderr",
     "output_type": "stream",
     "text": [
      "c:\\Users\\e4903\\Desktop\\code\\myenv\\lib\\site-packages\\statsmodels\\tsa\\statespace\\sarimax.py:978: UserWarning: Non-invertible starting MA parameters found. Using zeros as starting parameters.\n",
      "  warn('Non-invertible starting MA parameters found.'\n"
     ]
    },
    {
     "name": "stdout",
     "output_type": "stream",
     "text": [
      "data_4 34 / 324\n",
      "data_4 35 / 324\n",
      "data_4 36 / 324\n",
      "data_4 37 / 324\n",
      "data_4 38 / 324\n"
     ]
    },
    {
     "name": "stderr",
     "output_type": "stream",
     "text": [
      "c:\\Users\\e4903\\Desktop\\code\\myenv\\lib\\site-packages\\statsmodels\\base\\model.py:604: ConvergenceWarning: Maximum Likelihood optimization failed to converge. Check mle_retvals\n",
      "  warnings.warn(\"Maximum Likelihood optimization failed to \"\n"
     ]
    },
    {
     "name": "stdout",
     "output_type": "stream",
     "text": [
      "data_4 39 / 324\n",
      "data_4 40 / 324\n",
      "data_4 41 / 324\n"
     ]
    },
    {
     "name": "stderr",
     "output_type": "stream",
     "text": [
      "c:\\Users\\e4903\\Desktop\\code\\myenv\\lib\\site-packages\\statsmodels\\tsa\\statespace\\sarimax.py:1009: UserWarning: Non-invertible starting seasonal moving average Using zeros as starting parameters.\n",
      "  warn('Non-invertible starting seasonal moving average'\n"
     ]
    },
    {
     "name": "stdout",
     "output_type": "stream",
     "text": [
      "data_4 42 / 324\n",
      "data_4 43 / 324\n",
      "data_4 44 / 324\n",
      "data_4 45 / 324\n",
      "data_4 46 / 324\n",
      "data_4 47 / 324\n",
      "data_4 48 / 324\n",
      "data_4 49 / 324\n",
      "data_4 50 / 324\n",
      "data_4 51 / 324\n",
      "data_4 52 / 324\n",
      "data_4 53 / 324\n",
      "data_4 54 / 324\n",
      "data_4 55 / 324\n",
      "data_4 56 / 324\n",
      "data_4 57 / 324\n",
      "data_4 58 / 324\n",
      "data_4 59 / 324\n"
     ]
    },
    {
     "name": "stderr",
     "output_type": "stream",
     "text": [
      "c:\\Users\\e4903\\Desktop\\code\\myenv\\lib\\site-packages\\statsmodels\\tsa\\statespace\\sarimax.py:1009: UserWarning: Non-invertible starting seasonal moving average Using zeros as starting parameters.\n",
      "  warn('Non-invertible starting seasonal moving average'\n"
     ]
    },
    {
     "name": "stdout",
     "output_type": "stream",
     "text": [
      "data_4 60 / 324\n",
      "data_4 61 / 324\n",
      "data_4 62 / 324\n",
      "data_4 63 / 324\n",
      "data_4 64 / 324\n",
      "data_4 65 / 324\n",
      "data_4 66 / 324\n",
      "data_4 67 / 324\n",
      "data_4 68 / 324\n",
      "data_4 69 / 324\n",
      "data_4 70 / 324\n",
      "data_4 71 / 324\n",
      "data_4 72 / 324\n",
      "data_4 73 / 324\n",
      "data_4 74 / 324\n",
      "data_4 75 / 324\n",
      "data_4 76 / 324\n",
      "data_4 77 / 324\n"
     ]
    },
    {
     "name": "stderr",
     "output_type": "stream",
     "text": [
      "c:\\Users\\e4903\\Desktop\\code\\myenv\\lib\\site-packages\\statsmodels\\tsa\\statespace\\sarimax.py:1009: UserWarning: Non-invertible starting seasonal moving average Using zeros as starting parameters.\n",
      "  warn('Non-invertible starting seasonal moving average'\n"
     ]
    },
    {
     "name": "stdout",
     "output_type": "stream",
     "text": [
      "data_4 78 / 324\n",
      "data_4 79 / 324\n",
      "data_4 80 / 324\n",
      "data_4 81 / 324\n",
      "data_4 82 / 324\n",
      "data_4 83 / 324\n",
      "data_4 84 / 324\n",
      "data_4 85 / 324\n",
      "data_4 86 / 324\n",
      "data_4 87 / 324\n",
      "data_4 88 / 324\n",
      "data_4 89 / 324\n",
      "data_4 90 / 324\n",
      "data_4 91 / 324\n",
      "data_4 92 / 324\n",
      "data_4 93 / 324\n",
      "data_4 94 / 324\n",
      "data_4 95 / 324\n"
     ]
    },
    {
     "name": "stderr",
     "output_type": "stream",
     "text": [
      "c:\\Users\\e4903\\Desktop\\code\\myenv\\lib\\site-packages\\statsmodels\\tsa\\statespace\\sarimax.py:1009: UserWarning: Non-invertible starting seasonal moving average Using zeros as starting parameters.\n",
      "  warn('Non-invertible starting seasonal moving average'\n"
     ]
    },
    {
     "name": "stdout",
     "output_type": "stream",
     "text": [
      "data_4 96 / 324\n",
      "data_4 97 / 324\n",
      "data_4 98 / 324\n",
      "data_4 99 / 324\n",
      "data_4 100 / 324\n",
      "data_4 101 / 324\n",
      "data_4 102 / 324\n",
      "data_4 103 / 324\n",
      "data_4 104 / 324\n",
      "data_4 105 / 324\n",
      "data_4 106 / 324\n",
      "data_4 107 / 324\n"
     ]
    },
    {
     "name": "stderr",
     "output_type": "stream",
     "text": [
      "c:\\Users\\e4903\\Desktop\\code\\myenv\\lib\\site-packages\\statsmodels\\base\\model.py:604: ConvergenceWarning: Maximum Likelihood optimization failed to converge. Check mle_retvals\n",
      "  warnings.warn(\"Maximum Likelihood optimization failed to \"\n"
     ]
    },
    {
     "name": "stdout",
     "output_type": "stream",
     "text": [
      "data_4 108 / 324\n",
      "data_4 109 / 324\n",
      "data_4 110 / 324\n",
      "data_4 111 / 324\n",
      "data_4 112 / 324\n",
      "data_4 113 / 324\n",
      "data_4 114 / 324\n",
      "data_4 115 / 324\n",
      "data_4 116 / 324\n",
      "data_4 117 / 324\n",
      "data_4 118 / 324\n",
      "data_4 119 / 324\n",
      "data_4 120 / 324\n",
      "data_4 121 / 324\n"
     ]
    },
    {
     "name": "stderr",
     "output_type": "stream",
     "text": [
      "c:\\Users\\e4903\\Desktop\\code\\myenv\\lib\\site-packages\\statsmodels\\base\\model.py:604: ConvergenceWarning: Maximum Likelihood optimization failed to converge. Check mle_retvals\n",
      "  warnings.warn(\"Maximum Likelihood optimization failed to \"\n"
     ]
    },
    {
     "name": "stdout",
     "output_type": "stream",
     "text": [
      "data_4 122 / 324\n",
      "data_4 123 / 324\n",
      "data_4 124 / 324\n",
      "data_4 125 / 324\n",
      "data_4 126 / 324\n",
      "data_4 127 / 324\n",
      "data_4 128 / 324\n",
      "data_4 129 / 324\n",
      "data_4 130 / 324\n",
      "data_4 131 / 324\n",
      "data_4 132 / 324\n",
      "data_4 133 / 324\n",
      "data_4 134 / 324\n",
      "data_4 135 / 324\n",
      "data_4 136 / 324\n",
      "data_4 137 / 324\n",
      "data_4 138 / 324\n",
      "data_4 139 / 324\n"
     ]
    },
    {
     "name": "stderr",
     "output_type": "stream",
     "text": [
      "c:\\Users\\e4903\\Desktop\\code\\myenv\\lib\\site-packages\\statsmodels\\base\\model.py:604: ConvergenceWarning: Maximum Likelihood optimization failed to converge. Check mle_retvals\n",
      "  warnings.warn(\"Maximum Likelihood optimization failed to \"\n"
     ]
    },
    {
     "name": "stdout",
     "output_type": "stream",
     "text": [
      "data_4 140 / 324\n",
      "data_4 141 / 324\n",
      "data_4 142 / 324\n",
      "data_4 143 / 324\n",
      "data_4 144 / 324\n",
      "data_4 145 / 324\n",
      "data_4 146 / 324\n",
      "data_4 147 / 324\n",
      "data_4 148 / 324\n",
      "data_4 149 / 324\n"
     ]
    },
    {
     "name": "stderr",
     "output_type": "stream",
     "text": [
      "c:\\Users\\e4903\\Desktop\\code\\myenv\\lib\\site-packages\\statsmodels\\tsa\\statespace\\sarimax.py:1009: UserWarning: Non-invertible starting seasonal moving average Using zeros as starting parameters.\n",
      "  warn('Non-invertible starting seasonal moving average'\n"
     ]
    },
    {
     "name": "stdout",
     "output_type": "stream",
     "text": [
      "data_4 150 / 324\n",
      "data_4 151 / 324\n",
      "data_4 152 / 324\n",
      "data_4 153 / 324\n",
      "data_4 154 / 324\n",
      "data_4 155 / 324\n",
      "data_4 156 / 324\n",
      "data_4 157 / 324\n",
      "data_4 158 / 324\n",
      "data_4 159 / 324\n"
     ]
    },
    {
     "name": "stderr",
     "output_type": "stream",
     "text": [
      "c:\\Users\\e4903\\Desktop\\code\\myenv\\lib\\site-packages\\statsmodels\\base\\model.py:604: ConvergenceWarning: Maximum Likelihood optimization failed to converge. Check mle_retvals\n",
      "  warnings.warn(\"Maximum Likelihood optimization failed to \"\n"
     ]
    },
    {
     "name": "stdout",
     "output_type": "stream",
     "text": [
      "data_4 160 / 324\n",
      "data_4 161 / 324\n",
      "data_4 162 / 324\n",
      "data_4 163 / 324\n"
     ]
    },
    {
     "name": "stderr",
     "output_type": "stream",
     "text": [
      "c:\\Users\\e4903\\Desktop\\code\\myenv\\lib\\site-packages\\statsmodels\\tsa\\statespace\\sarimax.py:966: UserWarning: Non-stationary starting autoregressive parameters found. Using zeros as starting parameters.\n",
      "  warn('Non-stationary starting autoregressive parameters'\n",
      "c:\\Users\\e4903\\Desktop\\code\\myenv\\lib\\site-packages\\statsmodels\\tsa\\statespace\\sarimax.py:978: UserWarning: Non-invertible starting MA parameters found. Using zeros as starting parameters.\n",
      "  warn('Non-invertible starting MA parameters found.'\n",
      "c:\\Users\\e4903\\Desktop\\code\\myenv\\lib\\site-packages\\statsmodels\\tsa\\statespace\\sarimax.py:966: UserWarning: Non-stationary starting autoregressive parameters found. Using zeros as starting parameters.\n",
      "  warn('Non-stationary starting autoregressive parameters'\n",
      "c:\\Users\\e4903\\Desktop\\code\\myenv\\lib\\site-packages\\statsmodels\\tsa\\statespace\\sarimax.py:978: UserWarning: Non-invertible starting MA parameters found. Using zeros as starting parameters.\n",
      "  warn('Non-invertible starting MA parameters found.'\n"
     ]
    },
    {
     "name": "stdout",
     "output_type": "stream",
     "text": [
      "data_4 164 / 324\n",
      "data_4 165 / 324\n",
      "data_4 166 / 324\n",
      "data_4 167 / 324\n"
     ]
    },
    {
     "name": "stderr",
     "output_type": "stream",
     "text": [
      "c:\\Users\\e4903\\Desktop\\code\\myenv\\lib\\site-packages\\statsmodels\\tsa\\statespace\\sarimax.py:1009: UserWarning: Non-invertible starting seasonal moving average Using zeros as starting parameters.\n",
      "  warn('Non-invertible starting seasonal moving average'\n"
     ]
    },
    {
     "name": "stdout",
     "output_type": "stream",
     "text": [
      "data_4 168 / 324\n"
     ]
    },
    {
     "name": "stderr",
     "output_type": "stream",
     "text": [
      "c:\\Users\\e4903\\Desktop\\code\\myenv\\lib\\site-packages\\statsmodels\\tsa\\statespace\\sarimax.py:966: UserWarning: Non-stationary starting autoregressive parameters found. Using zeros as starting parameters.\n",
      "  warn('Non-stationary starting autoregressive parameters'\n",
      "c:\\Users\\e4903\\Desktop\\code\\myenv\\lib\\site-packages\\statsmodels\\tsa\\statespace\\sarimax.py:978: UserWarning: Non-invertible starting MA parameters found. Using zeros as starting parameters.\n",
      "  warn('Non-invertible starting MA parameters found.'\n"
     ]
    },
    {
     "name": "stdout",
     "output_type": "stream",
     "text": [
      "data_4 169 / 324\n"
     ]
    },
    {
     "name": "stderr",
     "output_type": "stream",
     "text": [
      "c:\\Users\\e4903\\Desktop\\code\\myenv\\lib\\site-packages\\statsmodels\\tsa\\statespace\\sarimax.py:966: UserWarning: Non-stationary starting autoregressive parameters found. Using zeros as starting parameters.\n",
      "  warn('Non-stationary starting autoregressive parameters'\n",
      "c:\\Users\\e4903\\Desktop\\code\\myenv\\lib\\site-packages\\statsmodels\\tsa\\statespace\\sarimax.py:978: UserWarning: Non-invertible starting MA parameters found. Using zeros as starting parameters.\n",
      "  warn('Non-invertible starting MA parameters found.'\n"
     ]
    },
    {
     "name": "stdout",
     "output_type": "stream",
     "text": [
      "data_4 170 / 324\n",
      "data_4 171 / 324\n",
      "data_4 172 / 324\n",
      "data_4 173 / 324\n",
      "data_4 174 / 324\n"
     ]
    },
    {
     "name": "stderr",
     "output_type": "stream",
     "text": [
      "c:\\Users\\e4903\\Desktop\\code\\myenv\\lib\\site-packages\\statsmodels\\tsa\\statespace\\sarimax.py:966: UserWarning: Non-stationary starting autoregressive parameters found. Using zeros as starting parameters.\n",
      "  warn('Non-stationary starting autoregressive parameters'\n",
      "c:\\Users\\e4903\\Desktop\\code\\myenv\\lib\\site-packages\\statsmodels\\tsa\\statespace\\sarimax.py:978: UserWarning: Non-invertible starting MA parameters found. Using zeros as starting parameters.\n",
      "  warn('Non-invertible starting MA parameters found.'\n"
     ]
    },
    {
     "name": "stdout",
     "output_type": "stream",
     "text": [
      "data_4 175 / 324\n"
     ]
    },
    {
     "name": "stderr",
     "output_type": "stream",
     "text": [
      "c:\\Users\\e4903\\Desktop\\code\\myenv\\lib\\site-packages\\statsmodels\\tsa\\statespace\\sarimax.py:966: UserWarning: Non-stationary starting autoregressive parameters found. Using zeros as starting parameters.\n",
      "  warn('Non-stationary starting autoregressive parameters'\n",
      "c:\\Users\\e4903\\Desktop\\code\\myenv\\lib\\site-packages\\statsmodels\\tsa\\statespace\\sarimax.py:978: UserWarning: Non-invertible starting MA parameters found. Using zeros as starting parameters.\n",
      "  warn('Non-invertible starting MA parameters found.'\n"
     ]
    },
    {
     "name": "stdout",
     "output_type": "stream",
     "text": [
      "data_4 176 / 324\n",
      "data_4 177 / 324\n",
      "data_4 178 / 324\n",
      "data_4 179 / 324\n",
      "data_4 180 / 324\n",
      "data_4 181 / 324\n",
      "data_4 182 / 324\n",
      "data_4 183 / 324\n",
      "data_4 184 / 324\n",
      "data_4 185 / 324\n"
     ]
    },
    {
     "name": "stderr",
     "output_type": "stream",
     "text": [
      "c:\\Users\\e4903\\Desktop\\code\\myenv\\lib\\site-packages\\statsmodels\\tsa\\statespace\\sarimax.py:1009: UserWarning: Non-invertible starting seasonal moving average Using zeros as starting parameters.\n",
      "  warn('Non-invertible starting seasonal moving average'\n"
     ]
    },
    {
     "name": "stdout",
     "output_type": "stream",
     "text": [
      "data_4 186 / 324\n",
      "data_4 187 / 324\n",
      "data_4 188 / 324\n",
      "data_4 189 / 324\n",
      "data_4 190 / 324\n",
      "data_4 191 / 324\n",
      "data_4 192 / 324\n",
      "data_4 193 / 324\n",
      "data_4 194 / 324\n",
      "data_4 195 / 324\n",
      "data_4 196 / 324\n",
      "data_4 197 / 324\n",
      "data_4 198 / 324\n",
      "data_4 199 / 324\n",
      "data_4 200 / 324\n",
      "data_4 201 / 324\n",
      "data_4 202 / 324\n",
      "data_4 203 / 324\n"
     ]
    },
    {
     "name": "stderr",
     "output_type": "stream",
     "text": [
      "c:\\Users\\e4903\\Desktop\\code\\myenv\\lib\\site-packages\\statsmodels\\tsa\\statespace\\sarimax.py:1009: UserWarning: Non-invertible starting seasonal moving average Using zeros as starting parameters.\n",
      "  warn('Non-invertible starting seasonal moving average'\n"
     ]
    },
    {
     "name": "stdout",
     "output_type": "stream",
     "text": [
      "data_4 204 / 324\n",
      "data_4 205 / 324\n"
     ]
    },
    {
     "name": "stderr",
     "output_type": "stream",
     "text": [
      "c:\\Users\\e4903\\Desktop\\code\\myenv\\lib\\site-packages\\statsmodels\\base\\model.py:604: ConvergenceWarning: Maximum Likelihood optimization failed to converge. Check mle_retvals\n",
      "  warnings.warn(\"Maximum Likelihood optimization failed to \"\n"
     ]
    },
    {
     "name": "stdout",
     "output_type": "stream",
     "text": [
      "data_4 206 / 324\n",
      "data_4 207 / 324\n"
     ]
    },
    {
     "name": "stderr",
     "output_type": "stream",
     "text": [
      "c:\\Users\\e4903\\Desktop\\code\\myenv\\lib\\site-packages\\statsmodels\\base\\model.py:604: ConvergenceWarning: Maximum Likelihood optimization failed to converge. Check mle_retvals\n",
      "  warnings.warn(\"Maximum Likelihood optimization failed to \"\n"
     ]
    },
    {
     "name": "stdout",
     "output_type": "stream",
     "text": [
      "data_4 208 / 324\n",
      "data_4 209 / 324\n",
      "data_4 210 / 324\n",
      "data_4 211 / 324\n"
     ]
    },
    {
     "name": "stderr",
     "output_type": "stream",
     "text": [
      "c:\\Users\\e4903\\Desktop\\code\\myenv\\lib\\site-packages\\statsmodels\\base\\model.py:604: ConvergenceWarning: Maximum Likelihood optimization failed to converge. Check mle_retvals\n",
      "  warnings.warn(\"Maximum Likelihood optimization failed to \"\n"
     ]
    },
    {
     "name": "stdout",
     "output_type": "stream",
     "text": [
      "data_4 212 / 324\n",
      "data_4 213 / 324\n"
     ]
    },
    {
     "name": "stderr",
     "output_type": "stream",
     "text": [
      "c:\\Users\\e4903\\Desktop\\code\\myenv\\lib\\site-packages\\statsmodels\\base\\model.py:604: ConvergenceWarning: Maximum Likelihood optimization failed to converge. Check mle_retvals\n",
      "  warnings.warn(\"Maximum Likelihood optimization failed to \"\n"
     ]
    },
    {
     "name": "stdout",
     "output_type": "stream",
     "text": [
      "data_4 214 / 324\n",
      "data_4 215 / 324\n",
      "data_4 216 / 324\n",
      "data_4 217 / 324\n",
      "data_4 218 / 324\n",
      "data_4 219 / 324\n",
      "data_4 220 / 324\n",
      "data_4 221 / 324\n",
      "data_4 222 / 324\n",
      "data_4 223 / 324\n",
      "data_4 224 / 324\n",
      "data_4 225 / 324\n",
      "data_4 226 / 324\n",
      "data_4 227 / 324\n"
     ]
    },
    {
     "name": "stderr",
     "output_type": "stream",
     "text": [
      "c:\\Users\\e4903\\Desktop\\code\\myenv\\lib\\site-packages\\statsmodels\\base\\model.py:604: ConvergenceWarning: Maximum Likelihood optimization failed to converge. Check mle_retvals\n",
      "  warnings.warn(\"Maximum Likelihood optimization failed to \"\n"
     ]
    },
    {
     "name": "stdout",
     "output_type": "stream",
     "text": [
      "data_4 228 / 324\n",
      "data_4 229 / 324\n",
      "data_4 230 / 324\n",
      "data_4 231 / 324\n",
      "data_4 232 / 324\n",
      "data_4 233 / 324\n",
      "data_4 234 / 324\n",
      "data_4 235 / 324\n",
      "data_4 236 / 324\n",
      "data_4 237 / 324\n",
      "data_4 238 / 324\n",
      "data_4 239 / 324\n",
      "data_4 240 / 324\n",
      "data_4 241 / 324\n"
     ]
    },
    {
     "name": "stderr",
     "output_type": "stream",
     "text": [
      "c:\\Users\\e4903\\Desktop\\code\\myenv\\lib\\site-packages\\statsmodels\\base\\model.py:604: ConvergenceWarning: Maximum Likelihood optimization failed to converge. Check mle_retvals\n",
      "  warnings.warn(\"Maximum Likelihood optimization failed to \"\n"
     ]
    },
    {
     "name": "stdout",
     "output_type": "stream",
     "text": [
      "data_4 242 / 324\n",
      "data_4 243 / 324\n",
      "data_4 244 / 324\n",
      "data_4 245 / 324\n",
      "data_4 246 / 324\n"
     ]
    },
    {
     "name": "stderr",
     "output_type": "stream",
     "text": [
      "c:\\Users\\e4903\\Desktop\\code\\myenv\\lib\\site-packages\\statsmodels\\base\\model.py:604: ConvergenceWarning: Maximum Likelihood optimization failed to converge. Check mle_retvals\n",
      "  warnings.warn(\"Maximum Likelihood optimization failed to \"\n"
     ]
    },
    {
     "name": "stdout",
     "output_type": "stream",
     "text": [
      "data_4 247 / 324\n"
     ]
    },
    {
     "name": "stderr",
     "output_type": "stream",
     "text": [
      "c:\\Users\\e4903\\Desktop\\code\\myenv\\lib\\site-packages\\statsmodels\\base\\model.py:604: ConvergenceWarning: Maximum Likelihood optimization failed to converge. Check mle_retvals\n",
      "  warnings.warn(\"Maximum Likelihood optimization failed to \"\n"
     ]
    },
    {
     "name": "stdout",
     "output_type": "stream",
     "text": [
      "data_4 248 / 324\n",
      "data_4 249 / 324\n",
      "data_4 250 / 324\n"
     ]
    },
    {
     "name": "stderr",
     "output_type": "stream",
     "text": [
      "c:\\Users\\e4903\\Desktop\\code\\myenv\\lib\\site-packages\\statsmodels\\base\\model.py:604: ConvergenceWarning: Maximum Likelihood optimization failed to converge. Check mle_retvals\n",
      "  warnings.warn(\"Maximum Likelihood optimization failed to \"\n"
     ]
    },
    {
     "name": "stdout",
     "output_type": "stream",
     "text": [
      "data_4 251 / 324\n"
     ]
    },
    {
     "name": "stderr",
     "output_type": "stream",
     "text": [
      "c:\\Users\\e4903\\Desktop\\code\\myenv\\lib\\site-packages\\statsmodels\\base\\model.py:604: ConvergenceWarning: Maximum Likelihood optimization failed to converge. Check mle_retvals\n",
      "  warnings.warn(\"Maximum Likelihood optimization failed to \"\n"
     ]
    },
    {
     "name": "stdout",
     "output_type": "stream",
     "text": [
      "data_4 252 / 324\n",
      "data_4 253 / 324\n",
      "data_4 254 / 324\n",
      "data_4 255 / 324\n",
      "data_4 256 / 324\n",
      "data_4 257 / 324\n"
     ]
    },
    {
     "name": "stderr",
     "output_type": "stream",
     "text": [
      "c:\\Users\\e4903\\Desktop\\code\\myenv\\lib\\site-packages\\statsmodels\\tsa\\statespace\\sarimax.py:1009: UserWarning: Non-invertible starting seasonal moving average Using zeros as starting parameters.\n",
      "  warn('Non-invertible starting seasonal moving average'\n"
     ]
    },
    {
     "name": "stdout",
     "output_type": "stream",
     "text": [
      "data_4 258 / 324\n",
      "data_4 259 / 324\n",
      "data_4 260 / 324\n",
      "data_4 261 / 324\n",
      "data_4 262 / 324\n",
      "data_4 263 / 324\n",
      "data_4 264 / 324\n",
      "data_4 265 / 324\n",
      "data_4 266 / 324\n",
      "data_4 267 / 324\n",
      "data_4 268 / 324\n",
      "data_4 269 / 324\n",
      "data_4 270 / 324\n"
     ]
    },
    {
     "name": "stderr",
     "output_type": "stream",
     "text": [
      "c:\\Users\\e4903\\Desktop\\code\\myenv\\lib\\site-packages\\statsmodels\\tsa\\statespace\\sarimax.py:966: UserWarning: Non-stationary starting autoregressive parameters found. Using zeros as starting parameters.\n",
      "  warn('Non-stationary starting autoregressive parameters'\n",
      "c:\\Users\\e4903\\Desktop\\code\\myenv\\lib\\site-packages\\statsmodels\\tsa\\statespace\\sarimax.py:978: UserWarning: Non-invertible starting MA parameters found. Using zeros as starting parameters.\n",
      "  warn('Non-invertible starting MA parameters found.'\n"
     ]
    },
    {
     "name": "stdout",
     "output_type": "stream",
     "text": [
      "data_4 271 / 324\n"
     ]
    },
    {
     "name": "stderr",
     "output_type": "stream",
     "text": [
      "c:\\Users\\e4903\\Desktop\\code\\myenv\\lib\\site-packages\\statsmodels\\tsa\\statespace\\sarimax.py:966: UserWarning: Non-stationary starting autoregressive parameters found. Using zeros as starting parameters.\n",
      "  warn('Non-stationary starting autoregressive parameters'\n",
      "c:\\Users\\e4903\\Desktop\\code\\myenv\\lib\\site-packages\\statsmodels\\tsa\\statespace\\sarimax.py:978: UserWarning: Non-invertible starting MA parameters found. Using zeros as starting parameters.\n",
      "  warn('Non-invertible starting MA parameters found.'\n"
     ]
    },
    {
     "name": "stdout",
     "output_type": "stream",
     "text": [
      "data_4 272 / 324\n",
      "data_4 273 / 324\n",
      "data_4 274 / 324\n",
      "data_4 275 / 324\n"
     ]
    },
    {
     "name": "stderr",
     "output_type": "stream",
     "text": [
      "c:\\Users\\e4903\\Desktop\\code\\myenv\\lib\\site-packages\\statsmodels\\tsa\\statespace\\sarimax.py:1009: UserWarning: Non-invertible starting seasonal moving average Using zeros as starting parameters.\n",
      "  warn('Non-invertible starting seasonal moving average'\n"
     ]
    },
    {
     "name": "stdout",
     "output_type": "stream",
     "text": [
      "data_4 276 / 324\n"
     ]
    },
    {
     "name": "stderr",
     "output_type": "stream",
     "text": [
      "c:\\Users\\e4903\\Desktop\\code\\myenv\\lib\\site-packages\\statsmodels\\tsa\\statespace\\sarimax.py:966: UserWarning: Non-stationary starting autoregressive parameters found. Using zeros as starting parameters.\n",
      "  warn('Non-stationary starting autoregressive parameters'\n",
      "c:\\Users\\e4903\\Desktop\\code\\myenv\\lib\\site-packages\\statsmodels\\tsa\\statespace\\sarimax.py:978: UserWarning: Non-invertible starting MA parameters found. Using zeros as starting parameters.\n",
      "  warn('Non-invertible starting MA parameters found.'\n"
     ]
    },
    {
     "name": "stdout",
     "output_type": "stream",
     "text": [
      "data_4 277 / 324\n"
     ]
    },
    {
     "name": "stderr",
     "output_type": "stream",
     "text": [
      "c:\\Users\\e4903\\Desktop\\code\\myenv\\lib\\site-packages\\statsmodels\\tsa\\statespace\\sarimax.py:966: UserWarning: Non-stationary starting autoregressive parameters found. Using zeros as starting parameters.\n",
      "  warn('Non-stationary starting autoregressive parameters'\n",
      "c:\\Users\\e4903\\Desktop\\code\\myenv\\lib\\site-packages\\statsmodels\\tsa\\statespace\\sarimax.py:978: UserWarning: Non-invertible starting MA parameters found. Using zeros as starting parameters.\n",
      "  warn('Non-invertible starting MA parameters found.'\n",
      "c:\\Users\\e4903\\Desktop\\code\\myenv\\lib\\site-packages\\statsmodels\\base\\model.py:604: ConvergenceWarning: Maximum Likelihood optimization failed to converge. Check mle_retvals\n",
      "  warnings.warn(\"Maximum Likelihood optimization failed to \"\n"
     ]
    },
    {
     "name": "stdout",
     "output_type": "stream",
     "text": [
      "data_4 278 / 324\n",
      "data_4 279 / 324\n"
     ]
    },
    {
     "name": "stderr",
     "output_type": "stream",
     "text": [
      "c:\\Users\\e4903\\Desktop\\code\\myenv\\lib\\site-packages\\statsmodels\\base\\model.py:604: ConvergenceWarning: Maximum Likelihood optimization failed to converge. Check mle_retvals\n",
      "  warnings.warn(\"Maximum Likelihood optimization failed to \"\n"
     ]
    },
    {
     "name": "stdout",
     "output_type": "stream",
     "text": [
      "data_4 280 / 324\n",
      "data_4 281 / 324\n"
     ]
    },
    {
     "name": "stderr",
     "output_type": "stream",
     "text": [
      "c:\\Users\\e4903\\Desktop\\code\\myenv\\lib\\site-packages\\statsmodels\\base\\model.py:604: ConvergenceWarning: Maximum Likelihood optimization failed to converge. Check mle_retvals\n",
      "  warnings.warn(\"Maximum Likelihood optimization failed to \"\n"
     ]
    },
    {
     "name": "stdout",
     "output_type": "stream",
     "text": [
      "data_4 282 / 324\n"
     ]
    },
    {
     "name": "stderr",
     "output_type": "stream",
     "text": [
      "c:\\Users\\e4903\\Desktop\\code\\myenv\\lib\\site-packages\\statsmodels\\tsa\\statespace\\sarimax.py:966: UserWarning: Non-stationary starting autoregressive parameters found. Using zeros as starting parameters.\n",
      "  warn('Non-stationary starting autoregressive parameters'\n",
      "c:\\Users\\e4903\\Desktop\\code\\myenv\\lib\\site-packages\\statsmodels\\tsa\\statespace\\sarimax.py:978: UserWarning: Non-invertible starting MA parameters found. Using zeros as starting parameters.\n",
      "  warn('Non-invertible starting MA parameters found.'\n"
     ]
    },
    {
     "name": "stdout",
     "output_type": "stream",
     "text": [
      "data_4 283 / 324\n"
     ]
    },
    {
     "name": "stderr",
     "output_type": "stream",
     "text": [
      "c:\\Users\\e4903\\Desktop\\code\\myenv\\lib\\site-packages\\statsmodels\\tsa\\statespace\\sarimax.py:966: UserWarning: Non-stationary starting autoregressive parameters found. Using zeros as starting parameters.\n",
      "  warn('Non-stationary starting autoregressive parameters'\n",
      "c:\\Users\\e4903\\Desktop\\code\\myenv\\lib\\site-packages\\statsmodels\\tsa\\statespace\\sarimax.py:978: UserWarning: Non-invertible starting MA parameters found. Using zeros as starting parameters.\n",
      "  warn('Non-invertible starting MA parameters found.'\n",
      "c:\\Users\\e4903\\Desktop\\code\\myenv\\lib\\site-packages\\statsmodels\\base\\model.py:604: ConvergenceWarning: Maximum Likelihood optimization failed to converge. Check mle_retvals\n",
      "  warnings.warn(\"Maximum Likelihood optimization failed to \"\n"
     ]
    },
    {
     "name": "stdout",
     "output_type": "stream",
     "text": [
      "data_4 284 / 324\n",
      "data_4 285 / 324\n"
     ]
    },
    {
     "name": "stderr",
     "output_type": "stream",
     "text": [
      "c:\\Users\\e4903\\Desktop\\code\\myenv\\lib\\site-packages\\statsmodels\\base\\model.py:604: ConvergenceWarning: Maximum Likelihood optimization failed to converge. Check mle_retvals\n",
      "  warnings.warn(\"Maximum Likelihood optimization failed to \"\n"
     ]
    },
    {
     "name": "stdout",
     "output_type": "stream",
     "text": [
      "data_4 286 / 324\n",
      "data_4 287 / 324\n",
      "data_4 288 / 324\n",
      "data_4 289 / 324\n",
      "data_4 290 / 324\n",
      "data_4 291 / 324\n",
      "data_4 292 / 324\n",
      "data_4 293 / 324\n"
     ]
    },
    {
     "name": "stderr",
     "output_type": "stream",
     "text": [
      "c:\\Users\\e4903\\Desktop\\code\\myenv\\lib\\site-packages\\statsmodels\\tsa\\statespace\\sarimax.py:1009: UserWarning: Non-invertible starting seasonal moving average Using zeros as starting parameters.\n",
      "  warn('Non-invertible starting seasonal moving average'\n"
     ]
    },
    {
     "name": "stdout",
     "output_type": "stream",
     "text": [
      "data_4 294 / 324\n",
      "data_4 295 / 324\n",
      "data_4 296 / 324\n",
      "data_4 297 / 324\n",
      "data_4 298 / 324\n",
      "data_4 299 / 324\n",
      "data_4 300 / 324\n",
      "data_4 301 / 324\n"
     ]
    },
    {
     "name": "stderr",
     "output_type": "stream",
     "text": [
      "c:\\Users\\e4903\\Desktop\\code\\myenv\\lib\\site-packages\\statsmodels\\base\\model.py:604: ConvergenceWarning: Maximum Likelihood optimization failed to converge. Check mle_retvals\n",
      "  warnings.warn(\"Maximum Likelihood optimization failed to \"\n"
     ]
    },
    {
     "name": "stdout",
     "output_type": "stream",
     "text": [
      "data_4 302 / 324\n",
      "data_4 303 / 324\n",
      "data_4 304 / 324\n",
      "data_4 305 / 324\n",
      "data_4 306 / 324\n",
      "data_4 307 / 324\n",
      "data_4 308 / 324\n",
      "data_4 309 / 324\n",
      "data_4 310 / 324\n",
      "data_4 311 / 324\n"
     ]
    },
    {
     "name": "stderr",
     "output_type": "stream",
     "text": [
      "c:\\Users\\e4903\\Desktop\\code\\myenv\\lib\\site-packages\\statsmodels\\tsa\\statespace\\sarimax.py:1009: UserWarning: Non-invertible starting seasonal moving average Using zeros as starting parameters.\n",
      "  warn('Non-invertible starting seasonal moving average'\n"
     ]
    },
    {
     "name": "stdout",
     "output_type": "stream",
     "text": [
      "data_4 312 / 324\n",
      "data_4 313 / 324\n"
     ]
    },
    {
     "name": "stderr",
     "output_type": "stream",
     "text": [
      "c:\\Users\\e4903\\Desktop\\code\\myenv\\lib\\site-packages\\statsmodels\\base\\model.py:604: ConvergenceWarning: Maximum Likelihood optimization failed to converge. Check mle_retvals\n",
      "  warnings.warn(\"Maximum Likelihood optimization failed to \"\n"
     ]
    },
    {
     "name": "stdout",
     "output_type": "stream",
     "text": [
      "data_4 314 / 324\n",
      "data_4 315 / 324\n",
      "data_4 316 / 324\n",
      "data_4 317 / 324\n"
     ]
    },
    {
     "name": "stderr",
     "output_type": "stream",
     "text": [
      "c:\\Users\\e4903\\Desktop\\code\\myenv\\lib\\site-packages\\statsmodels\\base\\model.py:604: ConvergenceWarning: Maximum Likelihood optimization failed to converge. Check mle_retvals\n",
      "  warnings.warn(\"Maximum Likelihood optimization failed to \"\n"
     ]
    },
    {
     "name": "stdout",
     "output_type": "stream",
     "text": [
      "data_4 318 / 324\n",
      "data_4 319 / 324\n"
     ]
    },
    {
     "name": "stderr",
     "output_type": "stream",
     "text": [
      "c:\\Users\\e4903\\Desktop\\code\\myenv\\lib\\site-packages\\statsmodels\\base\\model.py:604: ConvergenceWarning: Maximum Likelihood optimization failed to converge. Check mle_retvals\n",
      "  warnings.warn(\"Maximum Likelihood optimization failed to \"\n"
     ]
    },
    {
     "name": "stdout",
     "output_type": "stream",
     "text": [
      "data_4 320 / 324\n",
      "data_4 321 / 324\n",
      "data_4 322 / 324\n",
      "data_4 323 / 324\n"
     ]
    },
    {
     "name": "stderr",
     "output_type": "stream",
     "text": [
      "c:\\Users\\e4903\\Desktop\\code\\myenv\\lib\\site-packages\\statsmodels\\base\\model.py:604: ConvergenceWarning: Maximum Likelihood optimization failed to converge. Check mle_retvals\n",
      "  warnings.warn(\"Maximum Likelihood optimization failed to \"\n"
     ]
    },
    {
     "name": "stdout",
     "output_type": "stream",
     "text": [
      "data_4 324 / 324\n"
     ]
    }
   ],
   "source": [
    "# 3. Build model\n",
    "p_range = range(0, 3)\n",
    "d_range = range(0, 3)\n",
    "q_range = range(0, 2)\n",
    "P_range = range(0, 3)\n",
    "D_range = range(0, 3)\n",
    "Q_range = range(0, 2)\n",
    "s = 12\n",
    "model_fit, model_prediction, model_pdq = SARIMAX_predict_function(\n",
    "    train_data, p_range, d_range, q_range, P_range, D_range, Q_range, s) # type: ignore\n"
   ]
  },
  {
   "cell_type": "code",
   "execution_count": 109,
   "metadata": {},
   "outputs": [],
   "source": [
    "find_signal_pv_function(model_prediction, pv_range)\n",
    "find_signal_lead_train_function(train_data, model_prediction)"
   ]
  },
  {
   "cell_type": "code",
   "execution_count": 110,
   "metadata": {},
   "outputs": [],
   "source": [
    "errors = get_fit_error_function(model_prediction, fit_method)\n",
    "best_fit_harm, best_error = get_best_fit_harm_function(\n",
    "    model_prediction, errors)\n",
    "find_signal_lead_test_function(test_data, model_prediction)\n",
    "first_date, lead, pv = get_first_lead_function(\n",
    "    model_prediction, best_fit_harm)"
   ]
  },
  {
   "cell_type": "code",
   "execution_count": 111,
   "metadata": {},
   "outputs": [
    {
     "name": "stdout",
     "output_type": "stream",
     "text": [
      "data_0\n",
      "p     0\n",
      "d     1\n",
      "q     0\n",
      "P     0\n",
      "D     0\n",
      "Q     0\n",
      "s    12\n",
      "Name: 36, dtype: object\n",
      "data_1\n",
      "p     0\n",
      "d     1\n",
      "q     0\n",
      "P     0\n",
      "D     0\n",
      "Q     0\n",
      "s    12\n",
      "Name: 36, dtype: object\n",
      "data_2\n",
      "p     0\n",
      "d     2\n",
      "q     1\n",
      "P     0\n",
      "D     0\n",
      "Q     0\n",
      "s    12\n",
      "Name: 90, dtype: object\n",
      "data_3\n",
      "p     0\n",
      "d     1\n",
      "q     0\n",
      "P     0\n",
      "D     0\n",
      "Q     0\n",
      "s    12\n",
      "Name: 36, dtype: object\n",
      "data_4\n",
      "p     1\n",
      "d     0\n",
      "q     1\n",
      "P     0\n",
      "D     0\n",
      "Q     0\n",
      "s    12\n",
      "Name: 126, dtype: object\n"
     ]
    }
   ],
   "source": [
    "for i in best_fit_harm:\n",
    "    pdq = best_fit_harm[i]\n",
    "    print(i)\n",
    "    print(model_pdq[i].loc[pdq])"
   ]
  },
  {
   "cell_type": "code",
   "execution_count": 112,
   "metadata": {},
   "outputs": [
    {
     "name": "stdout",
     "output_type": "stream",
     "text": [
      "final_error =  3.8\n",
      "            s_date      t_date lead    ans_date      pv error best_fit\n",
      "data_0  2020-01-02  2020-01-03 -1.0  2020-01-02    peak  1.08       36\n",
      "data_1  2020-01-16  2020-01-17  0.0  2020-01-17    peak  0.99       36\n",
      "data_2  2020-01-31  2021-01-27 -5.0  2021-01-20    peak  0.99       90\n",
      "data_3  2020-02-14  2020-02-18  8.0  2020-02-28  valley  1.03       36\n",
      "data_4  2020-03-02  2020-03-02  5.0  2020-03-09  valley  1.02      126\n"
     ]
    }
   ],
   "source": [
    "# 5. Evaluate model\n",
    "# result_table, final_error = evaluate_model(\n",
    "#     model, test_data_start_list, all_data, best_fit_harm, best_error, first_date, lead, pv, data_range)\n",
    "result_table = built_result_table_function(\n",
    "    model_prediction, test_data_start_list, lead, pv, best_error, best_fit_harm)\n",
    "result_table_process_function(\n",
    "    result_table, all_data, first_date, data_range)\n",
    "final_error = compute_final_error_function(result_table)\n",
    "print('final_error = ', final_error)\n",
    "with pd.option_context('display.max_rows', None,\n",
    "                    'display.max_columns', None,\n",
    "                    'display.precision', 3,\n",
    "                    ):\n",
    "    print(result_table)\n"
   ]
  },
  {
   "cell_type": "code",
   "execution_count": 113,
   "metadata": {},
   "outputs": [
    {
     "data": {
      "image/png": "[encoded data removed]",
      "text/plain": [
       "<Figure size 3000x800 with 2 Axes>"
      ]
     },
     "metadata": {},
     "output_type": "display_data"
    }
   ],
   "source": [
    "draw_plot_result_table(test_data, all_data, result_table, pv_range)"
   ]
  },
  {
   "cell_type": "code",
   "execution_count": 124,
   "metadata": {},
   "outputs": [
    {
     "name": "stdout",
     "output_type": "stream",
     "text": [
      "data_0\n"
     ]
    },
    {
     "data": {
      "image/png": "[encoded data removed]",
      "text/plain": [
       "<Figure size 2000x800 with 2 Axes>"
      ]
     },
     "metadata": {},
     "output_type": "display_data"
    },
    {
     "name": "stdout",
     "output_type": "stream",
     "text": [
      "data_1\n"
     ]
    },
    {
     "data": {
      "image/png": "[encoded data removed]",
      "text/plain": [
       "<Figure size 2000x800 with 2 Axes>"
      ]
     },
     "metadata": {},
     "output_type": "display_data"
    },
    {
     "name": "stdout",
     "output_type": "stream",
     "text": [
      "data_2\n"
     ]
    },
    {
     "data": {
      "image/png": "[encoded data removed]",
      "text/plain": [
       "<Figure size 2000x800 with 2 Axes>"
      ]
     },
     "metadata": {},
     "output_type": "display_data"
    },
    {
     "name": "stdout",
     "output_type": "stream",
     "text": [
      "data_3\n"
     ]
    },
    {
     "ename": "ValueError",
     "evalue": "Length mismatch: Expected axis has 241 elements, new values have 240 elements",
     "output_type": "error",
     "traceback": [
      "\u001b[1;31m---------------------------------------------------------------------------\u001b[0m",
      "\u001b[1;31mValueError\u001b[0m                                Traceback (most recent call last)",
      "Cell \u001b[1;32mIn [124], line 1\u001b[0m\n\u001b[1;32m----> 1\u001b[0m draw_sarima_result(test_data, model_prediction, best_fit_harm)\n",
      "Cell \u001b[1;32mIn [123], line 7\u001b[0m, in \u001b[0;36mdraw_sarima_result\u001b[1;34m(test_data, model_prediction, best_fit_harm)\u001b[0m\n\u001b[0;32m      5\u001b[0m pdq \u001b[39m=\u001b[39m best_fit_harm[i]\n\u001b[0;32m      6\u001b[0m prediction \u001b[39m=\u001b[39m model_prediction[i][pdq]\u001b[39m.\u001b[39mloc[\u001b[39mlen\u001b[39m(test_data[i][\u001b[39m'\u001b[39m\u001b[39mClose\u001b[39m\u001b[39m'\u001b[39m]): \u001b[39mlen\u001b[39m(test_data[i][\u001b[39m'\u001b[39m\u001b[39mClose\u001b[39m\u001b[39m'\u001b[39m])\u001b[39m*\u001b[39m\u001b[39m2\u001b[39m]\n\u001b[1;32m----> 7\u001b[0m prediction\u001b[39m.\u001b[39;49mindex \u001b[39m=\u001b[39m test_data[i][\u001b[39m'\u001b[39m\u001b[39mClose\u001b[39m\u001b[39m'\u001b[39m]\u001b[39m.\u001b[39mindex\n\u001b[0;32m      8\u001b[0m axes[\u001b[39m0\u001b[39m]\u001b[39m.\u001b[39mplot(test_data[i][\u001b[39m'\u001b[39m\u001b[39mClose\u001b[39m\u001b[39m'\u001b[39m]\u001b[39m.\u001b[39mindex, test_data[i][\u001b[39m'\u001b[39m\u001b[39mClose\u001b[39m\u001b[39m'\u001b[39m], label\u001b[39m=\u001b[39m\u001b[39m'\u001b[39m\u001b[39mtest\u001b[39m\u001b[39m'\u001b[39m)\n\u001b[0;32m      9\u001b[0m axes[\u001b[39m1\u001b[39m]\u001b[39m.\u001b[39mplot(prediction[\u001b[39m'\u001b[39m\u001b[39mClose\u001b[39m\u001b[39m'\u001b[39m]\u001b[39m.\u001b[39mindex, prediction[\u001b[39m'\u001b[39m\u001b[39mClose\u001b[39m\u001b[39m'\u001b[39m], label\u001b[39m=\u001b[39m\u001b[39m'\u001b[39m\u001b[39mpredictions\u001b[39m\u001b[39m'\u001b[39m)\n",
      "File \u001b[1;32mc:\\Users\\e4903\\Desktop\\code\\myenv\\lib\\site-packages\\pandas\\core\\generic.py:5915\u001b[0m, in \u001b[0;36mNDFrame.__setattr__\u001b[1;34m(self, name, value)\u001b[0m\n\u001b[0;32m   5913\u001b[0m \u001b[39mtry\u001b[39;00m:\n\u001b[0;32m   5914\u001b[0m     \u001b[39mobject\u001b[39m\u001b[39m.\u001b[39m\u001b[39m__getattribute__\u001b[39m(\u001b[39mself\u001b[39m, name)\n\u001b[1;32m-> 5915\u001b[0m     \u001b[39mreturn\u001b[39;00m \u001b[39mobject\u001b[39;49m\u001b[39m.\u001b[39;49m\u001b[39m__setattr__\u001b[39;49m(\u001b[39mself\u001b[39;49m, name, value)\n\u001b[0;32m   5916\u001b[0m \u001b[39mexcept\u001b[39;00m \u001b[39mAttributeError\u001b[39;00m:\n\u001b[0;32m   5917\u001b[0m     \u001b[39mpass\u001b[39;00m\n",
      "File \u001b[1;32mc:\\Users\\e4903\\Desktop\\code\\myenv\\lib\\site-packages\\pandas\\_libs\\properties.pyx:69\u001b[0m, in \u001b[0;36mpandas._libs.properties.AxisProperty.__set__\u001b[1;34m()\u001b[0m\n",
      "File \u001b[1;32mc:\\Users\\e4903\\Desktop\\code\\myenv\\lib\\site-packages\\pandas\\core\\generic.py:823\u001b[0m, in \u001b[0;36mNDFrame._set_axis\u001b[1;34m(self, axis, labels)\u001b[0m\n\u001b[0;32m    821\u001b[0m \u001b[39mdef\u001b[39;00m \u001b[39m_set_axis\u001b[39m(\u001b[39mself\u001b[39m, axis: \u001b[39mint\u001b[39m, labels: AnyArrayLike \u001b[39m|\u001b[39m \u001b[39mlist\u001b[39m) \u001b[39m-\u001b[39m\u001b[39m>\u001b[39m \u001b[39mNone\u001b[39;00m:\n\u001b[0;32m    822\u001b[0m     labels \u001b[39m=\u001b[39m ensure_index(labels)\n\u001b[1;32m--> 823\u001b[0m     \u001b[39mself\u001b[39;49m\u001b[39m.\u001b[39;49m_mgr\u001b[39m.\u001b[39;49mset_axis(axis, labels)\n\u001b[0;32m    824\u001b[0m     \u001b[39mself\u001b[39m\u001b[39m.\u001b[39m_clear_item_cache()\n",
      "File \u001b[1;32mc:\\Users\\e4903\\Desktop\\code\\myenv\\lib\\site-packages\\pandas\\core\\internals\\managers.py:227\u001b[0m, in \u001b[0;36mBaseBlockManager.set_axis\u001b[1;34m(self, axis, new_labels)\u001b[0m\n\u001b[0;32m    225\u001b[0m \u001b[39mdef\u001b[39;00m \u001b[39mset_axis\u001b[39m(\u001b[39mself\u001b[39m, axis: \u001b[39mint\u001b[39m, new_labels: Index) \u001b[39m-\u001b[39m\u001b[39m>\u001b[39m \u001b[39mNone\u001b[39;00m:\n\u001b[0;32m    226\u001b[0m     \u001b[39m# Caller is responsible for ensuring we have an Index object.\u001b[39;00m\n\u001b[1;32m--> 227\u001b[0m     \u001b[39mself\u001b[39;49m\u001b[39m.\u001b[39;49m_validate_set_axis(axis, new_labels)\n\u001b[0;32m    228\u001b[0m     \u001b[39mself\u001b[39m\u001b[39m.\u001b[39maxes[axis] \u001b[39m=\u001b[39m new_labels\n",
      "File \u001b[1;32mc:\\Users\\e4903\\Desktop\\code\\myenv\\lib\\site-packages\\pandas\\core\\internals\\base.py:70\u001b[0m, in \u001b[0;36mDataManager._validate_set_axis\u001b[1;34m(self, axis, new_labels)\u001b[0m\n\u001b[0;32m     67\u001b[0m     \u001b[39mpass\u001b[39;00m\n\u001b[0;32m     69\u001b[0m \u001b[39melif\u001b[39;00m new_len \u001b[39m!=\u001b[39m old_len:\n\u001b[1;32m---> 70\u001b[0m     \u001b[39mraise\u001b[39;00m \u001b[39mValueError\u001b[39;00m(\n\u001b[0;32m     71\u001b[0m         \u001b[39mf\u001b[39m\u001b[39m\"\u001b[39m\u001b[39mLength mismatch: Expected axis has \u001b[39m\u001b[39m{\u001b[39;00mold_len\u001b[39m}\u001b[39;00m\u001b[39m elements, new \u001b[39m\u001b[39m\"\u001b[39m\n\u001b[0;32m     72\u001b[0m         \u001b[39mf\u001b[39m\u001b[39m\"\u001b[39m\u001b[39mvalues have \u001b[39m\u001b[39m{\u001b[39;00mnew_len\u001b[39m}\u001b[39;00m\u001b[39m elements\u001b[39m\u001b[39m\"\u001b[39m\n\u001b[0;32m     73\u001b[0m     )\n",
      "\u001b[1;31mValueError\u001b[0m: Length mismatch: Expected axis has 241 elements, new values have 240 elements"
     ]
    },
    {
     "data": {
      "image/png": "[encoded data removed]",
      "text/plain": [
       "<Figure size 2000x800 with 2 Axes>"
      ]
     },
     "metadata": {},
     "output_type": "display_data"
    }
   ],
   "source": [
    "draw_sarima_result(test_data, model_prediction, best_fit_harm)"
   ]
  }
 ],
 "metadata": {
  "kernelspec": {
   "display_name": "myenv",
   "language": "python",
   "name": "python3"
  },
  "language_info": {
   "codemirror_mode": {
    "name": "ipython",
    "version": 3
   },
   "file_extension": ".py",
   "mimetype": "text/x-python",
   "name": "python",
   "nbconvert_exporter": "python",
   "pygments_lexer": "ipython3",
   "version": "3.10.7"
  },
  "orig_nbformat": 4,
  "vscode": {
   "interpreter": {
    "hash": "2fb396032550f1233359d15a08b37f52554975016f50074aab88030da7047d1a"
   }
  }
 },
 "nbformat": 4,
 "nbformat_minor": 2
}
