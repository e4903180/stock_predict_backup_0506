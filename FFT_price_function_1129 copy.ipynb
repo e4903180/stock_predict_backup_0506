{
 "cells": [
  {
   "cell_type": "markdown",
   "metadata": {},
   "source": [
    "# Import packages\n"
   ]
  },
  {
   "cell_type": "code",
   "execution_count": 67,
   "metadata": {},
   "outputs": [],
   "source": [
    "import numpy as np\n",
    "import pylab as pl\n",
    "from numpy import fft\n",
    "import pandas as pd\n",
    "import matplotlib.pyplot as plt\n",
    "import yfinance as yf\n",
    "import datetime\n",
    "from dateutil.relativedelta import relativedelta\n"
   ]
  },
  {
   "cell_type": "code",
   "execution_count": 68,
   "metadata": {},
   "outputs": [],
   "source": [
    "def fourier_transfer_function(\n",
    "    n_harm, stock_name, date_data_start, date_transfer_start, date_transfer_end):\n",
    "\n",
    "    # get data_stock's infomation\n",
    "    date_data_end = date_transfer_start\n",
    "    data_stock = yf.Ticker(stock_name).history(\n",
    "        start=date_data_start, end=date_data_end)['Close']\n",
    "    array_data = np.array(data_stock)\n",
    "    n_data = array_data.size\n",
    "    time_data = np.arange(0, n_data)\n",
    "\n",
    "    # detrend data\n",
    "    # find linear trend in data\n",
    "    Polynomial = np.polyfit(time_data, array_data, 1)\n",
    "    data_notrend = array_data - Polynomial[0] * time_data    # detrended x\n",
    "\n",
    "    # fft process\n",
    "    data_freqdom = fft.fft(data_notrend, n=n_data)\n",
    "    frequence = fft.fftfreq(n_data)\n",
    "    f_positive = frequence[np.where(frequence > 0)]\n",
    "    data_freqdom_positive = data_freqdom[np.where(frequence > 0)]\n",
    "\n",
    "    # sort indexes\n",
    "    indexes = list(range(f_positive.size))      # frequencies\n",
    "    # sort method 1\n",
    "    # indexes.sort(key = lambda i: np.absolute(frequence[i]))     # sort indexes by frequency, lower -> higher\n",
    "    # sort method 2 :\n",
    "    # sort indexes by amplitudes, lower -> higher\n",
    "    indexes.sort(key=lambda i: np.absolute(data_freqdom[i]))\n",
    "    indexes.reverse()       # sort indexes by amplitudes, higher -> lower\n",
    "\n",
    "    # get data_all_time'size\n",
    "    data_all_time = yf.Ticker(stock_name).history(\n",
    "        start=date_data_start, end=date_transfer_end)['Close']\n",
    "    time_transfer = np.arange(0, data_all_time.size)\n",
    "    mixed_harmonic = np.zeros(data_all_time.size)\n",
    "\n",
    "    # mix harmonics\n",
    "    for i in indexes[:n_harm]:\n",
    "        ampli = np.absolute(data_freqdom_positive[i]) / n_data     # amplitude\n",
    "        phase = np.angle(data_freqdom_positive[i])      # phase\n",
    "        harmonic = ampli * \\\n",
    "            np.cos(2 * np.pi * f_positive[i] * time_transfer + phase)\n",
    "        mixed_harmonic += harmonic\n",
    "\n",
    "    transferred_signal = pd.DataFrame(\n",
    "        {'Close': mixed_harmonic}, index=data_all_time.index)\n",
    "    return transferred_signal\n"
   ]
  },
  {
   "cell_type": "code",
   "execution_count": 69,
   "metadata": {},
   "outputs": [],
   "source": [
    "# fourier_transfer_function(20, \"^GSPC\", '2021-01-01', '2022-01-01', '2022-02-01')\n"
   ]
  },
  {
   "cell_type": "code",
   "execution_count": 70,
   "metadata": {},
   "outputs": [],
   "source": [
    "def find_pv_function(pv_range, data):\n",
    "    pd.options.mode.chained_assignment = None\n",
    "    pv = data['Close']\n",
    "    data['peaks'] = pd.Series(dtype='float64')\n",
    "    data['valleys'] = pd.Series(dtype='float64')\n",
    "    peaks = data['peaks']\n",
    "    valleys = data['valleys']\n",
    "    for idx in range(0, len(pv)):\n",
    "        if idx < pv_range :\n",
    "            if pv[idx] == pv.iloc[0:pv_range*2+1].max():\n",
    "                peaks.iloc[idx] = pv[idx]\n",
    "            if pv[idx] == pv.iloc[0:pv_range*2+1].min():\n",
    "                valleys.iloc[idx] = pv[idx]\n",
    "        if pv[idx] == pv.iloc[idx-pv_range:idx+pv_range].max():\n",
    "            peaks.iloc[idx] = pv[idx]\n",
    "        if pv[idx] == pv.iloc[idx-pv_range:idx+pv_range].min():\n",
    "            valleys.iloc[idx] = pv[idx]\n",
    "    return peaks, valleys\n"
   ]
  },
  {
   "cell_type": "code",
   "execution_count": 71,
   "metadata": {},
   "outputs": [
    {
     "data": {
      "text/plain": [
       "(Date\n",
       " 2020-12-31            NaN\n",
       " 2021-01-04            NaN\n",
       " 2021-01-05            NaN\n",
       " 2021-01-06            NaN\n",
       " 2021-01-07            NaN\n",
       "                  ...     \n",
       " 2021-12-27    4791.189941\n",
       " 2021-12-28            NaN\n",
       " 2021-12-29    4793.060059\n",
       " 2021-12-30            NaN\n",
       " 2021-12-31            NaN\n",
       " Name: peaks, Length: 253, dtype: float64,\n",
       " Date\n",
       " 2020-12-31            NaN\n",
       " 2021-01-04    3700.649902\n",
       " 2021-01-05            NaN\n",
       " 2021-01-06            NaN\n",
       " 2021-01-07            NaN\n",
       "                  ...     \n",
       " 2021-12-27            NaN\n",
       " 2021-12-28            NaN\n",
       " 2021-12-29            NaN\n",
       " 2021-12-30            NaN\n",
       " 2021-12-31    4766.180176\n",
       " Name: valleys, Length: 253, dtype: float64)"
      ]
     },
     "execution_count": 71,
     "metadata": {},
     "output_type": "execute_result"
    }
   ],
   "source": [
    "data = yf.Ticker(\"^GSPC\").history(start='2021-01-01', end='2022-01-01')\n",
    "# data['Close'][0] = 5000\n",
    "pv_range = 2\n",
    "find_pv_function(pv_range, data)\n"
   ]
  },
  {
   "cell_type": "code",
   "execution_count": 72,
   "metadata": {},
   "outputs": [],
   "source": [
    "def find_pv_delay_function(data, transferred_signal):\n",
    "    if (data.index[0] == transferred_signal.index[0] and data.index[-1] == transferred_signal.index[-1]):\n",
    "        p_data = pd.DataFrame(\n",
    "            {'peaks': data['peaks'], 'count': range(len(data))})\n",
    "        p_data = p_data.drop(p_data[p_data['peaks'].isna()].index)\n",
    "        p_data_list = list(p_data['count'])\n",
    "        p_transferred = pd.DataFrame(\n",
    "            {'peaks': transferred_signal['peaks'], 'count': range(len(transferred_signal))})\n",
    "        p_transferred = p_transferred.drop(\n",
    "            p_transferred[p_transferred['peaks'].isna()].index)\n",
    "        p_transferred_list = list(p_transferred['count'])\n",
    "        p_list = []\n",
    "        for i in range(0, len(p_transferred_list)):\n",
    "            temp = []\n",
    "            temp_abs = []\n",
    "            temp_2 = []\n",
    "            for j in range(0, len(p_data_list)):\n",
    "                temp.append((p_data_list[j] - p_transferred_list[i]))\n",
    "                temp_abs.append(abs(p_data_list[j] - p_transferred_list[i]))\n",
    "            for k in range(0, len(temp_abs)):\n",
    "                if temp_abs[k] == min(temp_abs):\n",
    "                    temp_2 = temp[k]\n",
    "            p_list.append(temp_2)\n",
    "        p_transferred['delay'] = p_list\n",
    "\n",
    "        v_data = pd.DataFrame(\n",
    "            {'valleys': data['valleys'], 'count': range(len(data))})\n",
    "        v_data = v_data.drop(v_data[v_data['valleys'].isna()].index)\n",
    "        v_data_list = list(v_data['count'])\n",
    "        v_transferred = pd.DataFrame(\n",
    "            {'valleys': transferred_signal['valleys'], 'count': range(len(transferred_signal))})\n",
    "        v_transferred = v_transferred.drop(\n",
    "            v_transferred[v_transferred['valleys'].isna()].index)\n",
    "        v_transferred_list = list(v_transferred['count'])\n",
    "        v_list = []\n",
    "        for i in range(0, len(v_transferred_list)):\n",
    "            temp = []\n",
    "            temp_abs = []\n",
    "            temp_2 = []\n",
    "            for j in range(0, len(v_data_list)):\n",
    "                temp.append((v_data_list[j] - v_transferred_list[i]))\n",
    "                temp_abs.append(abs(v_data_list[j] - v_transferred_list[i]))\n",
    "            for k in range(0, len(temp_abs)):\n",
    "                if temp_abs[k] == min(temp_abs):\n",
    "                    temp_2 = temp[k]\n",
    "            v_list.append(temp_2)\n",
    "        v_transferred['delay'] = v_list\n",
    "        return p_transferred['delay'], v_transferred['delay']\n",
    "    else:\n",
    "        print('error : data = ', data.index,\n",
    "              'transferred_signal = ', transferred_signal.index)\n"
   ]
  },
  {
   "cell_type": "code",
   "execution_count": 73,
   "metadata": {},
   "outputs": [],
   "source": [
    "# data = yf.Ticker(\"^GSPC\").history(start='2021-01-01', end='2021-01-30')\n",
    "# transferred_signal = fourier_transfer_function(20, \"^GSPC\", '2021-01-01', '2021-01-15', '2021-01-30')\n",
    "# pv_range = 2\n",
    "# transferred_signal['peaks'] = find_pv_function(pv_range, transferred_signal)[0]\n",
    "# transferred_signal['valleys'] = find_pv_function(pv_range, transferred_signal)[1]\n",
    "# data['peaks'] = find_pv_function(pv_range, data)[0]\n",
    "# data['valleys'] = find_pv_function(pv_range, data)[1]\n",
    "# transferred_signal['peaks_delay'] = find_pv_delay_function(data, transferred_signal)[0]\n",
    "# transferred_signal['valleys_delay'] = find_pv_delay_function(data, transferred_signal)[1]\n",
    "# print(data)\n",
    "# print(transferred_signal)\n"
   ]
  },
  {
   "cell_type": "code",
   "execution_count": 74,
   "metadata": {},
   "outputs": [],
   "source": [
    "def draw_plot(data, transferred_signal):\n",
    "    fig, axes = plt.subplots(2, 1, figsize=(15, 8))\n",
    "    axes[0].plot(data.index, data['Close'],\n",
    "                 c='gray', label='data', linewidth=3)\n",
    "    axes[1].plot(transferred_signal.index, transferred_signal['Close'],\n",
    "                 c='gray', label='Predict', linewidth=3)\n",
    "    try:\n",
    "        axes[0].plot(data.index, data['peaks'], '^',\n",
    "                     c='royalblue', label='peaks')\n",
    "        axes[0].plot(data.index, data['valleys'], 'v',\n",
    "                     c='orangered', label='valleys')\n",
    "        axes[1].plot(transferred_signal.index, transferred_signal['peaks'],\n",
    "                     '^', c='royalblue', label='peaks')\n",
    "        axes[1].plot(transferred_signal.index, transferred_signal['valleys'], 'v',\n",
    "                     c='orangered', label='valleys')\n",
    "    except:\n",
    "        pass\n",
    "    try:\n",
    "        for i, label in enumerate(transferred_signal['peaks_delay']):\n",
    "            axes[1].annotate(label, (transferred_signal['peaks'].index[i],\n",
    "                             transferred_signal['peaks'][i]), fontsize=14)\n",
    "        for i, label in enumerate(transferred_signal['valleys_delay']):\n",
    "            axes[1].annotate(label, (transferred_signal['valleys'].index[i],\n",
    "                             transferred_signal['valleys'][i]), fontsize=14)\n",
    "    except:\n",
    "        pass\n",
    "    axes[0].set_ylabel(\"price\", fontsize=14)\n",
    "    axes[0].grid(True)\n",
    "    axes[1].grid(True)\n",
    "    axes[1].set_ylabel(\"amplitude\", fontsize=14)\n",
    "    axes[0].legend()\n",
    "    axes[1].legend()\n",
    "    plt.show()\n",
    "    return\n"
   ]
  },
  {
   "cell_type": "markdown",
   "metadata": {},
   "source": [
    "# error function\n",
    "\n",
    "兩種 fit_method 計算 fit_error，得 error_p,error_v。\n",
    "get_fit_error_function 為 error_p 及 error_v 取平均。\n",
    "best_fit 為取最接近零的 error 之 harmonic。\n",
    "slide_error 為預測之第一個轉折 delay。\n",
    "final_error 為 slide_error 取絕對值後取平均。\n"
   ]
  },
  {
   "cell_type": "code",
   "execution_count": 75,
   "metadata": {},
   "outputs": [],
   "source": [
    "def get_fit_error_function(transferred_signal, fit_method):\n",
    "    temp_p = transferred_signal.drop(\n",
    "        transferred_signal[transferred_signal['peaks_delay'].isna()].index)\n",
    "    temp_v = transferred_signal.drop(\n",
    "        transferred_signal[transferred_signal['valleys_delay'].isna()].index)\n",
    "    if fit_method == 'mean':\n",
    "        error_p = temp_p['peaks_delay'].mean()\n",
    "        error_v = temp_v['valleys_delay'].mean()\n",
    "    elif fit_method == 'abs':\n",
    "        error_p = abs(transferred_signal['peaks_delay']).mean()\n",
    "        error_v = abs(transferred_signal['valleys_delay']).mean()\n",
    "    else:\n",
    "        return 'wrong fit_method'\n",
    "    error = (error_p + error_v)/2\n",
    "    return error\n"
   ]
  },
  {
   "cell_type": "code",
   "execution_count": 76,
   "metadata": {},
   "outputs": [],
   "source": [
    "# data = yf.Ticker(\"^GSPC\").history(start='2020-01-01', end='2021-02-01')\n",
    "# data2 = fourier_transfer_function(19, \"^GSPC\", '2020-01-01', '2021-01-01', '2021-02-01')\n",
    "# pv_range = 2\n",
    "# data2['peaks'] = find_pv_function(pv_range, data2)[0]\n",
    "# data2['valleys'] = find_pv_function(pv_range, data2)[1]\n",
    "# data['peaks'] = find_pv_function(pv_range, data)[0]\n",
    "# data['valleys'] = find_pv_function(pv_range, data)[1]\n",
    "# data2['peaks_delay'] = find_pv_delay_function(\n",
    "#     data[data.index <= '2021-01-01'], data2[data2.index <= '2021-01-01'])[0]\n",
    "# data2['valleys_delay'] = find_pv_delay_function(\n",
    "#     data[data.index <= '2021-01-01'], data2[data2.index <= '2021-01-01'])[1]\n",
    "# print('abs =', get_fit_error_function(data2, 'abs'))\n",
    "# print('mean =', get_fit_error_function(data2, 'mean'))\n",
    "# print('positive =', get_fit_error_function(data2, 'positive'))\n"
   ]
  },
  {
   "cell_type": "code",
   "execution_count": 77,
   "metadata": {},
   "outputs": [],
   "source": [
    "# data2['peaks_delay'] = find_pv_delay_function(data, data2)[0]\n",
    "# data2['valleys_delay'] = find_pv_delay_function(data, data2)[1]\n",
    "# draw_plot(data, data2)\n"
   ]
  },
  {
   "cell_type": "code",
   "execution_count": 78,
   "metadata": {},
   "outputs": [],
   "source": [
    "def get_first_delay_function(transferred_signal):\n",
    "    temp = pd.DataFrame()\n",
    "    temp['peaks_delay'] = transferred_signal['peaks_delay']\n",
    "    temp['valleys_delay'] = transferred_signal['valleys_delay']\n",
    "    temp = temp.dropna(how='all')\n",
    "    if np.isnan(temp['peaks_delay'].iloc[0]) == False:\n",
    "        Date = temp['peaks_delay'].index[0]\n",
    "        delay = temp['peaks_delay'].iloc[0]\n",
    "        pv = 'peaks'\n",
    "    else:\n",
    "        Date = temp['valleys_delay'].index[0]\n",
    "        delay = temp['valleys_delay'].iloc[0]\n",
    "        pv = 'valleys'\n",
    "    return Date, delay, pv\n"
   ]
  },
  {
   "cell_type": "code",
   "execution_count": 79,
   "metadata": {},
   "outputs": [],
   "source": [
    "# data = yf.Ticker(\"^GSPC\").history(start='2020-01-01', end='2021-01-01')\n",
    "# data2 = fourier_transfer_function(20, \"^GSPC\", '2020-01-01', '2021-01-01', '2021-02-01')\n",
    "# pv_range = 2\n",
    "# data2['peaks'] = find_pv_function(pv_range, data2)[0]\n",
    "# data2['valleys'] = find_pv_function(pv_range, data2)[1]\n",
    "# data['peaks'] = find_pv_function(pv_range, data)[0]\n",
    "# data['valleys'] = find_pv_function(pv_range, data)[1]\n",
    "# data2['peaks_delay'] = find_pv_delay_function(\n",
    "#     data[data.index <= '2021-01-01'], data2[data2.index <= '2021-01-01'])[0]\n",
    "# data2['valleys_delay'] = find_pv_delay_function(\n",
    "#     data[data.index <= '2021-01-01'], data2[data2.index <= '2021-01-01'])[1]\n",
    "# get_first_delay_function(data2)\n"
   ]
  },
  {
   "cell_type": "code",
   "execution_count": 80,
   "metadata": {},
   "outputs": [],
   "source": [
    "def single_task(\n",
    "    stock_name, date_data_start, date_predict_start, \n",
    "    date_predict_end, n_harm, pv_range, fit_method):\n",
    "\n",
    "    data = yf.Ticker(stock_name).history(start=date_data_start, end=date_predict_end)\n",
    "    transferred_signal = fourier_transfer_function(n_harm, stock_name, date_data_start, date_predict_start, date_predict_end)\n",
    "    data['peaks'] = find_pv_function(pv_range, data)[0]\n",
    "    data['valleys'] = find_pv_function(pv_range, data)[1]\n",
    "    transferred_signal['peaks'] = find_pv_function(pv_range, transferred_signal)[0]\n",
    "    transferred_signal['valleys'] = find_pv_function(pv_range, transferred_signal)[1]\n",
    "    transferred_signal['peaks_delay'] = find_pv_delay_function(\n",
    "        data[data.index <= date_predict_start], transferred_signal[transferred_signal.index <= date_predict_start])[0]\n",
    "    transferred_signal['valleys_delay'] = find_pv_delay_function(\n",
    "        data[data.index <= date_predict_start], transferred_signal[transferred_signal.index <= date_predict_start])[1]\n",
    "    error = get_fit_error_function(transferred_signal, fit_method)\n",
    "    transferred_signal['peaks_delay'] = find_pv_delay_function(data, transferred_signal)[0]\n",
    "    transferred_signal['valleys_delay'] = find_pv_delay_function(data, transferred_signal)[1]\n",
    "    return transferred_signal, error\n"
   ]
  },
  {
   "cell_type": "code",
   "execution_count": 81,
   "metadata": {},
   "outputs": [],
   "source": [
    "# a = single_task(\"^GSPC\", '2021-01-01', '2022-01-01',\n",
    "#                     '2022-02-01', 20, 2, 'abs')\n",
    "# data = a[0]\n",
    "# transferred_signal = a[1]\n",
    "# error = a[2]\n",
    "# draw_plot_1(data, transferred_signal)\n",
    "# print(error)\n"
   ]
  },
  {
   "cell_type": "code",
   "execution_count": 82,
   "metadata": {},
   "outputs": [],
   "source": [
    "def fit_error_task(\n",
    "    stock_name, date_data_start, date_predict_start, date_predict_end, \n",
    "    n_harm_lower_limit, n_harm_upper_limit, pv_range, fit_method):\n",
    "\n",
    "    errors = pd.Series(dtype='float64')\n",
    "    for i in range(n_harm_lower_limit, n_harm_upper_limit+1):\n",
    "        temp = single_task(stock_name, date_data_start, date_predict_start,\n",
    "                           date_predict_end, i, pv_range, fit_method)\n",
    "        errors = pd.concat([errors, pd.Series(temp[1])])\n",
    "    errors = errors.reset_index(drop=True)\n",
    "    errors = errors.abs()\n",
    "    best_fit = errors.idxmin() + n_harm_lower_limit\n",
    "    transferred_signal, errors = single_task(stock_name, date_data_start, date_predict_start,\n",
    "                                    date_predict_end, best_fit, pv_range, fit_method)\n",
    "    return transferred_signal, errors, best_fit\n"
   ]
  },
  {
   "cell_type": "code",
   "execution_count": 83,
   "metadata": {},
   "outputs": [],
   "source": [
    "# a = fit_error_task(\n",
    "#     \"^GSPC\", '2021-06-01', '2022-07-01', '2022-02-01', 15, 17, 2, 'mean')\n",
    "# a\n"
   ]
  },
  {
   "cell_type": "code",
   "execution_count": 84,
   "metadata": {},
   "outputs": [],
   "source": [
    "def main_function(\n",
    "    stock_name, date_predict_start, data_range, slide_range, n_slide, pv_range, \n",
    "    n_harm_lower_limit, n_harm_upper_limit, fit_method):\n",
    "    \n",
    "    date_predict_start = datetime.datetime.strptime(date_predict_start, '%Y-%m-%d') # ex.'2021-01-01'\n",
    "    result_table = pd.DataFrame(\n",
    "        columns=['Start_Date', 'Target_Date', 'delay', 'pv', 'error', 'best_fit'])\n",
    "    for i in range(n_slide):\n",
    "        date_data_start = date_predict_start - relativedelta(months=+data_range) # ex.'2020-07-01'\n",
    "        date_predict_end = date_predict_start + relativedelta(months=+data_range) # ex.'2021-07-01'\n",
    "        transferred_signal, error, best_fit = fit_error_task(\n",
    "            stock_name, date_data_start, date_predict_start, date_predict_end, n_harm_lower_limit, n_harm_upper_limit, pv_range, fit_method)\n",
    "        transferred_signal = transferred_signal.drop(\n",
    "            transferred_signal[transferred_signal.index < date_predict_start].index)\n",
    "        result_table.loc[i, 'error'] = round(error, 2)\n",
    "        result_table.loc[i, 'best_fit'] = best_fit\n",
    "        result_table.loc[i, 'Start_Date'] = date_predict_start # ex.'2021-01-01'\n",
    "        result_table.loc[i, 'Target_Date'], result_table.loc[i,'delay'], result_table.loc[i, 'pv'] = get_first_delay_function(transferred_signal)\n",
    "        date_data_start = date_data_start + relativedelta(weeks=+slide_range) # ex.'2020-07-15'\n",
    "        date_predict_start = date_predict_start + relativedelta(weeks=+slide_range) # ex.'2021-01-15'\n",
    "    final_error = round(\n",
    "        sum([abs(ele) for ele in result_table['delay']]) / len(result_table['delay']), 2)\n",
    "    return final_error, result_table\n"
   ]
  },
  {
   "cell_type": "code",
   "execution_count": 85,
   "metadata": {},
   "outputs": [],
   "source": [
    "def draw_plot_result_table(data, final_error, result_table):\n",
    "    fig, axes = plt.subplots(2, 1, figsize=(15, 8))\n",
    "    axes[0].plot(data.index, data['Close'], 'gray', label='data', linewidth=3)\n",
    "    axes[0].plot(data.index, data['peaks'], '^', c='royalblue', label='peaks')\n",
    "    axes[0].plot(data.index, data['valleys'], 'v',c='orangered', label='valleys')\n",
    "    for i, label in enumerate(result_table['delay']):\n",
    "        if result_table['pv'][i] == 'peaks':\n",
    "            axes[1].plot(result_table['Target_Date'][i],result_table['delay'][i], '*',\n",
    "                         c='royalblue', label='peaks')\n",
    "            axes[1].annotate(label, (result_table['Target_Date'][i],\n",
    "                                     result_table['delay'][i]), fontsize=14)\n",
    "        else:\n",
    "            axes[1].plot(result_table['Target_Date'][i], result_table['delay'][i], '*', \n",
    "                         c='orangered', label='valleys')\n",
    "            axes[1].annotate(label, (result_table['Target_Date'][i],\n",
    "                             result_table['delay'][i]), fontsize=14)\n",
    "    axes[0].set_ylabel(\"Stock price\", fontsize=14)\n",
    "    axes[0].grid(True)\n",
    "    axes[1].grid(True)\n",
    "    axes[1].set_ylabel(\"delay\", fontsize=14)\n",
    "    axes[0].set_xlim(data.index[0], data.index[-1])\n",
    "    axes[1].set_xlim(data.index[0], data.index[-1])\n",
    "    plt.show()\n",
    "    return\n"
   ]
  },
  {
   "cell_type": "code",
   "execution_count": 86,
   "metadata": {},
   "outputs": [],
   "source": [
    "# slide_abs_test = main_function(\n",
    "#     stock_name=\"^GSPC\", date_predict_start='2021-01-01', data_range=6,\n",
    "#     slide_range=2, n_slide=4, pv_range=2, n_harm_lower_limit=20, n_harm_upper_limit=20, fit_method='abs'\n",
    "# )\n",
    "# print(slide_abs_test[0])\n",
    "# print(slide_abs_test[1])\n",
    "# data = yf.Ticker(\"^GSPC\").history(start='2021-01-01', end='2021-12-31')\n",
    "# data['peaks'] = find_pv_function(2, data)[0]\n",
    "# data['valleys'] = find_pv_function(2, data)[1]\n",
    "# draw_plot_result_table(data, slide_abs_test[0], slide_abs_test[1])"
   ]
  },
  {
   "cell_type": "code",
   "execution_count": 87,
   "metadata": {},
   "outputs": [],
   "source": [
    "# slide_mean_test = main_function(\n",
    "#     stock_name=\"^GSPC\", main_function='2021-01-01', data_range=6,\n",
    "#     slide_range=2, n_slide=4, pv_range=2, n_harm_lower_limit=20, n_harm_upper_limit=20, fit_method='mean'\n",
    "# )\n",
    "# print(slide_mean_test[0])\n",
    "# print(slide_mean_test[1])\n",
    "# data = yf.Ticker(\"^GSPC\").history(start='2021-01-01', end='2021-12-31')\n",
    "# data['peaks'] = find_pv_function(2, data)[0]\n",
    "# data['valleys'] = find_pv_function(2, data)[1]\n",
    "# draw_plot_result_table(data, slide_mean_test[0], slide_mean_test[1])"
   ]
  },
  {
   "cell_type": "code",
   "execution_count": 88,
   "metadata": {},
   "outputs": [
    {
     "name": "stdout",
     "output_type": "stream",
     "text": [
      "1.67\n",
      "             Start_Date          Target_Date delay       pv error best_fit\n",
      "0   2021-01-01 00:00:00  2021-01-06 00:00:00  -2.0  valleys   0.0       20\n",
      "1   2021-01-15 00:00:00  2021-01-20 00:00:00   2.0  valleys  0.01       39\n",
      "2   2021-01-29 00:00:00  2021-01-29 00:00:00   0.0  valleys  0.01       37\n",
      "3   2021-02-12 00:00:00  2021-02-18 00:00:00  -3.0    peaks   0.0       24\n",
      "4   2021-02-26 00:00:00  2021-03-03 00:00:00   2.0    peaks  0.02       39\n",
      "5   2021-03-12 00:00:00  2021-03-16 00:00:00   1.0    peaks -0.01       24\n",
      "6   2021-03-26 00:00:00  2021-03-30 00:00:00  -2.0    peaks  0.02       31\n",
      "7   2021-04-09 00:00:00  2021-04-12 00:00:00   2.0  valleys   0.0       29\n",
      "8   2021-04-23 00:00:00  2021-05-03 00:00:00   1.0  valleys  0.04       38\n",
      "9   2021-05-07 00:00:00  2021-05-10 00:00:00   2.0  valleys   0.0       39\n",
      "10  2021-05-21 00:00:00  2021-05-27 00:00:00   1.0    peaks  0.01       23\n",
      "11  2021-06-04 00:00:00  2021-06-09 00:00:00   3.0    peaks  0.01       20\n",
      "12  2021-06-18 00:00:00  2021-06-18 00:00:00   2.0    peaks   0.0       35\n",
      "13  2021-07-02 00:00:00  2021-07-02 00:00:00   3.0  valleys -0.02       26\n",
      "14  2021-07-16 00:00:00  2021-07-16 00:00:00   1.0  valleys -0.01       24\n",
      "15  2021-07-30 00:00:00  2021-07-30 00:00:00   1.0  valleys -0.02       36\n",
      "16  2021-08-13 00:00:00  2021-08-18 00:00:00  -2.0    peaks  -0.0       29\n",
      "17  2021-08-27 00:00:00  2021-08-27 00:00:00  -1.0  valleys  0.01       23\n",
      "18  2021-09-10 00:00:00  2021-09-10 00:00:00   0.0  valleys  0.03       26\n",
      "19  2021-09-24 00:00:00  2021-09-27 00:00:00   1.0  valleys  0.02       39\n",
      "20  2021-10-08 00:00:00  2021-10-15 00:00:00   4.0    peaks   0.0       20\n",
      "21  2021-10-22 00:00:00  2021-10-25 00:00:00   2.0  valleys -0.02       38\n",
      "22  2021-11-05 00:00:00  2021-11-08 00:00:00   2.0  valleys -0.02       35\n",
      "23  2021-11-19 00:00:00  2021-11-22 00:00:00   0.0  valleys   0.0       20\n"
     ]
    }
   ],
   "source": [
    "slide_mean_test = main_function(\n",
    "    stock_name=\"^GSPC\", date_predict_start='2021-01-01', data_range=6,\n",
    "    slide_range=2, n_slide=24, pv_range=2, n_harm_lower_limit=20, n_harm_upper_limit=40, fit_method='mean'\n",
    ")\n",
    "print(slide_mean_test[0])\n",
    "print(slide_mean_test[1])\n"
   ]
  },
  {
   "cell_type": "code",
   "execution_count": 89,
   "metadata": {},
   "outputs": [],
   "source": [
    "# slide_abs_test = main_function(\n",
    "#     stock_name=\"^GSPC\",date_predict_start='2021-01-01',data_range=6,\n",
    "#     slide_range=2,n_slide=2,pv_range=2,n_harm_lower_limit=20,n_harm_upper_limit=40,fit_method='abs'\n",
    "#     )\n",
    "# print(slide_abs_test[0])\n",
    "# print(slide_abs_test[1])\n"
   ]
  },
  {
   "cell_type": "code",
   "execution_count": 90,
   "metadata": {},
   "outputs": [],
   "source": [
    "# slide_mean_test = main_function(\n",
    "#     stock_name=\"^GSPC\",date_predict_start='2021-01-01',data_range=6,\n",
    "#     slide_range=2,n_slide=24,pv_range=2,n_harm_lower_limit=20,n_harm_upper_limit=40,fit_method='mean'\n",
    "#     )\n",
    "# print(slide_mean_test[0])\n",
    "# print(slide_mean_test[1])\n"
   ]
  },
  {
   "cell_type": "code",
   "execution_count": 91,
   "metadata": {},
   "outputs": [],
   "source": [
    "# slide_abs_test_2 = main_function(\n",
    "#     stock_name=\"^GSPC\",date_predict_start='2021-01-01',data_range=6,\n",
    "#     slide_range=1,n_slide=48,pv_range=2,n_harm_lower_limit=20,n_harm_upper_limit=40,fit_method='abs'\n",
    "#     )\n",
    "# print(slide_abs_test_2[0])\n",
    "# print(slide_abs_test_2[1])\n"
   ]
  },
  {
   "cell_type": "code",
   "execution_count": 92,
   "metadata": {},
   "outputs": [],
   "source": [
    "# slide_mean_test_2 = main_function(\n",
    "#     stock_name=\"^GSPC\",date_predict_start='2021-01-01',data_range=6,\n",
    "#     slide_range=1,n_slide=48,pv_range=2,n_harm_lower_limit=20,n_harm_upper_limit=40,fit_method='mean'\n",
    "#     )\n",
    "# print(slide_mean_test_2[0])\n",
    "# print(slide_mean_test_2[1])\n"
   ]
  },
  {
   "cell_type": "code",
   "execution_count": 93,
   "metadata": {},
   "outputs": [],
   "source": [
    "# slide_abs_test_3 = main_function(\n",
    "#     stock_name=\"^GSPC\",date_predict_start='2021-01-01',data_range=6,\n",
    "#     slide_range=2,n_slide=24,pv_range=2,n_harm_lower_limit=0,n_harm_upper_limit=60,fit_method='abs'\n",
    "#     )\n",
    "# print(slide_abs_test_3[0])\n",
    "# print(slide_abs_test_3[1])\n"
   ]
  },
  {
   "cell_type": "code",
   "execution_count": 94,
   "metadata": {},
   "outputs": [],
   "source": [
    "# slide_mean_test_3 = main_function(\n",
    "#     stock_name=\"^GSPC\",date_predict_start='2021-01-01',data_range=6,\n",
    "#     slide_range=2,n_slide=24,pv_range=2,n_harm_lower_limit=0,n_harm_upper_limit=60,fit_method='mean'\n",
    "#     )\n",
    "# print(slide_mean_test_3[0])\n",
    "# print(slide_mean_test_3[1])\n"
   ]
  },
  {
   "cell_type": "code",
   "execution_count": 95,
   "metadata": {},
   "outputs": [],
   "source": [
    "# slide_abs_test_4 = main_function(\n",
    "#     stock_name=\"^GSPC\",date_predict_start='2021-01-01',data_range=6,\n",
    "#     slide_range=2,n_slide=24,pv_range=2,n_harm_lower_limit=0,n_harm_upper_limit=40,fit_method='abs'\n",
    "#     )\n",
    "# print(slide_abs_test_4[0])\n",
    "# print(slide_abs_test_4[1])\n"
   ]
  },
  {
   "cell_type": "code",
   "execution_count": 96,
   "metadata": {},
   "outputs": [],
   "source": [
    "# slide_mean_test_4 = main_function(\n",
    "#     stock_name=\"^GSPC\",date_predict_start='2021-01-01',data_range=6,\n",
    "#     slide_range=2,n_slide=24,pv_range=2,n_harm_lower_limit=0,n_harm_upper_limit=40,fit_method='mean'\n",
    "#     )\n",
    "# print(slide_mean_test_4[0])\n",
    "# print(slide_mean_test_4[1])\n"
   ]
  }
 ],
 "metadata": {
  "kernelspec": {
   "display_name": "Python 3.8.5 ('venv_stock': venv)",
   "language": "python",
   "name": "python3"
  },
  "language_info": {
   "codemirror_mode": {
    "name": "ipython",
    "version": 3
   },
   "file_extension": ".py",
   "mimetype": "text/x-python",
   "name": "python",
   "nbconvert_exporter": "python",
   "pygments_lexer": "ipython3",
   "version": "3.8.5 (tags/v3.8.5:580fbb0, Jul 20 2020, 15:43:08) [MSC v.1926 32 bit (Intel)]"
  },
  "orig_nbformat": 4,
  "vscode": {
   "interpreter": {
    "hash": "ba787645ba8ce3b43ca5d5c1bc5ea17dd580ada22e1bd31731a2a86b718f16cf"
   }
  }
 },
 "nbformat": 4,
 "nbformat_minor": 2
}
