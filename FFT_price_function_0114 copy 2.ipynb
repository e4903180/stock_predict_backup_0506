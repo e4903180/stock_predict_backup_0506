{
 "cells": [
  {
   "cell_type": "markdown",
   "metadata": {},
   "source": [
    "# Import packages\n"
   ]
  },
  {
   "cell_type": "code",
   "execution_count": 1,
   "metadata": {},
   "outputs": [],
   "source": [
    "import numpy as np\n",
    "import pylab as pl\n",
    "from numpy import fft\n",
    "import pandas as pd\n",
    "import matplotlib.pyplot as plt\n",
    "import yfinance as yf\n",
    "import datetime\n",
    "from dateutil.relativedelta import relativedelta\n",
    "import math\n",
    "import matplotlib.dates as mdates\n",
    "import warnings"
   ]
  },
  {
   "cell_type": "code",
   "execution_count": 2,
   "metadata": {},
   "outputs": [],
   "source": [
    "import statsmodels.api as sm\n",
    "from statsmodels.tsa.statespace.sarimax import SARIMAX\n",
    "from sklearn.metrics import mean_absolute_error\n",
    "from statsmodels.graphics.tsaplots import plot_acf"
   ]
  },
  {
   "attachments": {},
   "cell_type": "markdown",
   "metadata": {},
   "source": [
    "# Load data\n"
   ]
  },
  {
   "cell_type": "code",
   "execution_count": 3,
   "metadata": {},
   "outputs": [],
   "source": [
    "def load_data(stock_name, date_predict_start, data_range, slide_range, n_slide):\n",
    "    train_data = {}\n",
    "    test_data = {}\n",
    "    date_predict_start = datetime.datetime.strptime(\n",
    "        date_predict_start, '%Y-%m-%d').date()\n",
    "    date_data_start_list = []\n",
    "    date_predict_start_list = []\n",
    "    date_predict_end_list = []\n",
    "    test_data_start_list = []\n",
    "    all_data = yf.Ticker(stock_name).history(period='max')\n",
    "    all_data.index = all_data.index.date\n",
    "    check = date_predict_start in all_data.index\n",
    "    while (check == False):\n",
    "        date_predict_start = date_predict_start + \\\n",
    "            relativedelta(days=+1)\n",
    "        check = date_predict_start in list(all_data.index)\n",
    "    predict_start = all_data.index.get_loc(date_predict_start)\n",
    "    for i in range(n_slide):\n",
    "        predict_end = predict_start + data_range\n",
    "        date_predict_end = all_data.iloc[predict_end].name\n",
    "        data_start = predict_start - data_range\n",
    "        date_data_start = all_data.iloc[data_start].name\n",
    "        train_data['data_' + str(i)] = all_data.iloc[data_start:predict_start]\n",
    "        test_data['data_' + str(i)] = all_data.iloc[predict_start:predict_end]\n",
    "        date_data_start_list.append(date_data_start)\n",
    "        date_predict_start_list.append(date_predict_start)\n",
    "        date_predict_end_list.append(date_predict_end)\n",
    "        test_data_start_list.append(datetime.datetime.strftime(\n",
    "            test_data['data_' + str(i)].index[0], '%Y-%m-%d'))\n",
    "        data_start = data_start + slide_range\n",
    "        predict_start = predict_start + slide_range\n",
    "        train_data['data_' + str(i)] = train_data['data_' +\n",
    "                                                  str(i)].reset_index(drop=False)\n",
    "        test_data['data_' + str(i)] = test_data['data_' +\n",
    "                                                str(i)].reset_index(drop=False)\n",
    "\n",
    "    return train_data, test_data, all_data, test_data_start_list\n"
   ]
  },
  {
   "cell_type": "code",
   "execution_count": 4,
   "metadata": {},
   "outputs": [],
   "source": [
    "# stock_name = \"^GSPC\"\n",
    "# date_predict_start = '2021-01-01'\n",
    "# data_range = 10\n",
    "# slide_range = 5\n",
    "# n_slide = 3\n",
    "# pv_range = 2\n",
    "# n_harm_lower_limit = 3\n",
    "# n_harm_upper_limit = 3\n",
    "# fit_method = 'rmse'\n",
    "# pv_method = 'HL'\n",
    "# date_data_start_list = []\n",
    "# date_predict_start_list = []\n",
    "# date_predict_end_list = []\n",
    "# train_data = {}\n",
    "# test_data = {}\n",
    "# date_predict_start = datetime.datetime.strptime(date_predict_start, '%Y-%m-%d')\n",
    "# all_data = yf.Ticker(stock_name).history(period='max')\n",
    "\n",
    "# check = date_predict_start in list(all_data.index)\n",
    "# while (check == False) :\n",
    "#     date_predict_start = date_predict_start + \\\n",
    "#         relativedelta(days=+1)\n",
    "#     check = date_predict_start in list(all_data.index)\n",
    "# predict_start = all_data.index.get_loc(date_predict_start)\n",
    "# for i in range(n_slide):\n",
    "#     predict_end = predict_start + data_range\n",
    "#     date_predict_end = all_data.iloc[predict_end].name\n",
    "#     data_start = predict_start - data_range\n",
    "#     date_data_start = all_data.iloc[data_start].name\n",
    "#     train_data['data_' + str(i)] = all_data.iloc[data_start:predict_start]\n",
    "#     test_data['data_' + str(i)] = all_data.iloc[predict_start:predict_end]\n",
    "#     date_data_start_list.append(date_data_start)\n",
    "#     date_predict_start_list.append(date_predict_start)\n",
    "#     date_predict_end_list.append(date_predict_end)\n",
    "#     data_start = data_start + slide_range\n",
    "#     predict_start = predict_start + slide_range\n"
   ]
  },
  {
   "attachments": {},
   "cell_type": "markdown",
   "metadata": {},
   "source": [
    "# Data preprocessing\n"
   ]
  },
  {
   "cell_type": "code",
   "execution_count": 5,
   "metadata": {},
   "outputs": [],
   "source": [
    "def find_data_pv_CL_function(data, pv_range):\n",
    "    pd.options.mode.chained_assignment = None\n",
    "    for i in data:\n",
    "        price = data[i]['Close']\n",
    "        data[i]['peaks'] = pd.Series(dtype='float64')\n",
    "        data[i]['valleys'] = pd.Series(dtype='float64')\n",
    "        data[i]['pv'] = pd.Series(dtype='str')\n",
    "        for idx in range(0, len(price)):\n",
    "            if idx < pv_range:\n",
    "                if price[idx] == price.iloc[0:pv_range*2+1].max():\n",
    "                    data[i]['peaks'].iloc[idx] = price[idx]\n",
    "                    data[i]['pv'].iloc[idx] = 'peaks'\n",
    "                if price[idx] == price.iloc[0:pv_range*2+1].min():\n",
    "                    data[i]['valleys'].iloc[idx] = price[idx]\n",
    "                    data[i]['pv'].iloc[idx] = 'valleys'\n",
    "            if price[idx] == price.iloc[idx-pv_range:idx+pv_range].max():\n",
    "                data[i]['peaks'].iloc[idx] = price[idx]\n",
    "                data[i]['pv'].iloc[idx] = 'peaks'\n",
    "            if price[idx] == price.iloc[idx-pv_range:idx+pv_range].min():\n",
    "                data[i]['valleys'].iloc[idx] = price[idx]\n",
    "                data[i]['pv'].iloc[idx] = 'valleys'\n"
   ]
  },
  {
   "cell_type": "code",
   "execution_count": 6,
   "metadata": {},
   "outputs": [],
   "source": [
    "def find_data_pv_HL_function(data, pv_range):\n",
    "    pd.options.mode.chained_assignment = None\n",
    "    for i in data:\n",
    "        high = data[i]['High']\n",
    "        low = data[i]['Low']\n",
    "        data[i]['peaks'] = pd.Series(dtype='float64')\n",
    "        data[i]['valleys'] = pd.Series(dtype='float64')\n",
    "        data[i]['pv'] = pd.Series(dtype='str')\n",
    "        for idx in range(0, len(high)):\n",
    "            if idx < pv_range:\n",
    "                if high[idx] == high.iloc[0:pv_range*2+1].max():\n",
    "                    data[i]['peaks'].iloc[idx] = high[idx]\n",
    "                    data[i]['pv'].iloc[idx] = 'peaks'\n",
    "                if low[idx] == low.iloc[0:pv_range*2+1].min():\n",
    "                    data[i]['valleys'].iloc[idx] = low[idx]\n",
    "                    data[i]['pv'].iloc[idx] = 'valleys'\n",
    "            if high[idx] == high.iloc[idx-pv_range:idx+pv_range].max():\n",
    "                data[i]['peaks'].iloc[idx] = high[idx]\n",
    "                data[i]['pv'].iloc[idx] = 'peaks'\n",
    "            if low[idx] == low.iloc[idx-pv_range:idx+pv_range].min():\n",
    "                data[i]['valleys'].iloc[idx] = low[idx]\n",
    "                data[i]['pv'].iloc[idx] = 'valleys'\n"
   ]
  },
  {
   "cell_type": "code",
   "execution_count": 7,
   "metadata": {},
   "outputs": [],
   "source": [
    "def preprocessing(train_data, test_data, pv_range, pv_method):\n",
    "    if pv_method == 'CL':\n",
    "        find_data_pv_CL_function(train_data, pv_range)\n",
    "        find_data_pv_CL_function(test_data, pv_range)\n",
    "    elif pv_method == 'HL':\n",
    "        find_data_pv_HL_function(train_data, pv_range)\n",
    "        find_data_pv_HL_function(test_data, pv_range)\n",
    "    else :\n",
    "        print('worng pv_method')\n"
   ]
  },
  {
   "attachments": {},
   "cell_type": "markdown",
   "metadata": {},
   "source": [
    "# Built Model\n"
   ]
  },
  {
   "attachments": {},
   "cell_type": "markdown",
   "metadata": {},
   "source": [
    "Get signal\n"
   ]
  },
  {
   "cell_type": "code",
   "execution_count": 8,
   "metadata": {},
   "outputs": [],
   "source": [
    "def data_to_harmonics_function(data_stock, data_range):\n",
    "    harmonics = {}\n",
    "    for i in data_stock:\n",
    "        harmonics[i] = {}\n",
    "        # get data_stock's infomation\n",
    "        data = data_stock[i]['Close']\n",
    "        array_data = np.array(data)\n",
    "        n_data = array_data.size\n",
    "        time_data = np.arange(0, n_data)\n",
    "\n",
    "        # detrend data\n",
    "        # find linear trend in data\n",
    "        Polynomial = np.polyfit(time_data, array_data, 1)\n",
    "        data_notrend = array_data - Polynomial[0] * time_data    # detrended x\n",
    "\n",
    "        # fft process\n",
    "        data_freqdom = fft.fft(data_notrend, n=n_data)\n",
    "        frequence = fft.fftfreq(n=n_data, d=1)\n",
    "        f_positive = frequence[np.where(frequence > 0)]\n",
    "        data_freqdom_positive = data_freqdom[np.where(frequence > 0)]\n",
    "\n",
    "        # sort indexes\n",
    "        indexes = list(range(f_positive.size))      # frequencies\n",
    "        # sort method 1\n",
    "        # indexes.sort(key = lambda i: np.absolute(frequence[i]))     # sort indexes by frequency, lower -> higher\n",
    "        # sort method 2 :\n",
    "        # sort indexes by amplitudes, lower -> higher\n",
    "        indexes.sort(key=lambda i: np.absolute(data_freqdom[i]))\n",
    "        indexes.reverse()       # sort indexes by amplitudes, higher -> lower\n",
    "\n",
    "        # get data_all_time'size\n",
    "        time_transfer = np.arange(0, data_range*2)\n",
    "\n",
    "        # mix harmonics\n",
    "        for j in indexes:\n",
    "            ampli = np.absolute(\n",
    "                data_freqdom_positive[j]) / n_data     # amplitude\n",
    "            phase = np.angle(data_freqdom_positive[j])      # phase\n",
    "            harmonics[i][j] = ampli * \\\n",
    "                np.cos(2 * np.pi * f_positive[j] * time_transfer + phase)\n",
    "    return harmonics\n"
   ]
  },
  {
   "cell_type": "code",
   "execution_count": 9,
   "metadata": {},
   "outputs": [],
   "source": [
    "def mix_harmonics_function(harmonics, n_harm_lower_limit, n_harm_upper_limit):\n",
    "    processed_signal = {}\n",
    "    for i in harmonics:\n",
    "        processed_signal[i] = {}\n",
    "        for n_harm in range(n_harm_lower_limit, n_harm_upper_limit+1):\n",
    "            mixed_harmonic = np.zeros(len(harmonics[i][0]))\n",
    "            for j in range(n_harm):\n",
    "                mixed_harmonic += harmonics[i][j]\n",
    "            processed_signal[i][n_harm] = pd.DataFrame(\n",
    "                {'Close': mixed_harmonic})\n",
    "    return processed_signal\n"
   ]
  },
  {
   "attachments": {},
   "cell_type": "markdown",
   "metadata": {},
   "source": [
    "Signal processing\n"
   ]
  },
  {
   "cell_type": "code",
   "execution_count": 10,
   "metadata": {},
   "outputs": [],
   "source": [
    "def find_signal_pv_function(signal, pv_range):\n",
    "    pd.options.mode.chained_assignment = None\n",
    "    for i in signal:\n",
    "        for j in signal[i]:\n",
    "            data = signal[i][j]['Close']\n",
    "            signal[i][j]['peaks'] = pd.Series(dtype='float64')\n",
    "            signal[i][j]['valleys'] = pd.Series(dtype='float64')\n",
    "            signal[i][j]['pv'] = pd.Series(dtype='str')\n",
    "            for idx in range(0, len(data)):\n",
    "                if idx < pv_range:\n",
    "                    if data[idx] == data.iloc[0:pv_range*2+1].max():\n",
    "                        signal[i][j]['peaks'].iloc[idx] = data[idx]\n",
    "                        signal[i][j]['pv'].iloc[idx] = 'peaks'\n",
    "                    if data[idx] == data.iloc[0:pv_range*2+1].min():\n",
    "                        signal[i][j]['valleys'].iloc[idx] = data[idx]\n",
    "                        signal[i][j]['pv'].iloc[idx] = 'valleys'\n",
    "                if data[idx] == data.iloc[idx-pv_range:idx+pv_range].max():\n",
    "                    signal[i][j]['peaks'].iloc[idx] = data[idx]\n",
    "                    signal[i][j]['pv'].iloc[idx] = 'peaks'\n",
    "                if data[idx] == data.iloc[idx-pv_range:idx+pv_range].min():\n",
    "                    signal[i][j]['valleys'].iloc[idx] = data[idx]\n",
    "                    signal[i][j]['pv'].iloc[idx] = 'valleys'\n"
   ]
  },
  {
   "cell_type": "code",
   "execution_count": 11,
   "metadata": {},
   "outputs": [],
   "source": [
    "def find_signal_lead_train_function(data, processed_signal):\n",
    "    for d in data:\n",
    "        for p in processed_signal[d]:\n",
    "            # processed_signal[d][p]['pv'] = pd.Series(dtype='str')\n",
    "            processing_signal = processed_signal[d][p].head(len(data[d]))\n",
    "            p_data = pd.DataFrame(\n",
    "                {'peaks': data[d]['peaks'], 'count': range(len(data[d]))})\n",
    "            p_data = p_data.drop(p_data[p_data['peaks'].isna()].index)\n",
    "            p_data_count = list(p_data['count'])\n",
    "            p_signal = pd.DataFrame(\n",
    "                {'peaks': processing_signal['peaks'], 'count': range(len(processing_signal))})\n",
    "            p_signal = p_signal.drop(p_signal[p_signal['peaks'].isna()].index)\n",
    "            p_signal_list = list(p_signal['count'])\n",
    "            p_lead = []\n",
    "            for i in range(0, len(p_signal_list)):\n",
    "                temp = []\n",
    "                temp_abs = []\n",
    "                temp_2 = []\n",
    "                for j in range(0, len(p_data_count)):\n",
    "                    temp.append((p_data_count[j] - p_signal_list[i]))\n",
    "                    temp_abs.append(abs(p_data_count[j] - p_signal_list[i]))\n",
    "                for k in range(0, len(temp_abs)):\n",
    "                    if temp_abs[k] == min(temp_abs):\n",
    "                        temp_2 = temp[k]\n",
    "                p_lead.append(temp_2)\n",
    "            p_signal['lead'] = p_lead\n",
    "\n",
    "            v_data = pd.DataFrame(\n",
    "                {'valleys': data[d]['valleys'], 'count': range(len(data[d]))})\n",
    "            v_data = v_data.drop(v_data[v_data['valleys'].isna()].index)\n",
    "            v_data_count = list(v_data['count'])\n",
    "            v_signal = pd.DataFrame(\n",
    "                {'valleys': processing_signal['valleys'], 'count': range(len(processing_signal))})\n",
    "            v_signal = v_signal.drop(\n",
    "                v_signal[v_signal['valleys'].isna()].index)\n",
    "            v_signal_list = list(v_signal['count'])\n",
    "            v_lead = []\n",
    "            for i in range(0, len(v_signal_list)):\n",
    "                temp = []\n",
    "                temp_abs = []\n",
    "                temp_2 = []\n",
    "                for j in range(0, len(v_data_count)):\n",
    "                    temp.append((v_data_count[j] - v_signal_list[i]))\n",
    "                    temp_abs.append(abs(v_data_count[j] - v_signal_list[i]))\n",
    "                for k in range(0, len(temp_abs)):\n",
    "                    if temp_abs[k] == min(temp_abs):\n",
    "                        temp_2 = temp[k]\n",
    "                v_lead.append(temp_2)\n",
    "            v_signal['lead'] = v_lead\n",
    "\n",
    "            processed_signal[d][p]['lead'] = pd.Series(dtype='float64')\n",
    "            processed_signal[d][p]['lead'].loc[p_signal['lead'].index] = p_signal['lead']\n",
    "            processed_signal[d][p]['lead'].loc[v_signal['lead'].index] = v_signal['lead']\n"
   ]
  },
  {
   "cell_type": "code",
   "execution_count": 12,
   "metadata": {},
   "outputs": [],
   "source": [
    "def build_model(train_data, n_harm_lower_limit, n_harm_upper_limit, pv_range, data_range):\n",
    "    harmonics = data_to_harmonics_function(train_data, data_range)\n",
    "    processed_signal = mix_harmonics_function(\n",
    "        harmonics, n_harm_lower_limit, n_harm_upper_limit)\n",
    "    find_signal_pv_function(processed_signal, pv_range)\n",
    "    find_signal_lead_train_function(train_data, processed_signal)\n",
    "    return harmonics, processed_signal\n"
   ]
  },
  {
   "attachments": {},
   "cell_type": "markdown",
   "metadata": {},
   "source": [
    "# Select model\n"
   ]
  },
  {
   "cell_type": "code",
   "execution_count": 13,
   "metadata": {},
   "outputs": [],
   "source": [
    "def get_fit_error_function(processed_signal, fit_method):\n",
    "    errors = {}\n",
    "    error = []\n",
    "    for i in processed_signal:\n",
    "        errors[i] = {}\n",
    "        for j in processed_signal[i]:\n",
    "            signal_dropna = processed_signal[i][j].drop(\n",
    "                processed_signal[i][j][processed_signal[i][j]['lead'].isna()].index)\n",
    "            if fit_method == 'mean':\n",
    "                error = signal_dropna['lead'].mean()\n",
    "            elif fit_method == 'abs':\n",
    "                error = abs(signal_dropna['lead']).mean()\n",
    "            elif fit_method == 'rmse':\n",
    "                mse = np.square(np.subtract(np.zeros_like(\n",
    "                    signal_dropna['lead']), signal_dropna['lead'])).mean()\n",
    "                rmse = math.sqrt(mse)\n",
    "                error = rmse\n",
    "            else :\n",
    "                print('worng fit_method')\n",
    "            errors[i][j] = error\n",
    "    return errors\n"
   ]
  },
  {
   "cell_type": "code",
   "execution_count": 14,
   "metadata": {},
   "outputs": [],
   "source": [
    "def get_best_fit_harm_function(processed_signal, errors):\n",
    "    best_error = {}\n",
    "    best_fit_harm = {}\n",
    "    for i in processed_signal:\n",
    "        best_error[i] = pd.Series(errors[i]).abs().min()\n",
    "        best_fit_harm[i] = pd.Series(errors[i]).abs().idxmin()\n",
    "    return best_fit_harm, best_error\n"
   ]
  },
  {
   "cell_type": "code",
   "execution_count": 15,
   "metadata": {},
   "outputs": [],
   "source": [
    "def find_signal_lead_test_function(data, processed_signal):\n",
    "    for d in data:\n",
    "        for p in processed_signal[d]:\n",
    "            processed_signal[d][p]['pv'] = pd.Series(dtype='str')\n",
    "            processing_signal = processed_signal[d][p].tail(len(data[d]))\n",
    "            p_data = pd.DataFrame(\n",
    "                {'peaks': data[d]['peaks'], 'count': range(len(data[d]))})\n",
    "            p_data = p_data.drop(p_data[p_data['peaks'].isna()].index)\n",
    "            p_data_count = list(p_data['count'])\n",
    "            p_signal = pd.DataFrame(\n",
    "                {'peaks': processing_signal['peaks'], 'count': range(len(processing_signal))})\n",
    "            p_signal = p_signal.drop(p_signal[p_signal['peaks'].isna()].index)\n",
    "            p_signal_list = list(p_signal['count'])\n",
    "            p_lead = []\n",
    "            for i in range(0, len(p_signal_list)):\n",
    "                temp = []\n",
    "                temp_abs = []\n",
    "                temp_2 = []\n",
    "                for j in range(0, len(p_data_count)):\n",
    "                    temp.append((p_data_count[j] - p_signal_list[i]))\n",
    "                    temp_abs.append(abs(p_data_count[j] - p_signal_list[i]))\n",
    "                for k in range(0, len(temp_abs)):\n",
    "                    if temp_abs[k] == min(temp_abs):\n",
    "                        temp_2 = temp[k]\n",
    "                p_lead.append(temp_2)\n",
    "            p_signal['lead'] = p_lead\n",
    "\n",
    "            v_data = pd.DataFrame(\n",
    "                {'valleys': data[d]['valleys'], 'count': range(len(data[d]))})\n",
    "            v_data = v_data.drop(v_data[v_data['valleys'].isna()].index)\n",
    "            v_data_count = list(v_data['count'])\n",
    "            v_signal = pd.DataFrame(\n",
    "                {'valleys': processing_signal['valleys'], 'count': range(len(processing_signal))})\n",
    "            v_signal = v_signal.drop(\n",
    "                v_signal[v_signal['valleys'].isna()].index)\n",
    "            v_signal_list = list(v_signal['count'])\n",
    "            v_lead = []\n",
    "            for i in range(0, len(v_signal_list)):\n",
    "                temp = []\n",
    "                temp_abs = []\n",
    "                temp_2 = []\n",
    "                for j in range(0, len(v_data_count)):\n",
    "                    temp.append((v_data_count[j] - v_signal_list[i]))\n",
    "                    temp_abs.append(abs(v_data_count[j] - v_signal_list[i]))\n",
    "                for k in range(0, len(temp_abs)):\n",
    "                    if temp_abs[k] == min(temp_abs):\n",
    "                        temp_2 = temp[k]\n",
    "                v_lead.append(temp_2)\n",
    "            v_signal['lead'] = v_lead\n",
    "\n",
    "            processed_signal[d][p]['lead'] = pd.Series(dtype='float64')\n",
    "            processed_signal[d][p]['lead'].loc[p_signal['lead'].index] = p_signal['lead']\n",
    "            processed_signal[d][p]['pv'].loc[p_signal['lead'].index] = 'peak'\n",
    "            processed_signal[d][p]['lead'].loc[v_signal['lead'].index] = v_signal['lead']\n",
    "            processed_signal[d][p]['pv'].loc[v_signal['lead'].index] = 'valley'\n"
   ]
  },
  {
   "cell_type": "code",
   "execution_count": 16,
   "metadata": {},
   "outputs": [],
   "source": [
    "def get_first_lead_function(processed_signal, best_fit_harm):\n",
    "    first_date = {}\n",
    "    lead = {}\n",
    "    pv = {}\n",
    "    for i in processed_signal:\n",
    "        harm = best_fit_harm[i]\n",
    "        temp = processed_signal[i][harm].loc[list(\n",
    "            processed_signal[i][harm]['lead'].dropna().index)[0]]\n",
    "        first_date[i] = list(processed_signal[i][harm]\n",
    "                             ['lead'].dropna().index)[0]\n",
    "        lead[i] = temp['lead']\n",
    "        pv[i] = temp['pv']\n",
    "    return first_date, lead, pv\n"
   ]
  },
  {
   "cell_type": "code",
   "execution_count": 17,
   "metadata": {},
   "outputs": [],
   "source": [
    "def select_model(test_data, processed_signal, fit_method):\n",
    "    errors = get_fit_error_function(processed_signal, fit_method)\n",
    "    best_fit_harm, best_error = get_best_fit_harm_function(\n",
    "        processed_signal, errors)\n",
    "    find_signal_lead_test_function(test_data, processed_signal)\n",
    "    first_date, lead, pv = get_first_lead_function(\n",
    "        processed_signal, best_fit_harm)\n",
    "    return errors, best_fit_harm, best_error, first_date, lead, pv\n"
   ]
  },
  {
   "attachments": {},
   "cell_type": "markdown",
   "metadata": {},
   "source": [
    "# Evaluate model\n"
   ]
  },
  {
   "cell_type": "code",
   "execution_count": 18,
   "metadata": {},
   "outputs": [],
   "source": [
    "def built_result_table_function(processed_signal, test_data_start_list, lead, pv, best_error, best_fit_harm):\n",
    "    result_table = pd.DataFrame(columns=[\n",
    "        's_date', 't_date', 'lead', 'ans_date', 'pv', 'error', 'best_fit'])\n",
    "    for i in processed_signal:\n",
    "        result_table.loc[i, 'error'] = round(best_error[i], 2)\n",
    "        result_table.loc[i, 'best_fit'] = best_fit_harm[i]\n",
    "        result_table.loc[i, 'lead'] = lead[i]\n",
    "        result_table.loc[i, 'pv'] = pv[i]\n",
    "    result_table['s_date'] = test_data_start_list\n",
    "    return result_table\n"
   ]
  },
  {
   "cell_type": "code",
   "execution_count": 19,
   "metadata": {},
   "outputs": [],
   "source": [
    "def result_table_process_function(result_table, all_data, first_date, data_range):\n",
    "    for i in result_table.index:\n",
    "        t_date = all_data.iloc[all_data.index.get_loc(\n",
    "            result_table.loc[i, 's_date']) + first_date[i] - data_range].name\n",
    "        t_date = datetime.datetime.strftime(t_date, '%Y-%m-%d')\n",
    "        result_table.loc[i, 't_date'] = t_date\n",
    "        ans = all_data.iloc[int(all_data.index.get_loc(\n",
    "            result_table.loc[i, 't_date']) + result_table.loc[i, 'lead'])].name\n",
    "        ans = datetime.datetime.strftime(ans, '%Y-%m-%d')\n",
    "        result_table.loc[i, 'ans_date'] = ans\n"
   ]
  },
  {
   "cell_type": "code",
   "execution_count": 20,
   "metadata": {},
   "outputs": [],
   "source": [
    "def compute_final_error_function(result_table):\n",
    "    final_error = round(\n",
    "        sum([abs(ele) for ele in result_table['lead']]) / len(result_table['lead']), 2)\n",
    "    return final_error\n"
   ]
  },
  {
   "cell_type": "code",
   "execution_count": 21,
   "metadata": {},
   "outputs": [],
   "source": [
    "def evaluate_model(processed_signal, test_data_start_list, all_data, best_fit_harm, best_error, first_date, lead, pv, data_range):\n",
    "    result_table = built_result_table_function(\n",
    "        processed_signal, test_data_start_list, lead, pv, best_error, best_fit_harm)\n",
    "    result_table_process_function(\n",
    "        result_table, all_data, first_date, data_range)\n",
    "    final_error = compute_final_error_function(result_table)\n",
    "    return result_table, final_error\n"
   ]
  },
  {
   "attachments": {},
   "cell_type": "markdown",
   "metadata": {},
   "source": [
    "# Draw plot\n"
   ]
  },
  {
   "cell_type": "code",
   "execution_count": 22,
   "metadata": {},
   "outputs": [],
   "source": [
    "def find_data_pv_function(data, pv_range):\n",
    "    pd.options.mode.chained_assignment = None\n",
    "    price = data['Close']\n",
    "    data['peaks'] = pd.Series(dtype='float64')\n",
    "    data['valleys'] = pd.Series(dtype='float64')\n",
    "    data['pv'] = pd.Series(dtype='str')\n",
    "    for idx in range(0, len(price)):\n",
    "        if idx < pv_range:\n",
    "            if price[idx] == price.iloc[0:pv_range*2+1].max():\n",
    "                data['peaks'].iloc[idx] = price[idx]\n",
    "                data['pv'].iloc[idx] = 'peaks'\n",
    "            if price[idx] == price.iloc[0:pv_range*2+1].min():\n",
    "                data['valleys'].iloc[idx] = price[idx]\n",
    "                data['pv'].iloc[idx] = 'valleys'\n",
    "        if price[idx] == price.iloc[idx-pv_range:idx+pv_range].max():\n",
    "            data['peaks'].iloc[idx] = price[idx]\n",
    "            data['pv'].iloc[idx] = 'peaks'\n",
    "        if price[idx] == price.iloc[idx-pv_range:idx+pv_range].min():\n",
    "            data['valleys'].iloc[idx] = price[idx]\n",
    "            data['pv'].iloc[idx] = 'valleys'\n"
   ]
  },
  {
   "cell_type": "code",
   "execution_count": 23,
   "metadata": {},
   "outputs": [],
   "source": [
    "def draw_plot_result_table(test_data, all_data, result_table, pv_range):\n",
    "    date_list = sorted(\n",
    "        list(result_table['s_date']) + list(result_table['t_date']) + list(result_table['ans_date']))\n",
    "    all_index = all_data.loc[date_list[0]:date_list[-1]].index\n",
    "    fig, axes = plt.subplots(2, 1, figsize=(30, 8), sharex=True)\n",
    "    for d in test_data :\n",
    "        test_data[d].index = test_data[d]['Date']\n",
    "        test_data[d]= test_data[d].drop(test_data[d][test_data[d].index > date_list[-1]].index)\n",
    "        axes[0].plot(test_data[d].index, test_data[d]['Close'], 'gray', label='data', linewidth=3)\n",
    "    for d in test_data :\n",
    "        axes[0].plot(test_data[d].index, test_data[d]['peaks'],\n",
    "                    '^', c='royalblue', label='peaks')\n",
    "        axes[0].plot(test_data[d].index, test_data[d]['valleys'], 'v',\n",
    "                    c='orangered', label='valleys')\n",
    "    plot_model = pd.DataFrame(index=all_index, columns=[\n",
    "                                's_date', 't_date', 'ans_date', 'lead', 'pv'])\n",
    "    plot_model['s_date'].loc[result_table['s_date']] = True\n",
    "    plot_model['t_date'].loc[result_table['t_date']] = True\n",
    "    plot_model['lead'].loc[result_table['t_date']] = list(result_table['lead'])\n",
    "    plot_model['pv'].loc[result_table['t_date']] = list(result_table['pv'])\n",
    "    plot_model['ans_date'].loc[result_table['ans_date']] = True\n",
    "    for i, label in enumerate(plot_model['lead']):\n",
    "        if plot_model['pv'][i] == 'peak':\n",
    "            # axes[0].plot(plot_data.index[i], plot_data['Close'].iloc[i], '|',\n",
    "            #             c='red')\n",
    "            axes[1].plot(plot_model.index[i], plot_model['lead'][i], '^',\n",
    "                            c='royalblue')\n",
    "            text = str(label)\n",
    "            axes[1].annotate(text, (plot_model.index[i],\n",
    "                                plot_model['lead'][i]), fontsize=14)\n",
    "        elif plot_model['pv'][i] == 'valley':\n",
    "            # axes[0].plot(plot_data.index[i], plot_data['Close'].iloc[i], '|',\n",
    "            #             c='red')\n",
    "            axes[1].plot(plot_model.index[i], plot_model['lead'][i], 'v',\n",
    "                            c='orangered')\n",
    "            text = str(label)\n",
    "            axes[1].annotate(text, (plot_model.index[i],\n",
    "                                plot_model['lead'][i]), fontsize=14)\n",
    "\n",
    "    axes[0].set_ylabel(\"Stock price\", fontsize=14)\n",
    "    axes[0].grid(True)\n",
    "    axes[1].grid(True)\n",
    "    axes[1].set_ylabel(\"lead\", fontsize=14)\n",
    "    plt.show()"
   ]
  },
  {
   "attachments": {},
   "cell_type": "markdown",
   "metadata": {},
   "source": [
    "# Main function\n"
   ]
  },
  {
   "cell_type": "code",
   "execution_count": 24,
   "metadata": {},
   "outputs": [],
   "source": [
    "def main_funtion(\n",
    "    stock_name, date_predict_start, data_range, slide_range,\n",
    "        n_slide, pv_range, n_harm_lower_limit, n_harm_upper_limit, fit_method, pv_method):\n",
    "\n",
    "    # 1. Load data\n",
    "    train_data, test_data, all_data, test_data_start_list = load_data(\n",
    "        stock_name, date_predict_start, data_range, slide_range, n_slide)\n",
    "    # 2. Preprocessing\n",
    "    preprocessing(train_data, test_data, pv_range, pv_method)\n",
    "    # 3. Build model\n",
    "    harmonics, model = build_model(\n",
    "        train_data, n_harm_lower_limit, n_harm_upper_limit, pv_range, data_range)\n",
    "    # 4. Select model\n",
    "    errors, best_fit_harm, best_error, first_date, lead, pv = select_model(test_data,\n",
    "                                                                           model, fit_method)\n",
    "    # 5. Evaluate model\n",
    "    result_table, final_error = evaluate_model(\n",
    "        model, test_data_start_list, all_data, best_fit_harm, best_error, first_date, lead, pv, data_range)\n",
    "    print('final_error = ', final_error)\n",
    "    with pd.option_context('display.max_rows', None,\n",
    "                       'display.max_columns', None,\n",
    "                       'display.precision', 3,\n",
    "                       ):\n",
    "        print(result_table)\n",
    "    draw_plot_result_table(test_data, all_data, result_table, pv_range)\n",
    "    return harmonics, model, errors, best_fit_harm, best_error, first_date, lead, pv, result_table, final_error\n"
   ]
  },
  {
   "cell_type": "code",
   "execution_count": 25,
   "metadata": {},
   "outputs": [],
   "source": [
    "# stock_name = \"^GSPC\"\n",
    "# date_predict_start = '2020-01-01'\n",
    "# data_range = 250\n",
    "# slide_range = 10\n",
    "# n_slide = 2\n",
    "# pv_range = 2\n",
    "# order_lower_limit = 0\n",
    "# order_upper_limit = 50\n",
    "# fit_method = 'rmse'\n",
    "# pv_method = 'HL'\n",
    "# # 1. load_data\n",
    "# train_data, test_data, all_data, test_data_start_list = load_data(\n",
    "#     stock_name, date_predict_start, data_range, slide_range, n_slide)\n",
    "# # 2. Preprocessing\n",
    "# preprocessing(train_data, test_data, pv_range, pv_method)\n"
   ]
  },
  {
   "cell_type": "code",
   "execution_count": 26,
   "metadata": {},
   "outputs": [],
   "source": [
    "def SARIMAX_predict_function(train_data, p_range, d_range, q_range, P_range, D_range, Q_range, s): \n",
    "    model_pdq = {}\n",
    "    model_aic = {}\n",
    "    model_fit = {}\n",
    "    for i in train_data:\n",
    "        train = train_data[i]['Close']\n",
    "        model_aic[i] = {}\n",
    "        model_pdq[i] = {}\n",
    "        model_fit[i] = {}\n",
    "        index = 0\n",
    "        for p in p_range:\n",
    "            for d in d_range:\n",
    "                for q in q_range:\n",
    "                    for P in P_range:\n",
    "                        for D in D_range:\n",
    "                            for Q in Q_range:\n",
    "                                # Fit the SARIMA model to the training data\n",
    "                                model = SARIMAX(train, order=(p, d, q), seasonal_order=(P, D, Q, s))\n",
    "                                model_fit[i][index] = model.fit()\n",
    "                                model_aic[i][index] = model.fit().aic\n",
    "                                model_pdq[i][index] = {'p':p, 'd':d, 'q':q, 'P':P, 'D':D, 'Q':Q}\n",
    "                                index+=1\n",
    "    return model_fit, model_aic, model_pdq"
   ]
  },
  {
   "cell_type": "code",
   "execution_count": 27,
   "metadata": {},
   "outputs": [],
   "source": [
    "# p_range = range(0, 3)\n",
    "# d_range = range(0, 3)\n",
    "# q_range = range(1, 2)\n",
    "# P_range = range(0, 3)\n",
    "# D_range = range(0, 3)\n",
    "# Q_range = range(1, 2)\n",
    "# s = 12\n",
    "# model_fit, model_aic, model_pdq = SARIMAX_predict_function(train_data, p_range, d_range, q_range, P_range, D_range, Q_range, s) # type: ignore"
   ]
  },
  {
   "cell_type": "code",
   "execution_count": 28,
   "metadata": {},
   "outputs": [],
   "source": [
    "def SARIMAX_select_model(model_fit, model_aic, data_range):\n",
    "    best_predictions = {}\n",
    "    for i in model_aic:\n",
    "        min_key, min_value = min(\n",
    "            zip(model_aic[i].keys(), model_aic[i].values()))\n",
    "        best_predictions[i] = model_fit[i][0].predict(\n",
    "            start=data_range, end=data_range*2-1)\n",
    "    return best_predictions, min_value\n"
   ]
  },
  {
   "cell_type": "code",
   "execution_count": 29,
   "metadata": {},
   "outputs": [],
   "source": [
    "# best_predictions, min_value = SARIMAX_select_model(model_fit, model_aic, data_range)"
   ]
  },
  {
   "cell_type": "code",
   "execution_count": 30,
   "metadata": {},
   "outputs": [],
   "source": [
    "def draw_sarima_result(train_data, test_data, predictions):\n",
    "    plt.figure(figsize=(20,6))\n",
    "    plt.plot(train_data, label='train')\n",
    "    plt.plot(predictions.index, test_data[:len(predictions)], label='test')\n",
    "    plt.plot(predictions.index, predictions, label='predictions')\n",
    "    # plt.xlim(len(train_data-10), len(train_data+10))\n",
    "    plt.legend()\n",
    "    plt.show()"
   ]
  },
  {
   "cell_type": "code",
   "execution_count": 31,
   "metadata": {},
   "outputs": [],
   "source": [
    "def find_sarima_pv_function(sarima_predictions, pv_range):\n",
    "    pd.options.mode.chained_assignment = None\n",
    "    processed_signal = {}\n",
    "    for i in sarima_predictions:\n",
    "        processed_signal[i] = pd.DataFrame()\n",
    "        price = sarima_predictions[i].reset_index(drop=True)\n",
    "        processed_signal[i]['Close'] = sarima_predictions[i].reset_index(drop=True)\n",
    "        processed_signal[i]['peaks'] = pd.Series(dtype='float64')\n",
    "        processed_signal[i]['valleys'] = pd.Series(dtype='float64')\n",
    "        processed_signal[i]['pv'] = pd.Series(dtype='str')\n",
    "        for idx in range(0, len(price)):\n",
    "            if idx < pv_range:\n",
    "                if price[idx] == price.iloc[0:pv_range*2+1].max():\n",
    "                    processed_signal[i]['peaks'].iloc[idx] = price[idx]\n",
    "                    processed_signal[i]['pv'].iloc[idx] = 'peaks'\n",
    "                if price[idx] == price.iloc[0:pv_range*2+1].min():\n",
    "                    processed_signal[i]['valleys'].iloc[idx] = price[idx]\n",
    "                    processed_signal[i]['pv'].iloc[idx] = 'valleys'\n",
    "            if price[idx] == price.iloc[idx-pv_range:idx+pv_range].max():\n",
    "                processed_signal[i]['peaks'].iloc[idx] = price[idx]\n",
    "                processed_signal[i]['pv'].iloc[idx] = 'peaks'\n",
    "            if price[idx] == price.iloc[idx-pv_range:idx+pv_range].min():\n",
    "                processed_signal[i]['valleys'].iloc[idx] = price[idx]\n",
    "                processed_signal[i]['pv'].iloc[idx] = 'valleys'\n",
    "            # new rule for all zero\n",
    "    return processed_signal\n"
   ]
  },
  {
   "cell_type": "code",
   "execution_count": 32,
   "metadata": {},
   "outputs": [],
   "source": [
    "# processed_signal = find_sarima_pv_function(best_predictions, pv_range)"
   ]
  },
  {
   "cell_type": "code",
   "execution_count": 33,
   "metadata": {},
   "outputs": [],
   "source": [
    "def find_sarima_lead_train_function(data, processed_signal):\n",
    "    for d in data:\n",
    "        # processed_signal[d]['pv'] = pd.Series(dtype='str')\n",
    "        processing_signal = processed_signal[d].head(len(data[d]))\n",
    "        # print(processing_signal)\n",
    "        p_data = pd.DataFrame(\n",
    "            {'peaks': data[d]['peaks'], 'count': range(len(data[d]))})\n",
    "        p_data = p_data.drop(p_data[p_data['peaks'].isna()].index)\n",
    "        p_data_count = list(p_data['count'])\n",
    "        p_signal = pd.DataFrame(\n",
    "            {'peaks': processing_signal['peaks'], 'count': range(len(processing_signal))})\n",
    "        p_signal = p_signal.drop(p_signal[p_signal['peaks'].isna()].index)\n",
    "        p_signal_list = list(p_signal['count'])\n",
    "        p_lead = []\n",
    "        for i in range(0, len(p_signal_list)):\n",
    "            temp = []\n",
    "            temp_abs = []\n",
    "            temp_2 = []\n",
    "            for j in range(0, len(p_data_count)):\n",
    "                temp.append((p_data_count[j] - p_signal_list[i]))\n",
    "                temp_abs.append(abs(p_data_count[j] - p_signal_list[i]))\n",
    "            for k in range(0, len(temp_abs)):\n",
    "                if temp_abs[k] == min(temp_abs):\n",
    "                    temp_2 = temp[k]\n",
    "            p_lead.append(temp_2)\n",
    "        p_signal['lead'] = p_lead\n",
    "\n",
    "        v_data = pd.DataFrame(\n",
    "            {'valleys': data[d]['valleys'], 'count': range(len(data[d]))})\n",
    "        v_data = v_data.drop(v_data[v_data['valleys'].isna()].index)\n",
    "        v_data_count = list(v_data['count'])\n",
    "        v_signal = pd.DataFrame(\n",
    "            {'valleys': processing_signal['valleys'], 'count': range(len(processing_signal))})\n",
    "        v_signal = v_signal.drop(\n",
    "            v_signal[v_signal['valleys'].isna()].index)\n",
    "        v_signal_list = list(v_signal['count'])\n",
    "        v_lead = []\n",
    "        for i in range(0, len(v_signal_list)):\n",
    "            temp = []\n",
    "            temp_abs = []\n",
    "            temp_2 = []\n",
    "            for j in range(0, len(v_data_count)):\n",
    "                temp.append((v_data_count[j] - v_signal_list[i]))\n",
    "                temp_abs.append(abs(v_data_count[j] - v_signal_list[i]))\n",
    "            for k in range(0, len(temp_abs)):\n",
    "                if temp_abs[k] == min(temp_abs):\n",
    "                    temp_2 = temp[k]\n",
    "            v_lead.append(temp_2)\n",
    "        v_signal['lead'] = v_lead\n",
    "\n",
    "        processed_signal[d]['lead'] = pd.Series(dtype='float64')\n",
    "        processed_signal[d]['lead'].loc[p_signal['lead'].index] = p_signal['lead']\n",
    "        processed_signal[d]['lead'].loc[v_signal['lead'].index] = v_signal['lead']"
   ]
  },
  {
   "cell_type": "code",
   "execution_count": 34,
   "metadata": {},
   "outputs": [],
   "source": [
    "# find_sarima_lead_train_function(train_data, processed_signal)"
   ]
  },
  {
   "cell_type": "code",
   "execution_count": 35,
   "metadata": {},
   "outputs": [],
   "source": [
    "def build_model_sarima(train_data, pv_range, data_range):\n",
    "    p_range = range(0, 3)\n",
    "    d_range = range(0, 3)\n",
    "    q_range = range(1, 2)\n",
    "    P_range = range(0, 3)\n",
    "    D_range = range(0, 3)\n",
    "    Q_range = range(1, 2)\n",
    "    s = 12\n",
    "    model_fit, model_aic, model_pdq = SARIMAX_predict_function(train_data, p_range, d_range, q_range, P_range, D_range, Q_range, s) # type: ignore\n",
    "    best_predictions, min_value = SARIMAX_select_model(model_fit, model_aic, data_range)\n",
    "    processed_signal = find_sarima_pv_function(best_predictions, pv_range)\n",
    "    find_sarima_lead_train_function(train_data, processed_signal)\n",
    "    return processed_signal"
   ]
  },
  {
   "cell_type": "code",
   "execution_count": 36,
   "metadata": {},
   "outputs": [],
   "source": [
    "# processed_signal = build_model_sarima(train_data, pv_range, data_range)"
   ]
  },
  {
   "cell_type": "code",
   "execution_count": 37,
   "metadata": {},
   "outputs": [],
   "source": [
    "def get_fit_error_function_sarima(processed_signal, fit_method):\n",
    "    errors = {}\n",
    "    error = []\n",
    "    for i in processed_signal:\n",
    "        errors[i] = {}\n",
    "        signal_dropna = processed_signal[i].drop(\n",
    "            processed_signal[i][processed_signal[i]['lead'].isna()].index)\n",
    "        if fit_method == 'mean':\n",
    "            error = signal_dropna['lead'].mean()\n",
    "        elif fit_method == 'abs':\n",
    "            error = abs(signal_dropna['lead']).mean()\n",
    "        elif fit_method == 'rmse':\n",
    "            mse = np.square(np.subtract(np.zeros_like(\n",
    "                signal_dropna['lead']), signal_dropna['lead'])).mean()\n",
    "            rmse = math.sqrt(mse)\n",
    "            error = rmse\n",
    "        else :\n",
    "            print('worng fit_method')\n",
    "        errors[i] = error\n",
    "    return errors\n"
   ]
  },
  {
   "cell_type": "code",
   "execution_count": 38,
   "metadata": {},
   "outputs": [],
   "source": [
    "def find_sarima_lead_test_function(data, processed_signal):\n",
    "    for d in data:\n",
    "        # processed_signal[d]['pv'] = pd.Series(dtype='str')\n",
    "        processing_signal = processed_signal[d].tail(len(data[d]))\n",
    "        p_data = pd.DataFrame(\n",
    "            {'peaks': data[d]['peaks'], 'count': range(len(data[d]))})\n",
    "        p_data = p_data.drop(p_data[p_data['peaks'].isna()].index)\n",
    "        p_data_count = list(p_data['count'])\n",
    "        p_signal = pd.DataFrame(\n",
    "            {'peaks': processing_signal['peaks'], 'count': range(len(processing_signal))})\n",
    "        p_signal = p_signal.drop(p_signal[p_signal['peaks'].isna()].index)\n",
    "        p_signal_list = list(p_signal['count'])\n",
    "        p_lead = []\n",
    "        for i in range(0, len(p_signal_list)):\n",
    "            temp = []\n",
    "            temp_abs = []\n",
    "            temp_2 = []\n",
    "            for j in range(0, len(p_data_count)):\n",
    "                temp.append((p_data_count[j] - p_signal_list[i]))\n",
    "                temp_abs.append(abs(p_data_count[j] - p_signal_list[i]))\n",
    "            for k in range(0, len(temp_abs)):\n",
    "                if temp_abs[k] == min(temp_abs):\n",
    "                    temp_2 = temp[k]\n",
    "            p_lead.append(temp_2)\n",
    "        p_signal['lead'] = p_lead\n",
    "\n",
    "        v_data = pd.DataFrame(\n",
    "            {'valleys': data[d]['valleys'], 'count': range(len(data[d]))})\n",
    "        v_data = v_data.drop(v_data[v_data['valleys'].isna()].index)\n",
    "        v_data_count = list(v_data['count'])\n",
    "        v_signal = pd.DataFrame(\n",
    "            {'valleys': processing_signal['valleys'], 'count': range(len(processing_signal))})\n",
    "        v_signal = v_signal.drop(\n",
    "            v_signal[v_signal['valleys'].isna()].index)\n",
    "        v_signal_list = list(v_signal['count'])\n",
    "        v_lead = []\n",
    "        for i in range(0, len(v_signal_list)):\n",
    "            temp = []\n",
    "            temp_abs = []\n",
    "            temp_2 = []\n",
    "            for j in range(0, len(v_data_count)):\n",
    "                temp.append((v_data_count[j] - v_signal_list[i]))\n",
    "                temp_abs.append(abs(v_data_count[j] - v_signal_list[i]))\n",
    "            for k in range(0, len(temp_abs)):\n",
    "                if temp_abs[k] == min(temp_abs):\n",
    "                    temp_2 = temp[k]\n",
    "            v_lead.append(temp_2)\n",
    "        v_signal['lead'] = v_lead\n",
    "\n",
    "        processed_signal[d]['lead'] = pd.Series(dtype='float64')\n",
    "        processed_signal[d]['lead'].loc[p_signal['lead'].index] = p_signal['lead']\n",
    "        processed_signal[d]['lead'].loc[v_signal['lead'].index] = v_signal['lead']\n"
   ]
  },
  {
   "cell_type": "code",
   "execution_count": 39,
   "metadata": {},
   "outputs": [],
   "source": [
    "def get_first_lead_function_sarima(processed_signal, best_fit_harm):\n",
    "    first_date = {}\n",
    "    lead = {}\n",
    "    pv = {}\n",
    "    for i in processed_signal:\n",
    "        temp = processed_signal[i].loc[list(\n",
    "            processed_signal[i]['lead'].dropna().index)[0]]\n",
    "        first_date[i] = list(processed_signal[i]\n",
    "                             ['lead'].dropna().index)[0]\n",
    "        lead[i] = temp['lead']\n",
    "        pv[i] = temp['pv']\n",
    "    return first_date, lead, pv\n"
   ]
  },
  {
   "cell_type": "code",
   "execution_count": 40,
   "metadata": {},
   "outputs": [],
   "source": [
    "def select_model_sarima(test_data, processed_signal, fit_method):\n",
    "    errors = get_fit_error_function_sarima(processed_signal, fit_method)\n",
    "    best_fit_harm, best_error = get_best_fit_harm_function(\n",
    "        processed_signal, errors)\n",
    "    find_sarima_lead_test_function(test_data, processed_signal)\n",
    "    first_date, lead, pv = get_first_lead_function_sarima(\n",
    "        processed_signal, best_fit_harm)\n",
    "    return errors, best_fit_harm, best_error, first_date, lead, pv\n"
   ]
  },
  {
   "cell_type": "code",
   "execution_count": 41,
   "metadata": {},
   "outputs": [],
   "source": [
    "# errors, best_fit_harm, best_error, first_date, lead, pv = select_model_sarima(test_data, processed_signal, fit_method)"
   ]
  },
  {
   "cell_type": "code",
   "execution_count": 42,
   "metadata": {},
   "outputs": [],
   "source": [
    "def result_table_process_function_sarima(result_table, all_data, first_date, data_range):\n",
    "    for i in result_table.index:\n",
    "        t_date = all_data.iloc[all_data.index.get_loc(\n",
    "            datetime.datetime.strptime(result_table.loc[i].s_date, '%Y-%m-%d').date()) + first_date[i] - data_range].name\n",
    "        t_date = datetime.datetime.strftime(t_date, '%Y-%m-%d')\n",
    "        result_table.loc[i, 't_date'] = t_date\n",
    "        ans = all_data.iloc[int(all_data.index.get_loc(\n",
    "            datetime.datetime.strptime(result_table.loc[i].s_date, '%Y-%m-%d').date()) + result_table.loc[i, 'lead'])].name\n",
    "        ans = datetime.datetime.strftime(ans, '%Y-%m-%d')\n",
    "        result_table.loc[i, 'ans_date'] = ans\n"
   ]
  },
  {
   "cell_type": "code",
   "execution_count": 43,
   "metadata": {},
   "outputs": [],
   "source": [
    "def evaluate_model_sarima(best_predictions, test_data_start_list, all_data, best_fit_harm, best_error, first_date, lead, pv, data_range):\n",
    "    result_table = built_result_table_function(\n",
    "        best_predictions, test_data_start_list, lead, pv, best_error, best_fit_harm)\n",
    "    result_table_process_function_sarima(\n",
    "        result_table, all_data, first_date, data_range)\n",
    "    final_error = compute_final_error_function(result_table)\n",
    "    return result_table, final_error"
   ]
  },
  {
   "cell_type": "code",
   "execution_count": 44,
   "metadata": {},
   "outputs": [],
   "source": [
    "def built_result_table_function_sarima(processed_signal, test_data_start_list, lead, pv, best_error, best_fit_harm):\n",
    "    result_table = pd.DataFrame(columns=[\n",
    "        's_date', 't_date', 'lead', 'ans_date', 'pv', 'error', 'best_fit'])\n",
    "    for i in processed_signal:\n",
    "        result_table.loc[i, 'error'] = round(best_error[i], 2)\n",
    "        result_table.loc[i, 'best_fit'] = best_fit_harm[i]\n",
    "        result_table.loc[i, 'lead'] = lead[i]\n",
    "        result_table.loc[i, 'pv'] = pv[i]\n",
    "    result_table['s_date'] = test_data_start_list\n",
    "    return result_table\n"
   ]
  },
  {
   "cell_type": "code",
   "execution_count": 45,
   "metadata": {},
   "outputs": [],
   "source": [
    "# result_table = built_result_table_function_sarima(\n",
    "#         processed_signal, test_data_start_list, lead, pv, best_error, best_fit_harm)"
   ]
  },
  {
   "cell_type": "code",
   "execution_count": 46,
   "metadata": {},
   "outputs": [],
   "source": [
    "# result_table_process_function_sarima(\n",
    "#         result_table, all_data, first_date, data_range)"
   ]
  },
  {
   "cell_type": "code",
   "execution_count": 47,
   "metadata": {},
   "outputs": [],
   "source": [
    "# final_error = compute_final_error_function(result_table)"
   ]
  },
  {
   "cell_type": "code",
   "execution_count": 48,
   "metadata": {},
   "outputs": [],
   "source": [
    "# result_table, final_error = evaluate_model_sarima(\n",
    "#     processed_signal, test_data_start_list, all_data, best_fit_harm, best_error, first_date, lead, pv, data_range)\n",
    "# print('final_error = ', final_error)\n",
    "# with pd.option_context('display.max_rows', None,\n",
    "#                     'display.max_columns', None,\n",
    "#                     'display.precision', 3,\n",
    "#                     ):\n",
    "#     print(result_table)"
   ]
  },
  {
   "cell_type": "code",
   "execution_count": 49,
   "metadata": {},
   "outputs": [],
   "source": [
    "def draw_sarima_result(test_data, processed_signal):\n",
    "    for i in test_data:\n",
    "        print(i)\n",
    "        plt.figure(figsize=(20,6))\n",
    "        plt.plot(processed_signal[i]['Close'].index, test_data[i]['Close'], label='test')\n",
    "        plt.plot(processed_signal[i]['Close'].index, processed_signal[i]['Close'], label='predictions')\n",
    "        plt.xlim(-1, 50)\n",
    "        plt.legend()\n",
    "        plt.show()"
   ]
  },
  {
   "cell_type": "code",
   "execution_count": 50,
   "metadata": {},
   "outputs": [],
   "source": [
    "# draw_sarima_result(test_data, processed_signal)"
   ]
  },
  {
   "cell_type": "code",
   "execution_count": 51,
   "metadata": {},
   "outputs": [],
   "source": [
    "# def draw_plot_result_table_sarima(test_data, all_data, result_table, pv_range):\n",
    "#     date_list = sorted(\n",
    "#         list(result_table['s_date']) + list(result_table['t_date']) + list(result_table['ans_date']))\n",
    "#     all_index = all_data.loc[datetime.datetime.strptime(date_list[0], '%Y-%m-%d').date():datetime.datetime.strptime(date_list[-1], '%Y-%m-%d').date()].index\n",
    "#     fig, axes = plt.subplots(2, 1, figsize=(30, 8), sharex=True)\n",
    "#     for d in test_data :\n",
    "#         test_data[d].index = test_data[d]['index']\n",
    "#         test_data[d]= test_data[d].drop(test_data[d][test_data[d].index > datetime.datetime.strptime(date_list[-1], '%Y-%m-%d').date()].index)\n",
    "#         axes[0].plot(test_data[d].index, test_data[d]['Close'], 'gray', label='data', linewidth=3)\n",
    "#     for d in test_data :\n",
    "#         axes[0].plot(test_data[d].index, test_data[d]['peaks'],\n",
    "#                     '^', c='royalblue', label='peaks')\n",
    "#         axes[0].plot(test_data[d].index, test_data[d]['valleys'], 'v',\n",
    "#                     c='orangered', label='valleys')\n",
    "#     plot_model = pd.DataFrame(index=all_index, columns=[\n",
    "#                                 's_date', 't_date', 'ans_date', 'lead', 'pv'])\n",
    "#     print(plot_model)\n",
    "#     # plot_model['s_date'].loc[result_table['s_date']] = True\n",
    "#     # plot_model['t_date'].loc[result_table['t_date']] = True\n",
    "#     # plot_model['lead'].loc[result_table['t_date']] = list(result_table['lead'])\n",
    "#     # plot_model['pv'].loc[result_table['t_date']] = list(result_table['pv'])\n",
    "#     # plot_model['ans_date'].loc[result_table['ans_date']] = True\n",
    "#     # for i, label in enumerate(plot_model['lead']):\n",
    "#     #     if plot_model['pv'][i] == 'peak':\n",
    "#     #         # axes[0].plot(plot_data.index[i], plot_data['Close'].iloc[i], '|',\n",
    "#     #         #             c='red')\n",
    "#     #         axes[1].plot(plot_model.index[i], plot_model['lead'][i], '^',\n",
    "#     #                         c='royalblue')\n",
    "#     #         text = str(label)\n",
    "#     #         axes[1].annotate(text, (plot_model.index[i],\n",
    "#     #                             plot_model['lead'][i]), fontsize=14)\n",
    "#     #     elif plot_model['pv'][i] == 'valley':\n",
    "#     #         # axes[0].plot(plot_data.index[i], plot_data['Close'].iloc[i], '|',\n",
    "#     #         #             c='red')\n",
    "#     #         axes[1].plot(plot_model.index[i], plot_model['lead'][i], 'v',\n",
    "#     #                         c='orangered')\n",
    "#     #         text = str(label)\n",
    "#     #         axes[1].annotate(text, (plot_model.index[i],\n",
    "#     #                             plot_model['lead'][i]), fontsize=14)\n",
    "\n",
    "#     # axes[0].set_ylabel(\"Stock price\", fontsize=14)\n",
    "#     # axes[0].grid(True)\n",
    "#     # axes[1].grid(True)\n",
    "#     # axes[1].set_ylabel(\"lead\", fontsize=14)\n",
    "#     # plt.show()"
   ]
  },
  {
   "cell_type": "code",
   "execution_count": 52,
   "metadata": {},
   "outputs": [],
   "source": [
    "def main_funtion_sarima(\n",
    "    stock_name, date_predict_start, data_range, slide_range,\n",
    "        n_slide, pv_range, fit_method, pv_method):\n",
    "    # 1. Load data\n",
    "    train_data, test_data, all_data, test_data_start_list = load_data(\n",
    "        stock_name, date_predict_start, data_range, slide_range, n_slide)\n",
    "    # 2. Preprocessing\n",
    "    preprocessing(train_data, test_data, pv_range, pv_method)\n",
    "    # 3. Build model\n",
    "    model = build_model_sarima(train_data, pv_range, data_range)\n",
    "    # 4. Select model\n",
    "    errors, best_fit_harm, best_error, first_date, lead, pv = select_model_sarima(test_data, model, fit_method)\n",
    "    # 5. Evaluate model\n",
    "    result_table, final_error = evaluate_model_sarima(\n",
    "        model, test_data_start_list, all_data, best_fit_harm, best_error, first_date, lead, pv, data_range)\n",
    "    print('final_error = ', final_error)\n",
    "    with pd.option_context('display.max_rows', None,\n",
    "                        'display.max_columns', None,\n",
    "                        'display.precision', 3,\n",
    "                        ):\n",
    "        print(result_table)\n",
    "    return model, errors, best_fit_harm, best_error, first_date, lead, pv, result_table, final_error\n"
   ]
  },
  {
   "cell_type": "code",
   "execution_count": 53,
   "metadata": {},
   "outputs": [],
   "source": [
    "# model, errors, best_fit_harm, best_error, first_date, lead, pv, result_table, final_error = main_funtion_sarima(\n",
    "#     stock_name, date_predict_start, data_range, slide_range,\n",
    "#         n_slide, pv_range, fit_method, pv_method)"
   ]
  },
  {
   "cell_type": "code",
   "execution_count": 54,
   "metadata": {},
   "outputs": [],
   "source": [
    "# # 1. Load data\n",
    "# train_data, test_data, all_data, test_data_start_list = load_data(\n",
    "#     stock_name, date_predict_start, data_range, slide_range, n_slide)\n",
    "# # 2. Preprocessing\n",
    "# preprocessing(train_data, test_data, pv_range, pv_method)\n",
    "# # 3. Build model\n",
    "# model = build_model_sarima(train_data, pv_range, data_range)\n",
    "# # 4. Select model\n",
    "# errors, best_fit_harm, best_error, first_date, lead, pv = select_model_sarima(test_data, model, fit_method)\n",
    "# # 5. Evaluate model\n",
    "# result_table, final_error = evaluate_model_sarima(\n",
    "#     model, test_data_start_list, all_data, best_fit_harm, best_error, first_date, lead, pv, data_range)\n",
    "# print('final_error = ', final_error)\n",
    "# with pd.option_context('display.max_rows', None,\n",
    "#                     'display.max_columns', None,\n",
    "#                     'display.precision', 3,\n",
    "#                     ):\n",
    "#     print(result_table)"
   ]
  },
  {
   "cell_type": "code",
   "execution_count": 55,
   "metadata": {},
   "outputs": [],
   "source": [
    "stock_name = \"^GSPC\"\n",
    "date_predict_start = '2020-01-01'\n",
    "data_range = 250\n",
    "slide_range = 5\n",
    "n_slide = 40\n",
    "pv_range = 2\n",
    "fit_method = 'rmse'\n",
    "pv_method = 'CL'"
   ]
  },
  {
   "cell_type": "code",
   "execution_count": 56,
   "metadata": {},
   "outputs": [
    {
     "name": "stdout",
     "output_type": "stream",
     "text": [
      "^GSPC: No data found for this date range, symbol may be delisted\n"
     ]
    },
    {
     "ename": "AttributeError",
     "evalue": "'Index' object has no attribute 'date'",
     "output_type": "error",
     "traceback": [
      "\u001b[1;31m---------------------------------------------------------------------------\u001b[0m",
      "\u001b[1;31mAttributeError\u001b[0m                            Traceback (most recent call last)",
      "Cell \u001b[1;32mIn [56], line 2\u001b[0m\n\u001b[0;32m      1\u001b[0m \u001b[39m# 1. Load data\u001b[39;00m\n\u001b[1;32m----> 2\u001b[0m train_data, test_data, all_data, test_data_start_list \u001b[39m=\u001b[39m load_data(\n\u001b[0;32m      3\u001b[0m     stock_name, date_predict_start, data_range, slide_range, n_slide)\n\u001b[0;32m      4\u001b[0m \u001b[39m# 2. Preprocessing\u001b[39;00m\n\u001b[0;32m      5\u001b[0m preprocessing(train_data, test_data, pv_range, pv_method)\n",
      "Cell \u001b[1;32mIn [3], line 11\u001b[0m, in \u001b[0;36mload_data\u001b[1;34m(stock_name, date_predict_start, data_range, slide_range, n_slide)\u001b[0m\n\u001b[0;32m      9\u001b[0m test_data_start_list \u001b[39m=\u001b[39m []\n\u001b[0;32m     10\u001b[0m all_data \u001b[39m=\u001b[39m yf\u001b[39m.\u001b[39mTicker(stock_name)\u001b[39m.\u001b[39mhistory(period\u001b[39m=\u001b[39m\u001b[39m'\u001b[39m\u001b[39mmax\u001b[39m\u001b[39m'\u001b[39m)\n\u001b[1;32m---> 11\u001b[0m all_data\u001b[39m.\u001b[39mindex \u001b[39m=\u001b[39m all_data\u001b[39m.\u001b[39;49mindex\u001b[39m.\u001b[39;49mdate\n\u001b[0;32m     12\u001b[0m check \u001b[39m=\u001b[39m date_predict_start \u001b[39min\u001b[39;00m all_data\u001b[39m.\u001b[39mindex\n\u001b[0;32m     13\u001b[0m \u001b[39mwhile\u001b[39;00m (check \u001b[39m==\u001b[39m \u001b[39mFalse\u001b[39;00m):\n",
      "\u001b[1;31mAttributeError\u001b[0m: 'Index' object has no attribute 'date'"
     ]
    }
   ],
   "source": [
    "# 1. Load data\n",
    "train_data, test_data, all_data, test_data_start_list = load_data(\n",
    "    stock_name, date_predict_start, data_range, slide_range, n_slide)\n",
    "# 2. Preprocessing\n",
    "preprocessing(train_data, test_data, pv_range, pv_method)\n",
    "# 3. Build model\n",
    "# model = build_model_sarima(train_data, pv_range, data_range)\n",
    "p_range = range(0, 3)\n",
    "d_range = range(0, 3)\n",
    "q_range = range(1, 2)\n",
    "P_range = range(0, 3)\n",
    "D_range = range(0, 3)\n",
    "Q_range = range(1, 2)\n",
    "s = 12\n",
    "model_fit, model_aic, model_pdq = SARIMAX_predict_function(train_data, p_range, d_range, q_range, P_range, D_range, Q_range, s) # type: ignore\n",
    "best_predictions, min_value = SARIMAX_select_model(model_fit, model_aic, data_range)\n",
    "processed_signal = find_sarima_pv_function(best_predictions, pv_range)\n",
    "find_sarima_lead_train_function(train_data, processed_signal)\n",
    "model = processed_signal\n",
    "# 4. Select model\n",
    "# errors, best_fit_harm, best_error, first_date, lead, pv = select_model_sarima(test_data, model, fit_method)\n",
    "errors = get_fit_error_function_sarima(model, fit_method)\n",
    "best_fit_harm, best_error = get_best_fit_harm_function(\n",
    "    model, errors)\n",
    "find_sarima_lead_test_function(test_data, model)\n",
    "first_date, lead, pv = get_first_lead_function_sarima(\n",
    "    model, best_fit_harm)\n",
    "# 5. Evaluate model\n",
    "# result_table, final_error = evaluate_model_sarima(\n",
    "#     model, test_data_start_list, all_data, best_fit_harm, best_error, first_date, lead, pv, data_range)\n",
    "result_table = built_result_table_function(\n",
    "    best_predictions, test_data_start_list, lead, pv, best_error, best_fit_harm)\n",
    "result_table_process_function_sarima(\n",
    "    result_table, all_data, first_date, data_range)\n",
    "final_error = compute_final_error_function(result_table)\n"
   ]
  },
  {
   "cell_type": "code",
   "execution_count": null,
   "metadata": {},
   "outputs": [
    {
     "name": "stdout",
     "output_type": "stream",
     "text": [
      "final_error =  0.5\n",
      "            s_date      t_date lead    ans_date     pv error best_fit\n",
      "data_0  2020-01-02  2019-01-04  0.0  2020-01-02  peaks  2.88        0\n",
      "data_1  2020-01-16  2019-01-18  1.0  2020-01-17  peaks  3.19        0\n"
     ]
    }
   ],
   "source": [
    "print('final_error = ', final_error)\n",
    "with pd.option_context('display.max_rows', None,\n",
    "                    'display.max_columns', None,\n",
    "                    'display.precision', 3,\n",
    "                    ):\n",
    "    print(result_table)"
   ]
  },
  {
   "cell_type": "code",
   "execution_count": null,
   "metadata": {},
   "outputs": [],
   "source": [
    "def draw_sarima_result(test_data, processed_signal):\n",
    "    for i in test_data:\n",
    "        fig, axes = plt.subplots(2, 1, figsize=(20, 8), sharex=True)\n",
    "        print(i)\n",
    "        axes[0].plot(processed_signal[i]['Close'].index, test_data[i]['Close'], label='test')\n",
    "        axes[1].plot(processed_signal[i]['Close'].index, processed_signal[i]['Close'], label='predictions')\n",
    "        for j, label in enumerate(processed_signal[i]['pv']):\n",
    "            if test_data[i]['pv'][j] == 'peaks':\n",
    "                axes[0].plot(j, test_data[i]['Close'][j], '^',\n",
    "                            c='royalblue')\n",
    "            elif test_data[i]['pv'][j] == 'valleys':\n",
    "                axes[0].plot(j, test_data[i]['Close'][j], 'v',\n",
    "                            c='orangered')\n",
    "            if processed_signal[i]['pv'][j] == 'peaks':\n",
    "                axes[1].plot(j, processed_signal[i]['Close'][j], '^',\n",
    "                            c='royalblue')\n",
    "            elif processed_signal[i]['pv'][j] == 'valleys':\n",
    "                axes[1].plot(j, processed_signal[i]['Close'][j], 'v',\n",
    "                            c='orangered')\n",
    "        plt.xlim(-1, 20)\n",
    "        plt.xticks(ticks=range(-1, 21))\n",
    "        plt.legend()\n",
    "        plt.show()"
   ]
  },
  {
   "cell_type": "code",
   "execution_count": null,
   "metadata": {},
   "outputs": [
    {
     "name": "stdout",
     "output_type": "stream",
     "text": [
      "data_0\n"
     ]
    },
    {
     "data": {
      "image/png": "[encoded data removed]",
      "text/plain": [
       "<Figure size 2000x800 with 2 Axes>"
      ]
     },
     "metadata": {},
     "output_type": "display_data"
    },
    {
     "name": "stdout",
     "output_type": "stream",
     "text": [
      "data_1\n"
     ]
    },
    {
     "data": {
      "image/png": "[encoded data removed]",
      "text/plain": [
       "<Figure size 2000x800 with 2 Axes>"
      ]
     },
     "metadata": {},
     "output_type": "display_data"
    }
   ],
   "source": [
    "draw_sarima_result(test_data, model)"
   ]
  },
  {
   "cell_type": "code",
   "execution_count": null,
   "metadata": {},
   "outputs": [],
   "source": [
    "def draw_plot_result_table(data, final_error, result_table):\n",
    "    fig, axes = plt.subplots(2, 1, figsize=(15, 8))\n",
    "    axes[0].plot(data.index, data['Close'], 'gray', label='data', linewidth=3)\n",
    "    axes[0].plot(data.index, data['peaks'], '^', c='royalblue', label='peaks')\n",
    "    axes[0].plot(data.index, data['valleys'], 'v',c='orangered', label='valleys')\n",
    "    for i, label in enumerate(result_table['delay']):\n",
    "        if result_table['pv'][i] == 'peaks':\n",
    "            axes[1].plot(result_table['Target_Date'][i],result_table['delay'][i], '*',\n",
    "                         c='royalblue', label='peaks')\n",
    "            axes[1].annotate(label, (result_table['Target_Date'][i],\n",
    "                                     result_table['delay'][i]), fontsize=14)\n",
    "        else:\n",
    "            axes[1].plot(result_table['Target_Date'][i], result_table['delay'][i], '*', \n",
    "                         c='orangered', label='valleys')\n",
    "            axes[1].annotate(label, (result_table['Target_Date'][i],\n",
    "                             result_table['delay'][i]), fontsize=14)\n",
    "    axes[0].set_ylabel(\"Stock price\", fontsize=14)\n",
    "    axes[0].grid(True)\n",
    "    axes[1].grid(True)\n",
    "    axes[1].set_ylabel(\"delay\", fontsize=14)\n",
    "    axes[0].set_xlim(data.index[0], data.index[-1])\n",
    "    axes[1].set_xlim(data.index[0], data.index[-1])\n",
    "    plt.show()\n",
    "    return"
   ]
  },
  {
   "cell_type": "code",
   "execution_count": null,
   "metadata": {},
   "outputs": [],
   "source": [
    "# stock_name = \"^GSPC\"\n",
    "# date_predict_start = '2019-06-01'\n",
    "# data_range = 50\n",
    "# slide_range = 10\n",
    "# n_slide = 70\n",
    "# pv_range = 2\n",
    "# order_lower_limit = 1\n",
    "# order_upper_limit = 50\n",
    "# fit_method = 'abs'\n",
    "# pv_method = 'CL'\n",
    "# model, errors, best_fit_harm, best_error, first_date, lead, pv, result_table, final_error = main_funtion_polynomial(\n",
    "#     stock_name, date_predict_start, data_range, slide_range,\n",
    "#     n_slide, pv_range, order_lower_limit, order_upper_limit, fit_method, pv_method)\n"
   ]
  },
  {
   "cell_type": "code",
   "execution_count": null,
   "metadata": {},
   "outputs": [],
   "source": [
    "# stock_name = \"^GSPC\"\n",
    "# date_predict_start = '2019-06-01'\n",
    "# data_range = 100\n",
    "# slide_range = 10\n",
    "# n_slide = 1\n",
    "# pv_range = 2\n",
    "# n_harm_lower_limit = 1\n",
    "# n_harm_upper_limit = 49\n",
    "# fit_method = 'maen'\n",
    "# pv_method = 'CL'"
   ]
  },
  {
   "cell_type": "code",
   "execution_count": null,
   "metadata": {},
   "outputs": [
    {
     "ename": "KeyError",
     "evalue": "'2021-01-04'",
     "output_type": "error",
     "traceback": [
      "\u001b[1;31m---------------------------------------------------------------------------\u001b[0m",
      "\u001b[1;31mKeyError\u001b[0m                                  Traceback (most recent call last)",
      "File \u001b[1;32mc:\\Users\\e4903\\Desktop\\code\\myenv\\lib\\site-packages\\pandas\\core\\indexes\\base.py:3803\u001b[0m, in \u001b[0;36mIndex.get_loc\u001b[1;34m(self, key, method, tolerance)\u001b[0m\n\u001b[0;32m   3802\u001b[0m \u001b[39mtry\u001b[39;00m:\n\u001b[1;32m-> 3803\u001b[0m     \u001b[39mreturn\u001b[39;00m \u001b[39mself\u001b[39;49m\u001b[39m.\u001b[39;49m_engine\u001b[39m.\u001b[39;49mget_loc(casted_key)\n\u001b[0;32m   3804\u001b[0m \u001b[39mexcept\u001b[39;00m \u001b[39mKeyError\u001b[39;00m \u001b[39mas\u001b[39;00m err:\n",
      "File \u001b[1;32mc:\\Users\\e4903\\Desktop\\code\\myenv\\lib\\site-packages\\pandas\\_libs\\index.pyx:138\u001b[0m, in \u001b[0;36mpandas._libs.index.IndexEngine.get_loc\u001b[1;34m()\u001b[0m\n",
      "File \u001b[1;32mc:\\Users\\e4903\\Desktop\\code\\myenv\\lib\\site-packages\\pandas\\_libs\\index.pyx:165\u001b[0m, in \u001b[0;36mpandas._libs.index.IndexEngine.get_loc\u001b[1;34m()\u001b[0m\n",
      "File \u001b[1;32mpandas\\_libs\\hashtable_class_helper.pxi:5745\u001b[0m, in \u001b[0;36mpandas._libs.hashtable.PyObjectHashTable.get_item\u001b[1;34m()\u001b[0m\n",
      "File \u001b[1;32mpandas\\_libs\\hashtable_class_helper.pxi:5753\u001b[0m, in \u001b[0;36mpandas._libs.hashtable.PyObjectHashTable.get_item\u001b[1;34m()\u001b[0m\n",
      "\u001b[1;31mKeyError\u001b[0m: '2021-01-04'",
      "\nThe above exception was the direct cause of the following exception:\n",
      "\u001b[1;31mKeyError\u001b[0m                                  Traceback (most recent call last)",
      "Cell \u001b[1;32mIn [213], line 11\u001b[0m\n\u001b[0;32m      9\u001b[0m fit_method \u001b[39m=\u001b[39m \u001b[39m'\u001b[39m\u001b[39mrmse\u001b[39m\u001b[39m'\u001b[39m\n\u001b[0;32m     10\u001b[0m pv_method \u001b[39m=\u001b[39m \u001b[39m'\u001b[39m\u001b[39mHL\u001b[39m\u001b[39m'\u001b[39m\n\u001b[1;32m---> 11\u001b[0m harmonics, model, errors, best_fit_harm, best_error, first_date, lead, pv, result_table, final_error\u001b[39m=\u001b[39m  main_funtion(\n\u001b[0;32m     12\u001b[0m     stock_name, date_predict_start, data_range, slide_range,\n\u001b[0;32m     13\u001b[0m     n_slide, pv_range, n_harm_lower_limit, n_harm_upper_limit, fit_method, pv_method)\n",
      "Cell \u001b[1;32mIn [24], line 17\u001b[0m, in \u001b[0;36mmain_funtion\u001b[1;34m(stock_name, date_predict_start, data_range, slide_range, n_slide, pv_range, n_harm_lower_limit, n_harm_upper_limit, fit_method, pv_method)\u001b[0m\n\u001b[0;32m     14\u001b[0m errors, best_fit_harm, best_error, first_date, lead, pv \u001b[39m=\u001b[39m select_model(test_data,\n\u001b[0;32m     15\u001b[0m                                                                        model, fit_method)\n\u001b[0;32m     16\u001b[0m \u001b[39m# 5. Evaluate model\u001b[39;00m\n\u001b[1;32m---> 17\u001b[0m result_table, final_error \u001b[39m=\u001b[39m evaluate_model(\n\u001b[0;32m     18\u001b[0m     model, test_data_start_list, all_data, best_fit_harm, best_error, first_date, lead, pv, data_range)\n\u001b[0;32m     19\u001b[0m \u001b[39mprint\u001b[39m(\u001b[39m'\u001b[39m\u001b[39mfinal_error = \u001b[39m\u001b[39m'\u001b[39m, final_error)\n\u001b[0;32m     20\u001b[0m \u001b[39mwith\u001b[39;00m pd\u001b[39m.\u001b[39moption_context(\u001b[39m'\u001b[39m\u001b[39mdisplay.max_rows\u001b[39m\u001b[39m'\u001b[39m, \u001b[39mNone\u001b[39;00m,\n\u001b[0;32m     21\u001b[0m                    \u001b[39m'\u001b[39m\u001b[39mdisplay.max_columns\u001b[39m\u001b[39m'\u001b[39m, \u001b[39mNone\u001b[39;00m,\n\u001b[0;32m     22\u001b[0m                    \u001b[39m'\u001b[39m\u001b[39mdisplay.precision\u001b[39m\u001b[39m'\u001b[39m, \u001b[39m3\u001b[39m,\n\u001b[0;32m     23\u001b[0m                    ):\n",
      "Cell \u001b[1;32mIn [21], line 4\u001b[0m, in \u001b[0;36mevaluate_model\u001b[1;34m(processed_signal, test_data_start_list, all_data, best_fit_harm, best_error, first_date, lead, pv, data_range)\u001b[0m\n\u001b[0;32m      1\u001b[0m \u001b[39mdef\u001b[39;00m \u001b[39mevaluate_model\u001b[39m(processed_signal, test_data_start_list, all_data, best_fit_harm, best_error, first_date, lead, pv, data_range):\n\u001b[0;32m      2\u001b[0m     result_table \u001b[39m=\u001b[39m built_result_table_function(\n\u001b[0;32m      3\u001b[0m         processed_signal, test_data_start_list, lead, pv, best_error, best_fit_harm)\n\u001b[1;32m----> 4\u001b[0m     result_table_process_function(\n\u001b[0;32m      5\u001b[0m         result_table, all_data, first_date, data_range)\n\u001b[0;32m      6\u001b[0m     final_error \u001b[39m=\u001b[39m compute_final_error_function(result_table)\n\u001b[0;32m      7\u001b[0m     \u001b[39mreturn\u001b[39;00m result_table, final_error\n",
      "Cell \u001b[1;32mIn [19], line 3\u001b[0m, in \u001b[0;36mresult_table_process_function\u001b[1;34m(result_table, all_data, first_date, data_range)\u001b[0m\n\u001b[0;32m      1\u001b[0m \u001b[39mdef\u001b[39;00m \u001b[39mresult_table_process_function\u001b[39m(result_table, all_data, first_date, data_range):\n\u001b[0;32m      2\u001b[0m     \u001b[39mfor\u001b[39;00m i \u001b[39min\u001b[39;00m result_table\u001b[39m.\u001b[39mindex:\n\u001b[1;32m----> 3\u001b[0m         t_date \u001b[39m=\u001b[39m all_data\u001b[39m.\u001b[39miloc[all_data\u001b[39m.\u001b[39;49mindex\u001b[39m.\u001b[39;49mget_loc(\n\u001b[0;32m      4\u001b[0m             result_table\u001b[39m.\u001b[39;49mloc[i, \u001b[39m'\u001b[39;49m\u001b[39ms_date\u001b[39;49m\u001b[39m'\u001b[39;49m]) \u001b[39m+\u001b[39m first_date[i] \u001b[39m-\u001b[39m data_range]\u001b[39m.\u001b[39mname\n\u001b[0;32m      5\u001b[0m         t_date \u001b[39m=\u001b[39m datetime\u001b[39m.\u001b[39mdatetime\u001b[39m.\u001b[39mstrftime(t_date, \u001b[39m'\u001b[39m\u001b[39m%\u001b[39m\u001b[39mY-\u001b[39m\u001b[39m%\u001b[39m\u001b[39mm-\u001b[39m\u001b[39m%d\u001b[39;00m\u001b[39m'\u001b[39m)\n\u001b[0;32m      6\u001b[0m         result_table\u001b[39m.\u001b[39mloc[i, \u001b[39m'\u001b[39m\u001b[39mt_date\u001b[39m\u001b[39m'\u001b[39m] \u001b[39m=\u001b[39m t_date\n",
      "File \u001b[1;32mc:\\Users\\e4903\\Desktop\\code\\myenv\\lib\\site-packages\\pandas\\core\\indexes\\base.py:3805\u001b[0m, in \u001b[0;36mIndex.get_loc\u001b[1;34m(self, key, method, tolerance)\u001b[0m\n\u001b[0;32m   3803\u001b[0m     \u001b[39mreturn\u001b[39;00m \u001b[39mself\u001b[39m\u001b[39m.\u001b[39m_engine\u001b[39m.\u001b[39mget_loc(casted_key)\n\u001b[0;32m   3804\u001b[0m \u001b[39mexcept\u001b[39;00m \u001b[39mKeyError\u001b[39;00m \u001b[39mas\u001b[39;00m err:\n\u001b[1;32m-> 3805\u001b[0m     \u001b[39mraise\u001b[39;00m \u001b[39mKeyError\u001b[39;00m(key) \u001b[39mfrom\u001b[39;00m \u001b[39merr\u001b[39;00m\n\u001b[0;32m   3806\u001b[0m \u001b[39mexcept\u001b[39;00m \u001b[39mTypeError\u001b[39;00m:\n\u001b[0;32m   3807\u001b[0m     \u001b[39m# If we have a listlike key, _check_indexing_error will raise\u001b[39;00m\n\u001b[0;32m   3808\u001b[0m     \u001b[39m#  InvalidIndexError. Otherwise we fall through and re-raise\u001b[39;00m\n\u001b[0;32m   3809\u001b[0m     \u001b[39m#  the TypeError.\u001b[39;00m\n\u001b[0;32m   3810\u001b[0m     \u001b[39mself\u001b[39m\u001b[39m.\u001b[39m_check_indexing_error(key)\n",
      "\u001b[1;31mKeyError\u001b[0m: '2021-01-04'"
     ]
    }
   ],
   "source": [
    "# stock_name = \"^GSPC\"\n",
    "# date_predict_start = '2021-01-01'\n",
    "# data_range = 20\n",
    "# slide_range = 5\n",
    "# n_slide = 10\n",
    "# pv_range = 2\n",
    "# n_harm_lower_limit = 5\n",
    "# n_harm_upper_limit = 5\n",
    "# fit_method = 'rmse'\n",
    "# pv_method = 'HL'\n",
    "# harmonics, model, errors, best_fit_harm, best_error, first_date, lead, pv, result_table, final_error=  main_funtion(\n",
    "#     stock_name, date_predict_start, data_range, slide_range,\n",
    "#     n_slide, pv_range, n_harm_lower_limit, n_harm_upper_limit, fit_method, pv_method)\n"
   ]
  }
 ],
 "metadata": {
  "kernelspec": {
   "display_name": "myenv",
   "language": "python",
   "name": "python3"
  },
  "language_info": {
   "codemirror_mode": {
    "name": "ipython",
    "version": 3
   },
   "file_extension": ".py",
   "mimetype": "text/x-python",
   "name": "python",
   "nbconvert_exporter": "python",
   "pygments_lexer": "ipython3",
   "version": "3.10.7 (tags/v3.10.7:6cc6b13, Sep  5 2022, 14:08:36) [MSC v.1933 64 bit (AMD64)]"
  },
  "orig_nbformat": 4,
  "vscode": {
   "interpreter": {
    "hash": "2fb396032550f1233359d15a08b37f52554975016f50074aab88030da7047d1a"
   }
  }
 },
 "nbformat": 4,
 "nbformat_minor": 2
}
